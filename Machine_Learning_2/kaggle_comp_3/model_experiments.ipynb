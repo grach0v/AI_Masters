{
 "cells": [
  {
   "cell_type": "code",
   "execution_count": null,
   "metadata": {},
   "outputs": [],
   "source": [
    "import pandas as pd\n",
    "import numpy as np\n",
    "import seaborn as sns\n",
    "import matplotlib.pyplot as plt\n",
    "from statsmodels.graphics.tsaplots import plot_acf\n",
    "from tqdm.notebook import tqdm\n",
    "from itertools import product"
   ]
  },
  {
   "cell_type": "code",
   "execution_count": null,
   "metadata": {},
   "outputs": [],
   "source": [
    "train_df = pd.read_parquet('data/train.parquet')\n",
    "index_split = train_df.index.str.split('_')\n",
    "train_df['row_num'] = index_split.str.get(0)\n",
    "train_df['row_type'] = index_split.str.get(1)\n",
    "train_df['timestamp'] = index_split.str.get(-1).astype(int)\n",
    "train_df['row_id'] = train_df['row_num'] + '_' + train_df['row_type']\n",
    "\n",
    "time_line_df = train_df.pivot(index='row_id', columns='timestamp', values='Values')\n",
    "time_line_df.columns = ['tr_' + str(col) for col in time_line_df.columns]"
   ]
  },
  {
   "cell_type": "code",
   "execution_count": null,
   "metadata": {},
   "outputs": [],
   "source": [
    "train_df.head()"
   ]
  },
  {
   "cell_type": "code",
   "execution_count": null,
   "metadata": {},
   "outputs": [],
   "source": [
    "time_line_df.head()"
   ]
  },
  {
   "cell_type": "code",
   "execution_count": null,
   "metadata": {},
   "outputs": [],
   "source": [
    "day_period = 288\n",
    "week_period = 288 * 7\n",
    "n_prev_values = 20"
   ]
  },
  {
   "cell_type": "code",
   "execution_count": null,
   "metadata": {},
   "outputs": [],
   "source": [
    "def create_target_df(tl_df, start_time, step_time):\n",
    "    taregt_df = tl_df\\\n",
    "        .iloc[:, start_time::step_time]\\\n",
    "        .melt(ignore_index=False, value_name='target')\\\n",
    "        .reset_index()\n",
    "\n",
    "    taregt_df['time'] = taregt_df['variable'].str.split('_').str.get(1).astype(int)\n",
    "    return taregt_df[['row_id', 'time', 'target']]\n",
    "\n",
    "target_df = create_target_df(time_line_df, week_period, 5)"
   ]
  },
  {
   "cell_type": "code",
   "execution_count": null,
   "metadata": {},
   "outputs": [],
   "source": [
    "target_df.head()"
   ]
  },
  {
   "cell_type": "code",
   "execution_count": null,
   "metadata": {},
   "outputs": [],
   "source": [
    "def get_prev_weeks_mean(tl_df, week_period):\n",
    "    dfs = []\n",
    "\n",
    "    for i in tqdm(range(tl_df.shape[1])):\n",
    "        if i < week_period:\n",
    "            continue\n",
    "        \n",
    "        cur_time_df = tl_df\\\n",
    "            .iloc[:, i % week_period:i:week_period]\\\n",
    "            .mean(axis=1)\\\n",
    "            .reset_index()\\\n",
    "            .rename(columns={0: 'mean_prev_weeks'})\n",
    "\n",
    "        cur_time_df['time'] = i\n",
    "        dfs.append(cur_time_df)\n",
    "\n",
    "    return pd.concat(dfs)\n",
    "\n",
    "prev_week_mean = get_prev_weeks_mean(time_line_df, week_period)\n",
    "target_df = target_df.merge(prev_week_mean, on=['row_id', 'time'])\n",
    "target_df.head()"
   ]
  },
  {
   "cell_type": "code",
   "execution_count": null,
   "metadata": {},
   "outputs": [],
   "source": [
    "def get_prev_values(tl_df, n_prev_values):\n",
    "    dfs = []\n",
    "\n",
    "    for i in tqdm(range(tl_df.shape[1])):\n",
    "        if i < n_prev_values:\n",
    "            continue\n",
    "        \n",
    "        cur_time_df = tl_df\\\n",
    "            .iloc[:, i - n_prev_values: i]\\\n",
    "            .set_axis([f'{n_prev_values - j}_prev' for j in range(n_prev_values)], axis=1)\\\n",
    "            .reset_index()\n",
    "\n",
    "        cur_time_df['time'] = i\n",
    "        dfs.append(cur_time_df)\n",
    "\n",
    "    return pd.concat(dfs)\n",
    "\n",
    "prev_values = get_prev_values(time_line_df, n_prev_values)\n",
    "target_df = target_df.merge(prev_values, on=['row_id', 'time'])\n",
    "target_df.head()"
   ]
  },
  {
   "cell_type": "code",
   "execution_count": null,
   "metadata": {},
   "outputs": [],
   "source": [
    "target_df.to_parquet('data/target.parquet')"
   ]
  },
  {
   "attachments": {},
   "cell_type": "markdown",
   "metadata": {},
   "source": [
    "# Train test split "
   ]
  },
  {
   "cell_type": "code",
   "execution_count": null,
   "metadata": {},
   "outputs": [],
   "source": [
    "target_df = pd.read_parquet('data/target.parquet')"
   ]
  },
  {
   "cell_type": "code",
   "execution_count": null,
   "metadata": {},
   "outputs": [],
   "source": [
    "test_size = week_period\n",
    "threshold = target_df['time'].max() - test_size\n",
    "train_df = target_df[target_df['time'] < threshold].copy()\n",
    "test_df = target_df[target_df['time'] >= threshold].copy()"
   ]
  },
  {
   "attachments": {},
   "cell_type": "markdown",
   "metadata": {},
   "source": [
    "# Simple model"
   ]
  },
  {
   "cell_type": "code",
   "execution_count": null,
   "metadata": {},
   "outputs": [],
   "source": [
    "from sklearn.linear_model import Ridge"
   ]
  },
  {
   "cell_type": "code",
   "execution_count": null,
   "metadata": {},
   "outputs": [],
   "source": [
    "row_id = '0_0'"
   ]
  },
  {
   "cell_type": "code",
   "execution_count": null,
   "metadata": {},
   "outputs": [],
   "source": [
    "test_df['predict'] = np.nan"
   ]
  },
  {
   "cell_type": "code",
   "execution_count": null,
   "metadata": {},
   "outputs": [],
   "source": [
    "ids = train_df['row_id'] == row_id\n",
    "X_train = train_df[ids].drop(['row_id', 'time', 'target', 'mean_prev_weeks'], axis=1)\n",
    "y_train = train_df.loc[ids, 'target']\n",
    "\n",
    "ids = test_df['row_id'] == row_id\n",
    "X_test = test_df[ids].drop(['row_id', 'time', 'target', 'mean_prev_weeks', 'predict'], axis=1)\n",
    "y_test = test_df.loc[ids, 'target']"
   ]
  },
  {
   "cell_type": "code",
   "execution_count": null,
   "metadata": {},
   "outputs": [],
   "source": [
    "sns.lineplot(test_df.loc[ids], x='time', y='target', label='target')\n",
    "sns.lineplot(test_df.loc[ids], x='time', y='mean_prev_weeks', label='mean_prev_weeks')\n",
    "\n",
    "plt.show()"
   ]
  },
  {
   "cell_type": "code",
   "execution_count": null,
   "metadata": {},
   "outputs": [],
   "source": [
    "model = Ridge()\n",
    "model.fit(X_train, y_train)\n",
    "y_pred = model.predict(X_test)"
   ]
  },
  {
   "cell_type": "code",
   "execution_count": null,
   "metadata": {},
   "outputs": [],
   "source": [
    "test_df.loc[ids, 'predict'] = y_pred"
   ]
  },
  {
   "cell_type": "code",
   "execution_count": null,
   "metadata": {},
   "outputs": [],
   "source": [
    "sns.lineplot(test_df.loc[ids], x='time', y='target', label='target')\n",
    "sns.lineplot(test_df.loc[ids], x='time', y='predict', label='predict')\n",
    "sns.lineplot(test_df.loc[ids], x='time', y='mean_prev_weeks', label='mean_prev_weeks')\n",
    "\n",
    "plt.show()"
   ]
  },
  {
   "cell_type": "code",
   "execution_count": null,
   "metadata": {},
   "outputs": [],
   "source": [
    "model.coef_"
   ]
  },
  {
   "cell_type": "code",
   "execution_count": null,
   "metadata": {},
   "outputs": [],
   "source": []
  }
 ],
 "metadata": {
  "kernelspec": {
   "display_name": "base",
   "language": "python",
   "name": "python3"
  },
  "language_info": {
   "codemirror_mode": {
    "name": "ipython",
    "version": 3
   },
   "file_extension": ".py",
   "mimetype": "text/x-python",
   "name": "python",
   "nbconvert_exporter": "python",
   "pygments_lexer": "ipython3",
   "version": "3.10.9"
  },
  "orig_nbformat": 4
 },
 "nbformat": 4,
 "nbformat_minor": 2
}
