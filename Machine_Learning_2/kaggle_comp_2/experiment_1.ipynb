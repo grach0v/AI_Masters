{
 "cells": [
  {
   "attachments": {},
   "cell_type": "markdown",
   "metadata": {},
   "source": [
    "# Data eda"
   ]
  },
  {
   "cell_type": "code",
   "execution_count": 1,
   "metadata": {},
   "outputs": [],
   "source": [
    "import pandas as pd\n",
    "import seaborn as sns\n",
    "import matplotlib.pyplot as plt\n",
    "import numpy as np"
   ]
  },
  {
   "cell_type": "code",
   "execution_count": 2,
   "metadata": {},
   "outputs": [
    {
     "data": {
      "text/html": [
       "<div>\n",
       "<style scoped>\n",
       "    .dataframe tbody tr th:only-of-type {\n",
       "        vertical-align: middle;\n",
       "    }\n",
       "\n",
       "    .dataframe tbody tr th {\n",
       "        vertical-align: top;\n",
       "    }\n",
       "\n",
       "    .dataframe thead th {\n",
       "        text-align: right;\n",
       "    }\n",
       "</style>\n",
       "<table border=\"1\" class=\"dataframe\">\n",
       "  <thead>\n",
       "    <tr style=\"text-align: right;\">\n",
       "      <th></th>\n",
       "      <th>order_id</th>\n",
       "      <th>create_time</th>\n",
       "      <th>good_id</th>\n",
       "      <th>price</th>\n",
       "      <th>utm_medium</th>\n",
       "      <th>utm_source</th>\n",
       "      <th>sessionkey_id</th>\n",
       "      <th>category_id</th>\n",
       "      <th>parent_id</th>\n",
       "      <th>root_id</th>\n",
       "      <th>model_id</th>\n",
       "      <th>is_moderated</th>\n",
       "      <th>rating_value</th>\n",
       "      <th>rating_count</th>\n",
       "      <th>description_length</th>\n",
       "      <th>goods_qty</th>\n",
       "      <th>pics_qty</th>\n",
       "      <th>model_create_time</th>\n",
       "      <th>is_callcenter</th>\n",
       "    </tr>\n",
       "  </thead>\n",
       "  <tbody>\n",
       "    <tr>\n",
       "      <th>0</th>\n",
       "      <td>1269921</td>\n",
       "      <td>1975-12-26 09:30:08</td>\n",
       "      <td>9896348</td>\n",
       "      <td>753</td>\n",
       "      <td>5</td>\n",
       "      <td>8.0</td>\n",
       "      <td>123777004</td>\n",
       "      <td>139</td>\n",
       "      <td>133</td>\n",
       "      <td>124</td>\n",
       "      <td>123517</td>\n",
       "      <td>1</td>\n",
       "      <td>5.0</td>\n",
       "      <td>6.0</td>\n",
       "      <td>1204</td>\n",
       "      <td>6</td>\n",
       "      <td>2</td>\n",
       "      <td>1971-04-14 00:15:20.000</td>\n",
       "      <td>1</td>\n",
       "    </tr>\n",
       "    <tr>\n",
       "      <th>1</th>\n",
       "      <td>1270034</td>\n",
       "      <td>1975-12-26 10:28:57</td>\n",
       "      <td>9896348</td>\n",
       "      <td>753</td>\n",
       "      <td>1</td>\n",
       "      <td>2.0</td>\n",
       "      <td>123781654</td>\n",
       "      <td>139</td>\n",
       "      <td>133</td>\n",
       "      <td>124</td>\n",
       "      <td>123517</td>\n",
       "      <td>1</td>\n",
       "      <td>5.0</td>\n",
       "      <td>6.0</td>\n",
       "      <td>1204</td>\n",
       "      <td>6</td>\n",
       "      <td>2</td>\n",
       "      <td>1971-04-14 00:15:20.000</td>\n",
       "      <td>0</td>\n",
       "    </tr>\n",
       "    <tr>\n",
       "      <th>2</th>\n",
       "      <td>1268272</td>\n",
       "      <td>1975-12-25 11:24:28</td>\n",
       "      <td>9896348</td>\n",
       "      <td>753</td>\n",
       "      <td>2</td>\n",
       "      <td>3.0</td>\n",
       "      <td>123591002</td>\n",
       "      <td>139</td>\n",
       "      <td>133</td>\n",
       "      <td>124</td>\n",
       "      <td>123517</td>\n",
       "      <td>1</td>\n",
       "      <td>5.0</td>\n",
       "      <td>6.0</td>\n",
       "      <td>1204</td>\n",
       "      <td>6</td>\n",
       "      <td>2</td>\n",
       "      <td>1971-04-14 00:15:20.000</td>\n",
       "      <td>1</td>\n",
       "    </tr>\n",
       "    <tr>\n",
       "      <th>3</th>\n",
       "      <td>1270544</td>\n",
       "      <td>1975-12-26 14:16:06</td>\n",
       "      <td>9896348</td>\n",
       "      <td>753</td>\n",
       "      <td>1</td>\n",
       "      <td>1.0</td>\n",
       "      <td>123832302</td>\n",
       "      <td>139</td>\n",
       "      <td>133</td>\n",
       "      <td>124</td>\n",
       "      <td>123517</td>\n",
       "      <td>1</td>\n",
       "      <td>5.0</td>\n",
       "      <td>6.0</td>\n",
       "      <td>1204</td>\n",
       "      <td>6</td>\n",
       "      <td>2</td>\n",
       "      <td>1971-04-14 00:15:20.000</td>\n",
       "      <td>1</td>\n",
       "    </tr>\n",
       "    <tr>\n",
       "      <th>4</th>\n",
       "      <td>1270970</td>\n",
       "      <td>1975-12-26 18:21:47</td>\n",
       "      <td>9896348</td>\n",
       "      <td>753</td>\n",
       "      <td>3</td>\n",
       "      <td>56.0</td>\n",
       "      <td>123881603</td>\n",
       "      <td>139</td>\n",
       "      <td>133</td>\n",
       "      <td>124</td>\n",
       "      <td>123517</td>\n",
       "      <td>1</td>\n",
       "      <td>5.0</td>\n",
       "      <td>6.0</td>\n",
       "      <td>1204</td>\n",
       "      <td>6</td>\n",
       "      <td>2</td>\n",
       "      <td>1971-04-14 00:15:20.000</td>\n",
       "      <td>0</td>\n",
       "    </tr>\n",
       "  </tbody>\n",
       "</table>\n",
       "</div>"
      ],
      "text/plain": [
       "   order_id          create_time  good_id  price  utm_medium  utm_source  \\\n",
       "0   1269921  1975-12-26 09:30:08  9896348    753           5         8.0   \n",
       "1   1270034  1975-12-26 10:28:57  9896348    753           1         2.0   \n",
       "2   1268272  1975-12-25 11:24:28  9896348    753           2         3.0   \n",
       "3   1270544  1975-12-26 14:16:06  9896348    753           1         1.0   \n",
       "4   1270970  1975-12-26 18:21:47  9896348    753           3        56.0   \n",
       "\n",
       "   sessionkey_id  category_id  parent_id  root_id  model_id  is_moderated  \\\n",
       "0      123777004          139        133      124    123517             1   \n",
       "1      123781654          139        133      124    123517             1   \n",
       "2      123591002          139        133      124    123517             1   \n",
       "3      123832302          139        133      124    123517             1   \n",
       "4      123881603          139        133      124    123517             1   \n",
       "\n",
       "   rating_value  rating_count  description_length  goods_qty  pics_qty  \\\n",
       "0           5.0           6.0                1204          6         2   \n",
       "1           5.0           6.0                1204          6         2   \n",
       "2           5.0           6.0                1204          6         2   \n",
       "3           5.0           6.0                1204          6         2   \n",
       "4           5.0           6.0                1204          6         2   \n",
       "\n",
       "         model_create_time  is_callcenter  \n",
       "0  1971-04-14 00:15:20.000              1  \n",
       "1  1971-04-14 00:15:20.000              0  \n",
       "2  1971-04-14 00:15:20.000              1  \n",
       "3  1971-04-14 00:15:20.000              1  \n",
       "4  1971-04-14 00:15:20.000              0  "
      ]
     },
     "execution_count": 2,
     "metadata": {},
     "output_type": "execute_result"
    }
   ],
   "source": [
    "train_df = pd.read_csv('train.csv')\n",
    "train_df.head()"
   ]
  },
  {
   "attachments": {},
   "cell_type": "markdown",
   "metadata": {},
   "source": [
    "## Dates"
   ]
  },
  {
   "cell_type": "code",
   "execution_count": 3,
   "metadata": {},
   "outputs": [],
   "source": [
    "train_df['create_time'] = pd.to_datetime(train_df['create_time'])\n",
    "train_df['model_create_time'] = pd.to_datetime(train_df['model_create_time'])"
   ]
  },
  {
   "cell_type": "code",
   "execution_count": 4,
   "metadata": {},
   "outputs": [],
   "source": [
    "train_df['create_time_diff'] = (train_df['model_create_time'] - train_df['create_time']).dt.days\n",
    "\n",
    "train_df['create_time_year'] = train_df['create_time'].dt.year\n",
    "train_df['create_time_hour'] = train_df['create_time'].dt.hour\n",
    "\n",
    "train_df['model_create_time_year'] = train_df['model_create_time'].dt.year\n",
    "train_df['model_create_time_hour'] = train_df['model_create_time'].dt.hour"
   ]
  },
  {
   "cell_type": "code",
   "execution_count": 5,
   "metadata": {},
   "outputs": [],
   "source": [
    "train_df['weekday'] = train_df['create_time'].dt.weekday"
   ]
  },
  {
   "cell_type": "code",
   "execution_count": 6,
   "metadata": {},
   "outputs": [
    {
     "data": {
      "image/png": "[encoded data removed]",
      "text/plain": [
       "<Figure size 640x480 with 1 Axes>"
      ]
     },
     "metadata": {},
     "output_type": "display_data"
    },
    {
     "data": {
      "image/png": "[encoded data removed]",
      "text/plain": [
       "<Figure size 640x480 with 1 Axes>"
      ]
     },
     "metadata": {},
     "output_type": "display_data"
    },
    {
     "data": {
      "image/png": "[encoded data removed]",
      "text/plain": [
       "<Figure size 640x480 with 1 Axes>"
      ]
     },
     "metadata": {},
     "output_type": "display_data"
    },
    {
     "data": {
      "image/png": "[encoded data removed]",
      "text/plain": [
       "<Figure size 640x480 with 1 Axes>"
      ]
     },
     "metadata": {},
     "output_type": "display_data"
    },
    {
     "data": {
      "image/png": "[encoded data removed]",
      "text/plain": [
       "<Figure size 640x480 with 1 Axes>"
      ]
     },
     "metadata": {},
     "output_type": "display_data"
    },
    {
     "data": {
      "image/png": "[encoded data removed]",
      "text/plain": [
       "<Figure size 640x480 with 1 Axes>"
      ]
     },
     "metadata": {},
     "output_type": "display_data"
    }
   ],
   "source": [
    "plt.title('create_time_year')\n",
    "sns.histplot(data=train_df, x='create_time_year', hue='is_callcenter', element='step', fill=False)\n",
    "plt.show()\n",
    "\n",
    "plt.title('create_time_hour')\n",
    "sns.histplot(data=train_df, x='create_time_hour', hue='is_callcenter', element='step', fill=False)\n",
    "plt.show()\n",
    "\n",
    "plt.title('model_create_time')\n",
    "sns.histplot(data=train_df, x='model_create_time', hue='is_callcenter', element='step', fill=False)\n",
    "plt.show()\n",
    "\n",
    "plt.title('model_create_time_hour')\n",
    "sns.histplot(data=train_df, x='model_create_time_hour', hue='is_callcenter', element='step', fill=False)\n",
    "plt.show()\n",
    "\n",
    "plt.title('create_time_diff')\n",
    "sns.histplot(data=train_df, x='create_time_diff', hue='is_callcenter', element='step', fill=False)\n",
    "plt.show()\n",
    "\n",
    "plt.title('weekday')\n",
    "sns.histplot(data=train_df, x='weekday', hue='is_callcenter', element='step', fill=False)\n",
    "plt.show()"
   ]
  },
  {
   "attachments": {},
   "cell_type": "markdown",
   "metadata": {},
   "source": [
    "Независимо от дат, позвонивших примерно одинаковая доля от непозвонивиших "
   ]
  },
  {
   "attachments": {},
   "cell_type": "markdown",
   "metadata": {},
   "source": [
    "## good_id"
   ]
  },
  {
   "cell_type": "code",
   "execution_count": 7,
   "metadata": {},
   "outputs": [
    {
     "data": {
      "text/html": [
       "<div>\n",
       "<style scoped>\n",
       "    .dataframe tbody tr th:only-of-type {\n",
       "        vertical-align: middle;\n",
       "    }\n",
       "\n",
       "    .dataframe tbody tr th {\n",
       "        vertical-align: top;\n",
       "    }\n",
       "\n",
       "    .dataframe thead th {\n",
       "        text-align: right;\n",
       "    }\n",
       "</style>\n",
       "<table border=\"1\" class=\"dataframe\">\n",
       "  <thead>\n",
       "    <tr style=\"text-align: right;\">\n",
       "      <th></th>\n",
       "      <th>order_id</th>\n",
       "      <th>create_time</th>\n",
       "      <th>good_id</th>\n",
       "      <th>price</th>\n",
       "      <th>utm_medium</th>\n",
       "      <th>utm_source</th>\n",
       "      <th>sessionkey_id</th>\n",
       "      <th>category_id</th>\n",
       "      <th>parent_id</th>\n",
       "      <th>root_id</th>\n",
       "      <th>...</th>\n",
       "      <th>goods_qty</th>\n",
       "      <th>pics_qty</th>\n",
       "      <th>model_create_time</th>\n",
       "      <th>is_callcenter</th>\n",
       "      <th>create_time_diff</th>\n",
       "      <th>create_time_year</th>\n",
       "      <th>create_time_hour</th>\n",
       "      <th>model_create_time_year</th>\n",
       "      <th>model_create_time_hour</th>\n",
       "      <th>weekday</th>\n",
       "    </tr>\n",
       "  </thead>\n",
       "  <tbody>\n",
       "    <tr>\n",
       "      <th>0</th>\n",
       "      <td>1269921</td>\n",
       "      <td>1975-12-26 09:30:08</td>\n",
       "      <td>9896348</td>\n",
       "      <td>753</td>\n",
       "      <td>5</td>\n",
       "      <td>8.0</td>\n",
       "      <td>123777004</td>\n",
       "      <td>139</td>\n",
       "      <td>133</td>\n",
       "      <td>124</td>\n",
       "      <td>...</td>\n",
       "      <td>6</td>\n",
       "      <td>2</td>\n",
       "      <td>1971-04-14 00:15:20</td>\n",
       "      <td>1</td>\n",
       "      <td>-1718.0</td>\n",
       "      <td>1975</td>\n",
       "      <td>9</td>\n",
       "      <td>1971.0</td>\n",
       "      <td>0.0</td>\n",
       "      <td>4</td>\n",
       "    </tr>\n",
       "    <tr>\n",
       "      <th>1</th>\n",
       "      <td>1270034</td>\n",
       "      <td>1975-12-26 10:28:57</td>\n",
       "      <td>9896348</td>\n",
       "      <td>753</td>\n",
       "      <td>1</td>\n",
       "      <td>2.0</td>\n",
       "      <td>123781654</td>\n",
       "      <td>139</td>\n",
       "      <td>133</td>\n",
       "      <td>124</td>\n",
       "      <td>...</td>\n",
       "      <td>6</td>\n",
       "      <td>2</td>\n",
       "      <td>1971-04-14 00:15:20</td>\n",
       "      <td>0</td>\n",
       "      <td>-1718.0</td>\n",
       "      <td>1975</td>\n",
       "      <td>10</td>\n",
       "      <td>1971.0</td>\n",
       "      <td>0.0</td>\n",
       "      <td>4</td>\n",
       "    </tr>\n",
       "    <tr>\n",
       "      <th>2</th>\n",
       "      <td>1268272</td>\n",
       "      <td>1975-12-25 11:24:28</td>\n",
       "      <td>9896348</td>\n",
       "      <td>753</td>\n",
       "      <td>2</td>\n",
       "      <td>3.0</td>\n",
       "      <td>123591002</td>\n",
       "      <td>139</td>\n",
       "      <td>133</td>\n",
       "      <td>124</td>\n",
       "      <td>...</td>\n",
       "      <td>6</td>\n",
       "      <td>2</td>\n",
       "      <td>1971-04-14 00:15:20</td>\n",
       "      <td>1</td>\n",
       "      <td>-1717.0</td>\n",
       "      <td>1975</td>\n",
       "      <td>11</td>\n",
       "      <td>1971.0</td>\n",
       "      <td>0.0</td>\n",
       "      <td>3</td>\n",
       "    </tr>\n",
       "    <tr>\n",
       "      <th>3</th>\n",
       "      <td>1270544</td>\n",
       "      <td>1975-12-26 14:16:06</td>\n",
       "      <td>9896348</td>\n",
       "      <td>753</td>\n",
       "      <td>1</td>\n",
       "      <td>1.0</td>\n",
       "      <td>123832302</td>\n",
       "      <td>139</td>\n",
       "      <td>133</td>\n",
       "      <td>124</td>\n",
       "      <td>...</td>\n",
       "      <td>6</td>\n",
       "      <td>2</td>\n",
       "      <td>1971-04-14 00:15:20</td>\n",
       "      <td>1</td>\n",
       "      <td>-1718.0</td>\n",
       "      <td>1975</td>\n",
       "      <td>14</td>\n",
       "      <td>1971.0</td>\n",
       "      <td>0.0</td>\n",
       "      <td>4</td>\n",
       "    </tr>\n",
       "    <tr>\n",
       "      <th>4</th>\n",
       "      <td>1270970</td>\n",
       "      <td>1975-12-26 18:21:47</td>\n",
       "      <td>9896348</td>\n",
       "      <td>753</td>\n",
       "      <td>3</td>\n",
       "      <td>56.0</td>\n",
       "      <td>123881603</td>\n",
       "      <td>139</td>\n",
       "      <td>133</td>\n",
       "      <td>124</td>\n",
       "      <td>...</td>\n",
       "      <td>6</td>\n",
       "      <td>2</td>\n",
       "      <td>1971-04-14 00:15:20</td>\n",
       "      <td>0</td>\n",
       "      <td>-1718.0</td>\n",
       "      <td>1975</td>\n",
       "      <td>18</td>\n",
       "      <td>1971.0</td>\n",
       "      <td>0.0</td>\n",
       "      <td>4</td>\n",
       "    </tr>\n",
       "  </tbody>\n",
       "</table>\n",
       "<p>5 rows × 25 columns</p>\n",
       "</div>"
      ],
      "text/plain": [
       "   order_id         create_time  good_id  price  utm_medium  utm_source  \\\n",
       "0   1269921 1975-12-26 09:30:08  9896348    753           5         8.0   \n",
       "1   1270034 1975-12-26 10:28:57  9896348    753           1         2.0   \n",
       "2   1268272 1975-12-25 11:24:28  9896348    753           2         3.0   \n",
       "3   1270544 1975-12-26 14:16:06  9896348    753           1         1.0   \n",
       "4   1270970 1975-12-26 18:21:47  9896348    753           3        56.0   \n",
       "\n",
       "   sessionkey_id  category_id  parent_id  root_id  ...  goods_qty  pics_qty  \\\n",
       "0      123777004          139        133      124  ...          6         2   \n",
       "1      123781654          139        133      124  ...          6         2   \n",
       "2      123591002          139        133      124  ...          6         2   \n",
       "3      123832302          139        133      124  ...          6         2   \n",
       "4      123881603          139        133      124  ...          6         2   \n",
       "\n",
       "    model_create_time  is_callcenter  create_time_diff  create_time_year  \\\n",
       "0 1971-04-14 00:15:20              1           -1718.0              1975   \n",
       "1 1971-04-14 00:15:20              0           -1718.0              1975   \n",
       "2 1971-04-14 00:15:20              1           -1717.0              1975   \n",
       "3 1971-04-14 00:15:20              1           -1718.0              1975   \n",
       "4 1971-04-14 00:15:20              0           -1718.0              1975   \n",
       "\n",
       "   create_time_hour model_create_time_year  model_create_time_hour  weekday  \n",
       "0                 9                 1971.0                     0.0        4  \n",
       "1                10                 1971.0                     0.0        4  \n",
       "2                11                 1971.0                     0.0        3  \n",
       "3                14                 1971.0                     0.0        4  \n",
       "4                18                 1971.0                     0.0        4  \n",
       "\n",
       "[5 rows x 25 columns]"
      ]
     },
     "execution_count": 7,
     "metadata": {},
     "output_type": "execute_result"
    }
   ],
   "source": [
    "train_df.head()"
   ]
  },
  {
   "cell_type": "code",
   "execution_count": 8,
   "metadata": {},
   "outputs": [
    {
     "data": {
      "image/png": "[encoded data removed]",
      "text/plain": [
       "<Figure size 640x480 with 1 Axes>"
      ]
     },
     "metadata": {},
     "output_type": "display_data"
    }
   ],
   "source": [
    "plt.title(\n",
    "    'Histogram of good_id value_counts, ' +\n",
    "    f'number rows {len(train_df)}, ' + \n",
    "    f\"number of unique goods {train_df['good_id'].nunique()}\"\n",
    ")\n",
    "plt.hist(train_df['good_id'].value_counts(), range=(1, 50))\n",
    "plt.show()"
   ]
  },
  {
   "attachments": {},
   "cell_type": "markdown",
   "metadata": {},
   "source": [
    "## price "
   ]
  },
  {
   "cell_type": "code",
   "execution_count": 9,
   "metadata": {},
   "outputs": [
    {
     "data": {
      "image/png": "[encoded data removed]",
      "text/plain": [
       "<Figure size 640x480 with 1 Axes>"
      ]
     },
     "metadata": {},
     "output_type": "display_data"
    }
   ],
   "source": [
    "sns.histplot(\n",
    "    data=train_df[train_df['price'] < train_df['price'].quantile(0.95)], \n",
    "    x='price', \n",
    "    hue='is_callcenter',\n",
    "    element='step', \n",
    "    fill=False,\n",
    ")\n",
    "plt.show()"
   ]
  },
  {
   "attachments": {},
   "cell_type": "markdown",
   "metadata": {},
   "source": [
    "## utm_medium"
   ]
  },
  {
   "cell_type": "code",
   "execution_count": 10,
   "metadata": {},
   "outputs": [
    {
     "data": {
      "image/png": "[encoded data removed]",
      "text/plain": [
       "<Figure size 640x480 with 1 Axes>"
      ]
     },
     "metadata": {},
     "output_type": "display_data"
    }
   ],
   "source": [
    "sns.barplot(\n",
    "    train_df\\\n",
    "        .groupby(['utm_medium', 'is_callcenter'])\\\n",
    "        .size()\\\n",
    "        .to_frame()\\\n",
    "        .reset_index()\\\n",
    "        .rename(columns={0: 'counts'}),\n",
    "    x='utm_medium',\n",
    "    y='counts',\n",
    "    hue='is_callcenter'\n",
    ")\n",
    "plt.show()\n"
   ]
  },
  {
   "attachments": {},
   "cell_type": "markdown",
   "metadata": {},
   "source": [
    "## utm_source"
   ]
  },
  {
   "cell_type": "code",
   "execution_count": 11,
   "metadata": {},
   "outputs": [],
   "source": [
    "train_df['utm_source'] = train_df['utm_source'].astype(pd.Int64Dtype()).astype(str)"
   ]
  },
  {
   "cell_type": "code",
   "execution_count": 12,
   "metadata": {},
   "outputs": [
    {
     "data": {
      "image/png": "[encoded data removed]",
      "text/plain": [
       "<Figure size 640x480 with 1 Axes>"
      ]
     },
     "metadata": {},
     "output_type": "display_data"
    }
   ],
   "source": [
    "top_sources = train_df['utm_source'].value_counts().index[:10]\n",
    "ids = train_df['utm_source'].isin(top_sources)\n",
    "\n",
    "sns.barplot(\n",
    "    train_df[ids]\\\n",
    "        .groupby(['utm_source', 'is_callcenter'])\\\n",
    "        .size()\\\n",
    "        .to_frame()\\\n",
    "        .reset_index()\\\n",
    "        .rename(columns={0: 'counts'}),\n",
    "    x='utm_source',\n",
    "    y='counts',\n",
    "    hue='is_callcenter'\n",
    ")\n",
    "plt.show()\n"
   ]
  },
  {
   "attachments": {},
   "cell_type": "markdown",
   "metadata": {},
   "source": [
    "## sessionkey_id"
   ]
  },
  {
   "cell_type": "code",
   "execution_count": 13,
   "metadata": {},
   "outputs": [
    {
     "data": {
      "text/plain": [
       "125996889    21\n",
       "116065921    17\n",
       "115530395    14\n",
       "125861300    11\n",
       "119684247    10\n",
       "             ..\n",
       "114311820     1\n",
       "114432557     1\n",
       "114365017     1\n",
       "114614164     1\n",
       "114672813     1\n",
       "Name: sessionkey_id, Length: 96803, dtype: int64"
      ]
     },
     "execution_count": 13,
     "metadata": {},
     "output_type": "execute_result"
    }
   ],
   "source": [
    "train_df['sessionkey_id'].value_counts()"
   ]
  },
  {
   "cell_type": "code",
   "execution_count": 14,
   "metadata": {},
   "outputs": [
    {
     "data": {
      "text/plain": [
       "10"
      ]
     },
     "execution_count": 14,
     "metadata": {},
     "output_type": "execute_result"
    }
   ],
   "source": [
    "train_df.groupby('sessionkey_id')['is_callcenter'].sum().max()"
   ]
  },
  {
   "attachments": {},
   "cell_type": "markdown",
   "metadata": {},
   "source": [
    "## category_id"
   ]
  },
  {
   "cell_type": "code",
   "execution_count": 15,
   "metadata": {},
   "outputs": [
    {
     "data": {
      "image/png": "[encoded data removed]",
      "text/plain": [
       "<Figure size 640x480 with 1 Axes>"
      ]
     },
     "metadata": {},
     "output_type": "display_data"
    }
   ],
   "source": [
    "sns.barplot(\n",
    "    data=train_df\\\n",
    "        .groupby(['category_id', 'is_callcenter'])\\\n",
    "        .size()\\\n",
    "        .reset_index()\\\n",
    "        .rename(columns={0: 'count'})\\\n",
    "        .query('(count > 500 & is_callcenter == 1) | (count > 800 & is_callcenter == 0)'),\n",
    "    x='category_id',\n",
    "    y='count',\n",
    "    hue='is_callcenter'\n",
    ")\n",
    "\n",
    "plt.xticks(rotation=45)\n",
    "plt.show()"
   ]
  },
  {
   "attachments": {},
   "cell_type": "markdown",
   "metadata": {},
   "source": [
    "## parent_id"
   ]
  },
  {
   "cell_type": "code",
   "execution_count": 16,
   "metadata": {},
   "outputs": [
    {
     "data": {
      "image/png": "[encoded data removed]",
      "text/plain": [
       "<Figure size 640x480 with 1 Axes>"
      ]
     },
     "metadata": {},
     "output_type": "display_data"
    }
   ],
   "source": [
    "sns.barplot(\n",
    "    data=train_df\\\n",
    "        .groupby(['parent_id', 'is_callcenter'])\\\n",
    "        .size()\\\n",
    "        .reset_index()\\\n",
    "        .rename(columns={0: 'count'})\\\n",
    "        .query('(count > 1000 & is_callcenter == 1) | (count > 1500 & is_callcenter == 0)'),\n",
    "    x='parent_id',\n",
    "    y='count',\n",
    "    hue='is_callcenter',\n",
    "\n",
    ")\n",
    "\n",
    "plt.xticks(rotation=45)\n",
    "plt.show()"
   ]
  },
  {
   "attachments": {},
   "cell_type": "markdown",
   "metadata": {},
   "source": [
    "## root_id"
   ]
  },
  {
   "cell_type": "code",
   "execution_count": 17,
   "metadata": {},
   "outputs": [
    {
     "data": {
      "image/png": "[encoded data removed]",
      "text/plain": [
       "<Figure size 640x480 with 1 Axes>"
      ]
     },
     "metadata": {},
     "output_type": "display_data"
    }
   ],
   "source": [
    "sns.barplot(\n",
    "    data=train_df\\\n",
    "        .groupby(['root_id', 'is_callcenter'])\\\n",
    "        .size()\\\n",
    "        .reset_index()\\\n",
    "        .rename(columns={0: 'count'})\\\n",
    "        .query('(count > 800 & is_callcenter == 1) | (count > 1500 & is_callcenter == 0)'),\n",
    "    x='root_id',\n",
    "    y='count',\n",
    "    hue='is_callcenter',\n",
    "\n",
    ")\n",
    "\n",
    "plt.xticks(rotation=45)\n",
    "plt.show()"
   ]
  },
  {
   "attachments": {},
   "cell_type": "markdown",
   "metadata": {},
   "source": [
    "## rating_value"
   ]
  },
  {
   "cell_type": "code",
   "execution_count": 18,
   "metadata": {},
   "outputs": [
    {
     "data": {
      "image/png": "[encoded data removed]",
      "text/plain": [
       "<Figure size 640x480 with 1 Axes>"
      ]
     },
     "metadata": {},
     "output_type": "display_data"
    }
   ],
   "source": [
    "sns.barplot(\n",
    "    data=train_df\\\n",
    "        .groupby(['rating_value', 'is_callcenter'])\\\n",
    "        .size()\\\n",
    "        .reset_index()\\\n",
    "        .rename(columns={0: 'count'}),\n",
    "    x='rating_value',\n",
    "    y='count',\n",
    "    hue='is_callcenter',\n",
    ")\n",
    "\n",
    "plt.xticks(rotation=45)\n",
    "plt.show()"
   ]
  },
  {
   "attachments": {},
   "cell_type": "markdown",
   "metadata": {},
   "source": [
    "## rating_count"
   ]
  },
  {
   "cell_type": "code",
   "execution_count": 19,
   "metadata": {},
   "outputs": [
    {
     "data": {
      "image/png": "[encoded data removed]",
      "text/plain": [
       "<Figure size 640x480 with 1 Axes>"
      ]
     },
     "metadata": {},
     "output_type": "display_data"
    }
   ],
   "source": [
    "sns.histplot(\n",
    "    data=train_df, \n",
    "    x='rating_count', \n",
    "    hue='is_callcenter', \n",
    "    element='step', \n",
    "    fill=False, \n",
    "    bins=10\n",
    ")\n",
    "plt.show()"
   ]
  },
  {
   "attachments": {},
   "cell_type": "markdown",
   "metadata": {},
   "source": [
    "## description_length"
   ]
  },
  {
   "cell_type": "code",
   "execution_count": 20,
   "metadata": {},
   "outputs": [],
   "source": [
    "train_df['description_length'].replace(0, np.nan, inplace=True)"
   ]
  },
  {
   "cell_type": "code",
   "execution_count": 21,
   "metadata": {},
   "outputs": [],
   "source": [
    "train_df['no_description'] = train_df['description_length'].isna()"
   ]
  },
  {
   "cell_type": "code",
   "execution_count": 22,
   "metadata": {},
   "outputs": [
    {
     "data": {
      "image/png": "[encoded data removed]",
      "text/plain": [
       "<Figure size 640x480 with 1 Axes>"
      ]
     },
     "metadata": {},
     "output_type": "display_data"
    }
   ],
   "source": [
    "sns.histplot(\n",
    "    data=train_df, \n",
    "    x='description_length', \n",
    "    hue='is_callcenter', \n",
    "    element='step', \n",
    "    fill=False, \n",
    "    bins=10,\n",
    "    log_scale=True\n",
    ")\n",
    "plt.show()"
   ]
  },
  {
   "cell_type": "code",
   "execution_count": 23,
   "metadata": {},
   "outputs": [
    {
     "data": {
      "image/png": "[encoded data removed]",
      "text/plain": [
       "<Figure size 640x480 with 1 Axes>"
      ]
     },
     "metadata": {},
     "output_type": "display_data"
    }
   ],
   "source": [
    "sns.barplot(\n",
    "    data=train_df\\\n",
    "        .groupby(['no_description', 'is_callcenter'])\\\n",
    "        .size()\\\n",
    "        .reset_index()\\\n",
    "        .rename(columns={0: 'count'}),\n",
    "    x='no_description',\n",
    "    y='count',\n",
    "    hue='is_callcenter',\n",
    ")\n",
    "\n",
    "plt.xticks(rotation=45)\n",
    "plt.show()"
   ]
  },
  {
   "attachments": {},
   "cell_type": "markdown",
   "metadata": {},
   "source": [
    "## goods_qty"
   ]
  },
  {
   "cell_type": "code",
   "execution_count": 24,
   "metadata": {},
   "outputs": [
    {
     "data": {
      "image/png": "[encoded data removed]",
      "text/plain": [
       "<Figure size 640x480 with 1 Axes>"
      ]
     },
     "metadata": {},
     "output_type": "display_data"
    }
   ],
   "source": [
    "sns.histplot(\n",
    "    data=train_df, \n",
    "    x='goods_qty', \n",
    "    hue='is_callcenter', \n",
    "    element='step', \n",
    "    fill=False, \n",
    "    bins=10,\n",
    ")\n",
    "plt.show()"
   ]
  },
  {
   "attachments": {},
   "cell_type": "markdown",
   "metadata": {},
   "source": [
    "## sessions dataframe"
   ]
  },
  {
   "cell_type": "code",
   "execution_count": 25,
   "metadata": {},
   "outputs": [
    {
     "data": {
      "text/html": [
       "<div>\n",
       "<style scoped>\n",
       "    .dataframe tbody tr th:only-of-type {\n",
       "        vertical-align: middle;\n",
       "    }\n",
       "\n",
       "    .dataframe tbody tr th {\n",
       "        vertical-align: top;\n",
       "    }\n",
       "\n",
       "    .dataframe thead th {\n",
       "        text-align: right;\n",
       "    }\n",
       "</style>\n",
       "<table border=\"1\" class=\"dataframe\">\n",
       "  <thead>\n",
       "    <tr style=\"text-align: right;\">\n",
       "      <th></th>\n",
       "      <th>order_id</th>\n",
       "      <th>create_time</th>\n",
       "      <th>good_id</th>\n",
       "      <th>price</th>\n",
       "      <th>utm_medium</th>\n",
       "      <th>utm_source</th>\n",
       "      <th>sessionkey_id</th>\n",
       "      <th>category_id</th>\n",
       "      <th>parent_id</th>\n",
       "      <th>root_id</th>\n",
       "      <th>...</th>\n",
       "      <th>pics_qty</th>\n",
       "      <th>model_create_time</th>\n",
       "      <th>is_callcenter</th>\n",
       "      <th>create_time_diff</th>\n",
       "      <th>create_time_year</th>\n",
       "      <th>create_time_hour</th>\n",
       "      <th>model_create_time_year</th>\n",
       "      <th>model_create_time_hour</th>\n",
       "      <th>weekday</th>\n",
       "      <th>no_description</th>\n",
       "    </tr>\n",
       "  </thead>\n",
       "  <tbody>\n",
       "    <tr>\n",
       "      <th>0</th>\n",
       "      <td>1269921</td>\n",
       "      <td>1975-12-26 09:30:08</td>\n",
       "      <td>9896348</td>\n",
       "      <td>753</td>\n",
       "      <td>5</td>\n",
       "      <td>8</td>\n",
       "      <td>123777004</td>\n",
       "      <td>139</td>\n",
       "      <td>133</td>\n",
       "      <td>124</td>\n",
       "      <td>...</td>\n",
       "      <td>2</td>\n",
       "      <td>1971-04-14 00:15:20</td>\n",
       "      <td>1</td>\n",
       "      <td>-1718.0</td>\n",
       "      <td>1975</td>\n",
       "      <td>9</td>\n",
       "      <td>1971.0</td>\n",
       "      <td>0.0</td>\n",
       "      <td>4</td>\n",
       "      <td>False</td>\n",
       "    </tr>\n",
       "    <tr>\n",
       "      <th>1</th>\n",
       "      <td>1270034</td>\n",
       "      <td>1975-12-26 10:28:57</td>\n",
       "      <td>9896348</td>\n",
       "      <td>753</td>\n",
       "      <td>1</td>\n",
       "      <td>2</td>\n",
       "      <td>123781654</td>\n",
       "      <td>139</td>\n",
       "      <td>133</td>\n",
       "      <td>124</td>\n",
       "      <td>...</td>\n",
       "      <td>2</td>\n",
       "      <td>1971-04-14 00:15:20</td>\n",
       "      <td>0</td>\n",
       "      <td>-1718.0</td>\n",
       "      <td>1975</td>\n",
       "      <td>10</td>\n",
       "      <td>1971.0</td>\n",
       "      <td>0.0</td>\n",
       "      <td>4</td>\n",
       "      <td>False</td>\n",
       "    </tr>\n",
       "    <tr>\n",
       "      <th>2</th>\n",
       "      <td>1268272</td>\n",
       "      <td>1975-12-25 11:24:28</td>\n",
       "      <td>9896348</td>\n",
       "      <td>753</td>\n",
       "      <td>2</td>\n",
       "      <td>3</td>\n",
       "      <td>123591002</td>\n",
       "      <td>139</td>\n",
       "      <td>133</td>\n",
       "      <td>124</td>\n",
       "      <td>...</td>\n",
       "      <td>2</td>\n",
       "      <td>1971-04-14 00:15:20</td>\n",
       "      <td>1</td>\n",
       "      <td>-1717.0</td>\n",
       "      <td>1975</td>\n",
       "      <td>11</td>\n",
       "      <td>1971.0</td>\n",
       "      <td>0.0</td>\n",
       "      <td>3</td>\n",
       "      <td>False</td>\n",
       "    </tr>\n",
       "    <tr>\n",
       "      <th>3</th>\n",
       "      <td>1270544</td>\n",
       "      <td>1975-12-26 14:16:06</td>\n",
       "      <td>9896348</td>\n",
       "      <td>753</td>\n",
       "      <td>1</td>\n",
       "      <td>1</td>\n",
       "      <td>123832302</td>\n",
       "      <td>139</td>\n",
       "      <td>133</td>\n",
       "      <td>124</td>\n",
       "      <td>...</td>\n",
       "      <td>2</td>\n",
       "      <td>1971-04-14 00:15:20</td>\n",
       "      <td>1</td>\n",
       "      <td>-1718.0</td>\n",
       "      <td>1975</td>\n",
       "      <td>14</td>\n",
       "      <td>1971.0</td>\n",
       "      <td>0.0</td>\n",
       "      <td>4</td>\n",
       "      <td>False</td>\n",
       "    </tr>\n",
       "    <tr>\n",
       "      <th>4</th>\n",
       "      <td>1270970</td>\n",
       "      <td>1975-12-26 18:21:47</td>\n",
       "      <td>9896348</td>\n",
       "      <td>753</td>\n",
       "      <td>3</td>\n",
       "      <td>56</td>\n",
       "      <td>123881603</td>\n",
       "      <td>139</td>\n",
       "      <td>133</td>\n",
       "      <td>124</td>\n",
       "      <td>...</td>\n",
       "      <td>2</td>\n",
       "      <td>1971-04-14 00:15:20</td>\n",
       "      <td>0</td>\n",
       "      <td>-1718.0</td>\n",
       "      <td>1975</td>\n",
       "      <td>18</td>\n",
       "      <td>1971.0</td>\n",
       "      <td>0.0</td>\n",
       "      <td>4</td>\n",
       "      <td>False</td>\n",
       "    </tr>\n",
       "  </tbody>\n",
       "</table>\n",
       "<p>5 rows × 26 columns</p>\n",
       "</div>"
      ],
      "text/plain": [
       "   order_id         create_time  good_id  price  utm_medium utm_source  \\\n",
       "0   1269921 1975-12-26 09:30:08  9896348    753           5          8   \n",
       "1   1270034 1975-12-26 10:28:57  9896348    753           1          2   \n",
       "2   1268272 1975-12-25 11:24:28  9896348    753           2          3   \n",
       "3   1270544 1975-12-26 14:16:06  9896348    753           1          1   \n",
       "4   1270970 1975-12-26 18:21:47  9896348    753           3         56   \n",
       "\n",
       "   sessionkey_id  category_id  parent_id  root_id  ...  pics_qty  \\\n",
       "0      123777004          139        133      124  ...         2   \n",
       "1      123781654          139        133      124  ...         2   \n",
       "2      123591002          139        133      124  ...         2   \n",
       "3      123832302          139        133      124  ...         2   \n",
       "4      123881603          139        133      124  ...         2   \n",
       "\n",
       "    model_create_time  is_callcenter  create_time_diff  create_time_year  \\\n",
       "0 1971-04-14 00:15:20              1           -1718.0              1975   \n",
       "1 1971-04-14 00:15:20              0           -1718.0              1975   \n",
       "2 1971-04-14 00:15:20              1           -1717.0              1975   \n",
       "3 1971-04-14 00:15:20              1           -1718.0              1975   \n",
       "4 1971-04-14 00:15:20              0           -1718.0              1975   \n",
       "\n",
       "   create_time_hour  model_create_time_year model_create_time_hour  weekday  \\\n",
       "0                 9                  1971.0                    0.0        4   \n",
       "1                10                  1971.0                    0.0        4   \n",
       "2                11                  1971.0                    0.0        3   \n",
       "3                14                  1971.0                    0.0        4   \n",
       "4                18                  1971.0                    0.0        4   \n",
       "\n",
       "   no_description  \n",
       "0           False  \n",
       "1           False  \n",
       "2           False  \n",
       "3           False  \n",
       "4           False  \n",
       "\n",
       "[5 rows x 26 columns]"
      ]
     },
     "execution_count": 25,
     "metadata": {},
     "output_type": "execute_result"
    }
   ],
   "source": [
    "train_df.head()"
   ]
  },
  {
   "cell_type": "code",
   "execution_count": 26,
   "metadata": {},
   "outputs": [
    {
     "data": {
      "text/html": [
       "<div>\n",
       "<style scoped>\n",
       "    .dataframe tbody tr th:only-of-type {\n",
       "        vertical-align: middle;\n",
       "    }\n",
       "\n",
       "    .dataframe tbody tr th {\n",
       "        vertical-align: top;\n",
       "    }\n",
       "\n",
       "    .dataframe thead th {\n",
       "        text-align: right;\n",
       "    }\n",
       "</style>\n",
       "<table border=\"1\" class=\"dataframe\">\n",
       "  <thead>\n",
       "    <tr style=\"text-align: right;\">\n",
       "      <th></th>\n",
       "      <th>sessionkey_id</th>\n",
       "      <th>date_time</th>\n",
       "      <th>page_type</th>\n",
       "      <th>pageview_number</th>\n",
       "      <th>pageview_duration_sec</th>\n",
       "      <th>category_id</th>\n",
       "      <th>model_id</th>\n",
       "      <th>good_id</th>\n",
       "      <th>price</th>\n",
       "      <th>product_in_sale</th>\n",
       "    </tr>\n",
       "  </thead>\n",
       "  <tbody>\n",
       "    <tr>\n",
       "      <th>0</th>\n",
       "      <td>122243978</td>\n",
       "      <td>1975-12-18 14:52:38.130</td>\n",
       "      <td>2</td>\n",
       "      <td>28</td>\n",
       "      <td>53.0</td>\n",
       "      <td>1773.0</td>\n",
       "      <td>NaN</td>\n",
       "      <td>NaN</td>\n",
       "      <td>NaN</td>\n",
       "      <td>NaN</td>\n",
       "    </tr>\n",
       "    <tr>\n",
       "      <th>1</th>\n",
       "      <td>122243978</td>\n",
       "      <td>1975-12-18 15:02:32.403</td>\n",
       "      <td>5</td>\n",
       "      <td>36</td>\n",
       "      <td>163.0</td>\n",
       "      <td>NaN</td>\n",
       "      <td>NaN</td>\n",
       "      <td>NaN</td>\n",
       "      <td>NaN</td>\n",
       "      <td>NaN</td>\n",
       "    </tr>\n",
       "    <tr>\n",
       "      <th>2</th>\n",
       "      <td>122243978</td>\n",
       "      <td>1975-12-18 15:08:11.147</td>\n",
       "      <td>5</td>\n",
       "      <td>40</td>\n",
       "      <td>156.0</td>\n",
       "      <td>NaN</td>\n",
       "      <td>NaN</td>\n",
       "      <td>NaN</td>\n",
       "      <td>NaN</td>\n",
       "      <td>NaN</td>\n",
       "    </tr>\n",
       "    <tr>\n",
       "      <th>3</th>\n",
       "      <td>122243992</td>\n",
       "      <td>1975-12-18 14:23:33.177</td>\n",
       "      <td>1</td>\n",
       "      <td>4</td>\n",
       "      <td>565.0</td>\n",
       "      <td>3973.0</td>\n",
       "      <td>26706175.0</td>\n",
       "      <td>45171119.0</td>\n",
       "      <td>8436.0</td>\n",
       "      <td>1.0</td>\n",
       "    </tr>\n",
       "    <tr>\n",
       "      <th>4</th>\n",
       "      <td>122243992</td>\n",
       "      <td>1975-12-18 14:32:58.763</td>\n",
       "      <td>1</td>\n",
       "      <td>5</td>\n",
       "      <td>73.0</td>\n",
       "      <td>3973.0</td>\n",
       "      <td>17297250.0</td>\n",
       "      <td>65195750.0</td>\n",
       "      <td>6624.0</td>\n",
       "      <td>1.0</td>\n",
       "    </tr>\n",
       "  </tbody>\n",
       "</table>\n",
       "</div>"
      ],
      "text/plain": [
       "   sessionkey_id               date_time  page_type  pageview_number  \\\n",
       "0      122243978 1975-12-18 14:52:38.130          2               28   \n",
       "1      122243978 1975-12-18 15:02:32.403          5               36   \n",
       "2      122243978 1975-12-18 15:08:11.147          5               40   \n",
       "3      122243992 1975-12-18 14:23:33.177          1                4   \n",
       "4      122243992 1975-12-18 14:32:58.763          1                5   \n",
       "\n",
       "   pageview_duration_sec  category_id    model_id     good_id   price  \\\n",
       "0                   53.0       1773.0         NaN         NaN     NaN   \n",
       "1                  163.0          NaN         NaN         NaN     NaN   \n",
       "2                  156.0          NaN         NaN         NaN     NaN   \n",
       "3                  565.0       3973.0  26706175.0  45171119.0  8436.0   \n",
       "4                   73.0       3973.0  17297250.0  65195750.0  6624.0   \n",
       "\n",
       "   product_in_sale  \n",
       "0              NaN  \n",
       "1              NaN  \n",
       "2              NaN  \n",
       "3              1.0  \n",
       "4              1.0  "
      ]
     },
     "execution_count": 26,
     "metadata": {},
     "output_type": "execute_result"
    }
   ],
   "source": [
    "sessions_df = pd.read_csv('t1_webstat.csv')\n",
    "sessions_df['date_time'] = pd.to_datetime(sessions_df['date_time'])\n",
    "sessions_df.head()"
   ]
  },
  {
   "cell_type": "code",
   "execution_count": 27,
   "metadata": {},
   "outputs": [
    {
     "data": {
      "text/plain": [
       "7"
      ]
     },
     "execution_count": 27,
     "metadata": {},
     "output_type": "execute_result"
    }
   ],
   "source": [
    "sessions_df.groupby(['sessionkey_id', 'date_time']).size().max()"
   ]
  },
  {
   "cell_type": "code",
   "execution_count": null,
   "metadata": {},
   "outputs": [],
   "source": [
    "sessions_df['date_time'] = pd.to_datetime(sessions_df['date_time'])\n",
    "sessions_df['number_of_nans'] = sessions_df.isna().sum(axis=1)\n",
    "# sessions_df = sessions_df.sort_values(by='number_of_nans')\n",
    "\n",
    "sessions_df = sessions_df.add_prefix('session_').rename(columns={'session_sessionkey_id': 'sessionkey_id'})\n",
    "\n",
    "order_session_df = train_df.merge(sessions_df, on='sessionkey_id')\n",
    "order_session_df = order_session_df.query('create_time > session_date_time').copy()\n",
    "\n",
    "order_session_df = order_session_df.merge(\n",
    "    order_session_df.groupby('order_id')[['session_pageview_duration_sec']].sum()\\\n",
    "        .rename(columns={'session_pageview_duration_sec': 'sum_pageview_sec_before_order'}).reset_index(),\n",
    "    on='order_id'\n",
    ")\n",
    "\n",
    "order_session_df['price_equals'] = (order_session_df['price'] == order_session_df['session_price'])\n",
    "order_session_df['good_id_equals'] = (order_session_df['good_id'] == order_session_df['session_good_id'])\n",
    "\n",
    "order_session_df = order_session_df.merge(\n",
    "    order_session_df.groupby('order_id')[['session_date_time']].max().add_prefix('max_').reset_index(),\n",
    "    on='order_id'\n",
    ")\n",
    "\n",
    "order_session_df['is_max_session_time'] = (order_session_df['session_date_time'] == order_session_df['max_session_date_time'])\n",
    "\n",
    "order_session_df = order_session_df\\\n",
    "    .sort_values(by=['is_max_session_time', 'good_id_equals', 'price_equals', 'session_number_of_nans'], ascending=False)\\\n",
    "    .groupby('order_id').first()\n",
    "\n",
    "order_session_df['order_session_seconds'] = (order_session_df['create_time'] - \n",
    "    order_session_df['session_date_time']).dt.total_seconds()\n",
    "\n",
    "order_session_df['order_session_seconds'] = (order_session_df['create_time'] - \n",
    "    order_session_df['session_date_time']).dt.total_seconds()\n",
    "\n",
    "order_session_df['order_model_session_seconds'] = (order_session_df['model_create_time'] - \n",
    "    order_session_df['session_date_time']).dt.total_seconds()\n"
   ]
  },
  {
   "cell_type": "code",
   "execution_count": null,
   "metadata": {},
   "outputs": [],
   "source": [
    "session_info = sessions_df['sessionkey_id']\\\n",
    "        .value_counts()\\\n",
    "        .to_frame()\\\n",
    "        .reset_index()\\\n",
    "        .rename(columns={'index': 'sessionkey_id', 'sessionkey_id': 'sessions_count'})\n",
    "\n",
    "session_info = session_info.merge(\n",
    "    sessions_df.groupby('sessionkey_id')[['session_date_time']].max().add_prefix('max_').reset_index(),\n",
    "    on='sessionkey_id',\n",
    ")\n",
    "\n",
    "session_info = session_info.merge(\n",
    "    sessions_df.groupby('sessionkey_id')[['session_date_time']].min().add_prefix('min_').reset_index(),\n",
    "    on='sessionkey_id',\n",
    ")\n",
    "\n",
    "session_info = session_info.merge(\n",
    "    sessions_df.groupby('sessionkey_id')[['session_pageview_duration_sec']].sum().add_prefix('sum_').reset_index(),\n",
    "    on='sessionkey_id',\n",
    ")\n",
    "\n",
    "session_info['session_duration'] = (session_info['max_session_date_time'] - session_info['min_session_date_time']).dt.total_seconds()\n",
    "\n",
    "order_session_df = order_session_df.drop('max_session_date_time', axis=1).merge(\n",
    "    session_info,\n",
    "    on='sessionkey_id',\n",
    ")\n",
    "\n",
    "session_info.head()"
   ]
  },
  {
   "cell_type": "code",
   "execution_count": null,
   "metadata": {},
   "outputs": [],
   "source": [
    "order_session_df.loc[order_session_df['sum_pageview_sec_before_order'] < 0, 'sum_pageview_sec_before_order'] = np.nan\n",
    "order_session_df.loc[order_session_df['sum_session_pageview_duration_sec'] < 0, 'sum_session_pageview_duration_sec'] = np.nan"
   ]
  },
  {
   "cell_type": "code",
   "execution_count": null,
   "metadata": {},
   "outputs": [],
   "source": [
    "sns.barplot(\n",
    "    data=order_session_df\\\n",
    "        .groupby(['session_page_type', 'is_callcenter'])\\\n",
    "        .size()\\\n",
    "        .reset_index()\\\n",
    "        .rename(columns={0: 'counts'}),\n",
    "    x='session_page_type',\n",
    "    y='counts',\n",
    "    hue='is_callcenter',\n",
    ")\n",
    "\n",
    "plt.show()"
   ]
  },
  {
   "cell_type": "code",
   "execution_count": null,
   "metadata": {},
   "outputs": [],
   "source": [
    "sns.histplot(\n",
    "    data=order_session_df[order_session_df['session_pageview_number'] < 100],\n",
    "    x='session_pageview_number',\n",
    "    hue='is_callcenter',\n",
    "    bins=20,\n",
    "    element='step', \n",
    "    fill=False,\n",
    ")\n",
    "plt.show()"
   ]
  },
  {
   "cell_type": "code",
   "execution_count": null,
   "metadata": {},
   "outputs": [],
   "source": [
    "sns.histplot(\n",
    "    data=order_session_df[order_session_df['session_pageview_duration_sec'].between(-10, 100)],\n",
    "    x='session_pageview_duration_sec',\n",
    "    hue='is_callcenter',\n",
    "    bins=20,\n",
    "    element='step', \n",
    "    fill=False,\n",
    ")\n",
    "plt.show()"
   ]
  },
  {
   "cell_type": "code",
   "execution_count": null,
   "metadata": {},
   "outputs": [],
   "source": [
    "sns.barplot(\n",
    "    data=order_session_df\\\n",
    "        .groupby(['session_number_of_nans', 'is_callcenter'])\\\n",
    "        .size()\\\n",
    "        .reset_index()\\\n",
    "        .rename(columns={0: 'counts'}),\n",
    "    x='session_number_of_nans',\n",
    "    y='counts',\n",
    "    hue='is_callcenter',\n",
    ")\n",
    "\n",
    "plt.show()"
   ]
  },
  {
   "cell_type": "markdown",
   "metadata": {},
   "source": [
    "Nice feature"
   ]
  },
  {
   "cell_type": "code",
   "execution_count": null,
   "metadata": {},
   "outputs": [],
   "source": [
    "sns.histplot(\n",
    "    data=order_session_df.query('order_session_seconds < 1200'),\n",
    "    x='order_session_seconds',\n",
    "    hue='is_callcenter',\n",
    ")\n",
    "\n",
    "plt.show()"
   ]
  },
  {
   "cell_type": "markdown",
   "metadata": {},
   "source": [
    "\n",
    "Finally, some good feature"
   ]
  },
  {
   "cell_type": "code",
   "execution_count": null,
   "metadata": {},
   "outputs": [],
   "source": [
    "sns.histplot(\n",
    "    data=order_session_df.query('order_model_session_seconds < 1200'),\n",
    "    x='order_model_session_seconds',\n",
    "    hue='is_callcenter',\n",
    ")\n",
    "\n",
    "plt.show()"
   ]
  },
  {
   "cell_type": "code",
   "execution_count": null,
   "metadata": {},
   "outputs": [],
   "source": [
    "order_session_df.columns"
   ]
  },
  {
   "cell_type": "code",
   "execution_count": null,
   "metadata": {},
   "outputs": [],
   "source": [
    "sns.histplot(\n",
    "    data=order_session_df.query('sum_pageview_sec_before_order < 4000'),\n",
    "    x='sum_pageview_sec_before_order',\n",
    "    hue='is_callcenter',\n",
    ")\n",
    "\n",
    "plt.show()"
   ]
  },
  {
   "cell_type": "code",
   "execution_count": null,
   "metadata": {},
   "outputs": [],
   "source": [
    "sns.histplot(\n",
    "    data=order_session_df,\n",
    "    x='order_model_session_seconds',\n",
    "    hue='is_callcenter',\n",
    ")\n",
    "\n",
    "plt.show()"
   ]
  },
  {
   "cell_type": "code",
   "execution_count": null,
   "metadata": {},
   "outputs": [],
   "source": [
    "sns.histplot(\n",
    "    data=order_session_df.query('sessions_count < 60'),\n",
    "    x='sessions_count',\n",
    "    hue='is_callcenter',\n",
    ")\n",
    "\n",
    "plt.show()"
   ]
  },
  {
   "cell_type": "code",
   "execution_count": null,
   "metadata": {},
   "outputs": [],
   "source": [
    "sns.histplot(\n",
    "    data=order_session_df.query('sum_session_pageview_duration_sec < 5000'),\n",
    "    x='sum_session_pageview_duration_sec',\n",
    "    hue='is_callcenter',\n",
    ")\n",
    "\n",
    "plt.show()"
   ]
  },
  {
   "cell_type": "code",
   "execution_count": null,
   "metadata": {},
   "outputs": [],
   "source": [
    "sns.histplot(\n",
    "    data=order_session_df.query('session_duration < 4000'),\n",
    "    x='session_duration',\n",
    "    hue='is_callcenter',\n",
    ")\n",
    "\n",
    "plt.show()"
   ]
  },
  {
   "attachments": {},
   "cell_type": "markdown",
   "metadata": {},
   "source": [
    "# Data engineering"
   ]
  },
  {
   "cell_type": "code",
   "execution_count": null,
   "metadata": {},
   "outputs": [],
   "source": [
    "def engineering(order, session):\n",
    "    order['create_time'] = pd.to_datetime(order['create_time'])\n",
    "    order['model_create_time'] = pd.to_datetime(order['model_create_time'])\n",
    "\n",
    "    order['create_time_diff'] = (order['model_create_time'] - order['create_time']).dt.days\n",
    "\n",
    "    order['create_time_year'] = order['create_time'].dt.year\n",
    "    order['create_time_hour'] = order['create_time'].dt.hour\n",
    "\n",
    "    order['weekday'] = order['create_time'].dt.weekday\n",
    "\n",
    "    order['model_create_time_year'] = order['model_create_time'].dt.year\n",
    "    order['model_create_time_hour'] = order['model_create_time'].dt.hour\n",
    "\n",
    "    order['utm_source'] = order['utm_source'].astype(pd.Int64Dtype())\n",
    "    order['description_length'].replace(0, np.nan, inplace=True)\n",
    "    order['no_description'] = order['description_length'].isna()\n",
    "\n",
    "    order.loc[order['rating_value'] > 5, 'rating_value'] /= 2\n",
    "\n",
    "    session['date_time'] = pd.to_datetime(session['date_time'])\n",
    "    session['number_of_nans'] = sessions_df.isna().sum(axis=1)\n",
    "    # session = sessions_df.sort_values(by='number_of_nans')\n",
    "    # session.drop('number_of_nans', axis=1, inplace=True)\n",
    "    # session = sessions_df.groupby(['sessionkey_id', 'date_time']).first().reset_index()\n",
    "\n",
    "    session = session.add_prefix('session_').rename(columns={'session_sessionkey_id': 'sessionkey_id'})\n",
    "\n",
    "    order_session = order.merge(session, on='sessionkey_id')\n",
    "    order_session = order_session.query('create_time > session_date_time').copy()\n",
    "\n",
    "    order_session = order_session.merge(\n",
    "        order_session.groupby('order_id')[['session_pageview_duration_sec']].sum()\\\n",
    "            .rename(columns={'session_pageview_duration_sec': 'sum_pageview_sec_before_order'}).reset_index(),\n",
    "        on='order_id'\n",
    "    )\n",
    "\n",
    "    order_session['price_equals'] = (order_session['price'] == order_session['session_price'])\n",
    "    order_session['good_id_equals'] = (order_session['good_id'] == order_session['session_good_id'])\n",
    "\n",
    "    order_session = order_session.merge(\n",
    "        order_session.groupby('order_id')[['session_date_time']].max().add_prefix('max_').reset_index(),\n",
    "        on='order_id'\n",
    "    )\n",
    "\n",
    "    order_session['is_max_session_time'] = (order_session['session_date_time'] == order_session['max_session_date_time'])\n",
    "    \n",
    "    order_session = order_session\\\n",
    "        .sort_values(by=['is_max_session_time', 'good_id_equals', 'price_equals', 'session_number_of_nans'], ascending=False)\\\n",
    "        .groupby('order_id').first().reset_index()\n",
    "\n",
    "    order_session['order_session_seconds'] = (order_session['create_time'] - \n",
    "        order_session['session_date_time']).dt.total_seconds()\n",
    "    \n",
    "    order_session['order_model_session_seconds'] = (order_session['model_create_time'] - \n",
    "        order_session['session_date_time']).dt.total_seconds()\n",
    "\n",
    "    session_info = session['sessionkey_id']\\\n",
    "        .value_counts()\\\n",
    "        .to_frame()\\\n",
    "        .reset_index()\\\n",
    "        .rename(columns={'index': 'sessionkey_id', 'sessionkey_id': 'sessions_count'})\n",
    "\n",
    "    session_info = session_info.merge(\n",
    "        session.groupby('sessionkey_id')[['session_date_time']].max().add_prefix('max_').reset_index(),\n",
    "        on='sessionkey_id',\n",
    "    )\n",
    "\n",
    "    session_info = session_info.merge(\n",
    "        session.groupby('sessionkey_id')[['session_date_time']].min().add_prefix('min_').reset_index(),\n",
    "        on='sessionkey_id',\n",
    "    )\n",
    "\n",
    "    session_info = session_info.merge(\n",
    "        session.groupby('sessionkey_id')[['session_pageview_duration_sec']].sum().add_prefix('sum_').reset_index(),\n",
    "        on='sessionkey_id',\n",
    "    )\n",
    "\n",
    "    session_info['session_duration'] = (session_info['max_session_date_time'] - session_info['min_session_date_time']).dt.total_seconds()\n",
    "\n",
    "    order_session = order_session.drop('max_session_date_time', axis=1).merge(\n",
    "        session_info,\n",
    "        on='sessionkey_id',\n",
    "    )\n",
    "\n",
    "    order = order.merge(order_session.drop(order.columns[1:], axis=1), on='order_id', how='left')\n",
    "\n",
    "    return order"
   ]
  },
  {
   "cell_type": "code",
   "execution_count": null,
   "metadata": {},
   "outputs": [],
   "source": [
    "train_df = pd.read_csv('train.csv')\n",
    "sessions_df = pd.read_csv('t1_webstat.csv')\n",
    "\n",
    "new_train = engineering(train_df, sessions_df)"
   ]
  },
  {
   "cell_type": "code",
   "execution_count": null,
   "metadata": {},
   "outputs": [],
   "source": [
    "new_train.head()"
   ]
  },
  {
   "attachments": {},
   "cell_type": "markdown",
   "metadata": {},
   "source": [
    "# Train Test split"
   ]
  },
  {
   "cell_type": "code",
   "execution_count": null,
   "metadata": {},
   "outputs": [],
   "source": [
    "from sklearn.model_selection import train_test_split"
   ]
  },
  {
   "cell_type": "code",
   "execution_count": null,
   "metadata": {},
   "outputs": [],
   "source": [
    "new_train.columns"
   ]
  },
  {
   "cell_type": "code",
   "execution_count": null,
   "metadata": {},
   "outputs": [],
   "source": [
    "cat_features = [\n",
    "    'good_id', \n",
    "    'utm_medium', \n",
    "    'utm_source', \n",
    "    'category_id',\n",
    "    'parent_id',\n",
    "    'root_id',\n",
    "    'model_id',\n",
    "    'is_moderated',\n",
    "    'create_time_hour',\n",
    "    'model_create_time_hour',\n",
    "    'session_page_type',\n",
    "    'session_category_id',\n",
    "    'session_model_id',\n",
    "    'session_good_id',\n",
    "    'session_product_in_sale',\n",
    "    'good_id_equals',\n",
    "    'price_equals',\n",
    "    'session_number_of_nans',\n",
    "    'rating_value', # May be move to categorical\n",
    "    'no_description',\n",
    "    'weekday'\n",
    "]\n",
    "\n",
    "num_features = [\n",
    "    'price',\n",
    "    'rating_count',\n",
    "    'description_length',\n",
    "    'goods_qty',\n",
    "    'pics_qty',\n",
    "    'create_time_diff',\n",
    "    'session_pageview_number',\n",
    "    'session_pageview_duration_sec',\n",
    "    'session_price',\n",
    "    'order_session_seconds',\n",
    "    'order_model_session_seconds',\n",
    "    'sum_pageview_sec_before_order',\n",
    "    # 'order_model_session_seconds',\n",
    "    'sessions_count',\n",
    "    'sum_session_pageview_duration_sec',\n",
    "    'session_duration'\n",
    "]"
   ]
  },
  {
   "cell_type": "code",
   "execution_count": null,
   "metadata": {},
   "outputs": [],
   "source": [
    "X_train, X_test, y_train, y_test = train_test_split(\n",
    "    new_train[num_features + cat_features], \n",
    "    new_train['is_callcenter'],\n",
    "    train_size=0.7,\n",
    "    random_state=17,\n",
    "    shuffle=True\n",
    ")"
   ]
  },
  {
   "attachments": {},
   "cell_type": "markdown",
   "metadata": {},
   "source": [
    "# Model"
   ]
  },
  {
   "cell_type": "code",
   "execution_count": null,
   "metadata": {},
   "outputs": [],
   "source": [
    "from catboost import CatBoostClassifier\n",
    "from sklearn.impute import SimpleImputer\n",
    "from sklearn.metrics import roc_auc_score"
   ]
  },
  {
   "cell_type": "code",
   "execution_count": null,
   "metadata": {},
   "outputs": [],
   "source": [
    "num_imputer = SimpleImputer(strategy='median')\n",
    "X_train[num_features] = num_imputer.fit_transform(X_train[num_features])\n",
    "X_test[num_features] = num_imputer.transform(X_test[num_features])\n",
    "\n",
    "cat_imputer = SimpleImputer(strategy='most_frequent')\n",
    "X_train[cat_features] = cat_imputer.fit_transform(X_train[cat_features])\n",
    "X_test[cat_features] = cat_imputer.transform(X_test[cat_features])"
   ]
  },
  {
   "cell_type": "code",
   "execution_count": null,
   "metadata": {},
   "outputs": [],
   "source": [
    "X_train[cat_features] = X_train[cat_features].astype(int)\n",
    "X_test[cat_features] = X_test[cat_features].astype(int)"
   ]
  },
  {
   "cell_type": "code",
   "execution_count": null,
   "metadata": {},
   "outputs": [],
   "source": [
    "session_good_id = list(X_train.columns).index('session_good_id')\n",
    "parent_id_id = list(X_train.columns).index('parent_id')"
   ]
  },
  {
   "cell_type": "code",
   "execution_count": null,
   "metadata": {},
   "outputs": [],
   "source": [
    "model = CatBoostClassifier(\n",
    "    eval_metric='AUC', \n",
    "    use_best_model=True,\n",
    "    task_type=\"GPU\",\n",
    "    devices='0:1'\n",
    ")\n",
    "\n",
    "model.fit(\n",
    "    X_train, \n",
    "    y_train, \n",
    "    cat_features=cat_features,\n",
    "    eval_set=[(X_test, y_test)],\n",
    "    verbose=False,\n",
    ")"
   ]
  },
  {
   "cell_type": "code",
   "execution_count": null,
   "metadata": {},
   "outputs": [],
   "source": [
    "y_pred = model.predict_proba(X_test)[:, 1]\n",
    "roc_auc_score(y_test, y_pred)"
   ]
  },
  {
   "cell_type": "code",
   "execution_count": null,
   "metadata": {},
   "outputs": [],
   "source": [
    "model.best_iteration_"
   ]
  },
  {
   "cell_type": "code",
   "execution_count": null,
   "metadata": {},
   "outputs": [],
   "source": [
    "feature_importance = model.get_feature_importance()\n",
    "argsort = np.argsort(feature_importance)[::-1]\n",
    "feature_importance = feature_importance[argsort]\n",
    "columns = X_train.columns[argsort]\n",
    "\n",
    "plt.bar(height=feature_importance, x=columns)\n",
    "plt.xticks(rotation=90)\n",
    "plt.show()"
   ]
  },
  {
   "attachments": {},
   "cell_type": "markdown",
   "metadata": {},
   "source": [
    "## Optuna"
   ]
  },
  {
   "cell_type": "code",
   "execution_count": null,
   "metadata": {},
   "outputs": [],
   "source": [
    "from functools import partial\n",
    "import optuna"
   ]
  },
  {
   "cell_type": "code",
   "execution_count": null,
   "metadata": {},
   "outputs": [],
   "source": [
    "def objective_catboost_with_args(trial, X_train, y_train, X_test, y_test, cat_features):\n",
    "\n",
    "    params = {\n",
    "        'iterations': 800,\n",
    "        'learning_rate': trial.suggest_float('learning_rate', 2e-4, 2e-1, log=True),\n",
    "        'depth': 8,\n",
    "        'task_type': 'GPU',\n",
    "        'devices': '0:1',\n",
    "        'cat_features': cat_features,\n",
    "        'loss_function': 'Logloss'\n",
    "    }\n",
    "\n",
    "    model = CatBoostClassifier(**params)\n",
    "\n",
    "    model.fit(\n",
    "        X_train, \n",
    "        y_train, \n",
    "        cat_features=cat_features,\n",
    "        verbose=False,\n",
    "    )\n",
    "\n",
    "    y_pred = model.predict_proba(X_test)[:, 1]\n",
    "    return roc_auc_score(y_test, y_pred)\n",
    "\n",
    "objective_catboost = partial(\n",
    "    objective_catboost_with_args, \n",
    "    X_train=X_train, \n",
    "    y_train=y_train, \n",
    "    X_test=X_test,\n",
    "    y_test=y_test,\n",
    "    cat_features=cat_features\n",
    ")"
   ]
  },
  {
   "cell_type": "code",
   "execution_count": null,
   "metadata": {},
   "outputs": [],
   "source": [
    "gamma = lambda n_trials: min(int(np.ceil(0.1 * n_trials)), 25)\n",
    "tpe_sampler = optuna.samplers.TPESampler(n_startup_trials=30, n_ei_candidates=24, gamma=gamma)\n",
    "\n",
    "study = optuna.create_study(\n",
    "    direction='maximize',\n",
    "    sampler=tpe_sampler,\n",
    "    pruner=None\n",
    ")\n",
    "\n",
    "study.optimize(\n",
    "    func=objective_catboost, \n",
    "    n_trials=50,\n",
    "    timeout=None,\n",
    ")"
   ]
  },
  {
   "cell_type": "code",
   "execution_count": null,
   "metadata": {},
   "outputs": [],
   "source": [
    "optuna.visualization.plot_slice(study)"
   ]
  },
  {
   "cell_type": "code",
   "execution_count": null,
   "metadata": {},
   "outputs": [],
   "source": [
    "study.best_trial"
   ]
  },
  {
   "cell_type": "code",
   "execution_count": null,
   "metadata": {},
   "outputs": [],
   "source": [
    "import dill\n",
    "dill.dump_session('catboost_lr_optuned.db')"
   ]
  },
  {
   "cell_type": "code",
   "execution_count": null,
   "metadata": {},
   "outputs": [],
   "source": [
    "import dill\n",
    "dill.load_session('catboost_lr_optuned.db')"
   ]
  },
  {
   "cell_type": "code",
   "execution_count": null,
   "metadata": {},
   "outputs": [],
   "source": [
    "def objective_catboost_with_args(trial, X_train, y_train, X_test, y_test, cat_features):\n",
    "\n",
    "    params = {\n",
    "        'iterations': trial.suggest_int('iterations', 500, 1000),\n",
    "        'learning_rate': trial.suggest_float('learning_rate', 0.02, 0.2),\n",
    "        'depth': trial.suggest_int('depth', 5, 12),\n",
    "        # 'loss_function': trial.suggest_categorical('loss_func', ['Logloss', 'CrossEntropy']),\n",
    "        'l2_leaf_reg': trial.suggest_float('l2_reg', 0, 100),\n",
    "        # 'bootstrap_type': trial.suggest_categorical('bootstrap_type', ['Bayesian', 'Bernoulli', 'MVS', 'Poisson', 'No']),\n",
    "        # 'grow_policy': trial.suggest_categorica('grow_policy', ['SymmetricTree', 'Depthwise', 'Lossguide']),\n",
    "        # 'min_data_in_leaf': trial.suggest_int('min_data_in_leaf', 1, 1000),\n",
    "        'auto_class_weights': trial.suggest_categorical('class_weights', [None, 'Balanced', 'SqrtBalanced']),\n",
    "        'task_type': 'GPU',\n",
    "        'devices': '0:1',\n",
    "        'cat_features': cat_features,\n",
    "    }\n",
    "\n",
    "    model = CatBoostClassifier(**params)\n",
    "\n",
    "    model.fit(\n",
    "        X_train, \n",
    "        y_train, \n",
    "        cat_features=cat_features,\n",
    "        verbose=False,\n",
    "    )\n",
    "\n",
    "    y_pred = model.predict_proba(X_test)[:, 1]\n",
    "    return roc_auc_score(y_test, y_pred)\n",
    "\n",
    "objective_catboost = partial(\n",
    "    objective_catboost_with_args, \n",
    "    X_train=X_train, \n",
    "    y_train=y_train, \n",
    "    X_test=X_test,\n",
    "    y_test=y_test,\n",
    "    cat_features=cat_features\n",
    ")"
   ]
  },
  {
   "cell_type": "code",
   "execution_count": null,
   "metadata": {},
   "outputs": [],
   "source": [
    "gamma = lambda n_trials: min(int(np.ceil(0.1 * n_trials)), 25)\n",
    "tpe_sampler = optuna.samplers.TPESampler(n_startup_trials=30, n_ei_candidates=24, gamma=gamma)\n",
    "\n",
    "study = optuna.create_study(\n",
    "    direction='maximize',\n",
    "    sampler=tpe_sampler,\n",
    "    pruner=None\n",
    ")\n",
    "\n",
    "study.optimize(\n",
    "    func=objective_catboost, \n",
    "    n_trials=60,\n",
    "    timeout=None,\n",
    ")"
   ]
  },
  {
   "cell_type": "code",
   "execution_count": null,
   "metadata": {},
   "outputs": [],
   "source": [
    "optuna.visualization.plot_slice(study)"
   ]
  },
  {
   "cell_type": "code",
   "execution_count": null,
   "metadata": {},
   "outputs": [],
   "source": [
    "# 0.9725780908743158\n",
    "study.best_params"
   ]
  },
  {
   "cell_type": "code",
   "execution_count": null,
   "metadata": {},
   "outputs": [],
   "source": [
    "dill.dump_session('catboost_first_features_optuned.db')"
   ]
  },
  {
   "cell_type": "code",
   "execution_count": null,
   "metadata": {},
   "outputs": [],
   "source": [
    "import dill\n",
    "dill.load_session('catboost_first_features_optuned.db')"
   ]
  },
  {
   "cell_type": "code",
   "execution_count": null,
   "metadata": {},
   "outputs": [],
   "source": [
    "def objective_catboost_with_args(trial, X_train, y_train, X_test, y_test, cat_features):\n",
    "\n",
    "    params = {\n",
    "        'iterations': 700,\n",
    "        'learning_rate': 0.12,\n",
    "        'depth': 6,\n",
    "        'loss_function': trial.suggest_categorical('loss_func', ['Logloss', 'CrossEntropy']),\n",
    "        'l2_leaf_reg': 24,\n",
    "        'bootstrap_type': trial.suggest_categorical('bootstrap_type', ['Bayesian', 'Bernoulli', 'Poisson', 'No']),\n",
    "        'grow_policy': trial.suggest_categorical('grow_policy', ['SymmetricTree', 'Depthwise', 'Lossguide']),\n",
    "        'min_data_in_leaf': trial.suggest_int('min_data_in_leaf', 1, 300),\n",
    "        'auto_class_weights': None,\n",
    "        'task_type': 'GPU',\n",
    "        'devices': '0:1',\n",
    "        'cat_features': cat_features,\n",
    "    }\n",
    "    \n",
    "    model = CatBoostClassifier(**params)\n",
    "\n",
    "    model.fit(\n",
    "        X_train, \n",
    "        y_train, \n",
    "        cat_features=cat_features,\n",
    "        verbose=False,\n",
    "    )\n",
    "\n",
    "    y_pred = model.predict_proba(X_test)[:, 1]\n",
    "    return roc_auc_score(y_test, y_pred)\n",
    "\n",
    "objective_catboost = partial(\n",
    "    objective_catboost_with_args, \n",
    "    X_train=X_train, \n",
    "    y_train=y_train, \n",
    "    X_test=X_test,\n",
    "    y_test=y_test,\n",
    "    cat_features=cat_features\n",
    ")"
   ]
  },
  {
   "cell_type": "code",
   "execution_count": null,
   "metadata": {},
   "outputs": [],
   "source": [
    "gamma = lambda n_trials: min(int(np.ceil(0.1 * n_trials)), 25)\n",
    "tpe_sampler = optuna.samplers.TPESampler(n_startup_trials=30, n_ei_candidates=24, gamma=gamma)\n",
    "\n",
    "study = optuna.create_study(\n",
    "    direction='maximize',\n",
    "    sampler=tpe_sampler,\n",
    "    pruner=None\n",
    ")\n",
    "\n",
    "study.optimize(\n",
    "    func=objective_catboost, \n",
    "    n_trials=60,\n",
    "    timeout=None,\n",
    ")"
   ]
  },
  {
   "cell_type": "code",
   "execution_count": null,
   "metadata": {},
   "outputs": [],
   "source": [
    "optuna.visualization.plot_slice(study)"
   ]
  },
  {
   "cell_type": "code",
   "execution_count": null,
   "metadata": {},
   "outputs": [],
   "source": [
    "study.best_params"
   ]
  },
  {
   "cell_type": "code",
   "execution_count": null,
   "metadata": {},
   "outputs": [],
   "source": [
    "dill.dump_session('catboost_fully_optuned.db')"
   ]
  },
  {
   "attachments": {},
   "cell_type": "markdown",
   "metadata": {},
   "source": [
    "## Final test"
   ]
  },
  {
   "cell_type": "code",
   "execution_count": null,
   "metadata": {},
   "outputs": [],
   "source": [
    "params = { \n",
    "    'iterations': 696,\n",
    "    'learning_rate': 0.09140720655978472,\n",
    "    'depth': 7,\n",
    "    'l2_leaf_reg': 38.61366529620962,\n",
    "    'class_weights': None,\n",
    "    'task_type': 'GPU',\n",
    "    'devices': '0:1',\n",
    "    'cat_features': cat_features,\n",
    "}\n",
    "\n",
    "model = CatBoostClassifier(**params)\n",
    "model.fit(X_train, y_train, verbose=False)\n",
    "y_pred = model.predict_proba(X_test)[:, 1]\n",
    "roc_auc_score(y_test, y_pred)"
   ]
  },
  {
   "cell_type": "code",
   "execution_count": null,
   "metadata": {},
   "outputs": [],
   "source": [
    "feature_importance = model.get_feature_importance()\n",
    "argsort = np.argsort(feature_importance)[::-1]\n",
    "feature_importance = feature_importance[argsort]\n",
    "columns = X_train.columns[argsort]\n",
    "\n",
    "plt.bar(height=feature_importance, x=columns)\n",
    "plt.xticks(rotation=90)\n",
    "plt.show()"
   ]
  },
  {
   "cell_type": "code",
   "execution_count": null,
   "metadata": {},
   "outputs": [],
   "source": [
    "params = { \n",
    "    'iterations': 696,\n",
    "    'learning_rate': 0.09140720655978472,\n",
    "    'depth': 7,\n",
    "    'l2_leaf_reg': 38.61366529620962,\n",
    "    'class_weights': None,\n",
    "    'task_type': 'GPU',\n",
    "    'devices': '0:1',\n",
    "    'cat_features': cat_features,\n",
    "    'ignored_features': [\n",
    "            'session_product_in_sale', \n",
    "            'is_moderated',\n",
    "            'model_id',\n",
    "        ]\n",
    "}\n",
    "\n",
    "model = CatBoostClassifier(**params)\n",
    "model.fit(X_train, y_train, verbose=False)\n",
    "y_pred = model.predict_proba(X_test)[:, 1]\n",
    "roc_auc_score(y_test, y_pred)"
   ]
  },
  {
   "cell_type": "code",
   "execution_count": null,
   "metadata": {},
   "outputs": [],
   "source": [
    "feature_importance = model.get_feature_importance()\n",
    "argsort = np.argsort(feature_importance)[::-1]\n",
    "feature_importance = feature_importance[argsort]\n",
    "columns = X_train.columns[argsort]\n",
    "\n",
    "plt.bar(height=feature_importance, x=columns)\n",
    "plt.xticks(rotation=90)\n",
    "plt.show()"
   ]
  },
  {
   "cell_type": "code",
   "execution_count": null,
   "metadata": {},
   "outputs": [],
   "source": [
    "params = {\n",
    "    'iterations': 700,\n",
    "    'learning_rate': 0.12,\n",
    "    'depth': 6,\n",
    "    'l2_leaf_reg': 24,\n",
    "    'loss_function': 'CrossEntropy',\n",
    "    'bootstrap_type': 'No',\n",
    "    'grow_policy': 'SymmetricTree',\n",
    "    'min_data_in_leaf': 238,\n",
    "    'cat_features': cat_features,\n",
    "}\n",
    "\n",
    "model = CatBoostClassifier(**params)\n",
    "model.fit(X_train, y_train, verbose=False)\n",
    "y_pred = model.predict_proba(X_test)[:, 1]\n",
    "roc_auc_score(y_test, y_pred)"
   ]
  },
  {
   "attachments": {},
   "cell_type": "markdown",
   "metadata": {},
   "source": [
    "# Predict"
   ]
  },
  {
   "cell_type": "code",
   "execution_count": null,
   "metadata": {},
   "outputs": [],
   "source": [
    "test_df = pd.read_csv('test.csv')\n",
    "new_test = engineering(test_df, sessions_df)"
   ]
  },
  {
   "cell_type": "code",
   "execution_count": null,
   "metadata": {},
   "outputs": [],
   "source": [
    "new_train_model = new_train[num_features + cat_features].copy()\n",
    "y_train_model = new_train['is_callcenter']\n",
    "\n",
    "new_test_model = new_test[num_features + cat_features].copy()"
   ]
  },
  {
   "cell_type": "code",
   "execution_count": null,
   "metadata": {},
   "outputs": [],
   "source": [
    "num_imputer = SimpleImputer(strategy='median')\n",
    "new_train_model[num_features] = num_imputer.fit_transform(new_train_model[num_features])\n",
    "new_test_model[num_features] = num_imputer.transform(new_test_model[num_features])\n",
    "\n",
    "cat_imputer = SimpleImputer(strategy='most_frequent')\n",
    "new_train_model[cat_features] = cat_imputer.fit_transform(new_train_model[cat_features])\n",
    "new_test_model[cat_features] = cat_imputer.transform(new_test_model[cat_features])\n",
    "\n",
    "new_train_model[cat_features] = new_train_model[cat_features].astype(int)\n",
    "new_test_model[cat_features] = new_test_model[cat_features].astype(int)"
   ]
  },
  {
   "cell_type": "code",
   "execution_count": null,
   "metadata": {},
   "outputs": [],
   "source": [
    "params = {\n",
    "    'iterations': 700,\n",
    "    'learning_rate': 0.12,\n",
    "    'depth': 6,\n",
    "    'l2_leaf_reg': 24,\n",
    "    'loss_function': 'CrossEntropy',\n",
    "    'bootstrap_type': 'No',\n",
    "    'grow_policy': 'SymmetricTree',\n",
    "    'min_data_in_leaf': 238,\n",
    "    'cat_features': cat_features,\n",
    "}\n",
    "\n",
    "model = CatBoostClassifier(**params)\n",
    "model.fit(new_train_model, y_train_model, verbose=False)"
   ]
  },
  {
   "cell_type": "code",
   "execution_count": null,
   "metadata": {},
   "outputs": [],
   "source": [
    "y_pred_test = model.predict_proba(new_test_model)[:, 1]\n",
    "new_test['is_callcenter'] = y_pred_test"
   ]
  },
  {
   "cell_type": "code",
   "execution_count": null,
   "metadata": {},
   "outputs": [],
   "source": [
    "new_test[['order_id', 'is_callcenter']].to_csv('sub2_mod.csv', index=None)"
   ]
  },
  {
   "cell_type": "code",
   "execution_count": null,
   "metadata": {},
   "outputs": [],
   "source": []
  }
 ],
 "metadata": {
  "kernelspec": {
   "display_name": "base",
   "language": "python",
   "name": "python3"
  },
  "language_info": {
   "codemirror_mode": {
    "name": "ipython",
    "version": 3
   },
   "file_extension": ".py",
   "mimetype": "text/x-python",
   "name": "python",
   "nbconvert_exporter": "python",
   "pygments_lexer": "ipython3",
   "version": "3.10.9"
  },
  "orig_nbformat": 4,
  "vscode": {
   "interpreter": {
    "hash": "af54d8ffe8b61cab9e1bcfcc3a5e2eeb6c71d1475cf011cf65945131006eac57"
   }
  }
 },
 "nbformat": 4,
 "nbformat_minor": 2
}
