{
 "cells": [
  {
   "attachments": {},
   "cell_type": "markdown",
   "metadata": {},
   "source": [
    "# Load and analyze data"
   ]
  },
  {
   "cell_type": "code",
   "execution_count": 1,
   "metadata": {},
   "outputs": [],
   "source": [
    "import pandas as pd\n",
    "import matplotlib.pyplot as plt\n",
    "import seaborn as sns\n",
    "from datetime import datetime\n",
    "import numpy as np"
   ]
  },
  {
   "cell_type": "code",
   "execution_count": 2,
   "metadata": {},
   "outputs": [
    {
     "data": {
      "text/html": [
       "<div>\n",
       "<style scoped>\n",
       "    .dataframe tbody tr th:only-of-type {\n",
       "        vertical-align: middle;\n",
       "    }\n",
       "\n",
       "    .dataframe tbody tr th {\n",
       "        vertical-align: top;\n",
       "    }\n",
       "\n",
       "    .dataframe thead th {\n",
       "        text-align: right;\n",
       "    }\n",
       "</style>\n",
       "<table border=\"1\" class=\"dataframe\">\n",
       "  <thead>\n",
       "    <tr style=\"text-align: right;\">\n",
       "      <th></th>\n",
       "      <th>district_area</th>\n",
       "      <th>road_distance_1</th>\n",
       "      <th>road_distance_2</th>\n",
       "      <th>year_of_construction</th>\n",
       "      <th>bulvar_ring_km</th>\n",
       "      <th>bus_station_distance</th>\n",
       "      <th>cafe_count</th>\n",
       "      <th>fitness_center_distance</th>\n",
       "      <th>floor</th>\n",
       "      <th>district_population</th>\n",
       "      <th>...</th>\n",
       "      <th>product_type</th>\n",
       "      <th>public_transport_station_distance</th>\n",
       "      <th>sadovoe_km</th>\n",
       "      <th>base_school_distance</th>\n",
       "      <th>sport_count</th>\n",
       "      <th>state</th>\n",
       "      <th>district_name</th>\n",
       "      <th>timestamp</th>\n",
       "      <th>malls_count</th>\n",
       "      <th>railway_station_distance</th>\n",
       "    </tr>\n",
       "  </thead>\n",
       "  <tbody>\n",
       "    <tr>\n",
       "      <th>0</th>\n",
       "      <td>6.407578e+06</td>\n",
       "      <td>1.422391</td>\n",
       "      <td>3.830951</td>\n",
       "      <td>NaN</td>\n",
       "      <td>13.675657</td>\n",
       "      <td>24.292406</td>\n",
       "      <td>152</td>\n",
       "      <td>0.485841</td>\n",
       "      <td>4.0</td>\n",
       "      <td>86206</td>\n",
       "      <td>...</td>\n",
       "      <td>Investment</td>\n",
       "      <td>3.299822</td>\n",
       "      <td>13.100618</td>\n",
       "      <td>0.177975</td>\n",
       "      <td>52</td>\n",
       "      <td>NaN</td>\n",
       "      <td>Bibirevo</td>\n",
       "      <td>2011-08-20</td>\n",
       "      <td>52</td>\n",
       "      <td>14.231961</td>\n",
       "    </tr>\n",
       "    <tr>\n",
       "      <th>1</th>\n",
       "      <td>9.589337e+06</td>\n",
       "      <td>2.887377</td>\n",
       "      <td>3.103996</td>\n",
       "      <td>NaN</td>\n",
       "      <td>8.132640</td>\n",
       "      <td>5.706113</td>\n",
       "      <td>177</td>\n",
       "      <td>0.668364</td>\n",
       "      <td>3.0</td>\n",
       "      <td>76284</td>\n",
       "      <td>...</td>\n",
       "      <td>Investment</td>\n",
       "      <td>0.783160</td>\n",
       "      <td>6.444333</td>\n",
       "      <td>0.273345</td>\n",
       "      <td>66</td>\n",
       "      <td>NaN</td>\n",
       "      <td>Nagatinskij Zaton</td>\n",
       "      <td>2011-08-23</td>\n",
       "      <td>40</td>\n",
       "      <td>9.242586</td>\n",
       "    </tr>\n",
       "    <tr>\n",
       "      <th>2</th>\n",
       "      <td>4.808270e+06</td>\n",
       "      <td>0.647250</td>\n",
       "      <td>2.927487</td>\n",
       "      <td>NaN</td>\n",
       "      <td>8.054252</td>\n",
       "      <td>6.710302</td>\n",
       "      <td>122</td>\n",
       "      <td>0.733101</td>\n",
       "      <td>2.0</td>\n",
       "      <td>101982</td>\n",
       "      <td>...</td>\n",
       "      <td>Investment</td>\n",
       "      <td>3.945073</td>\n",
       "      <td>6.963403</td>\n",
       "      <td>0.158072</td>\n",
       "      <td>67</td>\n",
       "      <td>NaN</td>\n",
       "      <td>Tekstil'shhiki</td>\n",
       "      <td>2011-08-27</td>\n",
       "      <td>35</td>\n",
       "      <td>9.540544</td>\n",
       "    </tr>\n",
       "    <tr>\n",
       "      <th>3</th>\n",
       "      <td>1.258354e+07</td>\n",
       "      <td>2.677824</td>\n",
       "      <td>2.780449</td>\n",
       "      <td>NaN</td>\n",
       "      <td>18.309433</td>\n",
       "      <td>6.734618</td>\n",
       "      <td>61</td>\n",
       "      <td>0.623484</td>\n",
       "      <td>9.0</td>\n",
       "      <td>21155</td>\n",
       "      <td>...</td>\n",
       "      <td>Investment</td>\n",
       "      <td>1.579164</td>\n",
       "      <td>17.457198</td>\n",
       "      <td>0.236455</td>\n",
       "      <td>26</td>\n",
       "      <td>NaN</td>\n",
       "      <td>Mitino</td>\n",
       "      <td>2011-09-01</td>\n",
       "      <td>22</td>\n",
       "      <td>17.478380</td>\n",
       "    </tr>\n",
       "    <tr>\n",
       "      <th>4</th>\n",
       "      <td>8.398461e+06</td>\n",
       "      <td>1.721834</td>\n",
       "      <td>3.133531</td>\n",
       "      <td>NaN</td>\n",
       "      <td>0.787593</td>\n",
       "      <td>1.423428</td>\n",
       "      <td>2283</td>\n",
       "      <td>0.220288</td>\n",
       "      <td>4.0</td>\n",
       "      <td>28179</td>\n",
       "      <td>...</td>\n",
       "      <td>Investment</td>\n",
       "      <td>0.857764</td>\n",
       "      <td>0.046810</td>\n",
       "      <td>0.376838</td>\n",
       "      <td>195</td>\n",
       "      <td>NaN</td>\n",
       "      <td>Basmannoe</td>\n",
       "      <td>2011-09-05</td>\n",
       "      <td>114</td>\n",
       "      <td>1.595898</td>\n",
       "    </tr>\n",
       "  </tbody>\n",
       "</table>\n",
       "<p>5 rows × 38 columns</p>\n",
       "</div>"
      ],
      "text/plain": [
       "   district_area  road_distance_1  road_distance_2  year_of_construction  \\\n",
       "0   6.407578e+06         1.422391         3.830951                   NaN   \n",
       "1   9.589337e+06         2.887377         3.103996                   NaN   \n",
       "2   4.808270e+06         0.647250         2.927487                   NaN   \n",
       "3   1.258354e+07         2.677824         2.780449                   NaN   \n",
       "4   8.398461e+06         1.721834         3.133531                   NaN   \n",
       "\n",
       "   bulvar_ring_km  bus_station_distance  cafe_count  fitness_center_distance  \\\n",
       "0       13.675657             24.292406         152                 0.485841   \n",
       "1        8.132640              5.706113         177                 0.668364   \n",
       "2        8.054252              6.710302         122                 0.733101   \n",
       "3       18.309433              6.734618          61                 0.623484   \n",
       "4        0.787593              1.423428        2283                 0.220288   \n",
       "\n",
       "   floor  district_population  ...  product_type  \\\n",
       "0    4.0                86206  ...    Investment   \n",
       "1    3.0                76284  ...    Investment   \n",
       "2    2.0               101982  ...    Investment   \n",
       "3    9.0                21155  ...    Investment   \n",
       "4    4.0                28179  ...    Investment   \n",
       "\n",
       "   public_transport_station_distance  sadovoe_km  base_school_distance  \\\n",
       "0                           3.299822   13.100618              0.177975   \n",
       "1                           0.783160    6.444333              0.273345   \n",
       "2                           3.945073    6.963403              0.158072   \n",
       "3                           1.579164   17.457198              0.236455   \n",
       "4                           0.857764    0.046810              0.376838   \n",
       "\n",
       "   sport_count  state      district_name   timestamp  malls_count  \\\n",
       "0           52    NaN           Bibirevo  2011-08-20           52   \n",
       "1           66    NaN  Nagatinskij Zaton  2011-08-23           40   \n",
       "2           67    NaN     Tekstil'shhiki  2011-08-27           35   \n",
       "3           26    NaN             Mitino  2011-09-01           22   \n",
       "4          195    NaN          Basmannoe  2011-09-05          114   \n",
       "\n",
       "   railway_station_distance  \n",
       "0                 14.231961  \n",
       "1                  9.242586  \n",
       "2                  9.540544  \n",
       "3                 17.478380  \n",
       "4                  1.595898  \n",
       "\n",
       "[5 rows x 38 columns]"
      ]
     },
     "execution_count": 2,
     "metadata": {},
     "output_type": "execute_result"
    }
   ],
   "source": [
    "train_df = pd.read_csv('train.csv')\n",
    "train_df.head()"
   ]
  },
  {
   "cell_type": "code",
   "execution_count": 3,
   "metadata": {},
   "outputs": [],
   "source": [
    "column_types = {}\n",
    "target = 'result_price'\n",
    "num_features = []\n",
    "cat_features = []"
   ]
  },
  {
   "cell_type": "code",
   "execution_count": 4,
   "metadata": {},
   "outputs": [],
   "source": [
    "train_df = train_df[train_df['total_area'] > 1]"
   ]
  },
  {
   "attachments": {},
   "cell_type": "markdown",
   "metadata": {},
   "source": [
    "## Target"
   ]
  },
  {
   "cell_type": "code",
   "execution_count": 5,
   "metadata": {},
   "outputs": [
    {
     "data": {
      "image/png": "[encoded data removed]",
      "text/plain": [
       "<Figure size 640x480 with 1 Axes>"
      ]
     },
     "metadata": {},
     "output_type": "display_data"
    }
   ],
   "source": [
    "sns.histplot(\n",
    "    data=train_df,\n",
    "    x=target,\n",
    "    bins=40\n",
    ")\n",
    "plt.show()"
   ]
  },
  {
   "cell_type": "code",
   "execution_count": 6,
   "metadata": {},
   "outputs": [
    {
     "data": {
      "text/plain": [
       "array(['Investment', 'OwnerOccupier'], dtype=object)"
      ]
     },
     "execution_count": 6,
     "metadata": {},
     "output_type": "execute_result"
    }
   ],
   "source": [
    "train_df['product_type'].unique()"
   ]
  },
  {
   "cell_type": "code",
   "execution_count": 7,
   "metadata": {},
   "outputs": [
    {
     "data": {
      "image/png": "[encoded data removed]",
      "text/plain": [
       "<Figure size 640x480 with 1 Axes>"
      ]
     },
     "metadata": {},
     "output_type": "display_data"
    },
    {
     "data": {
      "image/png": "[encoded data removed]",
      "text/plain": [
       "<Figure size 640x480 with 1 Axes>"
      ]
     },
     "metadata": {},
     "output_type": "display_data"
    },
    {
     "data": {
      "image/png": "[encoded data removed]",
      "text/plain": [
       "<Figure size 640x480 with 1 Axes>"
      ]
     },
     "metadata": {},
     "output_type": "display_data"
    }
   ],
   "source": [
    "too_high_ids = (train_df[target] > train_df[target].quantile(0.95))\n",
    "too_low_ids = (train_df[target] <= train_df[target].quantile(0.05))\n",
    "\n",
    "plt.title('Top 5 percent')\n",
    "sns.histplot(\n",
    "    data=train_df[too_high_ids],\n",
    "    x=target,\n",
    "    # bins=40,\n",
    "    hue='product_type'\n",
    ")\n",
    "plt.show()\n",
    "\n",
    "plt.title('Bottom 5 percent')\n",
    "sns.histplot(\n",
    "    data=train_df[too_low_ids],\n",
    "    x=target,\n",
    "    # bins=40,\n",
    "    hue='product_type'\n",
    ")\n",
    "plt.show()\n",
    "\n",
    "plt.title('Middle 90%')\n",
    "sns.histplot(\n",
    "    data=train_df[~too_low_ids & ~too_high_ids],\n",
    "    x=target,\n",
    "    bins=40,\n",
    "    hue='product_type'\n",
    ")\n",
    "plt.show()"
   ]
  },
  {
   "attachments": {},
   "cell_type": "markdown",
   "metadata": {},
   "source": [
    "## District"
   ]
  },
  {
   "cell_type": "code",
   "execution_count": 8,
   "metadata": {},
   "outputs": [],
   "source": [
    "column_types['district'] = [\n",
    "    'district_population',\n",
    "    'district_name',\n",
    "    'district_area',\n",
    "]"
   ]
  },
  {
   "cell_type": "code",
   "execution_count": 9,
   "metadata": {},
   "outputs": [
    {
     "data": {
      "image/png": "[encoded data removed]",
      "text/plain": [
       "<Figure size 640x480 with 1 Axes>"
      ]
     },
     "metadata": {},
     "output_type": "display_data"
    }
   ],
   "source": [
    "tmp = train_df['district_name'].value_counts().to_frame().reset_index()\n",
    "plt.plot(tmp.index, tmp['district_name'])\n",
    "plt.show()"
   ]
  },
  {
   "cell_type": "code",
   "execution_count": 10,
   "metadata": {},
   "outputs": [
    {
     "data": {
      "image/png": "[encoded data removed]",
      "text/plain": [
       "<Figure size 640x480 with 1 Axes>"
      ]
     },
     "metadata": {},
     "output_type": "display_data"
    }
   ],
   "source": [
    "most_popular_districts = train_df['district_name'].value_counts().index[:25]\n",
    "\n",
    "sns.boxplot(\n",
    "    data=train_df[train_df['district_name'].isin(most_popular_districts)], \n",
    "    x=target, \n",
    "    y='district_name', \n",
    "    showfliers=False\n",
    ")\n",
    "plt.show()"
   ]
  },
  {
   "attachments": {},
   "cell_type": "markdown",
   "metadata": {},
   "source": [
    "### Feature engineering "
   ]
  },
  {
   "cell_type": "code",
   "execution_count": 11,
   "metadata": {},
   "outputs": [],
   "source": [
    "train_df['district_density'] = train_df['district_area'] / train_df['district_population']\n",
    "column_types['district'] += ['district_density']"
   ]
  },
  {
   "cell_type": "code",
   "execution_count": 12,
   "metadata": {},
   "outputs": [],
   "source": [
    "column_types['district'] += ['district_density']"
   ]
  },
  {
   "cell_type": "code",
   "execution_count": 13,
   "metadata": {},
   "outputs": [],
   "source": [
    "cat_features += ['district_name']\n",
    "num_features += ['district_population', 'district_area', 'district_density']"
   ]
  },
  {
   "attachments": {},
   "cell_type": "markdown",
   "metadata": {},
   "source": [
    "## Date"
   ]
  },
  {
   "cell_type": "code",
   "execution_count": 14,
   "metadata": {},
   "outputs": [],
   "source": [
    "column_types['dates'] = ['timestamp']"
   ]
  },
  {
   "attachments": {},
   "cell_type": "markdown",
   "metadata": {},
   "source": [
    "### Feature engineering"
   ]
  },
  {
   "cell_type": "code",
   "execution_count": 15,
   "metadata": {},
   "outputs": [],
   "source": [
    "train_df['timestamp'] = pd.to_datetime(train_df['timestamp'])\n",
    "train_df['year'] = train_df['timestamp'].dt.year\n",
    "train_df['month'] = train_df['timestamp'].dt.month.astype(str)\n",
    "train_df['year_month'] = train_df['year'].astype(str) + '_' +  train_df['month'].astype(str)\n",
    "\n",
    "min_date = datetime(year=2010, month=1, day=1)\n",
    "assert min_date < train_df['timestamp'].min()\n",
    "train_df['days_since'] = (train_df['timestamp'] - min_date).dt.days\n",
    "\n",
    "column_types['dates'] += ['year', 'month', 'days_since']"
   ]
  },
  {
   "cell_type": "code",
   "execution_count": 16,
   "metadata": {},
   "outputs": [],
   "source": [
    "num_features += ['days_since']"
   ]
  },
  {
   "attachments": {},
   "cell_type": "markdown",
   "metadata": {},
   "source": [
    "## Neighbourhood"
   ]
  },
  {
   "cell_type": "code",
   "execution_count": 17,
   "metadata": {},
   "outputs": [],
   "source": [
    "column_types['neighbourhood'] = [\n",
    "    'cafe_count',\n",
    "    'base_school_distance',\n",
    "    'road_distance_1',\n",
    "    'road_distance_2',\n",
    "    'bulvar_ring_km',\n",
    "    'bus_station_distance',\n",
    "    'fitness_center_distance',\n",
    "    'green_part',\n",
    "    'green_zone_distance',\n",
    "    'healthcare_centers_count',\n",
    "    'kremlin_distance',\n",
    "    'leisure_count',\n",
    "    'market_count',\n",
    "    'metro_minutes',\n",
    "    'mkad_distance',\n",
    "    'office_count',\n",
    "    'park_distance',\n",
    "    'public_transport_station_distance',\n",
    "    'sadovoe_km',\n",
    "    'sport_count',\n",
    "    'malls_count',\n",
    "    'railway_station_distance',\n",
    "]"
   ]
  },
  {
   "cell_type": "code",
   "execution_count": 18,
   "metadata": {},
   "outputs": [
    {
     "data": {
      "image/png": "[encoded data removed]",
      "text/plain": [
       "<Figure size 640x480 with 1 Axes>"
      ]
     },
     "metadata": {},
     "output_type": "display_data"
    },
    {
     "data": {
      "image/png": "[encoded data removed]",
      "text/plain": [
       "<Figure size 640x480 with 1 Axes>"
      ]
     },
     "metadata": {},
     "output_type": "display_data"
    }
   ],
   "source": [
    "sns.scatterplot(\n",
    "    data=train_df,\n",
    "    x='mkad_distance',\n",
    "    y='kremlin_distance',\n",
    ")\n",
    "plt.show()\n",
    "sns.scatterplot(\n",
    "    data=train_df,\n",
    "    x='sadovoe_km',\n",
    "    y='kremlin_distance',\n",
    ")\n",
    "plt.show()"
   ]
  },
  {
   "cell_type": "code",
   "execution_count": 19,
   "metadata": {},
   "outputs": [],
   "source": [
    "train_df['mkad_distance_linaer'] = train_df['mkad_distance']\n",
    "train_df['sadovoe_km_linear'] = train_df['sadovoe_km']\n",
    "\n",
    "train_df.loc[train_df['kremlin_distance'] < 18, 'mkad_distance_linaer'] *= -1\n",
    "train_df.loc[train_df['kremlin_distance'] < 2.5, 'sadovoe_km_linear'] *= -1"
   ]
  },
  {
   "cell_type": "code",
   "execution_count": 20,
   "metadata": {},
   "outputs": [
    {
     "data": {
      "image/png": "[encoded data removed]",
      "text/plain": [
       "<Figure size 640x480 with 1 Axes>"
      ]
     },
     "metadata": {},
     "output_type": "display_data"
    },
    {
     "data": {
      "image/png": "[encoded data removed]",
      "text/plain": [
       "<Figure size 640x480 with 1 Axes>"
      ]
     },
     "metadata": {},
     "output_type": "display_data"
    }
   ],
   "source": [
    "sns.scatterplot(\n",
    "    data=train_df,\n",
    "    x='mkad_distance_linaer',\n",
    "    y='kremlin_distance',\n",
    ")\n",
    "plt.show()\n",
    "sns.scatterplot(\n",
    "    data=train_df,\n",
    "    x='sadovoe_km_linear',\n",
    "    y='kremlin_distance',\n",
    ")\n",
    "plt.show()"
   ]
  },
  {
   "cell_type": "code",
   "execution_count": 21,
   "metadata": {},
   "outputs": [],
   "source": [
    "column_types['neighbourhood'] += ['mkad_distance_linaer', 'sadovoe_km_linear']"
   ]
  },
  {
   "cell_type": "code",
   "execution_count": 22,
   "metadata": {},
   "outputs": [
    {
     "data": {
      "image/png": "[encoded data removed]",
      "text/plain": [
       "<Figure size 640x480 with 2 Axes>"
      ]
     },
     "metadata": {},
     "output_type": "display_data"
    }
   ],
   "source": [
    "sns.heatmap(train_df[column_types['neighbourhood']].corr())\n",
    "plt.show()"
   ]
  },
  {
   "cell_type": "code",
   "execution_count": 23,
   "metadata": {},
   "outputs": [],
   "source": [
    "num_features += [\n",
    "    'cafe_count',\n",
    "    'base_school_distance',\n",
    "    'road_distance_1',\n",
    "    'bus_station_distance',\n",
    "    'fitness_center_distance',\n",
    "    'green_part',\n",
    "    'green_zone_distance',\n",
    "    'healthcare_centers_count',\n",
    "    'kremlin_distance',\n",
    "    'market_count',\n",
    "    'metro_minutes',\n",
    "    'park_distance',\n",
    "    'public_transport_station_distance',\n",
    "    'sport_count',\n",
    "]"
   ]
  },
  {
   "attachments": {},
   "cell_type": "markdown",
   "metadata": {},
   "source": [
    "## Flat"
   ]
  },
  {
   "cell_type": "code",
   "execution_count": 24,
   "metadata": {},
   "outputs": [],
   "source": [
    "column_types['flat'] = [\n",
    "    'total_area',\n",
    "    'living_area',\n",
    "    'kitchen_area',\n",
    "    'floor',\n",
    "    'floors_num',\n",
    "    'wall_material',\n",
    "    'rooms_num',\n",
    "    'product_type',\n",
    "    'year_of_construction',\n",
    "    'state',\n",
    "]"
   ]
  },
  {
   "cell_type": "code",
   "execution_count": 25,
   "metadata": {},
   "outputs": [
    {
     "data": {
      "image/png": "[encoded data removed]",
      "text/plain": [
       "<Figure size 640x480 with 1 Axes>"
      ]
     },
     "metadata": {},
     "output_type": "display_data"
    }
   ],
   "source": [
    "sns.boxplot(\n",
    "    x=train_df[target],\n",
    "    y=train_df['wall_material'].astype(str),\n",
    "    hue=train_df['wall_material'].astype(str),\n",
    "    showfliers=False    \n",
    ")\n",
    "plt.show()"
   ]
  },
  {
   "cell_type": "code",
   "execution_count": 26,
   "metadata": {},
   "outputs": [
    {
     "data": {
      "text/plain": [
       "1    11979\n",
       "2     2577\n",
       "5     1381\n",
       "4     1070\n",
       "6      626\n",
       "3        1\n",
       "Name: wall_material, dtype: Int64"
      ]
     },
     "execution_count": 26,
     "metadata": {},
     "output_type": "execute_result"
    }
   ],
   "source": [
    "train_df['wall_material'].astype(pd.Int64Dtype()).value_counts()"
   ]
  },
  {
   "attachments": {},
   "cell_type": "markdown",
   "metadata": {},
   "source": [
    "### Feature negineering"
   ]
  },
  {
   "cell_type": "code",
   "execution_count": 27,
   "metadata": {},
   "outputs": [],
   "source": [
    "from sklearn.impute import SimpleImputer"
   ]
  },
  {
   "cell_type": "code",
   "execution_count": 28,
   "metadata": {},
   "outputs": [
    {
     "name": "stderr",
     "output_type": "stream",
     "text": [
      "/home/denis/miniconda3/lib/python3.9/site-packages/sklearn/impute/_base.py:54: FutureWarning: Unlike other reduction functions (e.g. `skew`, `kurtosis`), the default behavior of `mode` typically preserves the axis it acts along. In SciPy 1.11.0, this behavior will change: the default value of `keepdims` will become False, the `axis` over which the statistic is taken will be eliminated, and the value None will no longer be accepted. Set `keepdims` to True or False to avoid this warning.\n",
      "  mode = stats.mode(array)\n",
      "/tmp/ipykernel_23884/70713644.py:5: FutureWarning: In a future version, `df.iloc[:, i] = newvals` will attempt to set the values inplace instead of always setting a new array. To retain the old behavior, use either `df[df.columns[i]] = newvals` or, if columns are non-unique, `df.isetitem(i, newvals)`\n",
      "  train_df.loc[:, ['wall_material']] = wall_imputer.fit_transform(train_df[['wall_material']]).astype(str)\n"
     ]
    }
   ],
   "source": [
    "train_df['wall_material'] = train_df['wall_material'].astype(pd.Int64Dtype())\n",
    "train_df.loc[train_df['wall_material'] == 3, 'wall_material'] = None\n",
    "wall_imputer = SimpleImputer(strategy='most_frequent')\n",
    "\n",
    "train_df.loc[:, ['wall_material']] = wall_imputer.fit_transform(train_df[['wall_material']]).astype(str)"
   ]
  },
  {
   "cell_type": "code",
   "execution_count": 29,
   "metadata": {},
   "outputs": [],
   "source": [
    "train_df['rooms_num'] = train_df['rooms_num'].astype(str)"
   ]
  },
  {
   "cell_type": "code",
   "execution_count": 30,
   "metadata": {},
   "outputs": [],
   "source": [
    "cat_features += ['wall_material', 'product_type', 'rooms_num']\n",
    "\n",
    "num_features += [\n",
    "    'total_area',\n",
    "    'living_area',\n",
    "    'kitchen_area',\n",
    "    'floor',\n",
    "    'floors_num',\n",
    "    'year_of_construction',\n",
    "    'state',\n",
    "]"
   ]
  },
  {
   "attachments": {},
   "cell_type": "markdown",
   "metadata": {},
   "source": [
    "# Feature engineering"
   ]
  },
  {
   "cell_type": "code",
   "execution_count": 31,
   "metadata": {},
   "outputs": [],
   "source": [
    "train_df['prev_year'] = train_df['year'] - 1\n",
    "train_df['square_price'] = train_df[target] / train_df['total_area']\n",
    "\n",
    "train_df = train_df.merge(\n",
    "    train_df.groupby('year')[target]\\\n",
    "        .median()\\\n",
    "        .reset_index()\\\n",
    "        .rename(columns={'year': 'prev_year', target: f'median_prev_year'}),\n",
    "    on='prev_year',\n",
    "    how='left'\n",
    ")\n",
    "\n",
    "train_df = train_df.merge(\n",
    "    train_df.groupby(['year', 'district_name'])[target]\\\n",
    "        .median()\\\n",
    "        .reset_index()\\\n",
    "        .rename(columns={'year': 'prev_year', target: 'median_prev_year_district'}),\n",
    "    on=['prev_year', 'district_name'],\n",
    "    how='left'\n",
    ")"
   ]
  },
  {
   "cell_type": "code",
   "execution_count": 32,
   "metadata": {},
   "outputs": [],
   "source": [
    "column_types['prev_year'] = ['median_prev_year', 'median_prev_year_district']\n",
    "num_features += ['median_prev_year', 'median_prev_year_district']"
   ]
  },
  {
   "attachments": {},
   "cell_type": "markdown",
   "metadata": {},
   "source": [
    "# Train test split"
   ]
  },
  {
   "cell_type": "code",
   "execution_count": 33,
   "metadata": {},
   "outputs": [],
   "source": [
    "from sklearn.model_selection import train_test_split"
   ]
  },
  {
   "cell_type": "code",
   "execution_count": 34,
   "metadata": {},
   "outputs": [],
   "source": [
    "ids = train_df['year'] != 2011\n",
    "\n",
    "X_train, X_test, y_train, y_test = train_test_split(\n",
    "    train_df.loc[ids, num_features + cat_features], \n",
    "    train_df.loc[ids, target], \n",
    "    test_size=0.3,\n",
    "    random_state=42\n",
    ")"
   ]
  },
  {
   "attachments": {},
   "cell_type": "markdown",
   "metadata": {},
   "source": [
    "# Make model"
   ]
  },
  {
   "cell_type": "code",
   "execution_count": 35,
   "metadata": {},
   "outputs": [],
   "source": [
    "import numpy as np\n",
    "import catboost as cb\n",
    "import lightgbm\n",
    "import optuna\n",
    "from functools import partial\n",
    "from sklearn.metrics import mean_squared_log_error, mean_squared_error"
   ]
  },
  {
   "cell_type": "code",
   "execution_count": 36,
   "metadata": {},
   "outputs": [
    {
     "data": {
      "text/plain": [
       "0.46865615756293244"
      ]
     },
     "execution_count": 36,
     "metadata": {},
     "output_type": "execute_result"
    }
   ],
   "source": [
    "param = {\n",
    "    'iterations': 250,\n",
    "    'learning_rate': 0.06,\n",
    "    'depth': 9,\n",
    "    'cat_features': cat_features,\n",
    "    'loss_function': 'RMSE',\n",
    "    # 'task_type': 'GPU',\n",
    "    # 'devices': '0:1',\n",
    "}\n",
    "\n",
    "min_trashold = 0.02\n",
    "max_trashold = 0.98\n",
    "ids = (y_train > y_train.quantile(min_trashold)) & (y_train < y_train.quantile(max_trashold))\n",
    "\n",
    "gbm = cb.CatBoostRegressor(**param)\n",
    "gbm.fit(\n",
    "    X_train[ids],\n",
    "    y_train[ids],\n",
    "    eval_set=[(X_test, y_test)],\n",
    "    verbose=False,\n",
    ")\n",
    "\n",
    "y_pred = gbm.predict(X_test)\n",
    "np.sqrt(mean_squared_log_error(y_test, y_pred))"
   ]
  },
  {
   "cell_type": "code",
   "execution_count": 57,
   "metadata": {},
   "outputs": [
    {
     "data": {
      "text/plain": [
       "<catboost.core.CatBoostRegressor at 0x7f0352555dc0>"
      ]
     },
     "execution_count": 57,
     "metadata": {},
     "output_type": "execute_result"
    }
   ],
   "source": [
    "param = {\n",
    "    'iterations': 500,\n",
    "    'learning_rate': 0.07,\n",
    "    'depth': 9,\n",
    "    'cat_features': cat_features,\n",
    "    'loss_function': 'RMSE',\n",
    "    # 'task_type': 'GPU',\n",
    "    # 'devices': '0:1',\n",
    "}\n",
    "\n",
    "min_trashold = 0.02\n",
    "max_trashold = 0.98\n",
    "ids = (y_train > y_train.quantile(min_trashold)) & (y_train < y_train.quantile(max_trashold))\n",
    "\n",
    "gbm = cb.CatBoostRegressor(**param)\n",
    "gbm.fit(\n",
    "    X_train[ids],\n",
    "    y_train[ids] / X_train.loc[ids, 'total_area'],\n",
    "    eval_set=[(X_test, y_test / X_test['total_area'])],\n",
    "    verbose=False,\n",
    ")"
   ]
  },
  {
   "cell_type": "code",
   "execution_count": 58,
   "metadata": {},
   "outputs": [
    {
     "data": {
      "text/plain": [
       "465"
      ]
     },
     "execution_count": 58,
     "metadata": {},
     "output_type": "execute_result"
    }
   ],
   "source": [
    "gbm.best_iteration_"
   ]
  },
  {
   "cell_type": "code",
   "execution_count": 59,
   "metadata": {},
   "outputs": [
    {
     "data": {
      "text/plain": [
       "0.46361147940617253"
      ]
     },
     "execution_count": 59,
     "metadata": {},
     "output_type": "execute_result"
    }
   ],
   "source": [
    "y_pred = gbm.predict(X_test) * X_test['total_area']\n",
    "np.sqrt(mean_squared_log_error(y_test, y_pred))"
   ]
  },
  {
   "cell_type": "code",
   "execution_count": 75,
   "metadata": {},
   "outputs": [],
   "source": [
    "def objective_catboost_with_args(trial, X_train, y_train, X_test, y_test, cat_features):\n",
    "\n",
    "    param = {\n",
    "        'iterations': trial.suggest_int('iterations', 150, 400),\n",
    "        'learning_rate': trial.suggest_float('learning_rate', 0.1, 0.2),\n",
    "        'depth': trial.suggest_int('depth', 4, 12),\n",
    "        'reg_lambda': trial.suggest_float('reg_lambda', 1e-1, 3000),\n",
    "        'score_function': trial.suggest_categorical('score_function', ['Cosine', 'L2']),\n",
    "        'bagging_temperature': trial.suggest_float('bagging_temperature', 10, 1500),\n",
    "        'grow_policy': trial.suggest_categorical('grow_policy', ['SymmetricTree', 'Depthwise', 'Lossguide']),\n",
    "        'cat_features': cat_features,\n",
    "        'loss_function': 'RMSE',\n",
    "        # 'task_type': 'GPU',\n",
    "        # 'devices': '0:1',\n",
    "    }\n",
    "\n",
    "    # min_trashold = trial.suggest_float('min_trashold', 0, 0.1)\n",
    "    # max_trashold = trial.suggest_float('max_trashold', 0.9, 0.999)\n",
    "    min_trashold = 0\n",
    "    max_trashold = 0.99\n",
    "    ids = (y_train > y_train.quantile(min_trashold)) & (y_train < y_train.quantile(max_trashold))\n",
    "   \n",
    "    gbm = cb.CatBoostRegressor(**param)\n",
    "    gbm.fit(\n",
    "        X_train[ids],\n",
    "        y_train[ids] / X_train.loc[ids, 'total_area'],\n",
    "        verbose=False,\n",
    "    )\n",
    "\n",
    "    y_pred = gbm.predict(X_test) * X_test['total_area']\n",
    "\n",
    "    if y_pred.min() < 0:\n",
    "        return 1\n",
    "    return np.sqrt(mean_squared_log_error(y_test, y_pred))"
   ]
  },
  {
   "cell_type": "code",
   "execution_count": 76,
   "metadata": {},
   "outputs": [],
   "source": [
    "objective_catboost = partial(\n",
    "    objective_catboost_with_args, \n",
    "    X_train=X_train, \n",
    "    y_train=y_train, \n",
    "    X_test=X_test,\n",
    "    y_test=y_test,\n",
    "    cat_features=cat_features\n",
    ")"
   ]
  },
  {
   "cell_type": "code",
   "execution_count": 77,
   "metadata": {},
   "outputs": [
    {
     "name": "stderr",
     "output_type": "stream",
     "text": [
      "\u001b[32m[I 2023-02-19 19:45:08,077]\u001b[0m A new study created in memory with name: no-name-8ae8ee57-0705-49c1-9006-c5b751ad5dae\u001b[0m\n",
      "\u001b[32m[I 2023-02-19 19:45:10,054]\u001b[0m Trial 0 finished with value: 0.46513169006180766 and parameters: {'iterations': 287, 'learning_rate': 0.12909382325183671, 'depth': 5, 'reg_lambda': 1534.7471131574268, 'score_function': 'Cosine', 'bagging_temperature': 489.8394537581977, 'grow_policy': 'Lossguide'}. Best is trial 0 with value: 0.46513169006180766.\u001b[0m\n",
      "\u001b[32m[I 2023-02-19 19:45:12,786]\u001b[0m Trial 1 finished with value: 0.4734027687904645 and parameters: {'iterations': 311, 'learning_rate': 0.10836386235280385, 'depth': 7, 'reg_lambda': 2684.9492170737603, 'score_function': 'Cosine', 'bagging_temperature': 1031.8858921199153, 'grow_policy': 'SymmetricTree'}. Best is trial 0 with value: 0.46513169006180766.\u001b[0m\n",
      "\u001b[32m[I 2023-02-19 19:45:19,135]\u001b[0m Trial 2 finished with value: 0.47097515595204426 and parameters: {'iterations': 253, 'learning_rate': 0.12263907956875737, 'depth': 10, 'reg_lambda': 1717.7872894999232, 'score_function': 'Cosine', 'bagging_temperature': 112.69943915779257, 'grow_policy': 'SymmetricTree'}. Best is trial 0 with value: 0.46513169006180766.\u001b[0m\n",
      "\u001b[32m[I 2023-02-19 19:45:19,758]\u001b[0m Trial 3 finished with value: 0.4711627069397074 and parameters: {'iterations': 190, 'learning_rate': 0.19682503700371629, 'depth': 6, 'reg_lambda': 2588.265861797595, 'score_function': 'Cosine', 'bagging_temperature': 888.8941864880126, 'grow_policy': 'SymmetricTree'}. Best is trial 0 with value: 0.46513169006180766.\u001b[0m\n",
      "\u001b[32m[I 2023-02-19 19:45:27,495]\u001b[0m Trial 4 finished with value: 0.45659949343392664 and parameters: {'iterations': 325, 'learning_rate': 0.11011262131089666, 'depth': 9, 'reg_lambda': 1665.2723758609454, 'score_function': 'L2', 'bagging_temperature': 981.2865064000222, 'grow_policy': 'Depthwise'}. Best is trial 4 with value: 0.45659949343392664.\u001b[0m\n",
      "\u001b[32m[I 2023-02-19 19:45:37,566]\u001b[0m Trial 5 finished with value: 0.4588781072132559 and parameters: {'iterations': 209, 'learning_rate': 0.13120199085979095, 'depth': 11, 'reg_lambda': 411.6434542278987, 'score_function': 'L2', 'bagging_temperature': 799.425968366767, 'grow_policy': 'SymmetricTree'}. Best is trial 4 with value: 0.45659949343392664.\u001b[0m\n",
      "\u001b[32m[I 2023-02-19 19:46:06,385]\u001b[0m Trial 6 finished with value: 0.4727085288502588 and parameters: {'iterations': 211, 'learning_rate': 0.11363823743011763, 'depth': 12, 'reg_lambda': 2680.325348331108, 'score_function': 'Cosine', 'bagging_temperature': 1175.3814081803637, 'grow_policy': 'Depthwise'}. Best is trial 4 with value: 0.45659949343392664.\u001b[0m\n",
      "\u001b[32m[I 2023-02-19 19:46:09,519]\u001b[0m Trial 7 finished with value: 0.4599360826026063 and parameters: {'iterations': 346, 'learning_rate': 0.11639145935145923, 'depth': 10, 'reg_lambda': 1602.9040078612393, 'score_function': 'Cosine', 'bagging_temperature': 362.5848204060619, 'grow_policy': 'Lossguide'}. Best is trial 4 with value: 0.45659949343392664.\u001b[0m\n",
      "\u001b[32m[I 2023-02-19 19:46:10,680]\u001b[0m Trial 8 finished with value: 0.4650939467237659 and parameters: {'iterations': 291, 'learning_rate': 0.11125161726169298, 'depth': 4, 'reg_lambda': 683.6785359175569, 'score_function': 'Cosine', 'bagging_temperature': 1244.6094547965658, 'grow_policy': 'Lossguide'}. Best is trial 4 with value: 0.45659949343392664.\u001b[0m\n",
      "\u001b[32m[I 2023-02-19 19:46:34,214]\u001b[0m Trial 9 finished with value: 0.4686155494114705 and parameters: {'iterations': 185, 'learning_rate': 0.18678187988151027, 'depth': 12, 'reg_lambda': 1242.260461765254, 'score_function': 'Cosine', 'bagging_temperature': 154.61830451908466, 'grow_policy': 'SymmetricTree'}. Best is trial 4 with value: 0.45659949343392664.\u001b[0m\n",
      "\u001b[32m[I 2023-02-19 19:46:34,931]\u001b[0m Trial 10 finished with value: 0.46732566688603494 and parameters: {'iterations': 216, 'learning_rate': 0.14253303888564356, 'depth': 4, 'reg_lambda': 1468.3798297707579, 'score_function': 'Cosine', 'bagging_temperature': 938.4695286480543, 'grow_policy': 'Depthwise'}. Best is trial 4 with value: 0.45659949343392664.\u001b[0m\n",
      "\u001b[32m[I 2023-02-19 19:46:36,745]\u001b[0m Trial 11 finished with value: 0.4616368754779072 and parameters: {'iterations': 198, 'learning_rate': 0.15903750615574608, 'depth': 12, 'reg_lambda': 2174.624517157011, 'score_function': 'Cosine', 'bagging_temperature': 358.3215518435405, 'grow_policy': 'Lossguide'}. Best is trial 4 with value: 0.45659949343392664.\u001b[0m\n",
      "\u001b[32m[I 2023-02-19 19:46:37,738]\u001b[0m Trial 12 finished with value: 0.46934479037109905 and parameters: {'iterations': 231, 'learning_rate': 0.10727259609180971, 'depth': 4, 'reg_lambda': 2386.2556239825544, 'score_function': 'Cosine', 'bagging_temperature': 830.4749279350747, 'grow_policy': 'Lossguide'}. Best is trial 4 with value: 0.45659949343392664.\u001b[0m\n",
      "\u001b[32m[I 2023-02-19 19:46:47,635]\u001b[0m Trial 13 finished with value: 0.4594919433615905 and parameters: {'iterations': 388, 'learning_rate': 0.19545245266573372, 'depth': 9, 'reg_lambda': 1242.8876345567048, 'score_function': 'Cosine', 'bagging_temperature': 498.4629227075167, 'grow_policy': 'Depthwise'}. Best is trial 4 with value: 0.45659949343392664.\u001b[0m\n",
      "\u001b[32m[I 2023-02-19 19:46:48,949]\u001b[0m Trial 14 finished with value: 0.4624023204280683 and parameters: {'iterations': 165, 'learning_rate': 0.16098090147936162, 'depth': 7, 'reg_lambda': 1655.2400175141613, 'score_function': 'Cosine', 'bagging_temperature': 360.8409694592327, 'grow_policy': 'Lossguide'}. Best is trial 4 with value: 0.45659949343392664.\u001b[0m\n",
      "\u001b[32m[I 2023-02-19 19:46:49,691]\u001b[0m Trial 15 finished with value: 0.4704821484382304 and parameters: {'iterations': 250, 'learning_rate': 0.16148045966838737, 'depth': 4, 'reg_lambda': 501.8231524999081, 'score_function': 'Cosine', 'bagging_temperature': 1139.262158474215, 'grow_policy': 'SymmetricTree'}. Best is trial 4 with value: 0.45659949343392664.\u001b[0m\n",
      "\u001b[32m[I 2023-02-19 19:46:53,198]\u001b[0m Trial 16 finished with value: 0.4592198692532332 and parameters: {'iterations': 391, 'learning_rate': 0.14632212020101612, 'depth': 10, 'reg_lambda': 2014.2139835133664, 'score_function': 'Cosine', 'bagging_temperature': 1120.6851092667746, 'grow_policy': 'Lossguide'}. Best is trial 4 with value: 0.45659949343392664.\u001b[0m\n",
      "\u001b[32m[I 2023-02-19 19:46:53,612]\u001b[0m Trial 17 finished with value: 0.470720954750487 and parameters: {'iterations': 183, 'learning_rate': 0.19133918661665883, 'depth': 4, 'reg_lambda': 494.1487010488089, 'score_function': 'Cosine', 'bagging_temperature': 996.1464587582697, 'grow_policy': 'SymmetricTree'}. Best is trial 4 with value: 0.45659949343392664.\u001b[0m\n",
      "\u001b[32m[I 2023-02-19 19:46:56,449]\u001b[0m Trial 18 finished with value: 0.45926385837198347 and parameters: {'iterations': 388, 'learning_rate': 0.10926946724274067, 'depth': 7, 'reg_lambda': 220.74557276085142, 'score_function': 'Cosine', 'bagging_temperature': 1429.5939369679738, 'grow_policy': 'Depthwise'}. Best is trial 4 with value: 0.45659949343392664.\u001b[0m\n",
      "\u001b[32m[I 2023-02-19 19:46:57,697]\u001b[0m Trial 19 finished with value: 0.4607292000720673 and parameters: {'iterations': 309, 'learning_rate': 0.1100312163815317, 'depth': 5, 'reg_lambda': 158.08532536414017, 'score_function': 'Cosine', 'bagging_temperature': 1179.227504746754, 'grow_policy': 'Depthwise'}. Best is trial 4 with value: 0.45659949343392664.\u001b[0m\n",
      "\u001b[32m[I 2023-02-19 19:47:03,591]\u001b[0m Trial 20 finished with value: 0.46763968633402636 and parameters: {'iterations': 202, 'learning_rate': 0.10475756996831476, 'depth': 9, 'reg_lambda': 2472.467652901545, 'score_function': 'Cosine', 'bagging_temperature': 1301.4425330005647, 'grow_policy': 'Depthwise'}. Best is trial 4 with value: 0.45659949343392664.\u001b[0m\n",
      "\u001b[32m[I 2023-02-19 19:47:04,550]\u001b[0m Trial 21 finished with value: 0.456142927741509 and parameters: {'iterations': 223, 'learning_rate': 0.14295204848427248, 'depth': 5, 'reg_lambda': 30.103045690237803, 'score_function': 'L2', 'bagging_temperature': 1499.4484269394507, 'grow_policy': 'SymmetricTree'}. Best is trial 21 with value: 0.456142927741509.\u001b[0m\n",
      "\u001b[32m[I 2023-02-19 19:47:07,376]\u001b[0m Trial 22 finished with value: 0.4596179727200085 and parameters: {'iterations': 272, 'learning_rate': 0.18910161340092524, 'depth': 12, 'reg_lambda': 2650.237156681175, 'score_function': 'Cosine', 'bagging_temperature': 1113.3615924923663, 'grow_policy': 'Lossguide'}. Best is trial 21 with value: 0.456142927741509.\u001b[0m\n",
      "\u001b[32m[I 2023-02-19 19:47:08,227]\u001b[0m Trial 23 finished with value: 0.46825803653344866 and parameters: {'iterations': 239, 'learning_rate': 0.11327276814825361, 'depth': 4, 'reg_lambda': 1410.744489028395, 'score_function': 'Cosine', 'bagging_temperature': 1155.4618976929821, 'grow_policy': 'Depthwise'}. Best is trial 21 with value: 0.456142927741509.\u001b[0m\n",
      "\u001b[32m[I 2023-02-19 19:47:17,483]\u001b[0m Trial 24 finished with value: 0.4577027395520036 and parameters: {'iterations': 190, 'learning_rate': 0.13630557900324908, 'depth': 11, 'reg_lambda': 122.58349499980164, 'score_function': 'L2', 'bagging_temperature': 326.9917713832794, 'grow_policy': 'SymmetricTree'}. Best is trial 21 with value: 0.456142927741509.\u001b[0m\n",
      "\u001b[32m[I 2023-02-19 19:47:19,407]\u001b[0m Trial 25 finished with value: 0.4731959448754768 and parameters: {'iterations': 209, 'learning_rate': 0.126178241774749, 'depth': 7, 'reg_lambda': 2182.8261798443177, 'score_function': 'Cosine', 'bagging_temperature': 204.21967936632015, 'grow_policy': 'SymmetricTree'}. Best is trial 21 with value: 0.456142927741509.\u001b[0m\n",
      "\u001b[32m[I 2023-02-19 19:47:23,182]\u001b[0m Trial 26 finished with value: 0.45913485743309035 and parameters: {'iterations': 374, 'learning_rate': 0.1919946415570718, 'depth': 10, 'reg_lambda': 2432.664055393906, 'score_function': 'Cosine', 'bagging_temperature': 492.26627777616363, 'grow_policy': 'Lossguide'}. Best is trial 21 with value: 0.456142927741509.\u001b[0m\n",
      "\u001b[32m[I 2023-02-19 19:47:37,575]\u001b[0m Trial 27 finished with value: 0.4549237851917438 and parameters: {'iterations': 389, 'learning_rate': 0.16917173675192626, 'depth': 10, 'reg_lambda': 1520.5484968706362, 'score_function': 'L2', 'bagging_temperature': 253.938046831049, 'grow_policy': 'Depthwise'}. Best is trial 27 with value: 0.4549237851917438.\u001b[0m\n",
      "\u001b[32m[I 2023-02-19 19:47:39,131]\u001b[0m Trial 28 finished with value: 0.45712937408886883 and parameters: {'iterations': 317, 'learning_rate': 0.18236204858286972, 'depth': 5, 'reg_lambda': 2102.952565022644, 'score_function': 'L2', 'bagging_temperature': 488.2481253014353, 'grow_policy': 'Depthwise'}. Best is trial 27 with value: 0.4549237851917438.\u001b[0m\n",
      "\u001b[32m[I 2023-02-19 19:47:41,029]\u001b[0m Trial 29 finished with value: 0.46056726430969896 and parameters: {'iterations': 193, 'learning_rate': 0.1887798198041184, 'depth': 7, 'reg_lambda': 513.5114685844269, 'score_function': 'Cosine', 'bagging_temperature': 410.75691819165974, 'grow_policy': 'Depthwise'}. Best is trial 27 with value: 0.4549237851917438.\u001b[0m\n",
      "\u001b[32m[I 2023-02-19 19:47:47,379]\u001b[0m Trial 30 finished with value: 0.45762524412874 and parameters: {'iterations': 353, 'learning_rate': 0.10143514191303643, 'depth': 8, 'reg_lambda': 2972.958699161316, 'score_function': 'L2', 'bagging_temperature': 724.1011814886417, 'grow_policy': 'Depthwise'}. Best is trial 27 with value: 0.4549237851917438.\u001b[0m\n",
      "\u001b[32m[I 2023-02-19 19:47:49,009]\u001b[0m Trial 31 finished with value: 0.45676819584089273 and parameters: {'iterations': 328, 'learning_rate': 0.17349896706828827, 'depth': 5, 'reg_lambda': 1823.229528403763, 'score_function': 'L2', 'bagging_temperature': 685.3595750996063, 'grow_policy': 'Depthwise'}. Best is trial 27 with value: 0.4549237851917438.\u001b[0m\n",
      "\u001b[32m[I 2023-02-19 19:47:56,991]\u001b[0m Trial 32 finished with value: 0.4551879748762309 and parameters: {'iterations': 337, 'learning_rate': 0.17280684042979716, 'depth': 9, 'reg_lambda': 1037.3967462244873, 'score_function': 'L2', 'bagging_temperature': 665.5117041201984, 'grow_policy': 'Depthwise'}. Best is trial 27 with value: 0.4549237851917438.\u001b[0m\n",
      "\u001b[32m[I 2023-02-19 19:48:05,139]\u001b[0m Trial 33 finished with value: 0.4545495726895354 and parameters: {'iterations': 356, 'learning_rate': 0.17170261260119757, 'depth': 9, 'reg_lambda': 896.0889634586573, 'score_function': 'L2', 'bagging_temperature': 640.0078773693936, 'grow_policy': 'Depthwise'}. Best is trial 33 with value: 0.4545495726895354.\u001b[0m\n",
      "\u001b[32m[I 2023-02-19 19:48:10,559]\u001b[0m Trial 34 finished with value: 0.455174706371393 and parameters: {'iterations': 357, 'learning_rate': 0.17059062322363008, 'depth': 8, 'reg_lambda': 883.4155984880796, 'score_function': 'L2', 'bagging_temperature': 630.9947365025985, 'grow_policy': 'Depthwise'}. Best is trial 33 with value: 0.4545495726895354.\u001b[0m\n",
      "\u001b[32m[I 2023-02-19 19:48:16,137]\u001b[0m Trial 35 finished with value: 0.45535298305598343 and parameters: {'iterations': 366, 'learning_rate': 0.17369029280008605, 'depth': 8, 'reg_lambda': 947.5541621167927, 'score_function': 'L2', 'bagging_temperature': 655.2168984956293, 'grow_policy': 'Depthwise'}. Best is trial 33 with value: 0.4545495726895354.\u001b[0m\n",
      "\u001b[32m[I 2023-02-19 19:48:21,302]\u001b[0m Trial 36 finished with value: 0.4548428757250555 and parameters: {'iterations': 341, 'learning_rate': 0.1700188851544912, 'depth': 8, 'reg_lambda': 896.073483179605, 'score_function': 'L2', 'bagging_temperature': 605.2499816124223, 'grow_policy': 'Depthwise'}. Best is trial 33 with value: 0.4545495726895354.\u001b[0m\n",
      "\u001b[32m[I 2023-02-19 19:48:26,721]\u001b[0m Trial 37 finished with value: 0.45487197637657145 and parameters: {'iterations': 371, 'learning_rate': 0.16699240133643908, 'depth': 8, 'reg_lambda': 823.2362807016309, 'score_function': 'L2', 'bagging_temperature': 596.2542338642104, 'grow_policy': 'Depthwise'}. Best is trial 33 with value: 0.4545495726895354.\u001b[0m\n",
      "\u001b[32m[I 2023-02-19 19:48:32,190]\u001b[0m Trial 38 finished with value: 0.45479909021317416 and parameters: {'iterations': 372, 'learning_rate': 0.15379089417459904, 'depth': 8, 'reg_lambda': 705.2130825870523, 'score_function': 'L2', 'bagging_temperature': 585.9155599152167, 'grow_policy': 'Depthwise'}. Best is trial 33 with value: 0.4545495726895354.\u001b[0m\n",
      "\u001b[32m[I 2023-02-19 19:48:34,763]\u001b[0m Trial 39 finished with value: 0.45494206570449186 and parameters: {'iterations': 373, 'learning_rate': 0.15494827770607295, 'depth': 6, 'reg_lambda': 743.4478313474033, 'score_function': 'L2', 'bagging_temperature': 593.9920029797662, 'grow_policy': 'Depthwise'}. Best is trial 33 with value: 0.4545495726895354.\u001b[0m\n",
      "\u001b[32m[I 2023-02-19 19:48:39,966]\u001b[0m Trial 40 finished with value: 0.4548072547488785 and parameters: {'iterations': 347, 'learning_rate': 0.15236531401320624, 'depth': 8, 'reg_lambda': 695.9362568840817, 'score_function': 'L2', 'bagging_temperature': 800.4648987013969, 'grow_policy': 'Depthwise'}. Best is trial 33 with value: 0.4545495726895354.\u001b[0m\n",
      "\u001b[32m[I 2023-02-19 19:48:45,074]\u001b[0m Trial 41 finished with value: 0.4548863336931415 and parameters: {'iterations': 341, 'learning_rate': 0.15249392095501982, 'depth': 8, 'reg_lambda': 720.3150365177694, 'score_function': 'L2', 'bagging_temperature': 774.7055256223947, 'grow_policy': 'Depthwise'}. Best is trial 33 with value: 0.4545495726895354.\u001b[0m\n",
      "\u001b[32m[I 2023-02-19 19:48:53,625]\u001b[0m Trial 42 finished with value: 0.45452824208877424 and parameters: {'iterations': 362, 'learning_rate': 0.16718432545258516, 'depth': 9, 'reg_lambda': 1097.6407221008512, 'score_function': 'L2', 'bagging_temperature': 859.7654401613707, 'grow_policy': 'Depthwise'}. Best is trial 42 with value: 0.45452824208877424.\u001b[0m\n",
      "\u001b[32m[I 2023-02-19 19:49:00,715]\u001b[0m Trial 43 finished with value: 0.4548157073476491 and parameters: {'iterations': 295, 'learning_rate': 0.16443667960875047, 'depth': 9, 'reg_lambda': 983.1709968112567, 'score_function': 'L2', 'bagging_temperature': 852.5056243847334, 'grow_policy': 'Depthwise'}. Best is trial 42 with value: 0.45452824208877424.\u001b[0m\n",
      "\u001b[32m[I 2023-02-19 19:49:07,995]\u001b[0m Trial 44 finished with value: 0.4549601453719115 and parameters: {'iterations': 301, 'learning_rate': 0.1520101750389825, 'depth': 9, 'reg_lambda': 1064.2446740011685, 'score_function': 'L2', 'bagging_temperature': 897.0873049945005, 'grow_policy': 'Depthwise'}. Best is trial 42 with value: 0.45452824208877424.\u001b[0m\n",
      "\u001b[32m[I 2023-02-19 19:49:14,489]\u001b[0m Trial 45 finished with value: 0.45550916609760633 and parameters: {'iterations': 287, 'learning_rate': 0.15693712199870555, 'depth': 9, 'reg_lambda': 679.3436896014932, 'score_function': 'L2', 'bagging_temperature': 819.4885971861524, 'grow_policy': 'Depthwise'}. Best is trial 42 with value: 0.45452824208877424.\u001b[0m\n",
      "\u001b[32m[I 2023-02-19 19:49:29,277]\u001b[0m Trial 46 finished with value: 0.45519295543872546 and parameters: {'iterations': 272, 'learning_rate': 0.16487523976978846, 'depth': 11, 'reg_lambda': 1082.539653492553, 'score_function': 'L2', 'bagging_temperature': 868.8388713192446, 'grow_policy': 'Depthwise'}. Best is trial 42 with value: 0.45452824208877424.\u001b[0m\n",
      "\u001b[32m[I 2023-02-19 19:49:31,511]\u001b[0m Trial 47 finished with value: 0.4550590381364832 and parameters: {'iterations': 327, 'learning_rate': 0.14866313897211456, 'depth': 6, 'reg_lambda': 362.36831328011397, 'score_function': 'L2', 'bagging_temperature': 745.2227632066381, 'grow_policy': 'Depthwise'}. Best is trial 42 with value: 0.45452824208877424.\u001b[0m\n",
      "\u001b[32m[I 2023-02-19 19:49:40,954]\u001b[0m Trial 48 finished with value: 0.45472709687499474 and parameters: {'iterations': 399, 'learning_rate': 0.16139031079109686, 'depth': 9, 'reg_lambda': 1223.5528030908627, 'score_function': 'L2', 'bagging_temperature': 969.1102443580063, 'grow_policy': 'Depthwise'}. Best is trial 42 with value: 0.45452824208877424.\u001b[0m\n",
      "\u001b[32m[I 2023-02-19 19:49:50,251]\u001b[0m Trial 49 finished with value: 0.45528854760678267 and parameters: {'iterations': 396, 'learning_rate': 0.15886907704384465, 'depth': 9, 'reg_lambda': 1196.0728851059173, 'score_function': 'L2', 'bagging_temperature': 942.33917652095, 'grow_policy': 'Depthwise'}. Best is trial 42 with value: 0.45452824208877424.\u001b[0m\n"
     ]
    }
   ],
   "source": [
    "gamma = lambda n_trials: min(int(np.ceil(0.1 * n_trials)), 25)\n",
    "tpe_sampler = optuna.samplers.TPESampler(n_startup_trials=30, n_ei_candidates=24, gamma=gamma)\n",
    "\n",
    "study = optuna.create_study(\n",
    "    direction='minimize',\n",
    "    sampler=tpe_sampler,\n",
    "    pruner=None\n",
    ")\n",
    "\n",
    "study.optimize(\n",
    "    func=objective_catboost, \n",
    "    n_trials=50,\n",
    "    timeout=None,\n",
    ")"
   ]
  },
  {
   "cell_type": "code",
   "execution_count": 78,
   "metadata": {},
   "outputs": [
    {
     "data": {
      "application/vnd.plotly.v1+json": {
       "config": {
        "plotlyServerURL": "https://plot.ly"
       },
       "data": [
        {
         "marker": {
          "color": [
           0,
           1,
           2,
           3,
           4,
           5,
           6,
           7,
           8,
           9,
           10,
           11,
           12,
           13,
           14,
           15,
           16,
           17,
           18,
           19,
           20,
           21,
           22,
           23,
           24,
           25,
           26,
           27,
           28,
           29,
           30,
           31,
           32,
           33,
           34,
           35,
           36,
           37,
           38,
           39,
           40,
           41,
           42,
           43,
           44,
           45,
           46,
           47,
           48,
           49
          ],
          "colorbar": {
           "title": {
            "text": "Trial"
           },
           "x": 1,
           "xpad": 40
          },
          "colorscale": [
           [
            0,
            "rgb(247,251,255)"
           ],
           [
            0.125,
            "rgb(222,235,247)"
           ],
           [
            0.25,
            "rgb(198,219,239)"
           ],
           [
            0.375,
            "rgb(158,202,225)"
           ],
           [
            0.5,
            "rgb(107,174,214)"
           ],
           [
            0.625,
            "rgb(66,146,198)"
           ],
           [
            0.75,
            "rgb(33,113,181)"
           ],
           [
            0.875,
            "rgb(8,81,156)"
           ],
           [
            1,
            "rgb(8,48,107)"
           ]
          ],
          "line": {
           "color": "Grey",
           "width": 0.5
          },
          "showscale": true
         },
         "mode": "markers",
         "showlegend": false,
         "type": "scatter",
         "x": [
          489.8394537581977,
          1031.8858921199153,
          112.69943915779257,
          888.8941864880126,
          981.2865064000222,
          799.425968366767,
          1175.3814081803637,
          362.5848204060619,
          1244.6094547965658,
          154.61830451908466,
          938.4695286480543,
          358.3215518435405,
          830.4749279350747,
          498.4629227075167,
          360.8409694592327,
          1139.262158474215,
          1120.6851092667746,
          996.1464587582697,
          1429.5939369679738,
          1179.227504746754,
          1301.4425330005647,
          1499.4484269394507,
          1113.3615924923663,
          1155.4618976929821,
          326.9917713832794,
          204.21967936632015,
          492.26627777616363,
          253.938046831049,
          488.2481253014353,
          410.75691819165974,
          724.1011814886417,
          685.3595750996063,
          665.5117041201984,
          640.0078773693936,
          630.9947365025985,
          655.2168984956293,
          605.2499816124223,
          596.2542338642104,
          585.9155599152167,
          593.9920029797662,
          800.4648987013969,
          774.7055256223947,
          859.7654401613707,
          852.5056243847334,
          897.0873049945005,
          819.4885971861524,
          868.8388713192446,
          745.2227632066381,
          969.1102443580063,
          942.33917652095
         ],
         "xaxis": "x",
         "y": [
          0.46513169006180766,
          0.4734027687904645,
          0.47097515595204426,
          0.4711627069397074,
          0.45659949343392664,
          0.4588781072132559,
          0.4727085288502588,
          0.4599360826026063,
          0.4650939467237659,
          0.4686155494114705,
          0.46732566688603494,
          0.4616368754779072,
          0.46934479037109905,
          0.4594919433615905,
          0.4624023204280683,
          0.4704821484382304,
          0.4592198692532332,
          0.470720954750487,
          0.45926385837198347,
          0.4607292000720673,
          0.46763968633402636,
          0.456142927741509,
          0.4596179727200085,
          0.46825803653344866,
          0.4577027395520036,
          0.4731959448754768,
          0.45913485743309035,
          0.4549237851917438,
          0.45712937408886883,
          0.46056726430969896,
          0.45762524412874,
          0.45676819584089273,
          0.4551879748762309,
          0.4545495726895354,
          0.455174706371393,
          0.45535298305598343,
          0.4548428757250555,
          0.45487197637657145,
          0.45479909021317416,
          0.45494206570449186,
          0.4548072547488785,
          0.4548863336931415,
          0.45452824208877424,
          0.4548157073476491,
          0.4549601453719115,
          0.45550916609760633,
          0.45519295543872546,
          0.4550590381364832,
          0.45472709687499474,
          0.45528854760678267
         ],
         "yaxis": "y"
        },
        {
         "marker": {
          "color": [
           0,
           1,
           2,
           3,
           4,
           5,
           6,
           7,
           8,
           9,
           10,
           11,
           12,
           13,
           14,
           15,
           16,
           17,
           18,
           19,
           20,
           21,
           22,
           23,
           24,
           25,
           26,
           27,
           28,
           29,
           30,
           31,
           32,
           33,
           34,
           35,
           36,
           37,
           38,
           39,
           40,
           41,
           42,
           43,
           44,
           45,
           46,
           47,
           48,
           49
          ],
          "colorbar": {
           "title": {
            "text": "Trial"
           },
           "x": 1,
           "xpad": 40
          },
          "colorscale": [
           [
            0,
            "rgb(247,251,255)"
           ],
           [
            0.125,
            "rgb(222,235,247)"
           ],
           [
            0.25,
            "rgb(198,219,239)"
           ],
           [
            0.375,
            "rgb(158,202,225)"
           ],
           [
            0.5,
            "rgb(107,174,214)"
           ],
           [
            0.625,
            "rgb(66,146,198)"
           ],
           [
            0.75,
            "rgb(33,113,181)"
           ],
           [
            0.875,
            "rgb(8,81,156)"
           ],
           [
            1,
            "rgb(8,48,107)"
           ]
          ],
          "line": {
           "color": "Grey",
           "width": 0.5
          },
          "showscale": false
         },
         "mode": "markers",
         "showlegend": false,
         "type": "scatter",
         "x": [
          5,
          7,
          10,
          6,
          9,
          11,
          12,
          10,
          4,
          12,
          4,
          12,
          4,
          9,
          7,
          4,
          10,
          4,
          7,
          5,
          9,
          5,
          12,
          4,
          11,
          7,
          10,
          10,
          5,
          7,
          8,
          5,
          9,
          9,
          8,
          8,
          8,
          8,
          8,
          6,
          8,
          8,
          9,
          9,
          9,
          9,
          11,
          6,
          9,
          9
         ],
         "xaxis": "x2",
         "y": [
          0.46513169006180766,
          0.4734027687904645,
          0.47097515595204426,
          0.4711627069397074,
          0.45659949343392664,
          0.4588781072132559,
          0.4727085288502588,
          0.4599360826026063,
          0.4650939467237659,
          0.4686155494114705,
          0.46732566688603494,
          0.4616368754779072,
          0.46934479037109905,
          0.4594919433615905,
          0.4624023204280683,
          0.4704821484382304,
          0.4592198692532332,
          0.470720954750487,
          0.45926385837198347,
          0.4607292000720673,
          0.46763968633402636,
          0.456142927741509,
          0.4596179727200085,
          0.46825803653344866,
          0.4577027395520036,
          0.4731959448754768,
          0.45913485743309035,
          0.4549237851917438,
          0.45712937408886883,
          0.46056726430969896,
          0.45762524412874,
          0.45676819584089273,
          0.4551879748762309,
          0.4545495726895354,
          0.455174706371393,
          0.45535298305598343,
          0.4548428757250555,
          0.45487197637657145,
          0.45479909021317416,
          0.45494206570449186,
          0.4548072547488785,
          0.4548863336931415,
          0.45452824208877424,
          0.4548157073476491,
          0.4549601453719115,
          0.45550916609760633,
          0.45519295543872546,
          0.4550590381364832,
          0.45472709687499474,
          0.45528854760678267
         ],
         "yaxis": "y2"
        },
        {
         "marker": {
          "color": [
           0,
           1,
           2,
           3,
           4,
           5,
           6,
           7,
           8,
           9,
           10,
           11,
           12,
           13,
           14,
           15,
           16,
           17,
           18,
           19,
           20,
           21,
           22,
           23,
           24,
           25,
           26,
           27,
           28,
           29,
           30,
           31,
           32,
           33,
           34,
           35,
           36,
           37,
           38,
           39,
           40,
           41,
           42,
           43,
           44,
           45,
           46,
           47,
           48,
           49
          ],
          "colorbar": {
           "title": {
            "text": "Trial"
           },
           "x": 1,
           "xpad": 40
          },
          "colorscale": [
           [
            0,
            "rgb(247,251,255)"
           ],
           [
            0.125,
            "rgb(222,235,247)"
           ],
           [
            0.25,
            "rgb(198,219,239)"
           ],
           [
            0.375,
            "rgb(158,202,225)"
           ],
           [
            0.5,
            "rgb(107,174,214)"
           ],
           [
            0.625,
            "rgb(66,146,198)"
           ],
           [
            0.75,
            "rgb(33,113,181)"
           ],
           [
            0.875,
            "rgb(8,81,156)"
           ],
           [
            1,
            "rgb(8,48,107)"
           ]
          ],
          "line": {
           "color": "Grey",
           "width": 0.5
          },
          "showscale": false
         },
         "mode": "markers",
         "showlegend": false,
         "type": "scatter",
         "x": [
          "Lossguide",
          "SymmetricTree",
          "SymmetricTree",
          "SymmetricTree",
          "Depthwise",
          "SymmetricTree",
          "Depthwise",
          "Lossguide",
          "Lossguide",
          "SymmetricTree",
          "Depthwise",
          "Lossguide",
          "Lossguide",
          "Depthwise",
          "Lossguide",
          "SymmetricTree",
          "Lossguide",
          "SymmetricTree",
          "Depthwise",
          "Depthwise",
          "Depthwise",
          "SymmetricTree",
          "Lossguide",
          "Depthwise",
          "SymmetricTree",
          "SymmetricTree",
          "Lossguide",
          "Depthwise",
          "Depthwise",
          "Depthwise",
          "Depthwise",
          "Depthwise",
          "Depthwise",
          "Depthwise",
          "Depthwise",
          "Depthwise",
          "Depthwise",
          "Depthwise",
          "Depthwise",
          "Depthwise",
          "Depthwise",
          "Depthwise",
          "Depthwise",
          "Depthwise",
          "Depthwise",
          "Depthwise",
          "Depthwise",
          "Depthwise",
          "Depthwise",
          "Depthwise"
         ],
         "xaxis": "x3",
         "y": [
          0.46513169006180766,
          0.4734027687904645,
          0.47097515595204426,
          0.4711627069397074,
          0.45659949343392664,
          0.4588781072132559,
          0.4727085288502588,
          0.4599360826026063,
          0.4650939467237659,
          0.4686155494114705,
          0.46732566688603494,
          0.4616368754779072,
          0.46934479037109905,
          0.4594919433615905,
          0.4624023204280683,
          0.4704821484382304,
          0.4592198692532332,
          0.470720954750487,
          0.45926385837198347,
          0.4607292000720673,
          0.46763968633402636,
          0.456142927741509,
          0.4596179727200085,
          0.46825803653344866,
          0.4577027395520036,
          0.4731959448754768,
          0.45913485743309035,
          0.4549237851917438,
          0.45712937408886883,
          0.46056726430969896,
          0.45762524412874,
          0.45676819584089273,
          0.4551879748762309,
          0.4545495726895354,
          0.455174706371393,
          0.45535298305598343,
          0.4548428757250555,
          0.45487197637657145,
          0.45479909021317416,
          0.45494206570449186,
          0.4548072547488785,
          0.4548863336931415,
          0.45452824208877424,
          0.4548157073476491,
          0.4549601453719115,
          0.45550916609760633,
          0.45519295543872546,
          0.4550590381364832,
          0.45472709687499474,
          0.45528854760678267
         ],
         "yaxis": "y3"
        },
        {
         "marker": {
          "color": [
           0,
           1,
           2,
           3,
           4,
           5,
           6,
           7,
           8,
           9,
           10,
           11,
           12,
           13,
           14,
           15,
           16,
           17,
           18,
           19,
           20,
           21,
           22,
           23,
           24,
           25,
           26,
           27,
           28,
           29,
           30,
           31,
           32,
           33,
           34,
           35,
           36,
           37,
           38,
           39,
           40,
           41,
           42,
           43,
           44,
           45,
           46,
           47,
           48,
           49
          ],
          "colorbar": {
           "title": {
            "text": "Trial"
           },
           "x": 1,
           "xpad": 40
          },
          "colorscale": [
           [
            0,
            "rgb(247,251,255)"
           ],
           [
            0.125,
            "rgb(222,235,247)"
           ],
           [
            0.25,
            "rgb(198,219,239)"
           ],
           [
            0.375,
            "rgb(158,202,225)"
           ],
           [
            0.5,
            "rgb(107,174,214)"
           ],
           [
            0.625,
            "rgb(66,146,198)"
           ],
           [
            0.75,
            "rgb(33,113,181)"
           ],
           [
            0.875,
            "rgb(8,81,156)"
           ],
           [
            1,
            "rgb(8,48,107)"
           ]
          ],
          "line": {
           "color": "Grey",
           "width": 0.5
          },
          "showscale": false
         },
         "mode": "markers",
         "showlegend": false,
         "type": "scatter",
         "x": [
          287,
          311,
          253,
          190,
          325,
          209,
          211,
          346,
          291,
          185,
          216,
          198,
          231,
          388,
          165,
          250,
          391,
          183,
          388,
          309,
          202,
          223,
          272,
          239,
          190,
          209,
          374,
          389,
          317,
          193,
          353,
          328,
          337,
          356,
          357,
          366,
          341,
          371,
          372,
          373,
          347,
          341,
          362,
          295,
          301,
          287,
          272,
          327,
          399,
          396
         ],
         "xaxis": "x4",
         "y": [
          0.46513169006180766,
          0.4734027687904645,
          0.47097515595204426,
          0.4711627069397074,
          0.45659949343392664,
          0.4588781072132559,
          0.4727085288502588,
          0.4599360826026063,
          0.4650939467237659,
          0.4686155494114705,
          0.46732566688603494,
          0.4616368754779072,
          0.46934479037109905,
          0.4594919433615905,
          0.4624023204280683,
          0.4704821484382304,
          0.4592198692532332,
          0.470720954750487,
          0.45926385837198347,
          0.4607292000720673,
          0.46763968633402636,
          0.456142927741509,
          0.4596179727200085,
          0.46825803653344866,
          0.4577027395520036,
          0.4731959448754768,
          0.45913485743309035,
          0.4549237851917438,
          0.45712937408886883,
          0.46056726430969896,
          0.45762524412874,
          0.45676819584089273,
          0.4551879748762309,
          0.4545495726895354,
          0.455174706371393,
          0.45535298305598343,
          0.4548428757250555,
          0.45487197637657145,
          0.45479909021317416,
          0.45494206570449186,
          0.4548072547488785,
          0.4548863336931415,
          0.45452824208877424,
          0.4548157073476491,
          0.4549601453719115,
          0.45550916609760633,
          0.45519295543872546,
          0.4550590381364832,
          0.45472709687499474,
          0.45528854760678267
         ],
         "yaxis": "y4"
        },
        {
         "marker": {
          "color": [
           0,
           1,
           2,
           3,
           4,
           5,
           6,
           7,
           8,
           9,
           10,
           11,
           12,
           13,
           14,
           15,
           16,
           17,
           18,
           19,
           20,
           21,
           22,
           23,
           24,
           25,
           26,
           27,
           28,
           29,
           30,
           31,
           32,
           33,
           34,
           35,
           36,
           37,
           38,
           39,
           40,
           41,
           42,
           43,
           44,
           45,
           46,
           47,
           48,
           49
          ],
          "colorbar": {
           "title": {
            "text": "Trial"
           },
           "x": 1,
           "xpad": 40
          },
          "colorscale": [
           [
            0,
            "rgb(247,251,255)"
           ],
           [
            0.125,
            "rgb(222,235,247)"
           ],
           [
            0.25,
            "rgb(198,219,239)"
           ],
           [
            0.375,
            "rgb(158,202,225)"
           ],
           [
            0.5,
            "rgb(107,174,214)"
           ],
           [
            0.625,
            "rgb(66,146,198)"
           ],
           [
            0.75,
            "rgb(33,113,181)"
           ],
           [
            0.875,
            "rgb(8,81,156)"
           ],
           [
            1,
            "rgb(8,48,107)"
           ]
          ],
          "line": {
           "color": "Grey",
           "width": 0.5
          },
          "showscale": false
         },
         "mode": "markers",
         "showlegend": false,
         "type": "scatter",
         "x": [
          0.12909382325183671,
          0.10836386235280385,
          0.12263907956875737,
          0.19682503700371629,
          0.11011262131089666,
          0.13120199085979095,
          0.11363823743011763,
          0.11639145935145923,
          0.11125161726169298,
          0.18678187988151027,
          0.14253303888564356,
          0.15903750615574608,
          0.10727259609180971,
          0.19545245266573372,
          0.16098090147936162,
          0.16148045966838737,
          0.14632212020101612,
          0.19133918661665883,
          0.10926946724274067,
          0.1100312163815317,
          0.10475756996831476,
          0.14295204848427248,
          0.18910161340092524,
          0.11327276814825361,
          0.13630557900324908,
          0.126178241774749,
          0.1919946415570718,
          0.16917173675192626,
          0.18236204858286972,
          0.1887798198041184,
          0.10143514191303643,
          0.17349896706828827,
          0.17280684042979716,
          0.17170261260119757,
          0.17059062322363008,
          0.17369029280008605,
          0.1700188851544912,
          0.16699240133643908,
          0.15379089417459904,
          0.15494827770607295,
          0.15236531401320624,
          0.15249392095501982,
          0.16718432545258516,
          0.16443667960875047,
          0.1520101750389825,
          0.15693712199870555,
          0.16487523976978846,
          0.14866313897211456,
          0.16139031079109686,
          0.15886907704384465
         ],
         "xaxis": "x5",
         "y": [
          0.46513169006180766,
          0.4734027687904645,
          0.47097515595204426,
          0.4711627069397074,
          0.45659949343392664,
          0.4588781072132559,
          0.4727085288502588,
          0.4599360826026063,
          0.4650939467237659,
          0.4686155494114705,
          0.46732566688603494,
          0.4616368754779072,
          0.46934479037109905,
          0.4594919433615905,
          0.4624023204280683,
          0.4704821484382304,
          0.4592198692532332,
          0.470720954750487,
          0.45926385837198347,
          0.4607292000720673,
          0.46763968633402636,
          0.456142927741509,
          0.4596179727200085,
          0.46825803653344866,
          0.4577027395520036,
          0.4731959448754768,
          0.45913485743309035,
          0.4549237851917438,
          0.45712937408886883,
          0.46056726430969896,
          0.45762524412874,
          0.45676819584089273,
          0.4551879748762309,
          0.4545495726895354,
          0.455174706371393,
          0.45535298305598343,
          0.4548428757250555,
          0.45487197637657145,
          0.45479909021317416,
          0.45494206570449186,
          0.4548072547488785,
          0.4548863336931415,
          0.45452824208877424,
          0.4548157073476491,
          0.4549601453719115,
          0.45550916609760633,
          0.45519295543872546,
          0.4550590381364832,
          0.45472709687499474,
          0.45528854760678267
         ],
         "yaxis": "y5"
        },
        {
         "marker": {
          "color": [
           0,
           1,
           2,
           3,
           4,
           5,
           6,
           7,
           8,
           9,
           10,
           11,
           12,
           13,
           14,
           15,
           16,
           17,
           18,
           19,
           20,
           21,
           22,
           23,
           24,
           25,
           26,
           27,
           28,
           29,
           30,
           31,
           32,
           33,
           34,
           35,
           36,
           37,
           38,
           39,
           40,
           41,
           42,
           43,
           44,
           45,
           46,
           47,
           48,
           49
          ],
          "colorbar": {
           "title": {
            "text": "Trial"
           },
           "x": 1,
           "xpad": 40
          },
          "colorscale": [
           [
            0,
            "rgb(247,251,255)"
           ],
           [
            0.125,
            "rgb(222,235,247)"
           ],
           [
            0.25,
            "rgb(198,219,239)"
           ],
           [
            0.375,
            "rgb(158,202,225)"
           ],
           [
            0.5,
            "rgb(107,174,214)"
           ],
           [
            0.625,
            "rgb(66,146,198)"
           ],
           [
            0.75,
            "rgb(33,113,181)"
           ],
           [
            0.875,
            "rgb(8,81,156)"
           ],
           [
            1,
            "rgb(8,48,107)"
           ]
          ],
          "line": {
           "color": "Grey",
           "width": 0.5
          },
          "showscale": false
         },
         "mode": "markers",
         "showlegend": false,
         "type": "scatter",
         "x": [
          1534.7471131574268,
          2684.9492170737603,
          1717.7872894999232,
          2588.265861797595,
          1665.2723758609454,
          411.6434542278987,
          2680.325348331108,
          1602.9040078612393,
          683.6785359175569,
          1242.260461765254,
          1468.3798297707579,
          2174.624517157011,
          2386.2556239825544,
          1242.8876345567048,
          1655.2400175141613,
          501.8231524999081,
          2014.2139835133664,
          494.1487010488089,
          220.74557276085142,
          158.08532536414017,
          2472.467652901545,
          30.103045690237803,
          2650.237156681175,
          1410.744489028395,
          122.58349499980164,
          2182.8261798443177,
          2432.664055393906,
          1520.5484968706362,
          2102.952565022644,
          513.5114685844269,
          2972.958699161316,
          1823.229528403763,
          1037.3967462244873,
          896.0889634586573,
          883.4155984880796,
          947.5541621167927,
          896.073483179605,
          823.2362807016309,
          705.2130825870523,
          743.4478313474033,
          695.9362568840817,
          720.3150365177694,
          1097.6407221008512,
          983.1709968112567,
          1064.2446740011685,
          679.3436896014932,
          1082.539653492553,
          362.36831328011397,
          1223.5528030908627,
          1196.0728851059173
         ],
         "xaxis": "x6",
         "y": [
          0.46513169006180766,
          0.4734027687904645,
          0.47097515595204426,
          0.4711627069397074,
          0.45659949343392664,
          0.4588781072132559,
          0.4727085288502588,
          0.4599360826026063,
          0.4650939467237659,
          0.4686155494114705,
          0.46732566688603494,
          0.4616368754779072,
          0.46934479037109905,
          0.4594919433615905,
          0.4624023204280683,
          0.4704821484382304,
          0.4592198692532332,
          0.470720954750487,
          0.45926385837198347,
          0.4607292000720673,
          0.46763968633402636,
          0.456142927741509,
          0.4596179727200085,
          0.46825803653344866,
          0.4577027395520036,
          0.4731959448754768,
          0.45913485743309035,
          0.4549237851917438,
          0.45712937408886883,
          0.46056726430969896,
          0.45762524412874,
          0.45676819584089273,
          0.4551879748762309,
          0.4545495726895354,
          0.455174706371393,
          0.45535298305598343,
          0.4548428757250555,
          0.45487197637657145,
          0.45479909021317416,
          0.45494206570449186,
          0.4548072547488785,
          0.4548863336931415,
          0.45452824208877424,
          0.4548157073476491,
          0.4549601453719115,
          0.45550916609760633,
          0.45519295543872546,
          0.4550590381364832,
          0.45472709687499474,
          0.45528854760678267
         ],
         "yaxis": "y6"
        },
        {
         "marker": {
          "color": [
           0,
           1,
           2,
           3,
           4,
           5,
           6,
           7,
           8,
           9,
           10,
           11,
           12,
           13,
           14,
           15,
           16,
           17,
           18,
           19,
           20,
           21,
           22,
           23,
           24,
           25,
           26,
           27,
           28,
           29,
           30,
           31,
           32,
           33,
           34,
           35,
           36,
           37,
           38,
           39,
           40,
           41,
           42,
           43,
           44,
           45,
           46,
           47,
           48,
           49
          ],
          "colorbar": {
           "title": {
            "text": "Trial"
           },
           "x": 1,
           "xpad": 40
          },
          "colorscale": [
           [
            0,
            "rgb(247,251,255)"
           ],
           [
            0.125,
            "rgb(222,235,247)"
           ],
           [
            0.25,
            "rgb(198,219,239)"
           ],
           [
            0.375,
            "rgb(158,202,225)"
           ],
           [
            0.5,
            "rgb(107,174,214)"
           ],
           [
            0.625,
            "rgb(66,146,198)"
           ],
           [
            0.75,
            "rgb(33,113,181)"
           ],
           [
            0.875,
            "rgb(8,81,156)"
           ],
           [
            1,
            "rgb(8,48,107)"
           ]
          ],
          "line": {
           "color": "Grey",
           "width": 0.5
          },
          "showscale": false
         },
         "mode": "markers",
         "showlegend": false,
         "type": "scatter",
         "x": [
          "Cosine",
          "Cosine",
          "Cosine",
          "Cosine",
          "L2",
          "L2",
          "Cosine",
          "Cosine",
          "Cosine",
          "Cosine",
          "Cosine",
          "Cosine",
          "Cosine",
          "Cosine",
          "Cosine",
          "Cosine",
          "Cosine",
          "Cosine",
          "Cosine",
          "Cosine",
          "Cosine",
          "L2",
          "Cosine",
          "Cosine",
          "L2",
          "Cosine",
          "Cosine",
          "L2",
          "L2",
          "Cosine",
          "L2",
          "L2",
          "L2",
          "L2",
          "L2",
          "L2",
          "L2",
          "L2",
          "L2",
          "L2",
          "L2",
          "L2",
          "L2",
          "L2",
          "L2",
          "L2",
          "L2",
          "L2",
          "L2",
          "L2"
         ],
         "xaxis": "x7",
         "y": [
          0.46513169006180766,
          0.4734027687904645,
          0.47097515595204426,
          0.4711627069397074,
          0.45659949343392664,
          0.4588781072132559,
          0.4727085288502588,
          0.4599360826026063,
          0.4650939467237659,
          0.4686155494114705,
          0.46732566688603494,
          0.4616368754779072,
          0.46934479037109905,
          0.4594919433615905,
          0.4624023204280683,
          0.4704821484382304,
          0.4592198692532332,
          0.470720954750487,
          0.45926385837198347,
          0.4607292000720673,
          0.46763968633402636,
          0.456142927741509,
          0.4596179727200085,
          0.46825803653344866,
          0.4577027395520036,
          0.4731959448754768,
          0.45913485743309035,
          0.4549237851917438,
          0.45712937408886883,
          0.46056726430969896,
          0.45762524412874,
          0.45676819584089273,
          0.4551879748762309,
          0.4545495726895354,
          0.455174706371393,
          0.45535298305598343,
          0.4548428757250555,
          0.45487197637657145,
          0.45479909021317416,
          0.45494206570449186,
          0.4548072547488785,
          0.4548863336931415,
          0.45452824208877424,
          0.4548157073476491,
          0.4549601453719115,
          0.45550916609760633,
          0.45519295543872546,
          0.4550590381364832,
          0.45472709687499474,
          0.45528854760678267
         ],
         "yaxis": "y7"
        }
       ],
       "layout": {
        "template": {
         "data": {
          "bar": [
           {
            "error_x": {
             "color": "#2a3f5f"
            },
            "error_y": {
             "color": "#2a3f5f"
            },
            "marker": {
             "line": {
              "color": "#E5ECF6",
              "width": 0.5
             },
             "pattern": {
              "fillmode": "overlay",
              "size": 10,
              "solidity": 0.2
             }
            },
            "type": "bar"
           }
          ],
          "barpolar": [
           {
            "marker": {
             "line": {
              "color": "#E5ECF6",
              "width": 0.5
             },
             "pattern": {
              "fillmode": "overlay",
              "size": 10,
              "solidity": 0.2
             }
            },
            "type": "barpolar"
           }
          ],
          "carpet": [
           {
            "aaxis": {
             "endlinecolor": "#2a3f5f",
             "gridcolor": "white",
             "linecolor": "white",
             "minorgridcolor": "white",
             "startlinecolor": "#2a3f5f"
            },
            "baxis": {
             "endlinecolor": "#2a3f5f",
             "gridcolor": "white",
             "linecolor": "white",
             "minorgridcolor": "white",
             "startlinecolor": "#2a3f5f"
            },
            "type": "carpet"
           }
          ],
          "choropleth": [
           {
            "colorbar": {
             "outlinewidth": 0,
             "ticks": ""
            },
            "type": "choropleth"
           }
          ],
          "contour": [
           {
            "colorbar": {
             "outlinewidth": 0,
             "ticks": ""
            },
            "colorscale": [
             [
              0,
              "#0d0887"
             ],
             [
              0.1111111111111111,
              "#46039f"
             ],
             [
              0.2222222222222222,
              "#7201a8"
             ],
             [
              0.3333333333333333,
              "#9c179e"
             ],
             [
              0.4444444444444444,
              "#bd3786"
             ],
             [
              0.5555555555555556,
              "#d8576b"
             ],
             [
              0.6666666666666666,
              "#ed7953"
             ],
             [
              0.7777777777777778,
              "#fb9f3a"
             ],
             [
              0.8888888888888888,
              "#fdca26"
             ],
             [
              1,
              "#f0f921"
             ]
            ],
            "type": "contour"
           }
          ],
          "contourcarpet": [
           {
            "colorbar": {
             "outlinewidth": 0,
             "ticks": ""
            },
            "type": "contourcarpet"
           }
          ],
          "heatmap": [
           {
            "colorbar": {
             "outlinewidth": 0,
             "ticks": ""
            },
            "colorscale": [
             [
              0,
              "#0d0887"
             ],
             [
              0.1111111111111111,
              "#46039f"
             ],
             [
              0.2222222222222222,
              "#7201a8"
             ],
             [
              0.3333333333333333,
              "#9c179e"
             ],
             [
              0.4444444444444444,
              "#bd3786"
             ],
             [
              0.5555555555555556,
              "#d8576b"
             ],
             [
              0.6666666666666666,
              "#ed7953"
             ],
             [
              0.7777777777777778,
              "#fb9f3a"
             ],
             [
              0.8888888888888888,
              "#fdca26"
             ],
             [
              1,
              "#f0f921"
             ]
            ],
            "type": "heatmap"
           }
          ],
          "heatmapgl": [
           {
            "colorbar": {
             "outlinewidth": 0,
             "ticks": ""
            },
            "colorscale": [
             [
              0,
              "#0d0887"
             ],
             [
              0.1111111111111111,
              "#46039f"
             ],
             [
              0.2222222222222222,
              "#7201a8"
             ],
             [
              0.3333333333333333,
              "#9c179e"
             ],
             [
              0.4444444444444444,
              "#bd3786"
             ],
             [
              0.5555555555555556,
              "#d8576b"
             ],
             [
              0.6666666666666666,
              "#ed7953"
             ],
             [
              0.7777777777777778,
              "#fb9f3a"
             ],
             [
              0.8888888888888888,
              "#fdca26"
             ],
             [
              1,
              "#f0f921"
             ]
            ],
            "type": "heatmapgl"
           }
          ],
          "histogram": [
           {
            "marker": {
             "pattern": {
              "fillmode": "overlay",
              "size": 10,
              "solidity": 0.2
             }
            },
            "type": "histogram"
           }
          ],
          "histogram2d": [
           {
            "colorbar": {
             "outlinewidth": 0,
             "ticks": ""
            },
            "colorscale": [
             [
              0,
              "#0d0887"
             ],
             [
              0.1111111111111111,
              "#46039f"
             ],
             [
              0.2222222222222222,
              "#7201a8"
             ],
             [
              0.3333333333333333,
              "#9c179e"
             ],
             [
              0.4444444444444444,
              "#bd3786"
             ],
             [
              0.5555555555555556,
              "#d8576b"
             ],
             [
              0.6666666666666666,
              "#ed7953"
             ],
             [
              0.7777777777777778,
              "#fb9f3a"
             ],
             [
              0.8888888888888888,
              "#fdca26"
             ],
             [
              1,
              "#f0f921"
             ]
            ],
            "type": "histogram2d"
           }
          ],
          "histogram2dcontour": [
           {
            "colorbar": {
             "outlinewidth": 0,
             "ticks": ""
            },
            "colorscale": [
             [
              0,
              "#0d0887"
             ],
             [
              0.1111111111111111,
              "#46039f"
             ],
             [
              0.2222222222222222,
              "#7201a8"
             ],
             [
              0.3333333333333333,
              "#9c179e"
             ],
             [
              0.4444444444444444,
              "#bd3786"
             ],
             [
              0.5555555555555556,
              "#d8576b"
             ],
             [
              0.6666666666666666,
              "#ed7953"
             ],
             [
              0.7777777777777778,
              "#fb9f3a"
             ],
             [
              0.8888888888888888,
              "#fdca26"
             ],
             [
              1,
              "#f0f921"
             ]
            ],
            "type": "histogram2dcontour"
           }
          ],
          "mesh3d": [
           {
            "colorbar": {
             "outlinewidth": 0,
             "ticks": ""
            },
            "type": "mesh3d"
           }
          ],
          "parcoords": [
           {
            "line": {
             "colorbar": {
              "outlinewidth": 0,
              "ticks": ""
             }
            },
            "type": "parcoords"
           }
          ],
          "pie": [
           {
            "automargin": true,
            "type": "pie"
           }
          ],
          "scatter": [
           {
            "fillpattern": {
             "fillmode": "overlay",
             "size": 10,
             "solidity": 0.2
            },
            "type": "scatter"
           }
          ],
          "scatter3d": [
           {
            "line": {
             "colorbar": {
              "outlinewidth": 0,
              "ticks": ""
             }
            },
            "marker": {
             "colorbar": {
              "outlinewidth": 0,
              "ticks": ""
             }
            },
            "type": "scatter3d"
           }
          ],
          "scattercarpet": [
           {
            "marker": {
             "colorbar": {
              "outlinewidth": 0,
              "ticks": ""
             }
            },
            "type": "scattercarpet"
           }
          ],
          "scattergeo": [
           {
            "marker": {
             "colorbar": {
              "outlinewidth": 0,
              "ticks": ""
             }
            },
            "type": "scattergeo"
           }
          ],
          "scattergl": [
           {
            "marker": {
             "colorbar": {
              "outlinewidth": 0,
              "ticks": ""
             }
            },
            "type": "scattergl"
           }
          ],
          "scattermapbox": [
           {
            "marker": {
             "colorbar": {
              "outlinewidth": 0,
              "ticks": ""
             }
            },
            "type": "scattermapbox"
           }
          ],
          "scatterpolar": [
           {
            "marker": {
             "colorbar": {
              "outlinewidth": 0,
              "ticks": ""
             }
            },
            "type": "scatterpolar"
           }
          ],
          "scatterpolargl": [
           {
            "marker": {
             "colorbar": {
              "outlinewidth": 0,
              "ticks": ""
             }
            },
            "type": "scatterpolargl"
           }
          ],
          "scatterternary": [
           {
            "marker": {
             "colorbar": {
              "outlinewidth": 0,
              "ticks": ""
             }
            },
            "type": "scatterternary"
           }
          ],
          "surface": [
           {
            "colorbar": {
             "outlinewidth": 0,
             "ticks": ""
            },
            "colorscale": [
             [
              0,
              "#0d0887"
             ],
             [
              0.1111111111111111,
              "#46039f"
             ],
             [
              0.2222222222222222,
              "#7201a8"
             ],
             [
              0.3333333333333333,
              "#9c179e"
             ],
             [
              0.4444444444444444,
              "#bd3786"
             ],
             [
              0.5555555555555556,
              "#d8576b"
             ],
             [
              0.6666666666666666,
              "#ed7953"
             ],
             [
              0.7777777777777778,
              "#fb9f3a"
             ],
             [
              0.8888888888888888,
              "#fdca26"
             ],
             [
              1,
              "#f0f921"
             ]
            ],
            "type": "surface"
           }
          ],
          "table": [
           {
            "cells": {
             "fill": {
              "color": "#EBF0F8"
             },
             "line": {
              "color": "white"
             }
            },
            "header": {
             "fill": {
              "color": "#C8D4E3"
             },
             "line": {
              "color": "white"
             }
            },
            "type": "table"
           }
          ]
         },
         "layout": {
          "annotationdefaults": {
           "arrowcolor": "#2a3f5f",
           "arrowhead": 0,
           "arrowwidth": 1
          },
          "autotypenumbers": "strict",
          "coloraxis": {
           "colorbar": {
            "outlinewidth": 0,
            "ticks": ""
           }
          },
          "colorscale": {
           "diverging": [
            [
             0,
             "#8e0152"
            ],
            [
             0.1,
             "#c51b7d"
            ],
            [
             0.2,
             "#de77ae"
            ],
            [
             0.3,
             "#f1b6da"
            ],
            [
             0.4,
             "#fde0ef"
            ],
            [
             0.5,
             "#f7f7f7"
            ],
            [
             0.6,
             "#e6f5d0"
            ],
            [
             0.7,
             "#b8e186"
            ],
            [
             0.8,
             "#7fbc41"
            ],
            [
             0.9,
             "#4d9221"
            ],
            [
             1,
             "#276419"
            ]
           ],
           "sequential": [
            [
             0,
             "#0d0887"
            ],
            [
             0.1111111111111111,
             "#46039f"
            ],
            [
             0.2222222222222222,
             "#7201a8"
            ],
            [
             0.3333333333333333,
             "#9c179e"
            ],
            [
             0.4444444444444444,
             "#bd3786"
            ],
            [
             0.5555555555555556,
             "#d8576b"
            ],
            [
             0.6666666666666666,
             "#ed7953"
            ],
            [
             0.7777777777777778,
             "#fb9f3a"
            ],
            [
             0.8888888888888888,
             "#fdca26"
            ],
            [
             1,
             "#f0f921"
            ]
           ],
           "sequentialminus": [
            [
             0,
             "#0d0887"
            ],
            [
             0.1111111111111111,
             "#46039f"
            ],
            [
             0.2222222222222222,
             "#7201a8"
            ],
            [
             0.3333333333333333,
             "#9c179e"
            ],
            [
             0.4444444444444444,
             "#bd3786"
            ],
            [
             0.5555555555555556,
             "#d8576b"
            ],
            [
             0.6666666666666666,
             "#ed7953"
            ],
            [
             0.7777777777777778,
             "#fb9f3a"
            ],
            [
             0.8888888888888888,
             "#fdca26"
            ],
            [
             1,
             "#f0f921"
            ]
           ]
          },
          "colorway": [
           "#636efa",
           "#EF553B",
           "#00cc96",
           "#ab63fa",
           "#FFA15A",
           "#19d3f3",
           "#FF6692",
           "#B6E880",
           "#FF97FF",
           "#FECB52"
          ],
          "font": {
           "color": "#2a3f5f"
          },
          "geo": {
           "bgcolor": "white",
           "lakecolor": "white",
           "landcolor": "#E5ECF6",
           "showlakes": true,
           "showland": true,
           "subunitcolor": "white"
          },
          "hoverlabel": {
           "align": "left"
          },
          "hovermode": "closest",
          "mapbox": {
           "style": "light"
          },
          "paper_bgcolor": "white",
          "plot_bgcolor": "#E5ECF6",
          "polar": {
           "angularaxis": {
            "gridcolor": "white",
            "linecolor": "white",
            "ticks": ""
           },
           "bgcolor": "#E5ECF6",
           "radialaxis": {
            "gridcolor": "white",
            "linecolor": "white",
            "ticks": ""
           }
          },
          "scene": {
           "xaxis": {
            "backgroundcolor": "#E5ECF6",
            "gridcolor": "white",
            "gridwidth": 2,
            "linecolor": "white",
            "showbackground": true,
            "ticks": "",
            "zerolinecolor": "white"
           },
           "yaxis": {
            "backgroundcolor": "#E5ECF6",
            "gridcolor": "white",
            "gridwidth": 2,
            "linecolor": "white",
            "showbackground": true,
            "ticks": "",
            "zerolinecolor": "white"
           },
           "zaxis": {
            "backgroundcolor": "#E5ECF6",
            "gridcolor": "white",
            "gridwidth": 2,
            "linecolor": "white",
            "showbackground": true,
            "ticks": "",
            "zerolinecolor": "white"
           }
          },
          "shapedefaults": {
           "line": {
            "color": "#2a3f5f"
           }
          },
          "ternary": {
           "aaxis": {
            "gridcolor": "white",
            "linecolor": "white",
            "ticks": ""
           },
           "baxis": {
            "gridcolor": "white",
            "linecolor": "white",
            "ticks": ""
           },
           "bgcolor": "#E5ECF6",
           "caxis": {
            "gridcolor": "white",
            "linecolor": "white",
            "ticks": ""
           }
          },
          "title": {
           "x": 0.05
          },
          "xaxis": {
           "automargin": true,
           "gridcolor": "white",
           "linecolor": "white",
           "ticks": "",
           "title": {
            "standoff": 15
           },
           "zerolinecolor": "white",
           "zerolinewidth": 2
          },
          "yaxis": {
           "automargin": true,
           "gridcolor": "white",
           "linecolor": "white",
           "ticks": "",
           "title": {
            "standoff": 15
           },
           "zerolinecolor": "white",
           "zerolinewidth": 2
          }
         }
        },
        "title": {
         "text": "Slice Plot"
        },
        "width": 2100,
        "xaxis": {
         "anchor": "y",
         "domain": [
          0,
          0.1183673469387755
         ],
         "title": {
          "text": "bagging_temperature"
         }
        },
        "xaxis2": {
         "anchor": "y2",
         "domain": [
          0.14693877551020407,
          0.26530612244897955
         ],
         "title": {
          "text": "depth"
         }
        },
        "xaxis3": {
         "anchor": "y3",
         "domain": [
          0.29387755102040813,
          0.4122448979591836
         ],
         "title": {
          "text": "grow_policy"
         }
        },
        "xaxis4": {
         "anchor": "y4",
         "domain": [
          0.4408163265306122,
          0.5591836734693877
         ],
         "title": {
          "text": "iterations"
         }
        },
        "xaxis5": {
         "anchor": "y5",
         "domain": [
          0.5877551020408163,
          0.7061224489795918
         ],
         "title": {
          "text": "learning_rate"
         }
        },
        "xaxis6": {
         "anchor": "y6",
         "domain": [
          0.7346938775510204,
          0.8530612244897959
         ],
         "title": {
          "text": "reg_lambda"
         }
        },
        "xaxis7": {
         "anchor": "y7",
         "domain": [
          0.8816326530612244,
          0.9999999999999999
         ],
         "title": {
          "text": "score_function"
         }
        },
        "yaxis": {
         "anchor": "x",
         "domain": [
          0,
          1
         ],
         "title": {
          "text": "Objective Value"
         }
        },
        "yaxis2": {
         "anchor": "x2",
         "domain": [
          0,
          1
         ],
         "matches": "y",
         "showticklabels": false
        },
        "yaxis3": {
         "anchor": "x3",
         "domain": [
          0,
          1
         ],
         "matches": "y",
         "showticklabels": false
        },
        "yaxis4": {
         "anchor": "x4",
         "domain": [
          0,
          1
         ],
         "matches": "y",
         "showticklabels": false
        },
        "yaxis5": {
         "anchor": "x5",
         "domain": [
          0,
          1
         ],
         "matches": "y",
         "showticklabels": false
        },
        "yaxis6": {
         "anchor": "x6",
         "domain": [
          0,
          1
         ],
         "matches": "y",
         "showticklabels": false
        },
        "yaxis7": {
         "anchor": "x7",
         "domain": [
          0,
          1
         ],
         "matches": "y",
         "showticklabels": false
        }
       }
      }
     },
     "metadata": {},
     "output_type": "display_data"
    }
   ],
   "source": [
    "optuna.visualization.plot_slice(study)"
   ]
  },
  {
   "cell_type": "code",
   "execution_count": 80,
   "metadata": {},
   "outputs": [
    {
     "data": {
      "text/plain": [
       "0.45452824208877424"
      ]
     },
     "execution_count": 80,
     "metadata": {},
     "output_type": "execute_result"
    }
   ],
   "source": [
    "study.best_value"
   ]
  },
  {
   "cell_type": "code",
   "execution_count": 79,
   "metadata": {},
   "outputs": [
    {
     "data": {
      "text/plain": [
       "{'iterations': 362,\n",
       " 'learning_rate': 0.16718432545258516,\n",
       " 'depth': 9,\n",
       " 'reg_lambda': 1097.6407221008512,\n",
       " 'score_function': 'L2',\n",
       " 'bagging_temperature': 859.7654401613707,\n",
       " 'grow_policy': 'Depthwise'}"
      ]
     },
     "execution_count": 79,
     "metadata": {},
     "output_type": "execute_result"
    }
   ],
   "source": [
    "study.best_params"
   ]
  },
  {
   "cell_type": "code",
   "execution_count": null,
   "metadata": {},
   "outputs": [],
   "source": []
  },
  {
   "cell_type": "code",
   "execution_count": null,
   "metadata": {},
   "outputs": [],
   "source": []
  },
  {
   "cell_type": "code",
   "execution_count": null,
   "metadata": {},
   "outputs": [],
   "source": []
  },
  {
   "cell_type": "markdown",
   "metadata": {},
   "source": []
  },
  {
   "attachments": {},
   "cell_type": "markdown",
   "metadata": {},
   "source": [
    "{'iterations': 251, 'learning_rate': 0.05231249065126892, 'depth': 8}\n",
    "\n",
    "{'iterations': 482,\n",
    " 'learning_rate': 0.15914898864362242,\n",
    " 'depth': 9,\n",
    " 'reg_lambda': 60.839184102816375,\n",
    " 'score_function': 'Cosine',\n",
    " 'bagging_temperature': 1.6460075256746287,\n",
    " 'grow_policy': 'Lossguide'}\n",
    " \n",
    "{'iterations': 486,\n",
    " 'reg_lambda': 2640.580028905731,\n",
    " 'score_function': 'L2',\n",
    " 'bagging_temperature': 1024.548823883425,\n",
    " 'grow_policy': 'Lossguide',\n",
    " 'min_trashold': 0.00460303503681937,\n",
    " 'max_trashold': 0.9998031075166454}"
   ]
  },
  {
   "attachments": {},
   "cell_type": "markdown",
   "metadata": {},
   "source": [
    "# Predict"
   ]
  },
  {
   "attachments": {},
   "cell_type": "markdown",
   "metadata": {},
   "source": [
    "## Feature engineering"
   ]
  },
  {
   "cell_type": "code",
   "execution_count": 81,
   "metadata": {},
   "outputs": [],
   "source": [
    "test_df = pd.read_csv('test.csv')"
   ]
  },
  {
   "cell_type": "code",
   "execution_count": 82,
   "metadata": {},
   "outputs": [],
   "source": [
    "test_df['district_density'] = test_df['district_area'] / test_df['district_population']"
   ]
  },
  {
   "cell_type": "code",
   "execution_count": 83,
   "metadata": {},
   "outputs": [],
   "source": [
    "test_df['timestamp'] = pd.to_datetime(train_df['timestamp'])\n",
    "test_df['year'] = test_df['timestamp'].dt.year\n",
    "test_df['month'] = test_df['timestamp'].dt.month.astype(str)\n",
    "test_df['year_month'] = test_df['year'].astype(str) + '_' +  test_df['month'].astype(str)\n",
    "\n",
    "min_date = datetime(year=2010, month=1, day=1)\n",
    "assert min_date < test_df['timestamp'].min()\n",
    "test_df['days_since'] = (test_df['timestamp'] - min_date).dt.days"
   ]
  },
  {
   "cell_type": "code",
   "execution_count": 84,
   "metadata": {},
   "outputs": [
    {
     "name": "stderr",
     "output_type": "stream",
     "text": [
      "/tmp/ipykernel_23884/3787922401.py:10: FutureWarning:\n",
      "\n",
      "In a future version, `df.iloc[:, i] = newvals` will attempt to set the values inplace instead of always setting a new array. To retain the old behavior, use either `df[df.columns[i]] = newvals` or, if columns are non-unique, `df.isetitem(i, newvals)`\n",
      "\n"
     ]
    }
   ],
   "source": [
    "test_df['mkad_distance_linaer'] = test_df['mkad_distance']\n",
    "test_df['sadovoe_km_linear'] = test_df['sadovoe_km']\n",
    "\n",
    "test_df.loc[test_df['kremlin_distance'] < 18, 'mkad_distance_linaer'] *= -1\n",
    "test_df.loc[test_df['kremlin_distance'] < 2.5, 'sadovoe_km_linear'] *= -1\n",
    "\n",
    "test_df['wall_material'] = test_df['wall_material'].astype(pd.Int64Dtype())\n",
    "test_df.loc[test_df['wall_material'] == 3, 'wall_material'] = None\n",
    "\n",
    "test_df.loc[:, ['wall_material']] = wall_imputer.transform(test_df[['wall_material']]).astype(str)"
   ]
  },
  {
   "cell_type": "code",
   "execution_count": 85,
   "metadata": {},
   "outputs": [],
   "source": [
    "test_df['prev_year'] = test_df['year'] - 1\n",
    "\n",
    "test_df = test_df.merge(\n",
    "    train_df.groupby('year')[target]\\\n",
    "        .median()\\\n",
    "        .reset_index()\\\n",
    "        .rename(columns={'year': 'prev_year', target: f'median_prev_year'}),\n",
    "    on='prev_year',\n",
    "    how='left'\n",
    ")\n",
    "\n",
    "test_df = test_df.merge(\n",
    "    train_df.groupby(['year', 'district_name'])[target]\\\n",
    "        .median()\\\n",
    "        .reset_index()\\\n",
    "        .rename(columns={'year': 'prev_year', target: 'median_prev_year_district'}),\n",
    "    on=['prev_year', 'district_name'],\n",
    "    how='left'\n",
    ")"
   ]
  },
  {
   "cell_type": "code",
   "execution_count": 86,
   "metadata": {},
   "outputs": [],
   "source": [
    "test_df['estimate_prev_year'] = test_df['median_prev_year'] * test_df['total_area']\n",
    "test_df['estimate_prev_year_district'] = test_df['median_prev_year_district'] * test_df['total_area']"
   ]
  },
  {
   "cell_type": "code",
   "execution_count": 87,
   "metadata": {},
   "outputs": [],
   "source": [
    "test_df['rooms_num'] = test_df['rooms_num'].astype(str)"
   ]
  },
  {
   "attachments": {},
   "cell_type": "markdown",
   "metadata": {},
   "source": [
    "## Model"
   ]
  },
  {
   "cell_type": "code",
   "execution_count": 89,
   "metadata": {},
   "outputs": [],
   "source": [
    "my_params = {\n",
    "    'iterations': 362,\n",
    "    'learning_rate': 0.16718432545258516,\n",
    "    'depth': 9,\n",
    "    'reg_lambda': 1097.6407221008512,\n",
    "    'score_function': 'L2',\n",
    "    'bagging_temperature': 859.7654401613707,\n",
    "    'grow_policy': 'Depthwise',\n",
    "    'cat_features': cat_features\n",
    "}"
   ]
  },
  {
   "cell_type": "code",
   "execution_count": 90,
   "metadata": {},
   "outputs": [],
   "source": [
    "ids = train_df['year'] != 2010\n",
    "ids = ids & (train_df['square_price'] < train_df['square_price'].quantile(0.99))"
   ]
  },
  {
   "cell_type": "code",
   "execution_count": 91,
   "metadata": {},
   "outputs": [
    {
     "data": {
      "text/plain": [
       "<catboost.core.CatBoostRegressor at 0x7f02f7014ac0>"
      ]
     },
     "execution_count": 91,
     "metadata": {},
     "output_type": "execute_result"
    }
   ],
   "source": [
    "model = cb.CatBoostRegressor(**my_params)\n",
    "model.fit(train_df.loc[ids, cat_features + num_features], train_df.loc[ids, 'square_price'], verbose=False)"
   ]
  },
  {
   "cell_type": "code",
   "execution_count": 92,
   "metadata": {},
   "outputs": [],
   "source": [
    "y_pred = model.predict(test_df[cat_features + num_features])\n",
    "test_df['square_price'] = y_pred"
   ]
  },
  {
   "cell_type": "code",
   "execution_count": 93,
   "metadata": {},
   "outputs": [],
   "source": [
    "test_df['result_price'] = test_df['square_price'] * test_df['total_area']\n",
    "test_df[['id', 'result_price']].to_csv('sub5.csv', index=None)"
   ]
  },
  {
   "cell_type": "code",
   "execution_count": 94,
   "metadata": {},
   "outputs": [
    {
     "data": {
      "text/plain": [
       "<AxesSubplot:>"
      ]
     },
     "execution_count": 94,
     "metadata": {},
     "output_type": "execute_result"
    },
    {
     "data": {
      "image/png": "[encoded data removed]",
      "text/plain": [
       "<Figure size 640x480 with 1 Axes>"
      ]
     },
     "metadata": {},
     "output_type": "display_data"
    }
   ],
   "source": [
    "test_df['result_price'].hist()"
   ]
  },
  {
   "cell_type": "code",
   "execution_count": null,
   "metadata": {},
   "outputs": [],
   "source": []
  }
 ],
 "metadata": {
  "kernelspec": {
   "display_name": "base",
   "language": "python",
   "name": "python3"
  },
  "language_info": {
   "codemirror_mode": {
    "name": "ipython",
    "version": 3
   },
   "file_extension": ".py",
   "mimetype": "text/x-python",
   "name": "python",
   "nbconvert_exporter": "python",
   "pygments_lexer": "ipython3",
   "version": "3.9.12"
  },
  "orig_nbformat": 4,
  "vscode": {
   "interpreter": {
    "hash": "af54d8ffe8b61cab9e1bcfcc3a5e2eeb6c71d1475cf011cf65945131006eac57"
   }
  }
 },
 "nbformat": 4,
 "nbformat_minor": 2
}
