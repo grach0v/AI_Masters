{
 "cells": [
  {
   "cell_type": "markdown",
   "metadata": {},
   "source": [
    "# Большое практическое задание 1\n",
    "# Классификация изображений цифр метрическими методами\n",
    "\n",
    "## курс \"Машинное обучение 1\", программа AIMasters, 2022\n",
    "\n",
    "## Студент: Грачев Денис Вадимович"
   ]
  },
  {
   "cell_type": "markdown",
   "metadata": {},
   "source": [
    "## Введение\n",
    "\n",
    "Данное задание направлено на ознакомление с метрическими алгоритмами классификации, а также методами работы с изображениями. В задании вам будет необходимо:\n",
    "\n",
    "1. Написать на языке Python собственные реализации метода ближайших соседей и кросс-валидации. Реализации должны соответствовать спецификации, описанной в прилагающихся модулях.     \n",
    "    Частично проверить правильность выполнения своих реализаций можно с помощью системы ejudge в соответствующем соревновании.\n",
    "    **Внимание.** Прохождение всех тестов в соревновании не гарантирует правильность решения.\n",
    "\n",
    "\n",
    "2. Провести описанные ниже эксперименты с датасетом изображений цифр MNIST, описать полученые результаты и ответить на предложенные вопросы.\n",
    "\n",
    "\n",
    "3. Подготовить отчёт о проделанной работе. Удалите черновые выводы, оставьте только тот код, который является ответом к пунктам задания. Сохраните ноутбук в форматах .ipynb и .html одновременно.\n",
    "\n",
    "    **Замечание.** Чтобы экспорировать jupyter notebook в .html нужно выбрать:\n",
    "    `File -> Download as -> HTML (.html).`\n",
    "    Для экспорта notebook в .html в Google Colab, воспользуйтесь [следующим кодом](https://gist.github.com/vbugaevskii/b9c6181f2ad83e11f5b9c92d315cb2de).\n",
    "Большая просьба: подписывайте свой отчет (в названии файла и внутри ноутбука).\n",
    "\n",
    "\n",
    "4. В систему проверки необходимо сдать отчёт в обоих форматах и .zip архив с написанными модулями.\n",
    "\n",
    "    Большая просьба: jupyter notebook и html файл не запаковывать в архив, а сдавать отдельно."
   ]
  },
  {
   "cell_type": "markdown",
   "metadata": {},
   "source": [
    "### Некоторые полезные советы\n",
    "\n",
    "1. Для того, чтобы не перезагружать jupyter notebook каждый раз после того, как вы внесли изменения в модуль `knn`, можно добавить ячейку с таким содержимым:\n",
    "     \n",
    "```\n",
    "    %load_ext autoreload\n",
    "    \n",
    "    %autoreload 2\n",
    "```\n",
    "   \n",
    "2. Не нужно копировать свой код из модулей в jupyter notebook, пользуйтесь им, как если бы это была библиотека. Для этого поместите директорию `knn` рядом с notebook-ом. Пример, как может выглядеть содержимое вашей рабочей директории:\n",
    "\n",
    "```\n",
    "    tree\n",
    "    ---knn\n",
    "    ------__init__.py\n",
    "    ------classification.py\n",
    "    ------distances.py\n",
    "    ------model_selection.py\n",
    "    ------nearest_neighbors.py\n",
    "    ---tests\n",
    "    ------__init__.py\n",
    "    ------test_classification.py\n",
    "    ------test_distances.py\n",
    "    ------test_model_selection.py\n",
    "    ------test_nearest_neigbours.py\n",
    "    experiments.ipynb\n",
    "```"
   ]
  },
  {
   "cell_type": "markdown",
   "metadata": {},
   "source": [
    "## Реализация алгоритмов (10 баллов)\n",
    "\n",
    "Прототипы функций должны строго соответствовать прототипам, описанным в спецификации и проходить\n",
    "все выданные тесты. Задание, не проходящее все выданные тесты, приравнивается к невыполненному. При\n",
    "написании **необходимо пользоваться** стандартными средствами языка Python и библиотекой numpy. Библиотеками scipy и scikit-learn пользоваться **запрещено**, если это не обговорено отдельно в пункте задания. Для\n",
    "экспериментов в бонусной части разрешается пользоваться любыми открытыми библиотеками, реализующими\n",
    "алгоритмы обработки изображений."
   ]
  },
  {
   "cell_type": "markdown",
   "metadata": {},
   "source": [
    "Среди предоставленных файлов должны быть следующие модули и функции в них\n",
    "\n",
    "1. Модуль `knn.distances` с реализацией функции для вычисления расстояния:\n",
    "    1. `euclidean_distance(X, Y)` — реализация евклидова расстояния с заданными свойствами;\n",
    "    2. `cosine_distance(X, Y)` — реализация косинусного расстояния с заданными свойствами;\n",
    "\n",
    "\n",
    "2. Модуль `knn.nearest_neighbors`, содержащий собственную реализацию поиска ближайших соседей.\n",
    "    \n",
    "    Класс `NearestNeighborsFinder` с методами:\n",
    "      1. `__init__(self, n_neighbors, metric=\"euclidean\")` — конструктор (инициализатор) класса;\n",
    "      2. `fit(self, X, y=None)` — обучение алгоритма;\n",
    "      3. `kneighbors(self, X, return_distance=False)` — поиск ближайших соседей.\n",
    "\n",
    "\n",
    "3. Модуль `knn.classification`, содержащий собственную реализацию классификатора на основе метода ближайших соседей.\n",
    "\n",
    "    Класс `KNNClassifier` с методами:\n",
    "    \n",
    "    1. `__init__(self, n_neighbors, algorithm=’my_own’, metric=’euclidean’, weights=’uniform’)` — конструктор (инициализатор) класса;\n",
    "    2. `fit(self, X, y=None)` — обучение алгоритма;\n",
    "    3. `kneighbors(self, X, return_distance=False)` — поиск ближайших соседей;\n",
    "    4. `predict(self, X)` — редсказание на новых данных;\n",
    "    5. `_predict_precomputed(self, indices, distances)` — вспомогательный метод.\n",
    "    \n",
    "   Класс `BatchedKNNClassifier`, полезный для работы с большими выборками, с методами:\n",
    "   \n",
    "    1. `__init__(self, n_neighbors, algorithm=’my_own’, metric=’euclidean’, weights=’uniform’, batch_size=None)` — конструктор (инициализатор) класса\n",
    "    2. `kneighbors(self, X, return_distance=False)` — поиск ближайших соседей, разбитый на несколько итераций по батчам\n",
    "    3. `set_batch_size(self, batch_size)` — метод для выставления нового значения размера батча\n",
    "\n",
    "\n",
    "4. Модуль `knn.model_selection` с реализациями функций для применения кросс-валидации:\n",
    "\n",
    "    1. `knn_cross_val_score(X, y, k_list, scoring, cv=None, **kwargs)` — функция для измерения качества на кросс-валидации."
   ]
  },
  {
   "cell_type": "markdown",
   "metadata": {},
   "source": [
    "Ожидается, что реализациия всех классов и функций будет максимально эффективной. Дополнительно вам предоставлены открытые unit-тесты, которые находятся рядом с модулем `knn` в директории `tests` Чтобы запустить тесты в консоли требуется выполнить одну из команд:\n",
    "\n",
    "\n",
    "```\n",
    "$ python -m unittest                            # запуск всех тестов\n",
    "$ python -m unittest tests/test_distances.py    # запуск конкретных тестов\n",
    "```"
   ]
  },
  {
   "cell_type": "markdown",
   "metadata": {},
   "source": [
    "## Эксперименты (15 баллов)\n",
    "\n",
    "Здесь вы можете заимпортировать всё, что вам потребуется для экспериментов:"
   ]
  },
  {
   "cell_type": "code",
   "execution_count": 1,
   "metadata": {},
   "outputs": [],
   "source": [
    "%load_ext autoreload\n",
    "\n",
    "%autoreload 2"
   ]
  },
  {
   "cell_type": "code",
   "execution_count": 2,
   "metadata": {},
   "outputs": [],
   "source": [
    "import numpy as np\n",
    "import matplotlib.pyplot as plt\n",
    "\n",
    "from knn.distances import euclidean_distance, cosine_distance \n",
    "from knn.classification import BatchedKNNClassifier\n",
    "from knn.model_selection import knn_cross_val_score\n",
    "from knn.nearest_neighbors import NearestNeighborsFinder"
   ]
  },
  {
   "cell_type": "markdown",
   "metadata": {},
   "source": [
    "### 1. Загрузка даннных\n",
    "\n",
    "Эксперименты этого задания необходимо проводить на датасете MNIST. Загрузить датасет можно при помощи функции `sklearn.datasets.fetch_openml(\"mnist_784\")` или скачать вручную с сайта\n",
    "http://yann.lecun.com/exdb/mnist/. Датасет необходимо разбить на обучающую выборку (первые 60 тыс.\n",
    "объектов) и тестовую выборку (10 тыс. последних объектов)."
   ]
  },
  {
   "cell_type": "code",
   "execution_count": 3,
   "metadata": {},
   "outputs": [],
   "source": [
    "from sklearn import datasets\n",
    "import pandas as pd\n",
    "import seaborn as sns"
   ]
  },
  {
   "cell_type": "code",
   "execution_count": 4,
   "metadata": {},
   "outputs": [
    {
     "data": {
      "text/html": [
       "<div>\n",
       "<style scoped>\n",
       "    .dataframe tbody tr th:only-of-type {\n",
       "        vertical-align: middle;\n",
       "    }\n",
       "\n",
       "    .dataframe tbody tr th {\n",
       "        vertical-align: top;\n",
       "    }\n",
       "\n",
       "    .dataframe thead th {\n",
       "        text-align: right;\n",
       "    }\n",
       "</style>\n",
       "<table border=\"1\" class=\"dataframe\">\n",
       "  <thead>\n",
       "    <tr style=\"text-align: right;\">\n",
       "      <th></th>\n",
       "      <th>pixel1</th>\n",
       "      <th>pixel2</th>\n",
       "      <th>pixel3</th>\n",
       "      <th>pixel4</th>\n",
       "      <th>pixel5</th>\n",
       "      <th>pixel6</th>\n",
       "      <th>pixel7</th>\n",
       "      <th>pixel8</th>\n",
       "      <th>pixel9</th>\n",
       "      <th>pixel10</th>\n",
       "      <th>...</th>\n",
       "      <th>pixel776</th>\n",
       "      <th>pixel777</th>\n",
       "      <th>pixel778</th>\n",
       "      <th>pixel779</th>\n",
       "      <th>pixel780</th>\n",
       "      <th>pixel781</th>\n",
       "      <th>pixel782</th>\n",
       "      <th>pixel783</th>\n",
       "      <th>pixel784</th>\n",
       "      <th>target</th>\n",
       "    </tr>\n",
       "  </thead>\n",
       "  <tbody>\n",
       "    <tr>\n",
       "      <th>0</th>\n",
       "      <td>0.0</td>\n",
       "      <td>0.0</td>\n",
       "      <td>0.0</td>\n",
       "      <td>0.0</td>\n",
       "      <td>0.0</td>\n",
       "      <td>0.0</td>\n",
       "      <td>0.0</td>\n",
       "      <td>0.0</td>\n",
       "      <td>0.0</td>\n",
       "      <td>0.0</td>\n",
       "      <td>...</td>\n",
       "      <td>0.0</td>\n",
       "      <td>0.0</td>\n",
       "      <td>0.0</td>\n",
       "      <td>0.0</td>\n",
       "      <td>0.0</td>\n",
       "      <td>0.0</td>\n",
       "      <td>0.0</td>\n",
       "      <td>0.0</td>\n",
       "      <td>0.0</td>\n",
       "      <td>5</td>\n",
       "    </tr>\n",
       "    <tr>\n",
       "      <th>1</th>\n",
       "      <td>0.0</td>\n",
       "      <td>0.0</td>\n",
       "      <td>0.0</td>\n",
       "      <td>0.0</td>\n",
       "      <td>0.0</td>\n",
       "      <td>0.0</td>\n",
       "      <td>0.0</td>\n",
       "      <td>0.0</td>\n",
       "      <td>0.0</td>\n",
       "      <td>0.0</td>\n",
       "      <td>...</td>\n",
       "      <td>0.0</td>\n",
       "      <td>0.0</td>\n",
       "      <td>0.0</td>\n",
       "      <td>0.0</td>\n",
       "      <td>0.0</td>\n",
       "      <td>0.0</td>\n",
       "      <td>0.0</td>\n",
       "      <td>0.0</td>\n",
       "      <td>0.0</td>\n",
       "      <td>0</td>\n",
       "    </tr>\n",
       "    <tr>\n",
       "      <th>2</th>\n",
       "      <td>0.0</td>\n",
       "      <td>0.0</td>\n",
       "      <td>0.0</td>\n",
       "      <td>0.0</td>\n",
       "      <td>0.0</td>\n",
       "      <td>0.0</td>\n",
       "      <td>0.0</td>\n",
       "      <td>0.0</td>\n",
       "      <td>0.0</td>\n",
       "      <td>0.0</td>\n",
       "      <td>...</td>\n",
       "      <td>0.0</td>\n",
       "      <td>0.0</td>\n",
       "      <td>0.0</td>\n",
       "      <td>0.0</td>\n",
       "      <td>0.0</td>\n",
       "      <td>0.0</td>\n",
       "      <td>0.0</td>\n",
       "      <td>0.0</td>\n",
       "      <td>0.0</td>\n",
       "      <td>4</td>\n",
       "    </tr>\n",
       "    <tr>\n",
       "      <th>3</th>\n",
       "      <td>0.0</td>\n",
       "      <td>0.0</td>\n",
       "      <td>0.0</td>\n",
       "      <td>0.0</td>\n",
       "      <td>0.0</td>\n",
       "      <td>0.0</td>\n",
       "      <td>0.0</td>\n",
       "      <td>0.0</td>\n",
       "      <td>0.0</td>\n",
       "      <td>0.0</td>\n",
       "      <td>...</td>\n",
       "      <td>0.0</td>\n",
       "      <td>0.0</td>\n",
       "      <td>0.0</td>\n",
       "      <td>0.0</td>\n",
       "      <td>0.0</td>\n",
       "      <td>0.0</td>\n",
       "      <td>0.0</td>\n",
       "      <td>0.0</td>\n",
       "      <td>0.0</td>\n",
       "      <td>1</td>\n",
       "    </tr>\n",
       "    <tr>\n",
       "      <th>4</th>\n",
       "      <td>0.0</td>\n",
       "      <td>0.0</td>\n",
       "      <td>0.0</td>\n",
       "      <td>0.0</td>\n",
       "      <td>0.0</td>\n",
       "      <td>0.0</td>\n",
       "      <td>0.0</td>\n",
       "      <td>0.0</td>\n",
       "      <td>0.0</td>\n",
       "      <td>0.0</td>\n",
       "      <td>...</td>\n",
       "      <td>0.0</td>\n",
       "      <td>0.0</td>\n",
       "      <td>0.0</td>\n",
       "      <td>0.0</td>\n",
       "      <td>0.0</td>\n",
       "      <td>0.0</td>\n",
       "      <td>0.0</td>\n",
       "      <td>0.0</td>\n",
       "      <td>0.0</td>\n",
       "      <td>9</td>\n",
       "    </tr>\n",
       "  </tbody>\n",
       "</table>\n",
       "<p>5 rows × 785 columns</p>\n",
       "</div>"
      ],
      "text/plain": [
       "  pixel1 pixel2 pixel3 pixel4 pixel5 pixel6 pixel7 pixel8 pixel9 pixel10  ...  \\\n",
       "0    0.0    0.0    0.0    0.0    0.0    0.0    0.0    0.0    0.0     0.0  ...   \n",
       "1    0.0    0.0    0.0    0.0    0.0    0.0    0.0    0.0    0.0     0.0  ...   \n",
       "2    0.0    0.0    0.0    0.0    0.0    0.0    0.0    0.0    0.0     0.0  ...   \n",
       "3    0.0    0.0    0.0    0.0    0.0    0.0    0.0    0.0    0.0     0.0  ...   \n",
       "4    0.0    0.0    0.0    0.0    0.0    0.0    0.0    0.0    0.0     0.0  ...   \n",
       "\n",
       "  pixel776 pixel777 pixel778 pixel779 pixel780 pixel781 pixel782 pixel783  \\\n",
       "0      0.0      0.0      0.0      0.0      0.0      0.0      0.0      0.0   \n",
       "1      0.0      0.0      0.0      0.0      0.0      0.0      0.0      0.0   \n",
       "2      0.0      0.0      0.0      0.0      0.0      0.0      0.0      0.0   \n",
       "3      0.0      0.0      0.0      0.0      0.0      0.0      0.0      0.0   \n",
       "4      0.0      0.0      0.0      0.0      0.0      0.0      0.0      0.0   \n",
       "\n",
       "  pixel784 target  \n",
       "0      0.0      5  \n",
       "1      0.0      0  \n",
       "2      0.0      4  \n",
       "3      0.0      1  \n",
       "4      0.0      9  \n",
       "\n",
       "[5 rows x 785 columns]"
      ]
     },
     "execution_count": 4,
     "metadata": {},
     "output_type": "execute_result"
    }
   ],
   "source": [
    "data = datasets.fetch_openml(\"mnist_784\")\n",
    "df = pd.DataFrame(\n",
    "    data=np.c_[data['data'], data['target']],\n",
    "    columns=data['feature_names'] + ['target']\n",
    ")\n",
    "\n",
    "df.head()"
   ]
  },
  {
   "cell_type": "code",
   "execution_count": 5,
   "metadata": {},
   "outputs": [],
   "source": [
    "train_X = df.iloc[:60000, :-1].values.astype(float)\n",
    "train_y = df.iloc[:60000, -1].values\n",
    "\n",
    "test_X = df.iloc[-10000:, :-1].values.astype(float)\n",
    "test_y = df.iloc[-10000:, -1].values"
   ]
  },
  {
   "cell_type": "code",
   "execution_count": 6,
   "metadata": {},
   "outputs": [
    {
     "name": "stdout",
     "output_type": "stream",
     "text": [
      "5 5\n",
      "17.5 s ± 0 ns per loop (mean ± std. dev. of 1 run, 1 loop each)\n",
      "10 10\n",
      "19 s ± 0 ns per loop (mean ± std. dev. of 1 run, 1 loop each)\n",
      "100 100\n",
      "21.8 s ± 0 ns per loop (mean ± std. dev. of 1 run, 1 loop each)\n"
     ]
    }
   ],
   "source": [
    "np.random.seed(123)\n",
    "sizes = [5, 10, 100]\n",
    "\n",
    "size_columns = {size: np.random.choice(np.arange(train_X.shape[1]), size, replace=False) for size in sizes}    \n",
    "times = {}\n",
    "\n",
    "for size, columns in size_columns.items():\n",
    "    print(size, len(columns))\n",
    "    model = BatchedKNNClassifier(n_neighbors=5, batch_size=100)\n",
    "    model.fit(train_X[:, columns], train_y)\n",
    "    result = %timeit -n 1 -r 1 -o model.predict(test_X[:, columns])\n",
    "\n",
    "    times[size] = result.timings[0]\n"
   ]
  },
  {
   "cell_type": "markdown",
   "metadata": {},
   "source": [
    "#### Приведите график / таблицу с результатами вашего эксперимента"
   ]
  },
  {
   "cell_type": "code",
   "execution_count": 7,
   "metadata": {},
   "outputs": [
    {
     "data": {
      "image/png": "[encoded data removed]",
      "text/plain": [
       "<Figure size 640x480 with 1 Axes>"
      ]
     },
     "metadata": {},
     "output_type": "display_data"
    }
   ],
   "source": [
    "plt.title('Timing of prediction depending on number of columns')\n",
    "plt.xlabel('number of columns')\n",
    "plt.ylabel('time')\n",
    "plt.plot(times.keys(), times.values())\n",
    "plt.show()"
   ]
  },
  {
   "cell_type": "markdown",
   "metadata": {},
   "source": [
    "*комментарий к старой картинке*  \n",
    "*когда я перешел от DataFrame к numpy.array картинка качественно изменилась*  \n",
    "*изначально скорость на 5 колонках была постоянно выше чем на 20*  \n",
    "  \n",
    "Результаты довольно странные  \n",
    "Попробуем запустить в обратном порядке  \n",
    "может быть дело в том что ноут разгоняется при активной работе или что-то попадает в кэш.  "
   ]
  },
  {
   "cell_type": "code",
   "execution_count": 8,
   "metadata": {},
   "outputs": [
    {
     "name": "stdout",
     "output_type": "stream",
     "text": [
      "100 100\n",
      "21.7 s ± 0 ns per loop (mean ± std. dev. of 1 run, 1 loop each)\n",
      "10 10\n",
      "19.2 s ± 0 ns per loop (mean ± std. dev. of 1 run, 1 loop each)\n",
      "5 5\n",
      "16.6 s ± 0 ns per loop (mean ± std. dev. of 1 run, 1 loop each)\n"
     ]
    }
   ],
   "source": [
    "np.random.seed(123)\n",
    "sizes = [100, 10, 5]\n",
    "\n",
    "size_columns = {size: np.random.choice(np.arange(train_X.shape[1]), size, replace=False) for size in sizes}    \n",
    "times = {}\n",
    "\n",
    "for size, columns in size_columns.items():\n",
    "    print(size, len(columns))\n",
    "    model = BatchedKNNClassifier(n_neighbors=5, batch_size=100)\n",
    "    model.fit(train_X[:, columns], train_y)\n",
    "    result = %timeit -n 1 -r 1 -o model.predict(test_X[:, columns])\n",
    "\n",
    "    times[size] = result.timings[0]\n"
   ]
  },
  {
   "cell_type": "code",
   "execution_count": 9,
   "metadata": {},
   "outputs": [
    {
     "data": {
      "image/png": "[encoded data removed]",
      "text/plain": [
       "<Figure size 640x480 with 1 Axes>"
      ]
     },
     "metadata": {},
     "output_type": "display_data"
    }
   ],
   "source": [
    "plt.title('Timing of prediction depending on number of columns')\n",
    "plt.xlabel('number of columns')\n",
    "plt.ylabel('time')\n",
    "plt.plot(times.keys(), times.values())\n",
    "plt.show()"
   ]
  },
  {
   "cell_type": "markdown",
   "metadata": {},
   "source": [
    "Судя по всему компьютер ускоряется со временем работы  \n",
    "но не точно что дело в этом"
   ]
  },
  {
   "cell_type": "code",
   "execution_count": 10,
   "metadata": {},
   "outputs": [
    {
     "name": "stdout",
     "output_type": "stream",
     "text": [
      "100 my_own\n",
      "21.5 s ± 0 ns per loop (mean ± std. dev. of 1 run, 1 loop each)\n",
      "100 brute\n",
      "21.1 s ± 0 ns per loop (mean ± std. dev. of 1 run, 1 loop each)\n",
      "100 ball_tree\n",
      "1min 36s ± 0 ns per loop (mean ± std. dev. of 1 run, 1 loop each)\n",
      "100 kd_tree\n",
      "1min 32s ± 0 ns per loop (mean ± std. dev. of 1 run, 1 loop each)\n",
      "50 my_own\n",
      "19.8 s ± 0 ns per loop (mean ± std. dev. of 1 run, 1 loop each)\n",
      "50 brute\n",
      "19.9 s ± 0 ns per loop (mean ± std. dev. of 1 run, 1 loop each)\n",
      "50 ball_tree\n",
      "1min 8s ± 0 ns per loop (mean ± std. dev. of 1 run, 1 loop each)\n",
      "50 kd_tree\n",
      "30.3 s ± 0 ns per loop (mean ± std. dev. of 1 run, 1 loop each)\n",
      "20 my_own\n",
      "19.8 s ± 0 ns per loop (mean ± std. dev. of 1 run, 1 loop each)\n",
      "20 brute\n",
      "20 s ± 0 ns per loop (mean ± std. dev. of 1 run, 1 loop each)\n",
      "20 ball_tree\n",
      "19.2 s ± 0 ns per loop (mean ± std. dev. of 1 run, 1 loop each)\n",
      "20 kd_tree\n",
      "8.97 s ± 0 ns per loop (mean ± std. dev. of 1 run, 1 loop each)\n",
      "10 my_own\n",
      "19 s ± 0 ns per loop (mean ± std. dev. of 1 run, 1 loop each)\n",
      "10 brute\n",
      "19.2 s ± 0 ns per loop (mean ± std. dev. of 1 run, 1 loop each)\n",
      "10 ball_tree\n",
      "3.99 s ± 0 ns per loop (mean ± std. dev. of 1 run, 1 loop each)\n",
      "10 kd_tree\n",
      "3.49 s ± 0 ns per loop (mean ± std. dev. of 1 run, 1 loop each)\n",
      "5 my_own\n",
      "18.9 s ± 0 ns per loop (mean ± std. dev. of 1 run, 1 loop each)\n",
      "5 brute\n",
      "19 s ± 0 ns per loop (mean ± std. dev. of 1 run, 1 loop each)\n",
      "5 ball_tree\n",
      "1.3 s ± 0 ns per loop (mean ± std. dev. of 1 run, 1 loop each)\n",
      "5 kd_tree\n",
      "748 ms ± 0 ns per loop (mean ± std. dev. of 1 run, 1 loop each)\n"
     ]
    }
   ],
   "source": [
    "np.random.seed(123)\n",
    "sizes = [100, 50, 20, 10, 5]\n",
    "\n",
    "size_columns = {size: np.random.choice(np.arange(train_X.shape[1]), size, replace=False) for size in sizes}    \n",
    "times = []\n",
    "\n",
    "for size, columns in size_columns.items():\n",
    "    for algorithm in ['my_own', 'brute', 'ball_tree', 'kd_tree']:\n",
    "        print(size, algorithm)\n",
    "        model = BatchedKNNClassifier(n_neighbors=5, batch_size=100, algorithm=algorithm)\n",
    "        model.fit(train_X[:, columns], train_y)\n",
    "        result = %timeit -n 1 -r 1 -o model.predict(test_X[:, columns])\n",
    "\n",
    "        times.append([result.timings[0], size, algorithm])\n",
    "\n",
    "times = pd.DataFrame(times, columns=['time', 'size', 'algorithm'])"
   ]
  },
  {
   "cell_type": "code",
   "execution_count": 11,
   "metadata": {},
   "outputs": [
    {
     "data": {
      "image/png": "[encoded data removed]",
      "text/plain": [
       "<Figure size 640x480 with 1 Axes>"
      ]
     },
     "metadata": {},
     "output_type": "display_data"
    }
   ],
   "source": [
    "sns.lineplot(data=times, x='size', y='time', hue='algorithm')\n",
    "plt.show()"
   ]
  },
  {
   "cell_type": "markdown",
   "metadata": {},
   "source": [
    "#### Ответьте на следующие вопросы"
   ]
  },
  {
   "cell_type": "markdown",
   "metadata": {},
   "source": [
    "1. Какой алгоритм сработал быстрее всего для каждого из размера подвыборок? Ожидали ли вы такие результаты до проведения эксперимента?\n",
    "\n",
    "   При маленьких `k` алгоритмы `kd_tree` и `ball_tree` чуть обогнали `my_own` и `brute`, однако сильно проиграли им при больших `k` "
   ]
  },
  {
   "cell_type": "markdown",
   "metadata": {},
   "source": [
    "2. Приведите теоретическую сложность каждого из алгоритмов поиска. Согласуется ли время работы алгоритмов на практике с их теоретической вычислительной сложностью? Как вы думаете, почему?\n",
    "* `my_own` и `brute` внутри используют `partition`, соответсвенно количество элементарных действий для предсказания должно линейно расти с количеством фичей.  \n",
    "  Возможно 100 достаточно маленькое число и разница между сортировкой 5 и 100 чисел не особо большая и не видна за всякими константными расходами (вызов функции и тд). Поэтому время работы примерно константно.\n",
    "* Количество элементарных операций поиска ближайшего соседа `kd_tree` и `ball` - $\\log(l)$, соответсвенно сложность предсказания не должна зависеть от размерности пространства. Это как-то совсем не соответсует эксперименту. Видимо там есть какие-то дополнительные необходимые преобразования, для того чтобы осуществить поиск ближайшего соседа, которые все таки зависят (на вид линейно, но по 4 точкам судить сложно) от количества фичей. "
   ]
  },
  {
   "cell_type": "markdown",
   "metadata": {},
   "source": [
    "3. Какой алгоритм исходя из результатов эксперимента следует использовать в дальнейшем? Выберите алгоритм поиска соседей, который вы будете использовать во всех экспериментах ниже. \n",
    "\n",
    "Мне кажется нам необходимо будет большое количество колонок, соответсвенно можно использовать `my_own`\n"
   ]
  },
  {
   "cell_type": "markdown",
   "metadata": {},
   "source": [
    "### 3. Исследование зависимости точности алгоритма на кросс-валидации (4 балла)\n",
    "\n",
    "\n",
    "Оцените по кросс-валидации с 3 фолдами точность (долю правильно предсказанных ответов) алгоритма k ближайших соседей в зависимости от следующих факторов:\n",
    "* количество соседей k от 1 до 10\n",
    "* используется евклидова или косинусная метрика"
   ]
  },
  {
   "cell_type": "code",
   "execution_count": 12,
   "metadata": {},
   "outputs": [],
   "source": [
    "from sklearn.model_selection import KFold"
   ]
  },
  {
   "cell_type": "code",
   "execution_count": 13,
   "metadata": {},
   "outputs": [],
   "source": [
    "k_list = list(range(1, 11))\n",
    "# X = df.iloc[:, :-1].values.astype(float)\n",
    "# y = df.iloc[:, -1].values"
   ]
  },
  {
   "cell_type": "code",
   "execution_count": 14,
   "metadata": {},
   "outputs": [],
   "source": [
    "accuracies_euclid = knn_cross_val_score(\n",
    "    X=train_X,\n",
    "    y=train_y, \n",
    "    k_list=k_list, \n",
    "    scoring='accuracy',\n",
    "    cv=KFold(n_splits=3),\n",
    "    batch_size=1000,\n",
    "    metric='euclidean'\n",
    ")"
   ]
  },
  {
   "cell_type": "code",
   "execution_count": 15,
   "metadata": {},
   "outputs": [],
   "source": [
    "accuracies_cosine = knn_cross_val_score(\n",
    "    X=train_X,\n",
    "    y=train_y, \n",
    "    k_list=k_list, \n",
    "    scoring='accuracy',\n",
    "    cv=KFold(n_splits=3),\n",
    "    batch_size=1000,\n",
    "    metric='cosine'\n",
    ")"
   ]
  },
  {
   "cell_type": "markdown",
   "metadata": {},
   "source": [
    "#### Нарисуйте график зависимости точности от количества соседей по каждой метрике"
   ]
  },
  {
   "cell_type": "code",
   "execution_count": 16,
   "metadata": {},
   "outputs": [
    {
     "data": {
      "image/png": "[encoded data removed]",
      "text/plain": [
       "<Figure size 640x480 with 1 Axes>"
      ]
     },
     "metadata": {},
     "output_type": "display_data"
    }
   ],
   "source": [
    "plt.title('accuracy vs n_neighbours')\n",
    "plt.plot(k_list, [np.mean(accuracies_euclid[k]) for k in k_list], label='euclidian')\n",
    "plt.plot(k_list, [np.mean(accuracies_cosine[k]) for k in k_list], label='cosine')\n",
    "\n",
    "plt.xlabel('n_neighbours')\n",
    "plt.ylabel('accuracy')\n",
    "plt.legend()\n",
    "plt.show()"
   ]
  },
  {
   "cell_type": "markdown",
   "metadata": {},
   "source": [
    "#### Ответьте на следующие вопросы"
   ]
  },
  {
   "cell_type": "markdown",
   "metadata": {},
   "source": [
    "1. По результатам эксперимента, какие гиперпараметры вы считаете наиболее оптимальными? Обоснуйте свой выбор (например, если у вас несколько наборов параметров с высоким качеством, обоснуйте как вы выберите среди этих наборов один).\n",
    "\n",
    "    * Косинусное расстояние лучше справляется чем евклидово для всех `k`.  \n",
    "    Думаю это связано с тем что разная интенсивность картинок приводит к большему евклидову расстоянию между векторами, хотя по логике не влияет на определение цифры.  \n",
    "    Наилучшим значением `k` для обоих расстояний является 3.  \n",
    "    Поэтому наилучшей из протестированных моделей является `k=3, metric='cosine'` \n",
    "\n",
    "\n",
    "2. Какая метрика лучше себя показала в экспериментах? Можете ли вы объяснить, почему?\n",
    "\n",
    "    * Как упомянулось ранее, `cosine` лучше справилась чем `euclidean`,   \n",
    "    предположительно потому что евклидово расстояние будет обращать внимание на интесивность картинки,  \n",
    "    а косинусное нет.\n",
    "    \n",
    "3. Есть ли на графике зависимости точности от количество соседей \"выбросы\", резкие падения/повышения качества для одного значения k по сравнению с соседними? Если да, предположите причину появления этих выбросов.\n",
    "\n",
    "    * Почему то есть резкое падение для `k=2` для обоих метрик.  \n",
    "    Так как мы берем моду из 2 чисел, то по сути это случайный класс из двух ближайших соседей.  \n",
    "    Для 1 это хотя бы либо ближайшая возможная картинка либо большинство голосов.  \n",
    "    По всей видимости 2 невзвешенных соседа почти всегда плохая идея."
   ]
  },
  {
   "cell_type": "markdown",
   "metadata": {},
   "source": [
    "### 3. Исследование зависимости точности взвешенного алгоритма на кросс-валидации (4 балла)\n",
    "\n",
    "По результатам предыдущего эксперимента выберите метрику, которую вы будете использовать в этом эксперименте.\n",
    "\n",
    "Оцените по кросс-валидации с 3 фолдами точность (долю правильно предсказанных ответов) взвешенного алгоритма k ближайших соседей в зависимости от количество соседей k (от 1 до 10).\n",
    "\n",
    "Голос объекта положите равным `1 / (distance + eps)`, где `eps` = `1e-5`."
   ]
  },
  {
   "cell_type": "code",
   "execution_count": 17,
   "metadata": {},
   "outputs": [],
   "source": [
    "accuracies_euclid = knn_cross_val_score(\n",
    "    X=train_X,\n",
    "    y=train_y, \n",
    "    k_list=k_list, \n",
    "    scoring='accuracy',\n",
    "    cv=KFold(n_splits=3),\n",
    "    batch_size=1000,\n",
    "    metric='euclidean',\n",
    "    weights='distance'\n",
    ")\n",
    "\n",
    "accuracies_cosine = knn_cross_val_score(\n",
    "    X=train_X,\n",
    "    y=train_y, \n",
    "    k_list=k_list, \n",
    "    scoring='accuracy',\n",
    "    cv=KFold(n_splits=3),\n",
    "    batch_size=1000,\n",
    "    metric='cosine',\n",
    "    weights='distance'\n",
    ")"
   ]
  },
  {
   "cell_type": "markdown",
   "metadata": {},
   "source": [
    "#### Нарисуйте график зависимости точности от количества соседей "
   ]
  },
  {
   "cell_type": "code",
   "execution_count": 18,
   "metadata": {},
   "outputs": [
    {
     "data": {
      "image/png": "[encoded data removed]",
      "text/plain": [
       "<Figure size 640x480 with 1 Axes>"
      ]
     },
     "metadata": {},
     "output_type": "display_data"
    }
   ],
   "source": [
    "plt.title('accuracy vs n_neighbours')\n",
    "plt.plot(k_list, [np.mean(accuracies_euclid[k]) for k in k_list], label='euclidian')\n",
    "plt.plot(k_list, [np.mean(accuracies_cosine[k]) for k in k_list], label='cosine')\n",
    "\n",
    "plt.xlabel('n_neighbours')\n",
    "plt.ylabel('accuracy')\n",
    "plt.legend()\n",
    "plt.show()"
   ]
  },
  {
   "cell_type": "markdown",
   "metadata": {},
   "source": [
    "#### Ответьте на следующие вопросы"
   ]
  },
  {
   "cell_type": "markdown",
   "metadata": {},
   "source": [
    "1. По результатам эксперимента, какие гиперпараметры вы считаете наиболее оптимальными? Обоснуйте свой выбор.\n",
    "\n",
    "   * Косинусное расстояние снова показало себя лучше в этой задаче по тем же причинам.  \n",
    "   Пропала резкое падение для `k=2`, как раз таки потому что теперь предсказания более непрерывно зависят от соседей.  \n",
    "   Наилуший параметр `k` чуть сместился и теперь равен 4."
   ]
  },
  {
   "cell_type": "markdown",
   "metadata": {},
   "source": [
    "2. Сравните результаты взвешенного алгоритма с невзвешенным. Объясните разницу/отсутствие разницы в результатах.\n",
    "\n",
    "   * Не имеет резкого падения, так как теперь соседи взвешенные и ближний вносит больший вклад.  \n",
    "   Максимум сместился вправо, что тоже логично. Так как более далекие соседи вносят меньший вклад,  \n",
    "   то необходимо больше соседей, чтобы собрать необходимое число знаичмых соседей, \n",
    "   далекие и скорее неправильные соседи вносят меньший вклад и слабее влияют на ответ."
   ]
  },
  {
   "cell_type": "markdown",
   "metadata": {},
   "source": [
    "### 4. Применение алгоритма и интерпретация ошибок (3 балла)\n",
    "\n",
    "1. Примените лучший алгоритм к исходной обучающей и тестовой выборке и посчитайте точность классификации. Сравните с точностью по кросс-валидации. Опишите ваши результаты."
   ]
  },
  {
   "cell_type": "code",
   "execution_count": 19,
   "metadata": {},
   "outputs": [],
   "source": [
    "from sklearn.metrics import accuracy_score"
   ]
  },
  {
   "cell_type": "code",
   "execution_count": 20,
   "metadata": {},
   "outputs": [
    {
     "data": {
      "text/plain": [
       "(0.9752, 0.97545, 0.9732, 0.9741)"
      ]
     },
     "execution_count": 20,
     "metadata": {},
     "output_type": "execute_result"
    }
   ],
   "source": [
    "model = BatchedKNNClassifier(n_neighbors=4, metric='cosine', weights='distance', batch_size=1000)\n",
    "model.fit(train_X, train_y)\n",
    "y_pred = model.predict(test_X)\n",
    "accuracy_score(test_y, y_pred), np.max(accuracies_cosine[4]), np.min(accuracies_cosine[4]), np.mean(accuracies_cosine[4])"
   ]
  },
  {
   "cell_type": "markdown",
   "metadata": {},
   "source": [
    "Выборка большая, модель дообучилась на фолдах примерно так же как и на всем датасете.  \n",
    "Точность на тестовой выборке не сильно отличается от точности на фолдах."
   ]
  },
  {
   "cell_type": "markdown",
   "metadata": {},
   "source": [
    "2. Постройте и проанализируйте матрицу ошибок (confusion matrix), используйте функцию `sklearn.metrics.confusion_matrix`. Визуализируйте несколько объектов из тестовой выборки, на которых были допущены ошибки. Проанализируйте и укажите их общие черты."
   ]
  },
  {
   "cell_type": "code",
   "execution_count": 21,
   "metadata": {},
   "outputs": [
    {
     "data": {
      "text/html": [
       "<div>\n",
       "<style scoped>\n",
       "    .dataframe tbody tr th:only-of-type {\n",
       "        vertical-align: middle;\n",
       "    }\n",
       "\n",
       "    .dataframe tbody tr th {\n",
       "        vertical-align: top;\n",
       "    }\n",
       "\n",
       "    .dataframe thead th {\n",
       "        text-align: right;\n",
       "    }\n",
       "</style>\n",
       "<table border=\"1\" class=\"dataframe\">\n",
       "  <thead>\n",
       "    <tr style=\"text-align: right;\">\n",
       "      <th></th>\n",
       "      <th>0</th>\n",
       "      <th>1</th>\n",
       "      <th>2</th>\n",
       "      <th>3</th>\n",
       "      <th>4</th>\n",
       "      <th>5</th>\n",
       "      <th>6</th>\n",
       "      <th>7</th>\n",
       "      <th>8</th>\n",
       "      <th>9</th>\n",
       "    </tr>\n",
       "  </thead>\n",
       "  <tbody>\n",
       "    <tr>\n",
       "      <th>0</th>\n",
       "      <td>977</td>\n",
       "      <td>1</td>\n",
       "      <td>0</td>\n",
       "      <td>0</td>\n",
       "      <td>0</td>\n",
       "      <td>0</td>\n",
       "      <td>1</td>\n",
       "      <td>1</td>\n",
       "      <td>0</td>\n",
       "      <td>0</td>\n",
       "    </tr>\n",
       "    <tr>\n",
       "      <th>1</th>\n",
       "      <td>0</td>\n",
       "      <td>1129</td>\n",
       "      <td>3</td>\n",
       "      <td>1</td>\n",
       "      <td>0</td>\n",
       "      <td>0</td>\n",
       "      <td>2</td>\n",
       "      <td>0</td>\n",
       "      <td>0</td>\n",
       "      <td>0</td>\n",
       "    </tr>\n",
       "    <tr>\n",
       "      <th>2</th>\n",
       "      <td>8</td>\n",
       "      <td>0</td>\n",
       "      <td>1009</td>\n",
       "      <td>1</td>\n",
       "      <td>1</td>\n",
       "      <td>0</td>\n",
       "      <td>0</td>\n",
       "      <td>8</td>\n",
       "      <td>5</td>\n",
       "      <td>0</td>\n",
       "    </tr>\n",
       "    <tr>\n",
       "      <th>3</th>\n",
       "      <td>0</td>\n",
       "      <td>1</td>\n",
       "      <td>3</td>\n",
       "      <td>976</td>\n",
       "      <td>1</td>\n",
       "      <td>12</td>\n",
       "      <td>0</td>\n",
       "      <td>4</td>\n",
       "      <td>9</td>\n",
       "      <td>4</td>\n",
       "    </tr>\n",
       "    <tr>\n",
       "      <th>4</th>\n",
       "      <td>2</td>\n",
       "      <td>1</td>\n",
       "      <td>0</td>\n",
       "      <td>0</td>\n",
       "      <td>946</td>\n",
       "      <td>0</td>\n",
       "      <td>6</td>\n",
       "      <td>2</td>\n",
       "      <td>0</td>\n",
       "      <td>25</td>\n",
       "    </tr>\n",
       "    <tr>\n",
       "      <th>5</th>\n",
       "      <td>4</td>\n",
       "      <td>0</td>\n",
       "      <td>0</td>\n",
       "      <td>9</td>\n",
       "      <td>1</td>\n",
       "      <td>863</td>\n",
       "      <td>7</td>\n",
       "      <td>1</td>\n",
       "      <td>4</td>\n",
       "      <td>3</td>\n",
       "    </tr>\n",
       "    <tr>\n",
       "      <th>6</th>\n",
       "      <td>3</td>\n",
       "      <td>3</td>\n",
       "      <td>0</td>\n",
       "      <td>0</td>\n",
       "      <td>1</td>\n",
       "      <td>3</td>\n",
       "      <td>948</td>\n",
       "      <td>0</td>\n",
       "      <td>0</td>\n",
       "      <td>0</td>\n",
       "    </tr>\n",
       "    <tr>\n",
       "      <th>7</th>\n",
       "      <td>2</td>\n",
       "      <td>10</td>\n",
       "      <td>4</td>\n",
       "      <td>0</td>\n",
       "      <td>1</td>\n",
       "      <td>0</td>\n",
       "      <td>0</td>\n",
       "      <td>998</td>\n",
       "      <td>0</td>\n",
       "      <td>13</td>\n",
       "    </tr>\n",
       "    <tr>\n",
       "      <th>8</th>\n",
       "      <td>7</td>\n",
       "      <td>1</td>\n",
       "      <td>2</td>\n",
       "      <td>9</td>\n",
       "      <td>3</td>\n",
       "      <td>3</td>\n",
       "      <td>5</td>\n",
       "      <td>4</td>\n",
       "      <td>936</td>\n",
       "      <td>4</td>\n",
       "    </tr>\n",
       "    <tr>\n",
       "      <th>9</th>\n",
       "      <td>7</td>\n",
       "      <td>7</td>\n",
       "      <td>2</td>\n",
       "      <td>5</td>\n",
       "      <td>7</td>\n",
       "      <td>3</td>\n",
       "      <td>1</td>\n",
       "      <td>4</td>\n",
       "      <td>3</td>\n",
       "      <td>970</td>\n",
       "    </tr>\n",
       "  </tbody>\n",
       "</table>\n",
       "</div>"
      ],
      "text/plain": [
       "     0     1     2    3    4    5    6    7    8    9\n",
       "0  977     1     0    0    0    0    1    1    0    0\n",
       "1    0  1129     3    1    0    0    2    0    0    0\n",
       "2    8     0  1009    1    1    0    0    8    5    0\n",
       "3    0     1     3  976    1   12    0    4    9    4\n",
       "4    2     1     0    0  946    0    6    2    0   25\n",
       "5    4     0     0    9    1  863    7    1    4    3\n",
       "6    3     3     0    0    1    3  948    0    0    0\n",
       "7    2    10     4    0    1    0    0  998    0   13\n",
       "8    7     1     2    9    3    3    5    4  936    4\n",
       "9    7     7     2    5    7    3    1    4    3  970"
      ]
     },
     "execution_count": 21,
     "metadata": {},
     "output_type": "execute_result"
    }
   ],
   "source": [
    "from sklearn.metrics import confusion_matrix\n",
    "\n",
    "labels = np.unique(test_y)\n",
    "matrix = confusion_matrix(test_y, y_pred, labels=labels)\n",
    "df = pd.DataFrame(matrix, columns=labels, index=labels)\n",
    "df"
   ]
  },
  {
   "cell_type": "markdown",
   "metadata": {},
   "source": [
    "В целом качество достаточно высокое.   \n",
    "Ожидаемо большее количество ошибок между цифрами, у которых много совпадающих пикселей 9 и 4, 7 и 9, 3 и 5, 7 и 1 "
   ]
  },
  {
   "cell_type": "markdown",
   "metadata": {},
   "source": [
    "## Бонус 1. Размножение обучающей выборки (3 балла)\n",
    "\n",
    "Размножьте обучающую выборку с помощью поворотов, смещений, применений гауссовского фильтра и морфологических операций. Разрешается использовать библиотеки для работы с изображениями. Подобрать по кросс-валидации с 3 фолдами параметры преобразований. Рассмотреть следующие параметры для преобразований и их комбинации:\n",
    "1. Величина поворота: 5, 10, 15 (в каждую из двух сторон)\n",
    "2. Величина смещения: 1, 2, 3 пикселя (по каждой из двух размерностей)\n",
    "3. Дисперсия фильтра Гаусса: 0.5, 1, 1.5\n",
    "4. Морфологические операции: эрозия, дилатация, открытие, закрытие с ядром 2\n",
    "\n",
    "Проанализируйте, как изменилась матрица ошибок, какие ошибки алгоритма помогает исправить каждое\n",
    "преобразование.\n",
    "\n",
    "**Замечание.** Не обязательно хранить все обучающие выборки в процессе эксперимента. Достаточно вычислить ближайших соседей по каждой из выборок, а затем выбрать из них ближайших соседей.\n",
    "\n",
    "**Замечание по дизайну эксперимента**. В этой части вам предлагается самим выбрать дизайн эксперимента. Перебор всевоможных комбинаций преобразований может быть затруднительным, в то время как жадный выбор преобразований уже даст улучшение в качестве."
   ]
  },
  {
   "cell_type": "code",
   "execution_count": 22,
   "metadata": {},
   "outputs": [
    {
     "data": {
      "image/png": "[encoded data removed]",
      "text/plain": [
       "<Figure size 480x480 with 1 Axes>"
      ]
     },
     "metadata": {},
     "output_type": "display_data"
    }
   ],
   "source": [
    "# Посмотрим какой нибудь пример\n",
    "indx = 10000\n",
    "plt.matshow(train_X[indx].reshape(28, 28))\n",
    "plt.show()"
   ]
  },
  {
   "cell_type": "code",
   "execution_count": 6,
   "metadata": {},
   "outputs": [
    {
     "ename": "ImportError",
     "evalue": "/home/denis/miniconda3/lib/python3.9/site-packages/zmq/backend/cython/../../../../.././libstdc++.so.6: version `GLIBCXX_3.4.30' not found (required by /home/denis/miniconda3/lib/python3.9/site-packages/torch/lib/libtorch_python.so)",
     "output_type": "error",
     "traceback": [
      "\u001b[0;31m---------------------------------------------------------------------------\u001b[0m",
      "\u001b[0;31mImportError\u001b[0m                               Traceback (most recent call last)",
      "\u001b[1;32m/home/denis/Documents/AI_Masters/Machine_Learning_1/hw/hw3/main_task.ipynb Cell 52\u001b[0m in \u001b[0;36m<cell line: 1>\u001b[0;34m()\u001b[0m\n\u001b[0;32m----> <a href='vscode-notebook-cell:/home/denis/Documents/AI_Masters/Machine_Learning_1/hw/hw3/main_task.ipynb#Y102sZmlsZQ%3D%3D?line=0'>1</a>\u001b[0m \u001b[39mfrom\u001b[39;00m \u001b[39mtorchvision\u001b[39;00m\u001b[39m.\u001b[39;00m\u001b[39mtransforms\u001b[39;00m \u001b[39mimport\u001b[39;00m RandomRotation\n\u001b[1;32m      <a href='vscode-notebook-cell:/home/denis/Documents/AI_Masters/Machine_Learning_1/hw/hw3/main_task.ipynb#Y102sZmlsZQ%3D%3D?line=1'>2</a>\u001b[0m \u001b[39mimport\u001b[39;00m \u001b[39mtorch\u001b[39;00m\n",
      "File \u001b[0;32m~/miniconda3/lib/python3.9/site-packages/torchvision/__init__.py:4\u001b[0m, in \u001b[0;36m<module>\u001b[0;34m\u001b[0m\n\u001b[1;32m      1\u001b[0m \u001b[39mimport\u001b[39;00m \u001b[39mos\u001b[39;00m\n\u001b[1;32m      2\u001b[0m \u001b[39mimport\u001b[39;00m \u001b[39mwarnings\u001b[39;00m\n\u001b[0;32m----> 4\u001b[0m \u001b[39mimport\u001b[39;00m \u001b[39mtorch\u001b[39;00m\n\u001b[1;32m      5\u001b[0m \u001b[39mfrom\u001b[39;00m \u001b[39mtorchvision\u001b[39;00m \u001b[39mimport\u001b[39;00m datasets\n\u001b[1;32m      6\u001b[0m \u001b[39mfrom\u001b[39;00m \u001b[39mtorchvision\u001b[39;00m \u001b[39mimport\u001b[39;00m io\n",
      "File \u001b[0;32m~/miniconda3/lib/python3.9/site-packages/torch/__init__.py:202\u001b[0m, in \u001b[0;36m<module>\u001b[0;34m\u001b[0m\n\u001b[1;32m    200\u001b[0m     \u001b[39mif\u001b[39;00m USE_GLOBAL_DEPS:\n\u001b[1;32m    201\u001b[0m         _load_global_deps()\n\u001b[0;32m--> 202\u001b[0m     \u001b[39mfrom\u001b[39;00m \u001b[39mtorch\u001b[39;00m\u001b[39m.\u001b[39;00m\u001b[39m_C\u001b[39;00m \u001b[39mimport\u001b[39;00m \u001b[39m*\u001b[39m  \u001b[39m# noqa: F403\u001b[39;00m\n\u001b[1;32m    204\u001b[0m \u001b[39m# Appease the type checker; ordinarily this binding is inserted by the\u001b[39;00m\n\u001b[1;32m    205\u001b[0m \u001b[39m# torch._C module initialization code in C\u001b[39;00m\n\u001b[1;32m    206\u001b[0m \u001b[39mif\u001b[39;00m TYPE_CHECKING:\n",
      "\u001b[0;31mImportError\u001b[0m: /home/denis/miniconda3/lib/python3.9/site-packages/zmq/backend/cython/../../../../.././libstdc++.so.6: version `GLIBCXX_3.4.30' not found (required by /home/denis/miniconda3/lib/python3.9/site-packages/torch/lib/libtorch_python.so)"
     ]
    }
   ],
   "source": [
    "from torchvision.transforms import RandomRotation\n",
    "import torch"
   ]
  },
  {
   "cell_type": "code",
   "execution_count": null,
   "metadata": {},
   "outputs": [],
   "source": [
    "rotation = RandomRotation(60)\n",
    "plt.matshow(rotation.forward(torch.tensor([train_X[indx].reshape(28, 28)])).reshape(28, 28))\n",
    "plt.show()"
   ]
  },
  {
   "cell_type": "code",
   "execution_count": null,
   "metadata": {},
   "outputs": [],
   "source": []
  },
  {
   "cell_type": "markdown",
   "metadata": {},
   "source": [
    "## Бонус 2. Размножение тестовой выборки (2 балла)\n",
    "\n",
    "Реализуйте предложенный на семинаре алгоритм, основанный на преобразовании объектов тестовой выборки.\n",
    "Проверьте то же самое множество параметров, что и в предыдущем пункте.\n",
    "\n",
    "Проанализируйте как изменилась матрица ошибок, какие ошибки алгоритма помогает исправить каждое\n",
    "преобразование."
   ]
  },
  {
   "cell_type": "code",
   "execution_count": null,
   "metadata": {},
   "outputs": [],
   "source": [
    "## your code here ##"
   ]
  },
  {
   "cell_type": "markdown",
   "metadata": {},
   "source": [
    "## Бонус 3. Сравнение подходов (1 балл)\n",
    "\n",
    "Если вы реализовали оба подхода, сравните их между собой.\n",
    "\n",
    "1. Какой подход даёт больший выигрыш в качестве и почему?\n",
    "\n",
    "    *ваш ответ*\n",
    "    \n",
    "\n",
    "2. Есть ли какие-то преимущества у худшего по качеству подхода по сравнению с лучшим?\n",
    "\n",
    "    *ваш ответ*"
   ]
  }
 ],
 "metadata": {
  "kernelspec": {
   "display_name": "Python 3.9.12 ('base')",
   "language": "python",
   "name": "python3"
  },
  "language_info": {
   "codemirror_mode": {
    "name": "ipython",
    "version": 3
   },
   "file_extension": ".py",
   "mimetype": "text/x-python",
   "name": "python",
   "nbconvert_exporter": "python",
   "pygments_lexer": "ipython3",
   "version": "3.9.12"
  },
  "vscode": {
   "interpreter": {
    "hash": "af54d8ffe8b61cab9e1bcfcc3a5e2eeb6c71d1475cf011cf65945131006eac57"
   }
  }
 },
 "nbformat": 4,
 "nbformat_minor": 4
}
