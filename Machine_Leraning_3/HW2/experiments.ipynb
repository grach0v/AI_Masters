{
 "cells": [
  {
   "cell_type": "code",
   "execution_count": null,
   "metadata": {},
   "outputs": [],
   "source": [
    "# import os\n",
    "# os.environ['CUDA_LAUNCH_BLOCKING'] = \"1\""
   ]
  },
  {
   "cell_type": "code",
   "execution_count": 1,
   "metadata": {},
   "outputs": [],
   "source": [
    "import numpy as np \n",
    "from tqdm.notebook import tqdm \n",
    "import os\n",
    "import matplotlib.pyplot as plt\n",
    "from sklearn.metrics import accuracy_score"
   ]
  },
  {
   "cell_type": "code",
   "execution_count": 2,
   "metadata": {},
   "outputs": [],
   "source": [
    "import torch\n",
    "from torch import nn\n",
    "import torch.nn.functional as F\n",
    "import torchvision\n",
    "from torchvision import transforms as T\n",
    "from torchvision.datasets import ImageFolder\n",
    "import torch.optim.lr_scheduler as lr_scheduler"
   ]
  },
  {
   "cell_type": "markdown",
   "metadata": {},
   "source": [
    "# Load"
   ]
  },
  {
   "cell_type": "code",
   "execution_count": 3,
   "metadata": {},
   "outputs": [],
   "source": [
    "transforms_simple = T.Compose([\n",
    "    T.ToTensor(), \n",
    "])\n",
    "\n",
    "train_folder = ImageFolder('tiny-imagenet-200/train', transform=transforms_simple)\n",
    "val_folder = ImageFolder('tiny-imagenet-200/val', transform=transforms_simple)\n",
    "test_folder = ImageFolder('tiny-imagenet-200/test', transform=transforms_simple)\n",
    "\n",
    "\n",
    "train_loader = torch.utils.data.DataLoader(\n",
    "    train_folder,\n",
    "    batch_size=128,\n",
    "    shuffle=True,\n",
    "    num_workers=16\n",
    ")\n",
    "\n",
    "val_loader = torch.utils.data.DataLoader(\n",
    "    val_folder,\n",
    "    batch_size=128,\n",
    "    shuffle=True,\n",
    "    num_workers=16\n",
    ")\n",
    "\n",
    "test_loader = torch.utils.data.DataLoader(\n",
    "    test_folder,\n",
    "    batch_size=128,\n",
    "    shuffle=True,\n",
    "    num_workers=16\n",
    ")"
   ]
  },
  {
   "cell_type": "code",
   "execution_count": 4,
   "metadata": {},
   "outputs": [],
   "source": [
    "mean = torch.zeros(3, dtype=float)\n",
    "mean_sq = torch.zeros(3, dtype=float)\n",
    "n = len(train_loader)\n",
    "\n",
    "for x, _ in train_loader:\n",
    "    mean += torch.mean(x, dim=(0, 2, 3))\n",
    "    mean_sq += torch.mean(x ** 2, dim=(0, 2, 3))\n",
    "\n",
    "mean /= n\n",
    "mean_sq /= n\n",
    "std = torch.sqrt(mean_sq - mean ** 2)"
   ]
  },
  {
   "cell_type": "code",
   "execution_count": 5,
   "metadata": {},
   "outputs": [
    {
     "data": {
      "text/plain": [
       "tensor([0.4802, 0.4481, 0.3976], dtype=torch.float64)"
      ]
     },
     "execution_count": 5,
     "metadata": {},
     "output_type": "execute_result"
    }
   ],
   "source": [
    "mean"
   ]
  },
  {
   "cell_type": "code",
   "execution_count": 6,
   "metadata": {},
   "outputs": [
    {
     "data": {
      "text/plain": [
       "tensor([0.2770, 0.2691, 0.2821], dtype=torch.float64)"
      ]
     },
     "execution_count": 6,
     "metadata": {},
     "output_type": "execute_result"
    }
   ],
   "source": [
    "std"
   ]
  },
  {
   "cell_type": "code",
   "execution_count": 7,
   "metadata": {},
   "outputs": [],
   "source": [
    "def tensor_to_image(tensor, mean=(0.5, 0.5, 0.5), std=(0.25, 0.25, 0.25)):\n",
    "    # mean, std ->\n",
    "    mean = torch.tensor(mean)[:, None, None]\n",
    "    std = torch.tensor(std)[:, None, None]\n",
    "\n",
    "    renormalized_tensor = mean + std * tensor\n",
    "    image = renormalized_tensor.permute(1, 2, 0).detach().cpu().numpy()\n",
    "\n",
    "    return image"
   ]
  },
  {
   "cell_type": "code",
   "execution_count": 8,
   "metadata": {},
   "outputs": [],
   "source": [
    "num_classes = len(train_folder.class_to_idx)"
   ]
  },
  {
   "cell_type": "markdown",
   "metadata": {},
   "source": [
    "# Model"
   ]
  },
  {
   "cell_type": "code",
   "execution_count": 9,
   "metadata": {},
   "outputs": [
    {
     "name": "stderr",
     "output_type": "stream",
     "text": [
      "/home/denis/miniconda3/lib/python3.10/site-packages/torchvision/models/googlenet.py:47: FutureWarning: The default weight initialization of GoogleNet will be changed in future releases of torchvision. If you wish to keep the old behavior (which leads to long initialization times due to scipy/scipy#11299), please set init_weights=True.\n",
      "  warnings.warn(\n"
     ]
    }
   ],
   "source": [
    "model = torchvision.models.GoogLeNet()"
   ]
  },
  {
   "cell_type": "code",
   "execution_count": 10,
   "metadata": {},
   "outputs": [],
   "source": [
    "# model.conv1 = nn.Conv2d(3, 192, kernel_size=7, stride=1, padding=0)\n",
    "model.conv1 = nn.Sequential(\n",
    "    nn.Conv2d(3, 64, kernel_size=5, stride=1),\n",
    "    nn.ReLU(),\n",
    "    nn.Conv2d(64, 192, kernel_size=5, stride=1)\n",
    ")\n",
    "model.conv2 = nn.Identity()\n",
    "model.conv3 = nn.Identity()\n",
    "model.maxpool2 = nn.Identity()"
   ]
  },
  {
   "cell_type": "markdown",
   "metadata": {},
   "source": [
    "# Wandb"
   ]
  },
  {
   "cell_type": "markdown",
   "metadata": {},
   "source": [
    "# Train"
   ]
  },
  {
   "cell_type": "code",
   "execution_count": 11,
   "metadata": {},
   "outputs": [
    {
     "name": "stderr",
     "output_type": "stream",
     "text": [
      "Failed to detect the name of this notebook, you can set it manually with the WANDB_NOTEBOOK_NAME environment variable to enable code saving.\n",
      "\u001b[34m\u001b[1mwandb\u001b[0m: Currently logged in as: \u001b[33mgrach0v\u001b[0m (\u001b[33mcowboy_bebop\u001b[0m). Use \u001b[1m`wandb login --relogin`\u001b[0m to force relogin\n"
     ]
    },
    {
     "data": {
      "text/html": [
       "Tracking run with wandb version 0.15.12"
      ],
      "text/plain": [
       "<IPython.core.display.HTML object>"
      ]
     },
     "metadata": {},
     "output_type": "display_data"
    },
    {
     "data": {
      "text/html": [
       "Run data is saved locally in <code>/home/denis/Documents/AI_Masters/Machine_Leraning_3/HW2/wandb/run-20231028_141012-a513d7cu</code>"
      ],
      "text/plain": [
       "<IPython.core.display.HTML object>"
      ]
     },
     "metadata": {},
     "output_type": "display_data"
    },
    {
     "data": {
      "text/html": [
       "Syncing run <strong><a href='https://wandb.ai/cowboy_bebop/hw2/runs/a513d7cu' target=\"_blank\">HooLeNet2 Lonch epochs</a></strong> to <a href='https://wandb.ai/cowboy_bebop/hw2' target=\"_blank\">Weights & Biases</a> (<a href='https://wandb.me/run' target=\"_blank\">docs</a>)<br/>"
      ],
      "text/plain": [
       "<IPython.core.display.HTML object>"
      ]
     },
     "metadata": {},
     "output_type": "display_data"
    },
    {
     "data": {
      "text/html": [
       " View project at <a href='https://wandb.ai/cowboy_bebop/hw2' target=\"_blank\">https://wandb.ai/cowboy_bebop/hw2</a>"
      ],
      "text/plain": [
       "<IPython.core.display.HTML object>"
      ]
     },
     "metadata": {},
     "output_type": "display_data"
    },
    {
     "data": {
      "text/html": [
       " View run at <a href='https://wandb.ai/cowboy_bebop/hw2/runs/a513d7cu' target=\"_blank\">https://wandb.ai/cowboy_bebop/hw2/runs/a513d7cu</a>"
      ],
      "text/plain": [
       "<IPython.core.display.HTML object>"
      ]
     },
     "metadata": {},
     "output_type": "display_data"
    },
    {
     "data": {
      "text/html": [
       "<button onClick=\"this.nextSibling.style.display='block';this.style.display='none';\">Display W&B run</button><iframe src='https://wandb.ai/cowboy_bebop/hw2/runs/a513d7cu?jupyter=true' style='border:none;width:100%;height:420px;display:none;'></iframe>"
      ],
      "text/plain": [
       "<wandb.sdk.wandb_run.Run at 0x7fab4afeac50>"
      ]
     },
     "execution_count": 11,
     "metadata": {},
     "output_type": "execute_result"
    }
   ],
   "source": [
    "import wandb\n",
    "\n",
    "config = {\n",
    "    \"learning_rate\": 3e-4,\n",
    "    \"weight_decay\": 0.05,\n",
    "    \"batch_size\": 128,\n",
    "    \"num_epochs\": 15,\n",
    "    \"optimizer\": torch.optim.AdamW,\n",
    "}\n",
    "\n",
    "wandb.init(\n",
    "    # set the wandb project where this run will be logged\n",
    "    project=\"hw2\",\n",
    "    name=\"HooLeNet2 Lonch epochs\",\n",
    "    reinit=True,\n",
    "    # track hyperparameters and run metadata\n",
    "    config=config,\n",
    ")\n"
   ]
  },
  {
   "cell_type": "code",
   "execution_count": 12,
   "metadata": {},
   "outputs": [],
   "source": [
    "def tensor_to_image(tensor, mean=(0.5, 0.5, 0.5), std=(0.25, 0.25, 0.25)):\n",
    "    # mean, std ->\n",
    "    mean = torch.tensor(mean)[:, None, None]\n",
    "    std = torch.tensor(std)[:, None, None]\n",
    "\n",
    "    renormalized_tensor = mean + std * tensor\n",
    "    image = renormalized_tensor.permute(1, 2, 0).detach().cpu().numpy()\n",
    "\n",
    "    return image"
   ]
  },
  {
   "cell_type": "code",
   "execution_count": 13,
   "metadata": {},
   "outputs": [],
   "source": [
    "def save_checkpoint(model, filename):\n",
    "\n",
    "    with open(filename, \"wb\") as fp:\n",
    "        torch.save(model.state_dict(), fp)\n",
    "\n",
    "\n",
    "def load_checkpoint(model, filename):\n",
    "\n",
    "    with open(filename, \"rb\") as fp:\n",
    "        state_dict = torch.load(fp, map_location=\"cpu\")\n",
    "    model.load_state_dict(state_dict)"
   ]
  },
  {
   "cell_type": "code",
   "execution_count": 14,
   "metadata": {},
   "outputs": [],
   "source": [
    "def run_epoch(stage, model, dataloader, loss_fn, optimizer, sheduler, epoch, device):\n",
    "    # v NOTE THIS v\n",
    "    if stage == \"train\":\n",
    "        model.train()\n",
    "        torch.set_grad_enabled(True)\n",
    "    else:\n",
    "        torch.set_grad_enabled(False)\n",
    "        model.eval()\n",
    "    # ^ NOTE THIS ^\n",
    "\n",
    "    model = model.to(device)\n",
    "\n",
    "    losses = []\n",
    "    for batch in tqdm(dataloader, total=len(dataloader), desc=f\"epoch: {str(epoch).zfill(3)} | {stage:5}\"):\n",
    "        xs, ys_true = batch\n",
    "\n",
    "        # ys_pred = model(xs.to(device))\n",
    "        # loss = loss_fn(ys_pred, ys_true.to(device))\n",
    "\n",
    "        ys_true = ys_true.to(device)\n",
    "\n",
    "        output = model(xs.to(device))\n",
    "\n",
    "        if stage == \"train\":\n",
    "            o1 = output.aux_logits1\n",
    "            o2 = output.aux_logits2\n",
    "            o3 = output.logits\n",
    "\n",
    "            loss1 = loss_fn(o1, ys_true)\n",
    "            loss2 = loss_fn(o2, ys_true)\n",
    "            loss3 = loss_fn(o3, ys_true)\n",
    "\n",
    "            loss = 0.3 * loss1 + 0.3 * loss2 + 0.4 * loss3\n",
    "\n",
    "            loss.backward()\n",
    "            optimizer.step()\n",
    "            optimizer.zero_grad()\n",
    "            \n",
    "            wandb.log({\"lr\": sheduler.get_last_lr(), \"loss\": loss3})\n",
    "\n",
    "            losses.append(loss3.detach().cpu().item())\n",
    "\n",
    "        else:\n",
    "            loss = loss_fn(output, ys_true)\n",
    "\n",
    "            losses.append(loss.detach().cpu().item())\n",
    "    \n",
    "    if stage == \"train\":\n",
    "        sheduler.step()\n",
    "\n",
    "        \n",
    "    return np.mean(losses)"
   ]
  },
  {
   "cell_type": "code",
   "execution_count": 15,
   "metadata": {},
   "outputs": [],
   "source": [
    "def run_experiment(\n",
    "    model, dataloader_train, dataloader_val, \n",
    "    loss_fn, optimizer, sheduler, num_epochs, \n",
    "    device, output_dir, start_epoch=0\n",
    "):\n",
    "    train_losses = []\n",
    "    val_losses = []\n",
    "\n",
    "    best_val_loss = np.inf\n",
    "    best_val_loss_epoch = -1\n",
    "    best_val_loss_fn = None\n",
    "\n",
    "    os.makedirs(output_dir, exist_ok=True)\n",
    "\n",
    "    for epoch in range(start_epoch, start_epoch + num_epochs):\n",
    "        train_loss = run_epoch(\"train\", model, dataloader_train, loss_fn, optimizer, sheduler, epoch, device)\n",
    "        train_losses.append(train_loss)\n",
    "\n",
    "        val_loss = run_epoch(\"val\", model, dataloader_val, loss_fn, optimizer, sheduler, epoch, device)\n",
    "        val_losses.append(val_loss)\n",
    "\n",
    "        wandb.log({\"epoch_loss_train\": train_loss, \"epoch_loss_val\": val_loss, \"epoch\": epoch})\n",
    "\n",
    "        if val_loss < best_val_loss:\n",
    "            best_val_loss = val_loss\n",
    "            best_val_loss_epoch = epoch\n",
    "\n",
    "            output_fn = os.path.join(output_dir, f\"epoch={str(epoch).zfill(2)}_valloss={best_val_loss:.3f}.pth.tar\")\n",
    "            save_checkpoint(model, output_fn)\n",
    "            print(f\"New checkpoint saved to {output_fn}\\n\")\n",
    "\n",
    "            best_val_loss_fn = output_fn\n",
    "\n",
    "    print(f\"Best val_loss = {best_val_loss:.3f} reached at epoch {best_val_loss_epoch}\")\n",
    "    load_checkpoint(model, best_val_loss_fn)\n",
    "\n",
    "    return train_losses, val_losses, best_val_loss, model\n"
   ]
  },
  {
   "cell_type": "code",
   "execution_count": 16,
   "metadata": {},
   "outputs": [],
   "source": [
    "device = torch.device(\"cuda:0\") if torch.cuda.is_available() else torch.device(\"cpu\")"
   ]
  },
  {
   "cell_type": "code",
   "execution_count": 24,
   "metadata": {},
   "outputs": [],
   "source": [
    "load_checkpoint(model, 'checkpoints_HooLeNetTorchShedulerAug/epoch=14_valloss=2.054.pth.tar')"
   ]
  },
  {
   "cell_type": "code",
   "execution_count": 25,
   "metadata": {},
   "outputs": [],
   "source": [
    "transforms_simple = T.Compose([\n",
    "    T.ToTensor(),\n",
    "    T.RandomApply(\n",
    "        torch.nn.ModuleList([T.ColorJitter(brightness=0.3, contrast=0.3, saturation=0.3)]),\n",
    "        p=0.3\n",
    "    ),\n",
    "    T.RandomHorizontalFlip(),\n",
    "    T.RandomApply(\n",
    "        torch.nn.ModuleList([T.RandomRotation(degrees=15)]),\n",
    "        p=0.3\n",
    "    ),\n",
    "    T.Normalize(mean, std) \n",
    "])\n",
    "\n",
    "train_folder = ImageFolder('tiny-imagenet-200/train', transform=transforms_simple)\n",
    "val_folder = ImageFolder('tiny-imagenet-200/val', transform=transforms_simple)\n",
    "test_folder = ImageFolder('tiny-imagenet-200/test', transform=transforms_simple)\n",
    "\n",
    "\n",
    "train_loader = torch.utils.data.DataLoader(\n",
    "    train_folder,\n",
    "    batch_size=config['batch_size'],\n",
    "    shuffle=True,\n",
    "    num_workers=16,\n",
    ")\n",
    "\n",
    "val_loader = torch.utils.data.DataLoader(\n",
    "    val_folder,\n",
    "    batch_size=config['batch_size'],\n",
    "    shuffle=True,\n",
    "    num_workers=16\n",
    ")\n",
    "\n",
    "test_loader = torch.utils.data.DataLoader(\n",
    "    test_folder,\n",
    "    batch_size=config['batch_size'],\n",
    "    shuffle=True,\n",
    "    num_workers=16\n",
    ")"
   ]
  },
  {
   "cell_type": "code",
   "execution_count": 26,
   "metadata": {},
   "outputs": [],
   "source": [
    "loss_fn = nn.CrossEntropyLoss()\n",
    "optimizer = config[\"optimizer\"](\n",
    "    model.parameters(), \n",
    "    lr=config[\"learning_rate\"], \n",
    "    weight_decay=config[\"weight_decay\"]\n",
    ")\n",
    "\n",
    "sheduler = lr_scheduler.StepLR(optimizer, step_size=10, gamma=0.3)"
   ]
  },
  {
   "cell_type": "code",
   "execution_count": 27,
   "metadata": {},
   "outputs": [],
   "source": [
    "config['num_epochs'] = 25"
   ]
  },
  {
   "cell_type": "code",
   "execution_count": 28,
   "metadata": {},
   "outputs": [
    {
     "data": {
      "application/vnd.jupyter.widget-view+json": {
       "model_id": "901154570ae84428a2e88b49d0db4d5b",
       "version_major": 2,
       "version_minor": 0
      },
      "text/plain": [
       "epoch: 000 | train:   0%|          | 0/782 [00:00<?, ?it/s]"
      ]
     },
     "metadata": {},
     "output_type": "display_data"
    },
    {
     "data": {
      "application/vnd.jupyter.widget-view+json": {
       "model_id": "85b4ff16ed3e48c39c7d6889d4d7fe60",
       "version_major": 2,
       "version_minor": 0
      },
      "text/plain": [
       "epoch: 000 | val  :   0%|          | 0/79 [00:00<?, ?it/s]"
      ]
     },
     "metadata": {},
     "output_type": "display_data"
    },
    {
     "name": "stdout",
     "output_type": "stream",
     "text": [
      "New checkpoint saved to checkpoints_HooLeNet2/epoch=00_valloss=2.449.pth.tar\n",
      "\n"
     ]
    },
    {
     "data": {
      "application/vnd.jupyter.widget-view+json": {
       "model_id": "712a0d130135405f825bde0c8810b230",
       "version_major": 2,
       "version_minor": 0
      },
      "text/plain": [
       "epoch: 001 | train:   0%|          | 0/782 [00:00<?, ?it/s]"
      ]
     },
     "metadata": {},
     "output_type": "display_data"
    },
    {
     "data": {
      "application/vnd.jupyter.widget-view+json": {
       "model_id": "2b1037c54aae403fb97415dff2ba8ba0",
       "version_major": 2,
       "version_minor": 0
      },
      "text/plain": [
       "epoch: 001 | val  :   0%|          | 0/79 [00:00<?, ?it/s]"
      ]
     },
     "metadata": {},
     "output_type": "display_data"
    },
    {
     "name": "stdout",
     "output_type": "stream",
     "text": [
      "New checkpoint saved to checkpoints_HooLeNet2/epoch=01_valloss=2.373.pth.tar\n",
      "\n"
     ]
    },
    {
     "data": {
      "application/vnd.jupyter.widget-view+json": {
       "model_id": "0928aead285c44ab8242b9298db3ba8f",
       "version_major": 2,
       "version_minor": 0
      },
      "text/plain": [
       "epoch: 002 | train:   0%|          | 0/782 [00:00<?, ?it/s]"
      ]
     },
     "metadata": {},
     "output_type": "display_data"
    },
    {
     "data": {
      "application/vnd.jupyter.widget-view+json": {
       "model_id": "f7ba4d227f7443949f7f29853e77de5d",
       "version_major": 2,
       "version_minor": 0
      },
      "text/plain": [
       "epoch: 002 | val  :   0%|          | 0/79 [00:00<?, ?it/s]"
      ]
     },
     "metadata": {},
     "output_type": "display_data"
    },
    {
     "data": {
      "application/vnd.jupyter.widget-view+json": {
       "model_id": "d2b8e3d128344511a48b4a3e5b591c1a",
       "version_major": 2,
       "version_minor": 0
      },
      "text/plain": [
       "epoch: 003 | train:   0%|          | 0/782 [00:00<?, ?it/s]"
      ]
     },
     "metadata": {},
     "output_type": "display_data"
    },
    {
     "data": {
      "application/vnd.jupyter.widget-view+json": {
       "model_id": "d488414af2254c148ede03c809082878",
       "version_major": 2,
       "version_minor": 0
      },
      "text/plain": [
       "epoch: 003 | val  :   0%|          | 0/79 [00:00<?, ?it/s]"
      ]
     },
     "metadata": {},
     "output_type": "display_data"
    },
    {
     "name": "stdout",
     "output_type": "stream",
     "text": [
      "New checkpoint saved to checkpoints_HooLeNet2/epoch=03_valloss=2.255.pth.tar\n",
      "\n"
     ]
    },
    {
     "data": {
      "application/vnd.jupyter.widget-view+json": {
       "model_id": "622eed02ee93483ebef499c110b5caae",
       "version_major": 2,
       "version_minor": 0
      },
      "text/plain": [
       "epoch: 004 | train:   0%|          | 0/782 [00:00<?, ?it/s]"
      ]
     },
     "metadata": {},
     "output_type": "display_data"
    },
    {
     "data": {
      "application/vnd.jupyter.widget-view+json": {
       "model_id": "3f0b0eeb49394ac481bca9956dd67259",
       "version_major": 2,
       "version_minor": 0
      },
      "text/plain": [
       "epoch: 004 | val  :   0%|          | 0/79 [00:00<?, ?it/s]"
      ]
     },
     "metadata": {},
     "output_type": "display_data"
    },
    {
     "data": {
      "application/vnd.jupyter.widget-view+json": {
       "model_id": "8d7df2d25b2e41eda5f88ff5025112d9",
       "version_major": 2,
       "version_minor": 0
      },
      "text/plain": [
       "epoch: 005 | train:   0%|          | 0/782 [00:00<?, ?it/s]"
      ]
     },
     "metadata": {},
     "output_type": "display_data"
    },
    {
     "data": {
      "application/vnd.jupyter.widget-view+json": {
       "model_id": "02e76aff0d384eb8976bc8aa95825cfd",
       "version_major": 2,
       "version_minor": 0
      },
      "text/plain": [
       "epoch: 005 | val  :   0%|          | 0/79 [00:00<?, ?it/s]"
      ]
     },
     "metadata": {},
     "output_type": "display_data"
    },
    {
     "name": "stdout",
     "output_type": "stream",
     "text": [
      "New checkpoint saved to checkpoints_HooLeNet2/epoch=05_valloss=2.233.pth.tar\n",
      "\n"
     ]
    },
    {
     "data": {
      "application/vnd.jupyter.widget-view+json": {
       "model_id": "581d5fbd2d2948b9a68536d334afbeea",
       "version_major": 2,
       "version_minor": 0
      },
      "text/plain": [
       "epoch: 006 | train:   0%|          | 0/782 [00:00<?, ?it/s]"
      ]
     },
     "metadata": {},
     "output_type": "display_data"
    },
    {
     "data": {
      "application/vnd.jupyter.widget-view+json": {
       "model_id": "08834770dd584323bea7a9c4e996f075",
       "version_major": 2,
       "version_minor": 0
      },
      "text/plain": [
       "epoch: 006 | val  :   0%|          | 0/79 [00:00<?, ?it/s]"
      ]
     },
     "metadata": {},
     "output_type": "display_data"
    },
    {
     "name": "stdout",
     "output_type": "stream",
     "text": [
      "New checkpoint saved to checkpoints_HooLeNet2/epoch=06_valloss=2.196.pth.tar\n",
      "\n"
     ]
    },
    {
     "data": {
      "application/vnd.jupyter.widget-view+json": {
       "model_id": "8580af97eb1e40d4b22bfa464df6ae73",
       "version_major": 2,
       "version_minor": 0
      },
      "text/plain": [
       "epoch: 007 | train:   0%|          | 0/782 [00:00<?, ?it/s]"
      ]
     },
     "metadata": {},
     "output_type": "display_data"
    },
    {
     "data": {
      "application/vnd.jupyter.widget-view+json": {
       "model_id": "07262d766c7b4a10a8e704df1f69dba1",
       "version_major": 2,
       "version_minor": 0
      },
      "text/plain": [
       "epoch: 007 | val  :   0%|          | 0/79 [00:00<?, ?it/s]"
      ]
     },
     "metadata": {},
     "output_type": "display_data"
    },
    {
     "name": "stdout",
     "output_type": "stream",
     "text": [
      "New checkpoint saved to checkpoints_HooLeNet2/epoch=07_valloss=2.132.pth.tar\n",
      "\n"
     ]
    },
    {
     "data": {
      "application/vnd.jupyter.widget-view+json": {
       "model_id": "1d63b5326e5b4f95974bdb154de67dfe",
       "version_major": 2,
       "version_minor": 0
      },
      "text/plain": [
       "epoch: 008 | train:   0%|          | 0/782 [00:00<?, ?it/s]"
      ]
     },
     "metadata": {},
     "output_type": "display_data"
    },
    {
     "data": {
      "application/vnd.jupyter.widget-view+json": {
       "model_id": "0c171be1d7b141fba6aa7a1291316cf7",
       "version_major": 2,
       "version_minor": 0
      },
      "text/plain": [
       "epoch: 008 | val  :   0%|          | 0/79 [00:00<?, ?it/s]"
      ]
     },
     "metadata": {},
     "output_type": "display_data"
    },
    {
     "data": {
      "application/vnd.jupyter.widget-view+json": {
       "model_id": "330a4d0cf1a441b184f7ade701795491",
       "version_major": 2,
       "version_minor": 0
      },
      "text/plain": [
       "epoch: 009 | train:   0%|          | 0/782 [00:00<?, ?it/s]"
      ]
     },
     "metadata": {},
     "output_type": "display_data"
    },
    {
     "data": {
      "application/vnd.jupyter.widget-view+json": {
       "model_id": "efd19dd630f84beeaf3c92f3a7685795",
       "version_major": 2,
       "version_minor": 0
      },
      "text/plain": [
       "epoch: 009 | val  :   0%|          | 0/79 [00:00<?, ?it/s]"
      ]
     },
     "metadata": {},
     "output_type": "display_data"
    },
    {
     "data": {
      "application/vnd.jupyter.widget-view+json": {
       "model_id": "7107ac1992dc4ef1bb5c29cb4e17ea87",
       "version_major": 2,
       "version_minor": 0
      },
      "text/plain": [
       "epoch: 010 | train:   0%|          | 0/782 [00:00<?, ?it/s]"
      ]
     },
     "metadata": {},
     "output_type": "display_data"
    },
    {
     "data": {
      "application/vnd.jupyter.widget-view+json": {
       "model_id": "1d04bf74948b4ebbbb691ead59b06c0e",
       "version_major": 2,
       "version_minor": 0
      },
      "text/plain": [
       "epoch: 010 | val  :   0%|          | 0/79 [00:00<?, ?it/s]"
      ]
     },
     "metadata": {},
     "output_type": "display_data"
    },
    {
     "name": "stdout",
     "output_type": "stream",
     "text": [
      "New checkpoint saved to checkpoints_HooLeNet2/epoch=10_valloss=1.873.pth.tar\n",
      "\n"
     ]
    },
    {
     "data": {
      "application/vnd.jupyter.widget-view+json": {
       "model_id": "c6146929c6f841c890a6e4842f499b4c",
       "version_major": 2,
       "version_minor": 0
      },
      "text/plain": [
       "epoch: 011 | train:   0%|          | 0/782 [00:00<?, ?it/s]"
      ]
     },
     "metadata": {},
     "output_type": "display_data"
    },
    {
     "data": {
      "application/vnd.jupyter.widget-view+json": {
       "model_id": "d6b656777abf4b96ad62bb97e898bab7",
       "version_major": 2,
       "version_minor": 0
      },
      "text/plain": [
       "epoch: 011 | val  :   0%|          | 0/79 [00:00<?, ?it/s]"
      ]
     },
     "metadata": {},
     "output_type": "display_data"
    },
    {
     "data": {
      "application/vnd.jupyter.widget-view+json": {
       "model_id": "bc077200074843799fb97308b8eae146",
       "version_major": 2,
       "version_minor": 0
      },
      "text/plain": [
       "epoch: 012 | train:   0%|          | 0/782 [00:00<?, ?it/s]"
      ]
     },
     "metadata": {},
     "output_type": "display_data"
    },
    {
     "data": {
      "application/vnd.jupyter.widget-view+json": {
       "model_id": "b9897d0bd83247e1b8cc75a31a62616a",
       "version_major": 2,
       "version_minor": 0
      },
      "text/plain": [
       "epoch: 012 | val  :   0%|          | 0/79 [00:00<?, ?it/s]"
      ]
     },
     "metadata": {},
     "output_type": "display_data"
    },
    {
     "data": {
      "application/vnd.jupyter.widget-view+json": {
       "model_id": "9266d0a625a04bef81d484afaa96f00e",
       "version_major": 2,
       "version_minor": 0
      },
      "text/plain": [
       "epoch: 013 | train:   0%|          | 0/782 [00:00<?, ?it/s]"
      ]
     },
     "metadata": {},
     "output_type": "display_data"
    },
    {
     "data": {
      "application/vnd.jupyter.widget-view+json": {
       "model_id": "94a40831306f497abf9a7f0e024fd4b1",
       "version_major": 2,
       "version_minor": 0
      },
      "text/plain": [
       "epoch: 013 | val  :   0%|          | 0/79 [00:00<?, ?it/s]"
      ]
     },
     "metadata": {},
     "output_type": "display_data"
    },
    {
     "data": {
      "application/vnd.jupyter.widget-view+json": {
       "model_id": "daa21b7d02cd4dc285a0b1b6a04bdd2b",
       "version_major": 2,
       "version_minor": 0
      },
      "text/plain": [
       "epoch: 014 | train:   0%|          | 0/782 [00:00<?, ?it/s]"
      ]
     },
     "metadata": {},
     "output_type": "display_data"
    },
    {
     "data": {
      "application/vnd.jupyter.widget-view+json": {
       "model_id": "eee35aa985e14b069a0ddb5803ac0855",
       "version_major": 2,
       "version_minor": 0
      },
      "text/plain": [
       "epoch: 014 | val  :   0%|          | 0/79 [00:00<?, ?it/s]"
      ]
     },
     "metadata": {},
     "output_type": "display_data"
    },
    {
     "data": {
      "application/vnd.jupyter.widget-view+json": {
       "model_id": "b85fde9a10364eb695ae241bdee6e9a6",
       "version_major": 2,
       "version_minor": 0
      },
      "text/plain": [
       "epoch: 015 | train:   0%|          | 0/782 [00:00<?, ?it/s]"
      ]
     },
     "metadata": {},
     "output_type": "display_data"
    },
    {
     "data": {
      "application/vnd.jupyter.widget-view+json": {
       "model_id": "80ef5ab20f734f4a85f30a2f2a5ef1a1",
       "version_major": 2,
       "version_minor": 0
      },
      "text/plain": [
       "epoch: 015 | val  :   0%|          | 0/79 [00:00<?, ?it/s]"
      ]
     },
     "metadata": {},
     "output_type": "display_data"
    },
    {
     "data": {
      "application/vnd.jupyter.widget-view+json": {
       "model_id": "7f378b7f3f804deb94bed7864abbf792",
       "version_major": 2,
       "version_minor": 0
      },
      "text/plain": [
       "epoch: 016 | train:   0%|          | 0/782 [00:00<?, ?it/s]"
      ]
     },
     "metadata": {},
     "output_type": "display_data"
    },
    {
     "data": {
      "application/vnd.jupyter.widget-view+json": {
       "model_id": "8b39ff163a194a18bd5f27cdebc3a00e",
       "version_major": 2,
       "version_minor": 0
      },
      "text/plain": [
       "epoch: 016 | val  :   0%|          | 0/79 [00:00<?, ?it/s]"
      ]
     },
     "metadata": {},
     "output_type": "display_data"
    },
    {
     "data": {
      "application/vnd.jupyter.widget-view+json": {
       "model_id": "577d57d044794ab79508cb5d9e1409ba",
       "version_major": 2,
       "version_minor": 0
      },
      "text/plain": [
       "epoch: 017 | train:   0%|          | 0/782 [00:00<?, ?it/s]"
      ]
     },
     "metadata": {},
     "output_type": "display_data"
    },
    {
     "data": {
      "application/vnd.jupyter.widget-view+json": {
       "model_id": "fc3eeb34401744a1ae1b56c8f1c22df9",
       "version_major": 2,
       "version_minor": 0
      },
      "text/plain": [
       "epoch: 017 | val  :   0%|          | 0/79 [00:00<?, ?it/s]"
      ]
     },
     "metadata": {},
     "output_type": "display_data"
    },
    {
     "data": {
      "application/vnd.jupyter.widget-view+json": {
       "model_id": "7fbe5a3599664fe6a71579160fc8615c",
       "version_major": 2,
       "version_minor": 0
      },
      "text/plain": [
       "epoch: 018 | train:   0%|          | 0/782 [00:00<?, ?it/s]"
      ]
     },
     "metadata": {},
     "output_type": "display_data"
    },
    {
     "data": {
      "application/vnd.jupyter.widget-view+json": {
       "model_id": "512042a9f7364fea906f47ddd65db84e",
       "version_major": 2,
       "version_minor": 0
      },
      "text/plain": [
       "epoch: 018 | val  :   0%|          | 0/79 [00:00<?, ?it/s]"
      ]
     },
     "metadata": {},
     "output_type": "display_data"
    },
    {
     "data": {
      "application/vnd.jupyter.widget-view+json": {
       "model_id": "865dac18587d4b5c9a976d7662442d6d",
       "version_major": 2,
       "version_minor": 0
      },
      "text/plain": [
       "epoch: 019 | train:   0%|          | 0/782 [00:00<?, ?it/s]"
      ]
     },
     "metadata": {},
     "output_type": "display_data"
    },
    {
     "data": {
      "application/vnd.jupyter.widget-view+json": {
       "model_id": "d1efb7eaa4f04de29f1d02cd24492bb7",
       "version_major": 2,
       "version_minor": 0
      },
      "text/plain": [
       "epoch: 019 | val  :   0%|          | 0/79 [00:00<?, ?it/s]"
      ]
     },
     "metadata": {},
     "output_type": "display_data"
    },
    {
     "data": {
      "application/vnd.jupyter.widget-view+json": {
       "model_id": "2be6787d48824ce798605e97458f8bcb",
       "version_major": 2,
       "version_minor": 0
      },
      "text/plain": [
       "epoch: 020 | train:   0%|          | 0/782 [00:00<?, ?it/s]"
      ]
     },
     "metadata": {},
     "output_type": "display_data"
    },
    {
     "data": {
      "application/vnd.jupyter.widget-view+json": {
       "model_id": "563cf114f20940859197434491aae5d5",
       "version_major": 2,
       "version_minor": 0
      },
      "text/plain": [
       "epoch: 020 | val  :   0%|          | 0/79 [00:00<?, ?it/s]"
      ]
     },
     "metadata": {},
     "output_type": "display_data"
    },
    {
     "data": {
      "application/vnd.jupyter.widget-view+json": {
       "model_id": "e6c1d012d4c0406da24b1d3f9103aa6a",
       "version_major": 2,
       "version_minor": 0
      },
      "text/plain": [
       "epoch: 021 | train:   0%|          | 0/782 [00:00<?, ?it/s]"
      ]
     },
     "metadata": {},
     "output_type": "display_data"
    },
    {
     "data": {
      "application/vnd.jupyter.widget-view+json": {
       "model_id": "553a77c045e2497f8a7d84046a9fdc1e",
       "version_major": 2,
       "version_minor": 0
      },
      "text/plain": [
       "epoch: 021 | val  :   0%|          | 0/79 [00:00<?, ?it/s]"
      ]
     },
     "metadata": {},
     "output_type": "display_data"
    },
    {
     "data": {
      "application/vnd.jupyter.widget-view+json": {
       "model_id": "78ae2c99df25423e8ba02b0dfdb8ce28",
       "version_major": 2,
       "version_minor": 0
      },
      "text/plain": [
       "epoch: 022 | train:   0%|          | 0/782 [00:00<?, ?it/s]"
      ]
     },
     "metadata": {},
     "output_type": "display_data"
    },
    {
     "data": {
      "application/vnd.jupyter.widget-view+json": {
       "model_id": "182880e2585142ed86b10b589ee83a1b",
       "version_major": 2,
       "version_minor": 0
      },
      "text/plain": [
       "epoch: 022 | val  :   0%|          | 0/79 [00:00<?, ?it/s]"
      ]
     },
     "metadata": {},
     "output_type": "display_data"
    },
    {
     "data": {
      "application/vnd.jupyter.widget-view+json": {
       "model_id": "677d075254d649bd807bdfbad33a383e",
       "version_major": 2,
       "version_minor": 0
      },
      "text/plain": [
       "epoch: 023 | train:   0%|          | 0/782 [00:00<?, ?it/s]"
      ]
     },
     "metadata": {},
     "output_type": "display_data"
    },
    {
     "data": {
      "application/vnd.jupyter.widget-view+json": {
       "model_id": "646881639a2947f884a04f4fb3795fa5",
       "version_major": 2,
       "version_minor": 0
      },
      "text/plain": [
       "epoch: 023 | val  :   0%|          | 0/79 [00:00<?, ?it/s]"
      ]
     },
     "metadata": {},
     "output_type": "display_data"
    },
    {
     "data": {
      "application/vnd.jupyter.widget-view+json": {
       "model_id": "f18e1e85397d407faf7a9489caf13f36",
       "version_major": 2,
       "version_minor": 0
      },
      "text/plain": [
       "epoch: 024 | train:   0%|          | 0/782 [00:00<?, ?it/s]"
      ]
     },
     "metadata": {},
     "output_type": "display_data"
    },
    {
     "data": {
      "application/vnd.jupyter.widget-view+json": {
       "model_id": "30c9bccd1e544759b4a1cc838d93ac31",
       "version_major": 2,
       "version_minor": 0
      },
      "text/plain": [
       "epoch: 024 | val  :   0%|          | 0/79 [00:00<?, ?it/s]"
      ]
     },
     "metadata": {},
     "output_type": "display_data"
    },
    {
     "name": "stdout",
     "output_type": "stream",
     "text": [
      "Best val_loss = 1.873 reached at epoch 10\n"
     ]
    }
   ],
   "source": [
    "train_losses_baseline, val_losses_baseline, best_val_loss_baseline, cnn_baseline = run_experiment(\n",
    "    model,\n",
    "    train_loader,\n",
    "    val_loader,\n",
    "    loss_fn,\n",
    "    optimizer,\n",
    "    sheduler,\n",
    "    config[\"num_epochs\"],\n",
    "    device,\n",
    "    \"checkpoints_HooLeNet2\",\n",
    ")"
   ]
  },
  {
   "cell_type": "code",
   "execution_count": 29,
   "metadata": {},
   "outputs": [],
   "source": [
    "def plot_losses(train_losses, val_losses, title):\n",
    "    plt.figure(figsize=(12, 5))\n",
    "    plt.title(title)\n",
    "    plt.plot(train_losses, label=\"train\")\n",
    "    plt.plot(val_losses, label=\"val\")\n",
    "    plt.xlabel(\"epoch\")\n",
    "    plt.ylabel(\"loss\")\n",
    "    plt.grid(True)\n",
    "    plt.legend()\n",
    "    plt.show()"
   ]
  },
  {
   "cell_type": "code",
   "execution_count": 30,
   "metadata": {},
   "outputs": [
    {
     "data": {
      "image/png": "[encoded data removed]",
      "text/plain": [
       "<Figure size 1200x500 with 1 Axes>"
      ]
     },
     "metadata": {},
     "output_type": "display_data"
    }
   ],
   "source": [
    "plot_losses(train_losses_baseline, val_losses_baseline, title=\"cnn_baseline\")"
   ]
  },
  {
   "cell_type": "code",
   "execution_count": 31,
   "metadata": {},
   "outputs": [],
   "source": [
    "def collect_predictions(model, dataloader, device):\n",
    "    model.eval()\n",
    "    model = model.to(device)\n",
    "    torch.set_grad_enabled(False)\n",
    "\n",
    "    labels_all = []\n",
    "    probs_all = []\n",
    "    preds_all = []\n",
    "    for batch in tqdm(dataloader, total=len(dataloader)):\n",
    "        images, labels = batch\n",
    "\n",
    "        logits = model(images.to(device)).cpu()\n",
    "        probs = logits.softmax(dim=1)\n",
    "        max_prob, max_prob_index = torch.max(probs, dim=1)\n",
    "\n",
    "        labels_all.extend(labels.numpy().tolist())\n",
    "        probs_all.extend(max_prob.numpy().tolist())\n",
    "        preds_all.extend(max_prob_index.numpy().tolist())\n",
    "\n",
    "    return labels_all, probs_all, preds_all"
   ]
  },
  {
   "cell_type": "code",
   "execution_count": 32,
   "metadata": {},
   "outputs": [
    {
     "data": {
      "application/vnd.jupyter.widget-view+json": {
       "model_id": "49f36d73012a48b38208205df7e38134",
       "version_major": 2,
       "version_minor": 0
      },
      "text/plain": [
       "  0%|          | 0/782 [00:00<?, ?it/s]"
      ]
     },
     "metadata": {},
     "output_type": "display_data"
    },
    {
     "data": {
      "text/plain": [
       "0.75511"
      ]
     },
     "execution_count": 32,
     "metadata": {},
     "output_type": "execute_result"
    }
   ],
   "source": [
    "train_labels, train_probs, train_preds = collect_predictions(cnn_baseline, train_loader, device)\n",
    "\n",
    "accuracy_train = accuracy_score(train_labels, train_preds)\n",
    "accuracy_train"
   ]
  },
  {
   "cell_type": "code",
   "execution_count": 33,
   "metadata": {},
   "outputs": [
    {
     "data": {
      "application/vnd.jupyter.widget-view+json": {
       "model_id": "a8e053de7f644bf5b1dab013d9ae8931",
       "version_major": 2,
       "version_minor": 0
      },
      "text/plain": [
       "  0%|          | 0/79 [00:00<?, ?it/s]"
      ]
     },
     "metadata": {},
     "output_type": "display_data"
    },
    {
     "data": {
      "text/plain": [
       "0.0037"
      ]
     },
     "execution_count": 33,
     "metadata": {},
     "output_type": "execute_result"
    }
   ],
   "source": [
    "test_labels, test_probs, test_preds = collect_predictions(cnn_baseline, test_loader, device)\n",
    "\n",
    "accuracy_train = accuracy_score(test_labels, test_preds)\n",
    "accuracy_train"
   ]
  },
  {
   "cell_type": "code",
   "execution_count": 38,
   "metadata": {},
   "outputs": [
    {
     "data": {
      "text/plain": [
       "0.0051"
      ]
     },
     "execution_count": 38,
     "metadata": {},
     "output_type": "execute_result"
    }
   ],
   "source": [
    "accuracy_score(test_labels, np.random.randint(low=0, high=200, size=len(test_preds)))"
   ]
  },
  {
   "cell_type": "code",
   "execution_count": 34,
   "metadata": {},
   "outputs": [
    {
     "data": {
      "text/html": [
       "Waiting for W&B process to finish... <strong style=\"color:green\">(success).</strong>"
      ],
      "text/plain": [
       "<IPython.core.display.HTML object>"
      ]
     },
     "metadata": {},
     "output_type": "display_data"
    },
    {
     "name": "stderr",
     "output_type": "stream",
     "text": [
      "wandb: WARNING Source type is set to 'repo' but some required information is missing from the environment. A job will not be created from this run. See https://docs.wandb.ai/guides/launch/create-job\n"
     ]
    },
    {
     "data": {
      "application/vnd.jupyter.widget-view+json": {
       "model_id": "a5a9a682885343d7a542adf4d05d7478",
       "version_major": 2,
       "version_minor": 0
      },
      "text/plain": [
       "VBox(children=(Label(value='0.003 MB of 0.019 MB uploaded (0.000 MB deduped)\\r'), FloatProgress(value=0.146456…"
      ]
     },
     "metadata": {},
     "output_type": "display_data"
    },
    {
     "data": {
      "text/html": [
       "<style>\n",
       "    table.wandb td:nth-child(1) { padding: 0 10px; text-align: left ; width: auto;} td:nth-child(2) {text-align: left ; width: 100%}\n",
       "    .wandb-row { display: flex; flex-direction: row; flex-wrap: wrap; justify-content: flex-start; width: 100% }\n",
       "    .wandb-col { display: flex; flex-direction: column; flex-basis: 100%; flex: 1; padding: 10px; }\n",
       "    </style>\n",
       "<div class=\"wandb-row\"><div class=\"wandb-col\"><h3>Run history:</h3><br/><table class=\"wandb\"><tr><td>epoch</td><td>▁▁▁▂▂▂▂▃▃▃▄▄▄▅▅▅▅▆▆▆▇▇▇▇██</td></tr><tr><td>epoch_loss_train</td><td>███▇▇▇▆▆▆▅▅▄▃▃▃▃▃▂▂▂▂▁▁▁▁▁</td></tr><tr><td>epoch_loss_val</td><td>▇▇▆█▅▆▅▄▄▆▅▁▁▁▁▁▂▂▂▃▂▂▂▂▂▃</td></tr><tr><td>loss</td><td>█▇▆▇█▆█▆▆▆▅▅▅▅▆▅▅▄▄▃▂▃▂▃▄▂▃▂▂▂▂▁▂▂▁▁▁▁▁▁</td></tr></table><br/></div><div class=\"wandb-col\"><h3>Run summary:</h3><br/><table class=\"wandb\"><tr><td>epoch</td><td>24</td></tr><tr><td>epoch_loss_train</td><td>0.4525</td></tr><tr><td>epoch_loss_val</td><td>2.02892</td></tr><tr><td>loss</td><td>0.76241</td></tr></table><br/></div></div>"
      ],
      "text/plain": [
       "<IPython.core.display.HTML object>"
      ]
     },
     "metadata": {},
     "output_type": "display_data"
    },
    {
     "data": {
      "text/html": [
       " View run <strong style=\"color:#cdcd00\">HooLeNet2 Lonch epochs</strong> at: <a href='https://wandb.ai/cowboy_bebop/hw2/runs/a513d7cu' target=\"_blank\">https://wandb.ai/cowboy_bebop/hw2/runs/a513d7cu</a><br/>Synced 6 W&B file(s), 0 media file(s), 0 artifact file(s) and 0 other file(s)"
      ],
      "text/plain": [
       "<IPython.core.display.HTML object>"
      ]
     },
     "metadata": {},
     "output_type": "display_data"
    },
    {
     "data": {
      "text/html": [
       "Find logs at: <code>./wandb/run-20231028_141012-a513d7cu/logs</code>"
      ],
      "text/plain": [
       "<IPython.core.display.HTML object>"
      ]
     },
     "metadata": {},
     "output_type": "display_data"
    }
   ],
   "source": [
    "wandb.finish()"
   ]
  },
  {
   "cell_type": "code",
   "execution_count": null,
   "metadata": {},
   "outputs": [],
   "source": []
  }
 ],
 "metadata": {
  "kernelspec": {
   "display_name": "base",
   "language": "python",
   "name": "python3"
  },
  "language_info": {
   "codemirror_mode": {
    "name": "ipython",
    "version": 3
   },
   "file_extension": ".py",
   "mimetype": "text/x-python",
   "name": "python",
   "nbconvert_exporter": "python",
   "pygments_lexer": "ipython3",
   "version": "3.10.10"
  }
 },
 "nbformat": 4,
 "nbformat_minor": 2
}
