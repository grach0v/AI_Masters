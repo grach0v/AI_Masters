{
 "cells": [
  {
   "cell_type": "code",
   "execution_count": 1,
   "metadata": {},
   "outputs": [],
   "source": [
    "# import os\n",
    "# os.environ['CUDA_LAUNCH_BLOCKING'] = \"1\""
   ]
  },
  {
   "cell_type": "code",
   "execution_count": 2,
   "metadata": {},
   "outputs": [],
   "source": [
    "import numpy as np \n",
    "from tqdm.notebook import tqdm \n",
    "import os\n",
    "import matplotlib.pyplot as plt\n",
    "from sklearn.metrics import accuracy_score"
   ]
  },
  {
   "cell_type": "code",
   "execution_count": 3,
   "metadata": {},
   "outputs": [],
   "source": [
    "import torch\n",
    "from torch import nn\n",
    "import torch.nn.functional as F\n",
    "import torchvision\n",
    "from torchvision import transforms as T\n",
    "from torchvision.datasets import ImageFolder"
   ]
  },
  {
   "cell_type": "markdown",
   "metadata": {},
   "source": [
    "# Load"
   ]
  },
  {
   "cell_type": "code",
   "execution_count": 4,
   "metadata": {},
   "outputs": [],
   "source": [
    "transforms_simple = T.Compose([\n",
    "    T.ToTensor(), \n",
    "])\n",
    "\n",
    "train_folder = ImageFolder('tiny-imagenet-200/train', transform=transforms_simple)\n",
    "val_folder = ImageFolder('tiny-imagenet-200/val', transform=transforms_simple)\n",
    "test_folder = ImageFolder('tiny-imagenet-200/test', transform=transforms_simple)\n",
    "\n",
    "\n",
    "train_loader = torch.utils.data.DataLoader(\n",
    "    train_folder,\n",
    "    batch_size=128,\n",
    "    shuffle=True,\n",
    "    num_workers=16\n",
    ")\n",
    "\n",
    "val_loader = torch.utils.data.DataLoader(\n",
    "    val_folder,\n",
    "    batch_size=128,\n",
    "    shuffle=True,\n",
    "    num_workers=16\n",
    ")\n",
    "\n",
    "test_loader = torch.utils.data.DataLoader(\n",
    "    test_folder,\n",
    "    batch_size=128,\n",
    "    shuffle=True,\n",
    "    num_workers=16\n",
    ")"
   ]
  },
  {
   "cell_type": "code",
   "execution_count": 5,
   "metadata": {},
   "outputs": [],
   "source": [
    "mean = torch.zeros(3, dtype=float)\n",
    "mean_sq = torch.zeros(3, dtype=float)\n",
    "n = len(train_loader)\n",
    "\n",
    "for x, _ in train_loader:\n",
    "    mean += torch.mean(x, dim=(0, 2, 3))\n",
    "    mean_sq += torch.mean(x ** 2, dim=(0, 2, 3))\n",
    "\n",
    "mean /= n\n",
    "mean_sq /= n\n",
    "std = torch.sqrt(mean_sq - mean ** 2)"
   ]
  },
  {
   "cell_type": "code",
   "execution_count": 6,
   "metadata": {},
   "outputs": [
    {
     "data": {
      "text/plain": [
       "tensor([0.4802, 0.4481, 0.3975], dtype=torch.float64)"
      ]
     },
     "execution_count": 6,
     "metadata": {},
     "output_type": "execute_result"
    }
   ],
   "source": [
    "mean"
   ]
  },
  {
   "cell_type": "code",
   "execution_count": 7,
   "metadata": {},
   "outputs": [
    {
     "data": {
      "text/plain": [
       "tensor([0.2770, 0.2691, 0.2821], dtype=torch.float64)"
      ]
     },
     "execution_count": 7,
     "metadata": {},
     "output_type": "execute_result"
    }
   ],
   "source": [
    "std"
   ]
  },
  {
   "cell_type": "code",
   "execution_count": 8,
   "metadata": {},
   "outputs": [],
   "source": [
    "def tensor_to_image(tensor, mean=(0.5, 0.5, 0.5), std=(0.25, 0.25, 0.25)):\n",
    "    # mean, std ->\n",
    "    mean = torch.tensor(mean)[:, None, None]\n",
    "    std = torch.tensor(std)[:, None, None]\n",
    "\n",
    "    renormalized_tensor = mean + std * tensor\n",
    "    image = renormalized_tensor.permute(1, 2, 0).detach().cpu().numpy()\n",
    "\n",
    "    return image"
   ]
  },
  {
   "cell_type": "code",
   "execution_count": 9,
   "metadata": {},
   "outputs": [],
   "source": [
    "num_classes = len(train_folder.class_to_idx)"
   ]
  },
  {
   "cell_type": "markdown",
   "metadata": {},
   "source": [
    "# Model"
   ]
  },
  {
   "cell_type": "code",
   "execution_count": 10,
   "metadata": {},
   "outputs": [
    {
     "name": "stderr",
     "output_type": "stream",
     "text": [
      "/home/denis/miniconda3/lib/python3.10/site-packages/torchvision/models/googlenet.py:47: FutureWarning: The default weight initialization of GoogleNet will be changed in future releases of torchvision. If you wish to keep the old behavior (which leads to long initialization times due to scipy/scipy#11299), please set init_weights=True.\n",
      "  warnings.warn(\n"
     ]
    }
   ],
   "source": [
    "model = torchvision.models.GoogLeNet()"
   ]
  },
  {
   "cell_type": "code",
   "execution_count": 11,
   "metadata": {},
   "outputs": [],
   "source": [
    "x = torch.randn(size=(64, 3, 224, 224))"
   ]
  },
  {
   "cell_type": "code",
   "execution_count": 12,
   "metadata": {},
   "outputs": [
    {
     "data": {
      "text/plain": [
       "GoogLeNetOutputs(logits=tensor([[-0.0904, -0.0346,  0.2383,  ...,  0.0234, -0.0612, -0.0450],\n",
       "        [-0.0503,  0.1403,  0.2505,  ...,  0.1595,  0.1358, -0.1225],\n",
       "        [ 0.0295,  0.1712,  0.1822,  ..., -0.0428,  0.0453, -0.1249],\n",
       "        ...,\n",
       "        [-0.0184,  0.1551,  0.3455,  ...,  0.0807,  0.0710,  0.1599],\n",
       "        [ 0.0992,  0.0832,  0.1853,  ...,  0.2322,  0.1188,  0.0349],\n",
       "        [-0.0242,  0.0131,  0.3449,  ..., -0.0069, -0.2287, -0.1564]],\n",
       "       grad_fn=<AddmmBackward0>), aux_logits2=tensor([[-0.0916, -0.0648, -0.0915,  ..., -0.2197,  0.0217,  0.2769],\n",
       "        [-0.1986,  0.1172, -0.1483,  ...,  0.0296,  0.1006,  0.0825],\n",
       "        [ 0.1765,  0.0647,  0.0667,  ..., -0.0886, -0.1305,  0.0376],\n",
       "        ...,\n",
       "        [ 0.0047,  0.0504,  0.0487,  ..., -0.1174, -0.2523,  0.0206],\n",
       "        [-0.1777, -0.0349, -0.1528,  ..., -0.0964,  0.1162,  0.1634],\n",
       "        [-0.0320, -0.0071, -0.0380,  ...,  0.1406,  0.0603, -0.0623]],\n",
       "       grad_fn=<AddmmBackward0>), aux_logits1=tensor([[ 0.0497, -0.1187,  0.0540,  ...,  0.0556,  0.0103, -0.0168],\n",
       "        [-0.0547, -0.0016,  0.1501,  ...,  0.0160, -0.1253,  0.2173],\n",
       "        [-0.0627, -0.1363,  0.1192,  ..., -0.0511,  0.0703,  0.0408],\n",
       "        ...,\n",
       "        [ 0.0304,  0.0407,  0.1662,  ...,  0.0215,  0.1024,  0.1106],\n",
       "        [ 0.0466, -0.0471,  0.0898,  ..., -0.0395, -0.1208,  0.1339],\n",
       "        [-0.1505, -0.1520, -0.0576,  ...,  0.0709, -0.0891, -0.0088]],\n",
       "       grad_fn=<AddmmBackward0>))"
      ]
     },
     "execution_count": 12,
     "metadata": {},
     "output_type": "execute_result"
    }
   ],
   "source": [
    "model(x)"
   ]
  },
  {
   "cell_type": "code",
   "execution_count": 13,
   "metadata": {},
   "outputs": [],
   "source": [
    "model.conv1 = nn.Conv2d(3, 192, kernel_size=7, stride=1, padding=0)\n",
    "model.conv2 = nn.Identity()\n",
    "model.conv3 = nn.Identity()\n",
    "model.maxpool2 = nn.Identity()"
   ]
  },
  {
   "cell_type": "code",
   "execution_count": 14,
   "metadata": {},
   "outputs": [],
   "source": [
    "x = torch.randn(size=(64, 3, 64, 64))"
   ]
  },
  {
   "cell_type": "code",
   "execution_count": 15,
   "metadata": {},
   "outputs": [],
   "source": [
    "output = model(x)"
   ]
  },
  {
   "cell_type": "code",
   "execution_count": 16,
   "metadata": {},
   "outputs": [
    {
     "data": {
      "text/plain": [
       "tensor([[ 0.0111,  0.0105, -0.0724,  ...,  0.1127,  0.0096,  0.1245],\n",
       "        [-0.1483,  0.0340,  0.0853,  ...,  0.0449, -0.0145,  0.0956],\n",
       "        [ 0.0172,  0.0025, -0.2239,  ..., -0.2397,  0.1608,  0.1327],\n",
       "        ...,\n",
       "        [-0.0627, -0.0690,  0.0900,  ...,  0.1117,  0.0447,  0.0211],\n",
       "        [-0.0111,  0.1299, -0.1429,  ...,  0.1177,  0.0674,  0.1810],\n",
       "        [-0.0124, -0.1700,  0.0061,  ...,  0.1732,  0.0540,  0.0401]],\n",
       "       grad_fn=<AddmmBackward0>)"
      ]
     },
     "execution_count": 16,
     "metadata": {},
     "output_type": "execute_result"
    }
   ],
   "source": [
    "output.aux_logits1"
   ]
  },
  {
   "cell_type": "code",
   "execution_count": 17,
   "metadata": {},
   "outputs": [
    {
     "data": {
      "text/plain": [
       "tensor([[-0.2154,  0.0481,  0.0331,  ...,  0.1148, -0.1310, -0.0960],\n",
       "        [-0.0074, -0.0676,  0.0359,  ...,  0.1814, -0.1694,  0.0574],\n",
       "        [ 0.0882,  0.1299, -0.0455,  ...,  0.0230, -0.1977, -0.1973],\n",
       "        ...,\n",
       "        [ 0.1367, -0.1174,  0.1432,  ...,  0.0313, -0.1833, -0.0070],\n",
       "        [ 0.1102,  0.0829, -0.2374,  ..., -0.2309, -0.0464,  0.1153],\n",
       "        [ 0.0038,  0.1656,  0.0906,  ..., -0.0721, -0.0625, -0.2257]],\n",
       "       grad_fn=<AddmmBackward0>)"
      ]
     },
     "execution_count": 17,
     "metadata": {},
     "output_type": "execute_result"
    }
   ],
   "source": [
    "output.aux_logits2"
   ]
  },
  {
   "cell_type": "code",
   "execution_count": 18,
   "metadata": {},
   "outputs": [
    {
     "data": {
      "text/plain": [
       "tensor([[-0.1151, -0.0124,  0.2607,  ...,  0.0035, -0.0752, -0.1208],\n",
       "        [-0.0427,  0.0281,  0.1456,  ..., -0.0306,  0.0027, -0.1145],\n",
       "        [-0.0279,  0.0223,  0.2120,  ...,  0.0106, -0.0478, -0.0817],\n",
       "        ...,\n",
       "        [-0.1688,  0.0154,  0.1506,  ...,  0.0662,  0.0583, -0.0531],\n",
       "        [-0.0084,  0.1936,  0.2095,  ...,  0.1120,  0.0652,  0.0643],\n",
       "        [-0.0254,  0.1272,  0.4429,  ...,  0.1021,  0.1358,  0.0779]],\n",
       "       grad_fn=<AddmmBackward0>)"
      ]
     },
     "execution_count": 18,
     "metadata": {},
     "output_type": "execute_result"
    }
   ],
   "source": [
    "output.logits"
   ]
  },
  {
   "cell_type": "markdown",
   "metadata": {},
   "source": [
    "# Wandb"
   ]
  },
  {
   "cell_type": "markdown",
   "metadata": {},
   "source": [
    "# Train"
   ]
  },
  {
   "cell_type": "code",
   "execution_count": 19,
   "metadata": {},
   "outputs": [
    {
     "name": "stderr",
     "output_type": "stream",
     "text": [
      "Failed to detect the name of this notebook, you can set it manually with the WANDB_NOTEBOOK_NAME environment variable to enable code saving.\n",
      "\u001b[34m\u001b[1mwandb\u001b[0m: Currently logged in as: \u001b[33mgrach0v\u001b[0m (\u001b[33mcowboy_bebop\u001b[0m). Use \u001b[1m`wandb login --relogin`\u001b[0m to force relogin\n"
     ]
    },
    {
     "data": {
      "text/html": [
       "Tracking run with wandb version 0.15.12"
      ],
      "text/plain": [
       "<IPython.core.display.HTML object>"
      ]
     },
     "metadata": {},
     "output_type": "display_data"
    },
    {
     "data": {
      "text/html": [
       "Run data is saved locally in <code>/home/denis/Documents/AI_Masters/Machine_Leraning_3/HW2/wandb/run-20231027_194052-ss5f8v9i</code>"
      ],
      "text/plain": [
       "<IPython.core.display.HTML object>"
      ]
     },
     "metadata": {},
     "output_type": "display_data"
    },
    {
     "data": {
      "text/html": [
       "Syncing run <strong><a href='https://wandb.ai/cowboy_bebop/hw2/runs/ss5f8v9i' target=\"_blank\">HooLeNetTorch</a></strong> to <a href='https://wandb.ai/cowboy_bebop/hw2' target=\"_blank\">Weights & Biases</a> (<a href='https://wandb.me/run' target=\"_blank\">docs</a>)<br/>"
      ],
      "text/plain": [
       "<IPython.core.display.HTML object>"
      ]
     },
     "metadata": {},
     "output_type": "display_data"
    },
    {
     "data": {
      "text/html": [
       " View project at <a href='https://wandb.ai/cowboy_bebop/hw2' target=\"_blank\">https://wandb.ai/cowboy_bebop/hw2</a>"
      ],
      "text/plain": [
       "<IPython.core.display.HTML object>"
      ]
     },
     "metadata": {},
     "output_type": "display_data"
    },
    {
     "data": {
      "text/html": [
       " View run at <a href='https://wandb.ai/cowboy_bebop/hw2/runs/ss5f8v9i' target=\"_blank\">https://wandb.ai/cowboy_bebop/hw2/runs/ss5f8v9i</a>"
      ],
      "text/plain": [
       "<IPython.core.display.HTML object>"
      ]
     },
     "metadata": {},
     "output_type": "display_data"
    },
    {
     "data": {
      "text/html": [
       "<button onClick=\"this.nextSibling.style.display='block';this.style.display='none';\">Display W&B run</button><iframe src='https://wandb.ai/cowboy_bebop/hw2/runs/ss5f8v9i?jupyter=true' style='border:none;width:100%;height:420px;display:none;'></iframe>"
      ],
      "text/plain": [
       "<wandb.sdk.wandb_run.Run at 0x7ff222db76d0>"
      ]
     },
     "execution_count": 19,
     "metadata": {},
     "output_type": "execute_result"
    }
   ],
   "source": [
    "import wandb\n",
    "\n",
    "config = {\n",
    "    \"learning_rate\": 3e-3,\n",
    "    \"weight_decay\": 0.05,\n",
    "    \"batch_size\": 128,\n",
    "    \"num_epochs\": 25,\n",
    "    \"optimizer\": torch.optim.AdamW,\n",
    "}\n",
    "\n",
    "wandb.init(\n",
    "    # set the wandb project where this run will be logged\n",
    "    project=\"hw2\",\n",
    "    name=\"HooLeNetTorch\",\n",
    "    reinit=True,\n",
    "    # track hyperparameters and run metadata\n",
    "    config=config,\n",
    ")\n"
   ]
  },
  {
   "cell_type": "code",
   "execution_count": 20,
   "metadata": {},
   "outputs": [],
   "source": [
    "def tensor_to_image(tensor, mean=(0.5, 0.5, 0.5), std=(0.25, 0.25, 0.25)):\n",
    "    # mean, std ->\n",
    "    mean = torch.tensor(mean)[:, None, None]\n",
    "    std = torch.tensor(std)[:, None, None]\n",
    "\n",
    "    renormalized_tensor = mean + std * tensor\n",
    "    image = renormalized_tensor.permute(1, 2, 0).detach().cpu().numpy()\n",
    "\n",
    "    return image"
   ]
  },
  {
   "cell_type": "code",
   "execution_count": 21,
   "metadata": {},
   "outputs": [],
   "source": [
    "device = torch.device(\"cuda:0\") if torch.cuda.is_available() else torch.device(\"cpu\")"
   ]
  },
  {
   "cell_type": "code",
   "execution_count": 22,
   "metadata": {},
   "outputs": [],
   "source": [
    "transforms_simple = T.Compose([\n",
    "    T.ToTensor(), \n",
    "    T.RandomHorizontalFlip(),\n",
    "    T.RandomRotation(degrees=15),\n",
    "    T.Normalize(mean, std) # по-хорошему нужно брать из датасета\n",
    "])\n",
    "\n",
    "train_folder = ImageFolder('tiny-imagenet-200/train', transform=transforms_simple)\n",
    "val_folder = ImageFolder('tiny-imagenet-200/val', transform=transforms_simple)\n",
    "test_folder = ImageFolder('tiny-imagenet-200/test', transform=transforms_simple)\n",
    "\n",
    "\n",
    "train_loader = torch.utils.data.DataLoader(\n",
    "    train_folder,\n",
    "    batch_size=config['batch_size'],\n",
    "    shuffle=True,\n",
    "    num_workers=16\n",
    ")\n",
    "\n",
    "val_loader = torch.utils.data.DataLoader(\n",
    "    val_folder,\n",
    "    batch_size=config['batch_size'],\n",
    "    shuffle=True,\n",
    "    num_workers=16\n",
    ")\n",
    "\n",
    "test_loader = torch.utils.data.DataLoader(\n",
    "    test_folder,\n",
    "    batch_size=config['batch_size'],\n",
    "    shuffle=True,\n",
    "    num_workers=16\n",
    ")"
   ]
  },
  {
   "cell_type": "code",
   "execution_count": 23,
   "metadata": {},
   "outputs": [],
   "source": [
    "loss_fn = nn.CrossEntropyLoss()\n",
    "optimizer = config[\"optimizer\"](\n",
    "    model.parameters(), \n",
    "    lr=config[\"learning_rate\"], \n",
    "    weight_decay=config[\"weight_decay\"]\n",
    ")"
   ]
  },
  {
   "cell_type": "code",
   "execution_count": 24,
   "metadata": {},
   "outputs": [],
   "source": [
    "def run_epoch(stage, model, dataloader, loss_fn, optimizer, epoch, device):\n",
    "    # v NOTE THIS v\n",
    "    if stage == \"train\":\n",
    "        model.train()\n",
    "        torch.set_grad_enabled(True)\n",
    "    else:\n",
    "        torch.set_grad_enabled(False)\n",
    "        model.eval()\n",
    "    # ^ NOTE THIS ^\n",
    "\n",
    "    model = model.to(device)\n",
    "\n",
    "    losses = []\n",
    "    for batch in tqdm(dataloader, total=len(dataloader), desc=f\"epoch: {str(epoch).zfill(3)} | {stage:5}\"):\n",
    "        xs, ys_true = batch\n",
    "\n",
    "        # ys_pred = model(xs.to(device))\n",
    "        # loss = loss_fn(ys_pred, ys_true.to(device))\n",
    "\n",
    "        ys_true = ys_true.to(device)\n",
    "\n",
    "        output = model(xs.to(device))\n",
    "\n",
    "        if stage == \"train\":\n",
    "            o1 = output.aux_logits1\n",
    "            o2 = output.aux_logits2\n",
    "            o3 = output.logits\n",
    "\n",
    "            loss1 = loss_fn(o1, ys_true)\n",
    "            loss2 = loss_fn(o2, ys_true)\n",
    "            loss3 = loss_fn(o3, ys_true)\n",
    "\n",
    "            loss = 0.3 * loss1 + 0.3 * loss2 + 0.4 * loss3\n",
    "\n",
    "\n",
    "            loss.backward()\n",
    "            optimizer.step()\n",
    "            optimizer.zero_grad()\n",
    "            wandb.log({\"lr\": optimizer.param_groups[0][\"lr\"], \"loss\": loss})\n",
    "\n",
    "        else:\n",
    "            loss = loss_fn(output, ys_true)\n",
    "\n",
    "        losses.append(loss.detach().cpu().item())\n",
    "\n",
    "    return np.mean(losses)"
   ]
  },
  {
   "cell_type": "code",
   "execution_count": 25,
   "metadata": {},
   "outputs": [],
   "source": [
    "def save_checkpoint(model, filename):\n",
    "\n",
    "    with open(filename, \"wb\") as fp:\n",
    "        torch.save(model.state_dict(), fp)\n",
    "\n",
    "\n",
    "def load_checkpoint(model, filename):\n",
    "\n",
    "    with open(filename, \"rb\") as fp:\n",
    "        state_dict = torch.load(fp, map_location=\"cpu\")\n",
    "    model.load_state_dict(state_dict)"
   ]
  },
  {
   "cell_type": "code",
   "execution_count": 26,
   "metadata": {},
   "outputs": [],
   "source": [
    "def run_experiment(\n",
    "    model, dataloader_train, dataloader_val, \n",
    "    loss_fn, optimizer, num_epochs, \n",
    "    device, output_dir, start_epoch=0\n",
    "):\n",
    "    train_losses = []\n",
    "    val_losses = []\n",
    "\n",
    "    best_val_loss = np.inf\n",
    "    best_val_loss_epoch = -1\n",
    "    best_val_loss_fn = None\n",
    "\n",
    "    os.makedirs(output_dir, exist_ok=True)\n",
    "\n",
    "    for epoch in range(start_epoch, start_epoch + num_epochs):\n",
    "        train_loss = run_epoch(\"train\", model, dataloader_train, loss_fn, optimizer, epoch, device)\n",
    "        train_losses.append(train_loss)\n",
    "\n",
    "        val_loss = run_epoch(\"val\", model, dataloader_val, loss_fn, optimizer, epoch, device)\n",
    "        val_losses.append(val_loss)\n",
    "\n",
    "        wandb.log({\"epoch_loss_train\": train_loss, \"epoch_loss_val\": val_loss, \"epoch\": epoch})\n",
    "\n",
    "        if val_loss < best_val_loss:\n",
    "            best_val_loss = val_loss\n",
    "            best_val_loss_epoch = epoch\n",
    "\n",
    "            output_fn = os.path.join(output_dir, f\"epoch={str(epoch).zfill(2)}_valloss={best_val_loss:.3f}.pth.tar\")\n",
    "            save_checkpoint(model, output_fn)\n",
    "            print(f\"New checkpoint saved to {output_fn}\\n\")\n",
    "\n",
    "            best_val_loss_fn = output_fn\n",
    "\n",
    "    print(f\"Best val_loss = {best_val_loss:.3f} reached at epoch {best_val_loss_epoch}\")\n",
    "    load_checkpoint(model, best_val_loss_fn)\n",
    "\n",
    "    return train_losses, val_losses, best_val_loss, model\n"
   ]
  },
  {
   "cell_type": "code",
   "execution_count": 27,
   "metadata": {},
   "outputs": [
    {
     "data": {
      "application/vnd.jupyter.widget-view+json": {
       "model_id": "799101c406404f97ba7e5630a60dd5cb",
       "version_major": 2,
       "version_minor": 0
      },
      "text/plain": [
       "epoch: 000 | train:   0%|          | 0/782 [00:00<?, ?it/s]"
      ]
     },
     "metadata": {},
     "output_type": "display_data"
    },
    {
     "data": {
      "application/vnd.jupyter.widget-view+json": {
       "model_id": "55136241554b4d8b9708983d0b5bc4bd",
       "version_major": 2,
       "version_minor": 0
      },
      "text/plain": [
       "epoch: 000 | val  :   0%|          | 0/79 [00:00<?, ?it/s]"
      ]
     },
     "metadata": {},
     "output_type": "display_data"
    },
    {
     "name": "stdout",
     "output_type": "stream",
     "text": [
      "New checkpoint saved to checkpoints_HooLeNetTorch/epoch=00_valloss=4.298.pth.tar\n",
      "\n"
     ]
    },
    {
     "data": {
      "application/vnd.jupyter.widget-view+json": {
       "model_id": "0235d0dd00c841e5bfdf06ce387a3082",
       "version_major": 2,
       "version_minor": 0
      },
      "text/plain": [
       "epoch: 001 | train:   0%|          | 0/782 [00:00<?, ?it/s]"
      ]
     },
     "metadata": {},
     "output_type": "display_data"
    },
    {
     "data": {
      "application/vnd.jupyter.widget-view+json": {
       "model_id": "5838a652bb334826bbc5c09dbde998a0",
       "version_major": 2,
       "version_minor": 0
      },
      "text/plain": [
       "epoch: 001 | val  :   0%|          | 0/79 [00:00<?, ?it/s]"
      ]
     },
     "metadata": {},
     "output_type": "display_data"
    },
    {
     "name": "stdout",
     "output_type": "stream",
     "text": [
      "New checkpoint saved to checkpoints_HooLeNetTorch/epoch=01_valloss=4.138.pth.tar\n",
      "\n"
     ]
    },
    {
     "data": {
      "application/vnd.jupyter.widget-view+json": {
       "model_id": "c0eb3fd563744caf824e555730d14d6f",
       "version_major": 2,
       "version_minor": 0
      },
      "text/plain": [
       "epoch: 002 | train:   0%|          | 0/782 [00:00<?, ?it/s]"
      ]
     },
     "metadata": {},
     "output_type": "display_data"
    },
    {
     "data": {
      "application/vnd.jupyter.widget-view+json": {
       "model_id": "fefca6e913fb4f78bf38a5af3bfa37c1",
       "version_major": 2,
       "version_minor": 0
      },
      "text/plain": [
       "epoch: 002 | val  :   0%|          | 0/79 [00:00<?, ?it/s]"
      ]
     },
     "metadata": {},
     "output_type": "display_data"
    },
    {
     "name": "stdout",
     "output_type": "stream",
     "text": [
      "New checkpoint saved to checkpoints_HooLeNetTorch/epoch=02_valloss=3.377.pth.tar\n",
      "\n"
     ]
    },
    {
     "data": {
      "application/vnd.jupyter.widget-view+json": {
       "model_id": "8c59e62b0cb945aaba673ed18d7cb4c0",
       "version_major": 2,
       "version_minor": 0
      },
      "text/plain": [
       "epoch: 003 | train:   0%|          | 0/782 [00:00<?, ?it/s]"
      ]
     },
     "metadata": {},
     "output_type": "display_data"
    },
    {
     "data": {
      "application/vnd.jupyter.widget-view+json": {
       "model_id": "f770c146219f414b8e59324ef069df42",
       "version_major": 2,
       "version_minor": 0
      },
      "text/plain": [
       "epoch: 003 | val  :   0%|          | 0/79 [00:00<?, ?it/s]"
      ]
     },
     "metadata": {},
     "output_type": "display_data"
    },
    {
     "name": "stdout",
     "output_type": "stream",
     "text": [
      "New checkpoint saved to checkpoints_HooLeNetTorch/epoch=03_valloss=3.247.pth.tar\n",
      "\n"
     ]
    },
    {
     "data": {
      "application/vnd.jupyter.widget-view+json": {
       "model_id": "85c37dab754246b0ac4a1c03da7cf256",
       "version_major": 2,
       "version_minor": 0
      },
      "text/plain": [
       "epoch: 004 | train:   0%|          | 0/782 [00:00<?, ?it/s]"
      ]
     },
     "metadata": {},
     "output_type": "display_data"
    },
    {
     "data": {
      "application/vnd.jupyter.widget-view+json": {
       "model_id": "7efa67744abc477294995d257b5a4ed0",
       "version_major": 2,
       "version_minor": 0
      },
      "text/plain": [
       "epoch: 004 | val  :   0%|          | 0/79 [00:00<?, ?it/s]"
      ]
     },
     "metadata": {},
     "output_type": "display_data"
    },
    {
     "name": "stdout",
     "output_type": "stream",
     "text": [
      "New checkpoint saved to checkpoints_HooLeNetTorch/epoch=04_valloss=3.146.pth.tar\n",
      "\n"
     ]
    },
    {
     "data": {
      "application/vnd.jupyter.widget-view+json": {
       "model_id": "50b2b3c880644906a043d5acc69e34b7",
       "version_major": 2,
       "version_minor": 0
      },
      "text/plain": [
       "epoch: 005 | train:   0%|          | 0/782 [00:00<?, ?it/s]"
      ]
     },
     "metadata": {},
     "output_type": "display_data"
    },
    {
     "data": {
      "application/vnd.jupyter.widget-view+json": {
       "model_id": "1ee007c091d8406b92e8c2c5e812ab46",
       "version_major": 2,
       "version_minor": 0
      },
      "text/plain": [
       "epoch: 005 | val  :   0%|          | 0/79 [00:00<?, ?it/s]"
      ]
     },
     "metadata": {},
     "output_type": "display_data"
    },
    {
     "name": "stdout",
     "output_type": "stream",
     "text": [
      "New checkpoint saved to checkpoints_HooLeNetTorch/epoch=05_valloss=2.925.pth.tar\n",
      "\n"
     ]
    },
    {
     "data": {
      "application/vnd.jupyter.widget-view+json": {
       "model_id": "4855204a54d94f60bb5d2719217cf66f",
       "version_major": 2,
       "version_minor": 0
      },
      "text/plain": [
       "epoch: 006 | train:   0%|          | 0/782 [00:00<?, ?it/s]"
      ]
     },
     "metadata": {},
     "output_type": "display_data"
    },
    {
     "data": {
      "application/vnd.jupyter.widget-view+json": {
       "model_id": "2d9f664e934f46458fa5eafa073180ff",
       "version_major": 2,
       "version_minor": 0
      },
      "text/plain": [
       "epoch: 006 | val  :   0%|          | 0/79 [00:00<?, ?it/s]"
      ]
     },
     "metadata": {},
     "output_type": "display_data"
    },
    {
     "data": {
      "application/vnd.jupyter.widget-view+json": {
       "model_id": "c953d20e797d44dc9ed3dcae2a4dafab",
       "version_major": 2,
       "version_minor": 0
      },
      "text/plain": [
       "epoch: 007 | train:   0%|          | 0/782 [00:00<?, ?it/s]"
      ]
     },
     "metadata": {},
     "output_type": "display_data"
    },
    {
     "data": {
      "application/vnd.jupyter.widget-view+json": {
       "model_id": "cb5d4c07f9614042ae62958974c5056d",
       "version_major": 2,
       "version_minor": 0
      },
      "text/plain": [
       "epoch: 007 | val  :   0%|          | 0/79 [00:00<?, ?it/s]"
      ]
     },
     "metadata": {},
     "output_type": "display_data"
    },
    {
     "name": "stdout",
     "output_type": "stream",
     "text": [
      "New checkpoint saved to checkpoints_HooLeNetTorch/epoch=07_valloss=2.841.pth.tar\n",
      "\n"
     ]
    },
    {
     "data": {
      "application/vnd.jupyter.widget-view+json": {
       "model_id": "c9eb2c5be09d4af3b34108f590dc2efb",
       "version_major": 2,
       "version_minor": 0
      },
      "text/plain": [
       "epoch: 008 | train:   0%|          | 0/782 [00:00<?, ?it/s]"
      ]
     },
     "metadata": {},
     "output_type": "display_data"
    },
    {
     "data": {
      "application/vnd.jupyter.widget-view+json": {
       "model_id": "d8943dce3b204e578964c655263136e4",
       "version_major": 2,
       "version_minor": 0
      },
      "text/plain": [
       "epoch: 008 | val  :   0%|          | 0/79 [00:00<?, ?it/s]"
      ]
     },
     "metadata": {},
     "output_type": "display_data"
    },
    {
     "name": "stdout",
     "output_type": "stream",
     "text": [
      "New checkpoint saved to checkpoints_HooLeNetTorch/epoch=08_valloss=2.654.pth.tar\n",
      "\n"
     ]
    },
    {
     "data": {
      "application/vnd.jupyter.widget-view+json": {
       "model_id": "5511b81ab4c048998fa10dac8fc1631b",
       "version_major": 2,
       "version_minor": 0
      },
      "text/plain": [
       "epoch: 009 | train:   0%|          | 0/782 [00:00<?, ?it/s]"
      ]
     },
     "metadata": {},
     "output_type": "display_data"
    },
    {
     "data": {
      "application/vnd.jupyter.widget-view+json": {
       "model_id": "fb5baacbb9524a5ab6a84200c77b26d0",
       "version_major": 2,
       "version_minor": 0
      },
      "text/plain": [
       "epoch: 009 | val  :   0%|          | 0/79 [00:00<?, ?it/s]"
      ]
     },
     "metadata": {},
     "output_type": "display_data"
    },
    {
     "data": {
      "application/vnd.jupyter.widget-view+json": {
       "model_id": "ebfb4ce5747d4c7a99aeed2beecd22ca",
       "version_major": 2,
       "version_minor": 0
      },
      "text/plain": [
       "epoch: 010 | train:   0%|          | 0/782 [00:00<?, ?it/s]"
      ]
     },
     "metadata": {},
     "output_type": "display_data"
    },
    {
     "data": {
      "application/vnd.jupyter.widget-view+json": {
       "model_id": "5e6c39faa4d541138fbc03327fccd502",
       "version_major": 2,
       "version_minor": 0
      },
      "text/plain": [
       "epoch: 010 | val  :   0%|          | 0/79 [00:00<?, ?it/s]"
      ]
     },
     "metadata": {},
     "output_type": "display_data"
    },
    {
     "name": "stdout",
     "output_type": "stream",
     "text": [
      "New checkpoint saved to checkpoints_HooLeNetTorch/epoch=10_valloss=2.605.pth.tar\n",
      "\n"
     ]
    },
    {
     "data": {
      "application/vnd.jupyter.widget-view+json": {
       "model_id": "a5d415b3532d40f89beec3696a4e736f",
       "version_major": 2,
       "version_minor": 0
      },
      "text/plain": [
       "epoch: 011 | train:   0%|          | 0/782 [00:00<?, ?it/s]"
      ]
     },
     "metadata": {},
     "output_type": "display_data"
    },
    {
     "data": {
      "application/vnd.jupyter.widget-view+json": {
       "model_id": "82254e94d01c4b18bf7e344532667d8e",
       "version_major": 2,
       "version_minor": 0
      },
      "text/plain": [
       "epoch: 011 | val  :   0%|          | 0/79 [00:00<?, ?it/s]"
      ]
     },
     "metadata": {},
     "output_type": "display_data"
    },
    {
     "name": "stdout",
     "output_type": "stream",
     "text": [
      "New checkpoint saved to checkpoints_HooLeNetTorch/epoch=11_valloss=2.524.pth.tar\n",
      "\n"
     ]
    },
    {
     "data": {
      "application/vnd.jupyter.widget-view+json": {
       "model_id": "6d174ef910614c388868223446823e2e",
       "version_major": 2,
       "version_minor": 0
      },
      "text/plain": [
       "epoch: 012 | train:   0%|          | 0/782 [00:00<?, ?it/s]"
      ]
     },
     "metadata": {},
     "output_type": "display_data"
    },
    {
     "data": {
      "application/vnd.jupyter.widget-view+json": {
       "model_id": "aadfae74b4144232b44f2770b2f49f3a",
       "version_major": 2,
       "version_minor": 0
      },
      "text/plain": [
       "epoch: 012 | val  :   0%|          | 0/79 [00:00<?, ?it/s]"
      ]
     },
     "metadata": {},
     "output_type": "display_data"
    },
    {
     "data": {
      "application/vnd.jupyter.widget-view+json": {
       "model_id": "73d7234c40d040bca6dffa4842658e1c",
       "version_major": 2,
       "version_minor": 0
      },
      "text/plain": [
       "epoch: 013 | train:   0%|          | 0/782 [00:00<?, ?it/s]"
      ]
     },
     "metadata": {},
     "output_type": "display_data"
    },
    {
     "data": {
      "application/vnd.jupyter.widget-view+json": {
       "model_id": "e7792ee59fc84ae584472816b177040b",
       "version_major": 2,
       "version_minor": 0
      },
      "text/plain": [
       "epoch: 013 | val  :   0%|          | 0/79 [00:00<?, ?it/s]"
      ]
     },
     "metadata": {},
     "output_type": "display_data"
    },
    {
     "name": "stdout",
     "output_type": "stream",
     "text": [
      "New checkpoint saved to checkpoints_HooLeNetTorch/epoch=13_valloss=2.413.pth.tar\n",
      "\n"
     ]
    },
    {
     "data": {
      "application/vnd.jupyter.widget-view+json": {
       "model_id": "3e0eb93ccf89464789462a202bcb5cf5",
       "version_major": 2,
       "version_minor": 0
      },
      "text/plain": [
       "epoch: 014 | train:   0%|          | 0/782 [00:00<?, ?it/s]"
      ]
     },
     "metadata": {},
     "output_type": "display_data"
    },
    {
     "data": {
      "application/vnd.jupyter.widget-view+json": {
       "model_id": "df15a1a09a134296b88a46e5d8d12451",
       "version_major": 2,
       "version_minor": 0
      },
      "text/plain": [
       "epoch: 014 | val  :   0%|          | 0/79 [00:00<?, ?it/s]"
      ]
     },
     "metadata": {},
     "output_type": "display_data"
    },
    {
     "name": "stdout",
     "output_type": "stream",
     "text": [
      "New checkpoint saved to checkpoints_HooLeNetTorch/epoch=14_valloss=2.359.pth.tar\n",
      "\n"
     ]
    },
    {
     "data": {
      "application/vnd.jupyter.widget-view+json": {
       "model_id": "91203b1802d94101b3838f845d7d9742",
       "version_major": 2,
       "version_minor": 0
      },
      "text/plain": [
       "epoch: 015 | train:   0%|          | 0/782 [00:00<?, ?it/s]"
      ]
     },
     "metadata": {},
     "output_type": "display_data"
    },
    {
     "data": {
      "application/vnd.jupyter.widget-view+json": {
       "model_id": "31ca7ccfb48847c097d5358b8c3b89ef",
       "version_major": 2,
       "version_minor": 0
      },
      "text/plain": [
       "epoch: 015 | val  :   0%|          | 0/79 [00:00<?, ?it/s]"
      ]
     },
     "metadata": {},
     "output_type": "display_data"
    },
    {
     "data": {
      "application/vnd.jupyter.widget-view+json": {
       "model_id": "7fc9bf752b874cd58c60356d6f905aba",
       "version_major": 2,
       "version_minor": 0
      },
      "text/plain": [
       "epoch: 016 | train:   0%|          | 0/782 [00:00<?, ?it/s]"
      ]
     },
     "metadata": {},
     "output_type": "display_data"
    },
    {
     "data": {
      "application/vnd.jupyter.widget-view+json": {
       "model_id": "25a9bc526e274a8f83307677eb3251b4",
       "version_major": 2,
       "version_minor": 0
      },
      "text/plain": [
       "epoch: 016 | val  :   0%|          | 0/79 [00:00<?, ?it/s]"
      ]
     },
     "metadata": {},
     "output_type": "display_data"
    },
    {
     "data": {
      "application/vnd.jupyter.widget-view+json": {
       "model_id": "c511e4ef83714767b32d8c801c625226",
       "version_major": 2,
       "version_minor": 0
      },
      "text/plain": [
       "epoch: 017 | train:   0%|          | 0/782 [00:00<?, ?it/s]"
      ]
     },
     "metadata": {},
     "output_type": "display_data"
    },
    {
     "data": {
      "application/vnd.jupyter.widget-view+json": {
       "model_id": "fe8c509e40e44d2d818b27aa638dc7db",
       "version_major": 2,
       "version_minor": 0
      },
      "text/plain": [
       "epoch: 017 | val  :   0%|          | 0/79 [00:00<?, ?it/s]"
      ]
     },
     "metadata": {},
     "output_type": "display_data"
    },
    {
     "data": {
      "application/vnd.jupyter.widget-view+json": {
       "model_id": "0dd215cfadcb45f688ea223877f5fae0",
       "version_major": 2,
       "version_minor": 0
      },
      "text/plain": [
       "epoch: 018 | train:   0%|          | 0/782 [00:00<?, ?it/s]"
      ]
     },
     "metadata": {},
     "output_type": "display_data"
    },
    {
     "data": {
      "application/vnd.jupyter.widget-view+json": {
       "model_id": "f88f440a18b04656ab3c4217aa803777",
       "version_major": 2,
       "version_minor": 0
      },
      "text/plain": [
       "epoch: 018 | val  :   0%|          | 0/79 [00:00<?, ?it/s]"
      ]
     },
     "metadata": {},
     "output_type": "display_data"
    },
    {
     "data": {
      "application/vnd.jupyter.widget-view+json": {
       "model_id": "1a8ab51d82b24497b94a6ae2708b7cc0",
       "version_major": 2,
       "version_minor": 0
      },
      "text/plain": [
       "epoch: 019 | train:   0%|          | 0/782 [00:00<?, ?it/s]"
      ]
     },
     "metadata": {},
     "output_type": "display_data"
    },
    {
     "data": {
      "application/vnd.jupyter.widget-view+json": {
       "model_id": "a15b73a1facb4d329a865b060cb7de13",
       "version_major": 2,
       "version_minor": 0
      },
      "text/plain": [
       "epoch: 019 | val  :   0%|          | 0/79 [00:00<?, ?it/s]"
      ]
     },
     "metadata": {},
     "output_type": "display_data"
    },
    {
     "name": "stdout",
     "output_type": "stream",
     "text": [
      "New checkpoint saved to checkpoints_HooLeNetTorch/epoch=19_valloss=2.319.pth.tar\n",
      "\n"
     ]
    },
    {
     "data": {
      "application/vnd.jupyter.widget-view+json": {
       "model_id": "6f748dc4d05b4279ac87d89cc9296a6c",
       "version_major": 2,
       "version_minor": 0
      },
      "text/plain": [
       "epoch: 020 | train:   0%|          | 0/782 [00:00<?, ?it/s]"
      ]
     },
     "metadata": {},
     "output_type": "display_data"
    },
    {
     "data": {
      "application/vnd.jupyter.widget-view+json": {
       "model_id": "03b6636e7b0d46318217a4e8827edf1a",
       "version_major": 2,
       "version_minor": 0
      },
      "text/plain": [
       "epoch: 020 | val  :   0%|          | 0/79 [00:00<?, ?it/s]"
      ]
     },
     "metadata": {},
     "output_type": "display_data"
    },
    {
     "data": {
      "application/vnd.jupyter.widget-view+json": {
       "model_id": "eefd9aa1953647eb87a08c72254cd56a",
       "version_major": 2,
       "version_minor": 0
      },
      "text/plain": [
       "epoch: 021 | train:   0%|          | 0/782 [00:00<?, ?it/s]"
      ]
     },
     "metadata": {},
     "output_type": "display_data"
    },
    {
     "data": {
      "application/vnd.jupyter.widget-view+json": {
       "model_id": "e17852eb0a1b41529d5b0ac005fc8259",
       "version_major": 2,
       "version_minor": 0
      },
      "text/plain": [
       "epoch: 021 | val  :   0%|          | 0/79 [00:00<?, ?it/s]"
      ]
     },
     "metadata": {},
     "output_type": "display_data"
    },
    {
     "name": "stdout",
     "output_type": "stream",
     "text": [
      "New checkpoint saved to checkpoints_HooLeNetTorch/epoch=21_valloss=2.232.pth.tar\n",
      "\n"
     ]
    },
    {
     "data": {
      "application/vnd.jupyter.widget-view+json": {
       "model_id": "514abb452fa14fc0b160609377f11b9a",
       "version_major": 2,
       "version_minor": 0
      },
      "text/plain": [
       "epoch: 022 | train:   0%|          | 0/782 [00:00<?, ?it/s]"
      ]
     },
     "metadata": {},
     "output_type": "display_data"
    },
    {
     "data": {
      "application/vnd.jupyter.widget-view+json": {
       "model_id": "6c12c5e5f7c24c91bc21a1dc43b11293",
       "version_major": 2,
       "version_minor": 0
      },
      "text/plain": [
       "epoch: 022 | val  :   0%|          | 0/79 [00:00<?, ?it/s]"
      ]
     },
     "metadata": {},
     "output_type": "display_data"
    },
    {
     "data": {
      "application/vnd.jupyter.widget-view+json": {
       "model_id": "ab0ade52e45b4725a64581b2dc3b6b8a",
       "version_major": 2,
       "version_minor": 0
      },
      "text/plain": [
       "epoch: 023 | train:   0%|          | 0/782 [00:00<?, ?it/s]"
      ]
     },
     "metadata": {},
     "output_type": "display_data"
    },
    {
     "data": {
      "application/vnd.jupyter.widget-view+json": {
       "model_id": "44674fd1f4d74e0ab9e1ba82854d99ab",
       "version_major": 2,
       "version_minor": 0
      },
      "text/plain": [
       "epoch: 023 | val  :   0%|          | 0/79 [00:00<?, ?it/s]"
      ]
     },
     "metadata": {},
     "output_type": "display_data"
    },
    {
     "data": {
      "application/vnd.jupyter.widget-view+json": {
       "model_id": "183d356442904140a138577359d0c1b5",
       "version_major": 2,
       "version_minor": 0
      },
      "text/plain": [
       "epoch: 024 | train:   0%|          | 0/782 [00:00<?, ?it/s]"
      ]
     },
     "metadata": {},
     "output_type": "display_data"
    },
    {
     "data": {
      "application/vnd.jupyter.widget-view+json": {
       "model_id": "665b4020d2284b6ba60beabfe322a2b5",
       "version_major": 2,
       "version_minor": 0
      },
      "text/plain": [
       "epoch: 024 | val  :   0%|          | 0/79 [00:00<?, ?it/s]"
      ]
     },
     "metadata": {},
     "output_type": "display_data"
    },
    {
     "name": "stdout",
     "output_type": "stream",
     "text": [
      "Best val_loss = 2.232 reached at epoch 21\n"
     ]
    }
   ],
   "source": [
    "train_losses_baseline, val_losses_baseline, best_val_loss_baseline, cnn_baseline = run_experiment(\n",
    "    model,\n",
    "    train_loader,\n",
    "    val_loader,\n",
    "    loss_fn,\n",
    "    optimizer,\n",
    "    config[\"num_epochs\"],\n",
    "    device,\n",
    "    \"checkpoints_HooLeNetTorch\",\n",
    ")"
   ]
  },
  {
   "cell_type": "code",
   "execution_count": 28,
   "metadata": {},
   "outputs": [],
   "source": [
    "def plot_losses(train_losses, val_losses, title):\n",
    "    plt.figure(figsize=(12, 5))\n",
    "    plt.title(title)\n",
    "    plt.plot(train_losses, label=\"train\")\n",
    "    plt.plot(val_losses, label=\"val\")\n",
    "    plt.xlabel(\"epoch\")\n",
    "    plt.ylabel(\"loss\")\n",
    "    plt.grid(True)\n",
    "    plt.legend()\n",
    "    plt.show()"
   ]
  },
  {
   "cell_type": "code",
   "execution_count": 29,
   "metadata": {},
   "outputs": [
    {
     "data": {
      "image/png": "[encoded data removed]",
      "text/plain": [
       "<Figure size 1200x500 with 1 Axes>"
      ]
     },
     "metadata": {},
     "output_type": "display_data"
    }
   ],
   "source": [
    "plot_losses(train_losses_baseline, val_losses_baseline, title=\"cnn_baseline\")"
   ]
  },
  {
   "cell_type": "code",
   "execution_count": 30,
   "metadata": {},
   "outputs": [],
   "source": [
    "def collect_predictions(model, dataloader, device):\n",
    "    model.eval()\n",
    "    model = model.to(device)\n",
    "    torch.set_grad_enabled(False)\n",
    "\n",
    "    labels_all = []\n",
    "    probs_all = []\n",
    "    preds_all = []\n",
    "    for batch in tqdm(dataloader, total=len(dataloader)):\n",
    "        images, labels = batch\n",
    "\n",
    "        logits = model(images.to(device)).cpu()\n",
    "        probs = logits.softmax(dim=1)\n",
    "        max_prob, max_prob_index = torch.max(probs, dim=1)\n",
    "\n",
    "        labels_all.extend(labels.numpy().tolist())\n",
    "        probs_all.extend(max_prob.numpy().tolist())\n",
    "        preds_all.extend(max_prob_index.numpy().tolist())\n",
    "\n",
    "    return labels_all, probs_all, preds_all"
   ]
  },
  {
   "cell_type": "code",
   "execution_count": 31,
   "metadata": {},
   "outputs": [
    {
     "data": {
      "application/vnd.jupyter.widget-view+json": {
       "model_id": "4cfb785ed0504a9c8a52bf4e4fb9a982",
       "version_major": 2,
       "version_minor": 0
      },
      "text/plain": [
       "  0%|          | 0/782 [00:00<?, ?it/s]"
      ]
     },
     "metadata": {},
     "output_type": "display_data"
    },
    {
     "data": {
      "text/plain": [
       "0.57349"
      ]
     },
     "execution_count": 31,
     "metadata": {},
     "output_type": "execute_result"
    }
   ],
   "source": [
    "train_labels, train_probs, train_preds = collect_predictions(cnn_baseline, train_loader, device)\n",
    "\n",
    "accuracy_train = accuracy_score(train_labels, train_preds)\n",
    "accuracy_train"
   ]
  },
  {
   "cell_type": "code",
   "execution_count": 32,
   "metadata": {},
   "outputs": [
    {
     "data": {
      "application/vnd.jupyter.widget-view+json": {
       "model_id": "947fc8e808b54cda9d3043334b592ea3",
       "version_major": 2,
       "version_minor": 0
      },
      "text/plain": [
       "  0%|          | 0/79 [00:00<?, ?it/s]"
      ]
     },
     "metadata": {},
     "output_type": "display_data"
    },
    {
     "data": {
      "text/plain": [
       "0.0024"
      ]
     },
     "execution_count": 32,
     "metadata": {},
     "output_type": "execute_result"
    }
   ],
   "source": [
    "test_labels, test_probs, test_preds = collect_predictions(cnn_baseline, test_loader, device)\n",
    "\n",
    "accuracy_train = accuracy_score(test_labels, test_preds)\n",
    "accuracy_train"
   ]
  },
  {
   "cell_type": "code",
   "execution_count": 33,
   "metadata": {},
   "outputs": [],
   "source": [
    "optimizer = config[\"optimizer\"](\n",
    "    model.parameters(), \n",
    "    lr=config[\"learning_rate\"] * 10, \n",
    "    weight_decay=config[\"weight_decay\"]\n",
    ")"
   ]
  },
  {
   "cell_type": "code",
   "execution_count": 35,
   "metadata": {},
   "outputs": [
    {
     "data": {
      "text/html": [
       "Waiting for W&B process to finish... <strong style=\"color:green\">(success).</strong>"
      ],
      "text/plain": [
       "<IPython.core.display.HTML object>"
      ]
     },
     "metadata": {},
     "output_type": "display_data"
    },
    {
     "name": "stderr",
     "output_type": "stream",
     "text": [
      "wandb: WARNING Source type is set to 'repo' but some required information is missing from the environment. A job will not be created from this run. See https://docs.wandb.ai/guides/launch/create-job\n"
     ]
    },
    {
     "data": {
      "text/html": [
       "<style>\n",
       "    table.wandb td:nth-child(1) { padding: 0 10px; text-align: left ; width: auto;} td:nth-child(2) {text-align: left ; width: 100%}\n",
       "    .wandb-row { display: flex; flex-direction: row; flex-wrap: wrap; justify-content: flex-start; width: 100% }\n",
       "    .wandb-col { display: flex; flex-direction: column; flex-basis: 100%; flex: 1; padding: 10px; }\n",
       "    </style>\n",
       "<div class=\"wandb-row\"><div class=\"wandb-col\"><h3>Run history:</h3><br/><table class=\"wandb\"><tr><td>epoch</td><td>▁▁▂▂▂▂▃▃▃▄▄▄▅▅▅▅▆▆▆▇▇▇▇██</td></tr><tr><td>epoch_loss_train</td><td>█▆▅▅▄▄▃▃▃▃▂▂▂▂▂▂▂▂▁▁▁▁▁▁▁</td></tr><tr><td>epoch_loss_val</td><td>█▇▅▄▄▃▄▃▂▃▂▂▂▂▁▂▂▁▂▁▂▁▁▁▁</td></tr><tr><td>loss</td><td>██▆▆▅▅▅▅▄▄▃▄▄▃▃▄▃▃▃▂▃▃▃▂▃▃▂▂▂▂▂▂▂▂▂▁▂▁▂▇</td></tr><tr><td>lr</td><td>▁▁▁▁▁▁▁▁▁▁▁▁▁▁▁▁▁▁▁▁▁▁▁▁▁▁▁▁▁▁▁▁▁▁▁▁▁▁▁█</td></tr></table><br/></div><div class=\"wandb-col\"><h3>Run summary:</h3><br/><table class=\"wandb\"><tr><td>epoch</td><td>24</td></tr><tr><td>epoch_loss_train</td><td>2.43644</td></tr><tr><td>epoch_loss_val</td><td>2.36495</td></tr><tr><td>loss</td><td>4.79775</td></tr><tr><td>lr</td><td>0.03</td></tr></table><br/></div></div>"
      ],
      "text/plain": [
       "<IPython.core.display.HTML object>"
      ]
     },
     "metadata": {},
     "output_type": "display_data"
    },
    {
     "data": {
      "text/html": [
       " View run <strong style=\"color:#cdcd00\">HooLeNetTorch</strong> at: <a href='https://wandb.ai/cowboy_bebop/hw2/runs/ss5f8v9i' target=\"_blank\">https://wandb.ai/cowboy_bebop/hw2/runs/ss5f8v9i</a><br/>Synced 6 W&B file(s), 0 media file(s), 0 artifact file(s) and 0 other file(s)"
      ],
      "text/plain": [
       "<IPython.core.display.HTML object>"
      ]
     },
     "metadata": {},
     "output_type": "display_data"
    },
    {
     "data": {
      "text/html": [
       "Find logs at: <code>./wandb/run-20231027_194052-ss5f8v9i/logs</code>"
      ],
      "text/plain": [
       "<IPython.core.display.HTML object>"
      ]
     },
     "metadata": {},
     "output_type": "display_data"
    }
   ],
   "source": [
    "wandb.finish()"
   ]
  },
  {
   "cell_type": "code",
   "execution_count": null,
   "metadata": {},
   "outputs": [],
   "source": []
  }
 ],
 "metadata": {
  "kernelspec": {
   "display_name": "base",
   "language": "python",
   "name": "python3"
  },
  "language_info": {
   "codemirror_mode": {
    "name": "ipython",
    "version": 3
   },
   "file_extension": ".py",
   "mimetype": "text/x-python",
   "name": "python",
   "nbconvert_exporter": "python",
   "pygments_lexer": "ipython3",
   "version": "3.10.10"
  }
 },
 "nbformat": 4,
 "nbformat_minor": 2
}
