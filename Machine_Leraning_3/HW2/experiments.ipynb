{
 "cells": [
  {
   "cell_type": "code",
   "execution_count": 1,
   "metadata": {},
   "outputs": [],
   "source": [
    "# import os\n",
    "# os.environ['CUDA_LAUNCH_BLOCKING'] = \"1\""
   ]
  },
  {
   "cell_type": "code",
   "execution_count": 2,
   "metadata": {},
   "outputs": [],
   "source": [
    "import numpy as np \n",
    "from tqdm.notebook import tqdm \n",
    "import os\n",
    "import matplotlib.pyplot as plt\n",
    "from sklearn.metrics import accuracy_score"
   ]
  },
  {
   "cell_type": "code",
   "execution_count": 3,
   "metadata": {},
   "outputs": [],
   "source": [
    "import torch\n",
    "from torch import nn\n",
    "import torch.nn.functional as F\n",
    "from torchvision import transforms as T\n",
    "from torchvision.datasets import ImageFolder"
   ]
  },
  {
   "cell_type": "markdown",
   "metadata": {},
   "source": [
    "# Load"
   ]
  },
  {
   "cell_type": "code",
   "execution_count": 4,
   "metadata": {},
   "outputs": [],
   "source": [
    "transforms_simple = T.Compose([\n",
    "    T.ToTensor(), \n",
    "])\n",
    "\n",
    "train_folder = ImageFolder('tiny-imagenet-200/train', transform=transforms_simple)\n",
    "val_folder = ImageFolder('tiny-imagenet-200/val', transform=transforms_simple)\n",
    "test_folder = ImageFolder('tiny-imagenet-200/test', transform=transforms_simple)\n",
    "\n",
    "\n",
    "train_loader = torch.utils.data.DataLoader(\n",
    "    train_folder,\n",
    "    batch_size=128,\n",
    "    shuffle=True,\n",
    "    num_workers=16\n",
    ")\n",
    "\n",
    "val_loader = torch.utils.data.DataLoader(\n",
    "    val_folder,\n",
    "    batch_size=128,\n",
    "    shuffle=True,\n",
    "    num_workers=16\n",
    ")\n",
    "\n",
    "test_loader = torch.utils.data.DataLoader(\n",
    "    test_folder,\n",
    "    batch_size=128,\n",
    "    shuffle=True,\n",
    "    num_workers=16\n",
    ")"
   ]
  },
  {
   "cell_type": "code",
   "execution_count": 5,
   "metadata": {},
   "outputs": [],
   "source": [
    "mean = torch.zeros(3, dtype=float)\n",
    "mean_sq = torch.zeros(3, dtype=float)\n",
    "n = len(train_loader)\n",
    "\n",
    "for x, _ in train_loader:\n",
    "    mean += torch.mean(x, dim=(0, 2, 3))\n",
    "    mean_sq += torch.mean(x ** 2, dim=(0, 2, 3))\n",
    "\n",
    "mean /= n\n",
    "mean_sq /= n\n",
    "std = torch.sqrt(mean_sq - mean ** 2)"
   ]
  },
  {
   "cell_type": "code",
   "execution_count": 6,
   "metadata": {},
   "outputs": [
    {
     "data": {
      "text/plain": [
       "tensor([0.4803, 0.4481, 0.3976], dtype=torch.float64)"
      ]
     },
     "execution_count": 6,
     "metadata": {},
     "output_type": "execute_result"
    }
   ],
   "source": [
    "mean"
   ]
  },
  {
   "cell_type": "code",
   "execution_count": 7,
   "metadata": {},
   "outputs": [
    {
     "data": {
      "text/plain": [
       "tensor([0.2770, 0.2690, 0.2821], dtype=torch.float64)"
      ]
     },
     "execution_count": 7,
     "metadata": {},
     "output_type": "execute_result"
    }
   ],
   "source": [
    "std"
   ]
  },
  {
   "cell_type": "code",
   "execution_count": 8,
   "metadata": {},
   "outputs": [],
   "source": [
    "def tensor_to_image(tensor, mean=(0.5, 0.5, 0.5), std=(0.25, 0.25, 0.25)):\n",
    "    # mean, std ->\n",
    "    mean = torch.tensor(mean)[:, None, None]\n",
    "    std = torch.tensor(std)[:, None, None]\n",
    "\n",
    "    renormalized_tensor = mean + std * tensor\n",
    "    image = renormalized_tensor.permute(1, 2, 0).detach().cpu().numpy()\n",
    "\n",
    "    return image"
   ]
  },
  {
   "cell_type": "code",
   "execution_count": 9,
   "metadata": {},
   "outputs": [],
   "source": [
    "num_classes = len(train_folder.class_to_idx)"
   ]
  },
  {
   "cell_type": "markdown",
   "metadata": {},
   "source": [
    "# Model"
   ]
  },
  {
   "cell_type": "code",
   "execution_count": 10,
   "metadata": {},
   "outputs": [],
   "source": [
    "# def layer_init(m):\n",
    "#     classname = m.__class__.__name__\n",
    "#     classname = classname.lower()\n",
    "#     if classname.find('conv') != -1 or classname.find('linear') != -1:\n",
    "#         gain = nn.init.calculate_gain(classname)\n",
    "#         nn.init.xavier_uniform_(m.weight, gain=gain)\n",
    "#         if m.bias is not None:\n",
    "#             nn.init.constant_(m.bias, 0)\n",
    "#     elif classname.find('batchnorm') != -1:\n",
    "#         nn.init.constant_(m.weight, 1)\n",
    "#         if m.bias is not None:\n",
    "#             nn.init.constant_(m.bias, 0)\n",
    "#     elif classname.find('embedding') != -1:\n",
    "\n",
    "#         num_columns = m.weight.size(1)\n",
    "#         sigma = 1/(num_columns**0.5)\n",
    "#         m.weight.data.normal_(0, sigma).clamp_(-3*sigma, 3*sigma)"
   ]
  },
  {
   "cell_type": "code",
   "execution_count": 11,
   "metadata": {},
   "outputs": [],
   "source": [
    "class Inception_base(nn.Module):\n",
    "    def __init__(self, depth_dim, input_size, config):\n",
    "        super(Inception_base, self).__init__()\n",
    "        self.depth_dim = depth_dim\n",
    "        # 1x1\n",
    "        self.conv1 = nn.Conv2d(input_size, out_channels=config[0][0], kernel_size=1, stride=1, padding=0)\n",
    "        # 3x3_bottleneck + 3x3\n",
    "        self.conv3_1 = nn.Conv2d(input_size, out_channels=config[1][0], kernel_size=1, stride=1, padding=0)\n",
    "        self.conv3_3 = nn.Conv2d(config[1][0], config[1][1], kernel_size=3, stride=1, padding=1)\n",
    "        # 5x5_bottleneck + 5x5\n",
    "        self.conv5_1 = nn.Conv2d(input_size, out_channels=config[2][0], kernel_size=1, stride=1, padding=0)\n",
    "        self.conv5_5 = nn.Conv2d(config[2][0], config[2][1], kernel_size=5, stride=1, padding=2)\n",
    "        # maxpool + 1x1\n",
    "        self.max_pool_1 = nn.MaxPool2d(kernel_size=config[3][0], stride=1, padding=1)\n",
    "        self.conv_max_1 = nn.Conv2d(input_size, out_channels=config[3][1], kernel_size=1, stride=1, padding=0)\n",
    "        \n",
    "        # self.apply(layer_init)\n",
    "\n",
    "    def forward(self, input):\n",
    "        output1 = F.relu(self.conv1(input))\n",
    "        output2 = F.relu(self.conv3_1(input))\n",
    "        output2 = F.relu(self.conv3_3(output2))\n",
    "        output3 = F.relu(self.conv5_1(input))\n",
    "        output3 = F.relu(self.conv5_5(output3))\n",
    "        output4 = F.relu(self.conv_max_1(self.max_pool_1(input)))\n",
    "        return torch.cat([output1, output2, output3, output4], dim=self.depth_dim)"
   ]
  },
  {
   "cell_type": "code",
   "execution_count": 12,
   "metadata": {},
   "outputs": [],
   "source": [
    "class LRN(nn.Module):\n",
    "\n",
    "    '''\n",
    "    Implementing Local Response Normalization layer. Implemention adapted\n",
    "    from https://github.com/jiecaoyu/pytorch_imagenet/blob/master/networks/model_list/alexnet.py\n",
    "    '''\n",
    "\n",
    "    def __init__(self, local_size=1, alpha=1.0, beta=0.75, k=1, ACROSS_CHANNELS=False):\n",
    "        super(LRN, self).__init__()\n",
    "        self.ACROSS_CHANNELS = ACROSS_CHANNELS\n",
    "        if ACROSS_CHANNELS:\n",
    "            self.average=nn.AvgPool3d(kernel_size=(local_size, 1, 1),\n",
    "                    stride=1,\n",
    "                    padding=(int((local_size-1.0)/2), 0, 0))\n",
    "        else:\n",
    "            self.average=nn.AvgPool2d(kernel_size=local_size,\n",
    "                    stride=1,\n",
    "                    padding=int((local_size-1.0)/2))\n",
    "        self.alpha = alpha\n",
    "        self.beta = beta\n",
    "        self.k = k\n",
    "\n",
    "    def forward(self, x):\n",
    "        if self.ACROSS_CHANNELS:\n",
    "            div = x.pow(2).unsqueeze(1)\n",
    "            div = self.average(div).squeeze(1)\n",
    "            div = div.mul(self.alpha).add(self.k).pow(self.beta)\n",
    "        else:\n",
    "            div = x.pow(2)\n",
    "            div = self.average(div)\n",
    "            div = div.mul(self.alpha).add(self.k).pow(self.beta)\n",
    "        x = x.div(div)\n",
    "        return x"
   ]
  },
  {
   "cell_type": "code",
   "execution_count": 13,
   "metadata": {},
   "outputs": [],
   "source": [
    "class Inception_v1(nn.Module):\n",
    "    def __init__(self, num_classes=1000):\n",
    "        super(Inception_v1, self).__init__()\n",
    "\n",
    "        #conv2d0\n",
    "        self.conv1 = nn.Conv2d(3, 192, kernel_size=7, stride=1, padding=0)\n",
    "        self.max_pool1 = nn.MaxPool2d(kernel_size=3, stride=2, padding=0)\n",
    "        self.lrn1 = LRN(local_size=11, alpha=0.00109999999404, beta=0.5, k=2)\n",
    "\n",
    "        #conv2d1\n",
    "        # self.conv2 = nn.Conv2d(64, 64, kernel_size=1, stride=1, padding=0)\n",
    "\n",
    "        #conv2d2\n",
    "        # self.conv3  = nn.Conv2d(64, 192, kernel_size=3, stride=1, padding=0)\n",
    "        # self.lrn3 = LRN(local_size=11, alpha=0.00109999999404, beta=0.5, k=2)\n",
    "        # self.max_pool3 = nn.MaxPool2d(kernel_size=3, stride=2, padding=1)\n",
    "\n",
    "        self.inception_3a = Inception_base(1, 192, [[64], [96,128], [16, 32], [3, 32]]) #3a\n",
    "        self.inception_3b = Inception_base(1, 256, [[128], [128,192], [32, 96], [3, 64]]) #3b\n",
    "        self.max_pool_inc3= nn.MaxPool2d(kernel_size=3, stride=2, padding=0)\n",
    "\n",
    "        self.inception_4a = Inception_base(1, 480, [[192], [ 96,204], [16, 48], [3, 64]]) #4a\n",
    "        self.inception_4b = Inception_base(1, 508, [[160], [112,224], [24, 64], [3, 64]]) #4b\n",
    "        self.inception_4c = Inception_base(1, 512, [[128], [128,256], [24, 64], [3, 64]]) #4c\n",
    "        self.inception_4d = Inception_base(1, 512, [[112], [144,288], [32, 64], [3, 64]]) #4d\n",
    "        self.inception_4e = Inception_base(1, 528, [[256], [160,320], [32,128], [3,128]]) #4e\n",
    "        self.max_pool_inc4 = nn.MaxPool2d(kernel_size=3, stride=2, padding=1)\n",
    "\n",
    "        self.inception_5a = Inception_base(1, 832, [[256], [160,320], [48,128], [3,128]]) #5a\n",
    "        self.inception_5b = Inception_base(1, 832, [[384], [192,384], [48,128], [3,128]]) #5b\n",
    "        self.avg_pool5 = nn.AvgPool2d(kernel_size=7, stride=1, padding=0)\n",
    "\n",
    "        self.dropout_layer = nn.Dropout(0.4)\n",
    "        self.fc = nn.Linear(1024, num_classes)\n",
    "\n",
    "        # self.apply(layer_init)\n",
    "\n",
    "    def forward(self, input):\n",
    "\n",
    "        output = self.max_pool1(F.relu(self.conv1(input)))\n",
    "        output = self.lrn1(output)\n",
    "\n",
    "        # output = F.relu(self.conv2(output))\n",
    "        # output = F.relu(self.conv3(output))\n",
    "        # output = self.max_pool3(self.lrn3(output))\n",
    "\n",
    "        output = self.inception_3a(output)\n",
    "        output = self.inception_3b(output)\n",
    "        output = self.max_pool_inc3(output)\n",
    "\n",
    "        output = self.inception_4a(output)\n",
    "        output = self.inception_4b(output)\n",
    "        output = self.inception_4c(output)\n",
    "        output = self.inception_4d(output)\n",
    "        output = self.inception_4e(output)\n",
    "        output = self.max_pool_inc4(output)\n",
    "\n",
    "        output = self.inception_5a(output)\n",
    "        output = self.inception_5b(output)\n",
    "        output = self.avg_pool5(output)\n",
    "\n",
    "        output = output.view(-1, 1024)\n",
    "\n",
    "        if self.fc is not None:\n",
    "            output = self.dropout_layer(output)\n",
    "            output = self.fc(output)\n",
    "\n",
    "        return output"
   ]
  },
  {
   "cell_type": "code",
   "execution_count": 14,
   "metadata": {},
   "outputs": [],
   "source": [
    "model = Inception_v1(200)"
   ]
  },
  {
   "cell_type": "markdown",
   "metadata": {},
   "source": [
    "# Wandb"
   ]
  },
  {
   "cell_type": "markdown",
   "metadata": {},
   "source": [
    "# Train"
   ]
  },
  {
   "cell_type": "code",
   "execution_count": 15,
   "metadata": {},
   "outputs": [
    {
     "name": "stderr",
     "output_type": "stream",
     "text": [
      "Failed to detect the name of this notebook, you can set it manually with the WANDB_NOTEBOOK_NAME environment variable to enable code saving.\n",
      "\u001b[34m\u001b[1mwandb\u001b[0m: Currently logged in as: \u001b[33mgrach0v\u001b[0m (\u001b[33mcowboy_bebop\u001b[0m). Use \u001b[1m`wandb login --relogin`\u001b[0m to force relogin\n"
     ]
    },
    {
     "data": {
      "text/html": [
       "Tracking run with wandb version 0.15.12"
      ],
      "text/plain": [
       "<IPython.core.display.HTML object>"
      ]
     },
     "metadata": {},
     "output_type": "display_data"
    },
    {
     "data": {
      "text/html": [
       "Run data is saved locally in <code>/home/denis/Documents/AI_Masters/Machine_Leraning_3/HW2/wandb/run-20231026_195546-s2vivgff</code>"
      ],
      "text/plain": [
       "<IPython.core.display.HTML object>"
      ]
     },
     "metadata": {},
     "output_type": "display_data"
    },
    {
     "data": {
      "text/html": [
       "Syncing run <strong><a href='https://wandb.ai/cowboy_bebop/hw2/runs/s2vivgff' target=\"_blank\">HooLeNet</a></strong> to <a href='https://wandb.ai/cowboy_bebop/hw2' target=\"_blank\">Weights & Biases</a> (<a href='https://wandb.me/run' target=\"_blank\">docs</a>)<br/>"
      ],
      "text/plain": [
       "<IPython.core.display.HTML object>"
      ]
     },
     "metadata": {},
     "output_type": "display_data"
    },
    {
     "data": {
      "text/html": [
       " View project at <a href='https://wandb.ai/cowboy_bebop/hw2' target=\"_blank\">https://wandb.ai/cowboy_bebop/hw2</a>"
      ],
      "text/plain": [
       "<IPython.core.display.HTML object>"
      ]
     },
     "metadata": {},
     "output_type": "display_data"
    },
    {
     "data": {
      "text/html": [
       " View run at <a href='https://wandb.ai/cowboy_bebop/hw2/runs/s2vivgff' target=\"_blank\">https://wandb.ai/cowboy_bebop/hw2/runs/s2vivgff</a>"
      ],
      "text/plain": [
       "<IPython.core.display.HTML object>"
      ]
     },
     "metadata": {},
     "output_type": "display_data"
    },
    {
     "data": {
      "text/html": [
       "<button onClick=\"this.nextSibling.style.display='block';this.style.display='none';\">Display W&B run</button><iframe src='https://wandb.ai/cowboy_bebop/hw2/runs/s2vivgff?jupyter=true' style='border:none;width:100%;height:420px;display:none;'></iframe>"
      ],
      "text/plain": [
       "<wandb.sdk.wandb_run.Run at 0x7f17b2da16c0>"
      ]
     },
     "execution_count": 15,
     "metadata": {},
     "output_type": "execute_result"
    }
   ],
   "source": [
    "import wandb\n",
    "\n",
    "config = {\n",
    "    \"learning_rate\": 3e-4,\n",
    "    \"weight_decay\": 0.05,\n",
    "    \"batch_size\": 128,\n",
    "    \"num_epochs\": 25,\n",
    "    \"optimizer\": torch.optim.AdamW,\n",
    "}\n",
    "\n",
    "wandb.init(\n",
    "    # set the wandb project where this run will be logged\n",
    "    project=\"hw2\",\n",
    "    name=\"HooLeNet\",\n",
    "    reinit=True,\n",
    "    # track hyperparameters and run metadata\n",
    "    config=config,\n",
    ")\n"
   ]
  },
  {
   "cell_type": "code",
   "execution_count": 16,
   "metadata": {},
   "outputs": [],
   "source": [
    "def tensor_to_image(tensor, mean=(0.5, 0.5, 0.5), std=(0.25, 0.25, 0.25)):\n",
    "    # mean, std ->\n",
    "    mean = torch.tensor(mean)[:, None, None]\n",
    "    std = torch.tensor(std)[:, None, None]\n",
    "\n",
    "    renormalized_tensor = mean + std * tensor\n",
    "    image = renormalized_tensor.permute(1, 2, 0).detach().cpu().numpy()\n",
    "\n",
    "    return image"
   ]
  },
  {
   "cell_type": "code",
   "execution_count": 17,
   "metadata": {},
   "outputs": [],
   "source": [
    "device = torch.device(\"cuda:0\") if torch.cuda.is_available() else torch.device(\"cpu\")"
   ]
  },
  {
   "cell_type": "code",
   "execution_count": 18,
   "metadata": {},
   "outputs": [],
   "source": [
    "transforms_simple = T.Compose([\n",
    "    T.ToTensor(), \n",
    "    T.RandomHorizontalFlip(),\n",
    "    T.RandomRotation(degrees=15),\n",
    "    T.Normalize(mean, std) # по-хорошему нужно брать из датасета\n",
    "])\n",
    "\n",
    "train_folder = ImageFolder('tiny-imagenet-200/train', transform=transforms_simple)\n",
    "val_folder = ImageFolder('tiny-imagenet-200/val', transform=transforms_simple)\n",
    "test_folder = ImageFolder('tiny-imagenet-200/test', transform=transforms_simple)\n",
    "\n",
    "\n",
    "train_loader = torch.utils.data.DataLoader(\n",
    "    train_folder,\n",
    "    batch_size=config['batch_size'],\n",
    "    shuffle=True,\n",
    "    num_workers=16\n",
    ")\n",
    "\n",
    "val_loader = torch.utils.data.DataLoader(\n",
    "    val_folder,\n",
    "    batch_size=config['batch_size'],\n",
    "    shuffle=True,\n",
    "    num_workers=16\n",
    ")\n",
    "\n",
    "test_loader = torch.utils.data.DataLoader(\n",
    "    test_folder,\n",
    "    batch_size=config['batch_size'],\n",
    "    shuffle=True,\n",
    "    num_workers=16\n",
    ")"
   ]
  },
  {
   "cell_type": "code",
   "execution_count": 19,
   "metadata": {},
   "outputs": [],
   "source": [
    "loss_fn = nn.CrossEntropyLoss()\n",
    "optimizer = config[\"optimizer\"](\n",
    "    model.parameters(), \n",
    "    lr=config[\"learning_rate\"], \n",
    "    weight_decay=config[\"weight_decay\"]\n",
    ")"
   ]
  },
  {
   "cell_type": "code",
   "execution_count": 20,
   "metadata": {},
   "outputs": [],
   "source": [
    "def run_epoch(stage, model, dataloader, loss_fn, optimizer, epoch, device):\n",
    "    # v NOTE THIS v\n",
    "    if stage == \"train\":\n",
    "        model.train()\n",
    "        torch.set_grad_enabled(True)\n",
    "    else:\n",
    "        torch.set_grad_enabled(False)\n",
    "        model.eval()\n",
    "    # ^ NOTE THIS ^\n",
    "\n",
    "    model = model.to(device)\n",
    "\n",
    "    losses = []\n",
    "    for batch in tqdm(dataloader, total=len(dataloader), desc=f\"epoch: {str(epoch).zfill(3)} | {stage:5}\"):\n",
    "        xs, ys_true = batch\n",
    "\n",
    "        ys_pred = model(xs.to(device))\n",
    "        loss = loss_fn(ys_pred, ys_true.to(device))\n",
    "\n",
    "        if stage == \"train\":\n",
    "            loss.backward()\n",
    "            optimizer.step()\n",
    "            optimizer.zero_grad()\n",
    "            wandb.log({\"lr\": optimizer.param_groups[0][\"lr\"], \"loss\": loss})\n",
    "\n",
    "        losses.append(loss.detach().cpu().item())\n",
    "\n",
    "    return np.mean(losses)"
   ]
  },
  {
   "cell_type": "code",
   "execution_count": 21,
   "metadata": {},
   "outputs": [],
   "source": [
    "def save_checkpoint(model, filename):\n",
    "\n",
    "    with open(filename, \"wb\") as fp:\n",
    "        torch.save(model.state_dict(), fp)\n",
    "\n",
    "\n",
    "def load_checkpoint(model, filename):\n",
    "\n",
    "    with open(filename, \"rb\") as fp:\n",
    "        state_dict = torch.load(fp, map_location=\"cpu\")\n",
    "    model.load_state_dict(state_dict)"
   ]
  },
  {
   "cell_type": "code",
   "execution_count": 22,
   "metadata": {},
   "outputs": [],
   "source": [
    "def run_experiment(\n",
    "    model, dataloader_train, dataloader_val, \n",
    "    loss_fn, optimizer, num_epochs, \n",
    "    device, output_dir, start_epoch=0\n",
    "):\n",
    "    train_losses = []\n",
    "    val_losses = []\n",
    "\n",
    "    best_val_loss = np.inf\n",
    "    best_val_loss_epoch = -1\n",
    "    best_val_loss_fn = None\n",
    "\n",
    "    os.makedirs(output_dir, exist_ok=True)\n",
    "\n",
    "    for epoch in range(start_epoch, start_epoch + num_epochs):\n",
    "        train_loss = run_epoch(\"train\", model, dataloader_train, loss_fn, optimizer, epoch, device)\n",
    "        train_losses.append(train_loss)\n",
    "\n",
    "        val_loss = run_epoch(\"val\", model, dataloader_val, loss_fn, optimizer, epoch, device)\n",
    "        val_losses.append(val_loss)\n",
    "\n",
    "        wandb.log({\"epoch_loss_train\": train_loss, \"epoch_loss_val\": val_loss, \"epoch\": epoch})\n",
    "\n",
    "        if val_loss < best_val_loss:\n",
    "            best_val_loss = val_loss\n",
    "            best_val_loss_epoch = epoch\n",
    "\n",
    "            output_fn = os.path.join(output_dir, f\"epoch={str(epoch).zfill(2)}_valloss={best_val_loss:.3f}.pth.tar\")\n",
    "            save_checkpoint(model, output_fn)\n",
    "            print(f\"New checkpoint saved to {output_fn}\\n\")\n",
    "\n",
    "            best_val_loss_fn = output_fn\n",
    "\n",
    "    print(f\"Best val_loss = {best_val_loss:.3f} reached at epoch {best_val_loss_epoch}\")\n",
    "    load_checkpoint(model, best_val_loss_fn)\n",
    "\n",
    "    return train_losses, val_losses, best_val_loss, model\n"
   ]
  },
  {
   "cell_type": "code",
   "execution_count": 23,
   "metadata": {},
   "outputs": [
    {
     "data": {
      "application/vnd.jupyter.widget-view+json": {
       "model_id": "08c0906cea4747c481304576c8414467",
       "version_major": 2,
       "version_minor": 0
      },
      "text/plain": [
       "epoch: 000 | train:   0%|          | 0/782 [00:00<?, ?it/s]"
      ]
     },
     "metadata": {},
     "output_type": "display_data"
    },
    {
     "data": {
      "application/vnd.jupyter.widget-view+json": {
       "model_id": "dd750000a2694d5fa439eea965d606ae",
       "version_major": 2,
       "version_minor": 0
      },
      "text/plain": [
       "epoch: 000 | val  :   0%|          | 0/79 [00:00<?, ?it/s]"
      ]
     },
     "metadata": {},
     "output_type": "display_data"
    },
    {
     "name": "stdout",
     "output_type": "stream",
     "text": [
      "New checkpoint saved to checkpoints_HooLeNet/epoch=00_valloss=4.970.pth.tar\n",
      "\n"
     ]
    },
    {
     "data": {
      "application/vnd.jupyter.widget-view+json": {
       "model_id": "91d55575c0c0496c830a3017df94c8d7",
       "version_major": 2,
       "version_minor": 0
      },
      "text/plain": [
       "epoch: 001 | train:   0%|          | 0/782 [00:00<?, ?it/s]"
      ]
     },
     "metadata": {},
     "output_type": "display_data"
    },
    {
     "data": {
      "application/vnd.jupyter.widget-view+json": {
       "model_id": "f849d647468c4fddbd64589cb2fba0c7",
       "version_major": 2,
       "version_minor": 0
      },
      "text/plain": [
       "epoch: 001 | val  :   0%|          | 0/79 [00:00<?, ?it/s]"
      ]
     },
     "metadata": {},
     "output_type": "display_data"
    },
    {
     "name": "stdout",
     "output_type": "stream",
     "text": [
      "New checkpoint saved to checkpoints_HooLeNet/epoch=01_valloss=4.689.pth.tar\n",
      "\n"
     ]
    },
    {
     "data": {
      "application/vnd.jupyter.widget-view+json": {
       "model_id": "b6d5cba125de47e682ca746576d0ee3e",
       "version_major": 2,
       "version_minor": 0
      },
      "text/plain": [
       "epoch: 002 | train:   0%|          | 0/782 [00:00<?, ?it/s]"
      ]
     },
     "metadata": {},
     "output_type": "display_data"
    },
    {
     "data": {
      "application/vnd.jupyter.widget-view+json": {
       "model_id": "6b9e17fc7dc04d0980c2b9d6c694b1e8",
       "version_major": 2,
       "version_minor": 0
      },
      "text/plain": [
       "epoch: 002 | val  :   0%|          | 0/79 [00:00<?, ?it/s]"
      ]
     },
     "metadata": {},
     "output_type": "display_data"
    },
    {
     "name": "stdout",
     "output_type": "stream",
     "text": [
      "New checkpoint saved to checkpoints_HooLeNet/epoch=02_valloss=4.302.pth.tar\n",
      "\n"
     ]
    },
    {
     "data": {
      "application/vnd.jupyter.widget-view+json": {
       "model_id": "bea4487ff999461ea915c6e7f0461177",
       "version_major": 2,
       "version_minor": 0
      },
      "text/plain": [
       "epoch: 003 | train:   0%|          | 0/782 [00:00<?, ?it/s]"
      ]
     },
     "metadata": {},
     "output_type": "display_data"
    },
    {
     "data": {
      "application/vnd.jupyter.widget-view+json": {
       "model_id": "9c3029064d044047a4d60e98a0f6f3a9",
       "version_major": 2,
       "version_minor": 0
      },
      "text/plain": [
       "epoch: 003 | val  :   0%|          | 0/79 [00:00<?, ?it/s]"
      ]
     },
     "metadata": {},
     "output_type": "display_data"
    },
    {
     "name": "stdout",
     "output_type": "stream",
     "text": [
      "New checkpoint saved to checkpoints_HooLeNet/epoch=03_valloss=4.054.pth.tar\n",
      "\n"
     ]
    },
    {
     "data": {
      "application/vnd.jupyter.widget-view+json": {
       "model_id": "a12c963266e8406ab3860399bd66a74c",
       "version_major": 2,
       "version_minor": 0
      },
      "text/plain": [
       "epoch: 004 | train:   0%|          | 0/782 [00:00<?, ?it/s]"
      ]
     },
     "metadata": {},
     "output_type": "display_data"
    },
    {
     "data": {
      "application/vnd.jupyter.widget-view+json": {
       "model_id": "052b9c93a1f4465fb78199e731d350b2",
       "version_major": 2,
       "version_minor": 0
      },
      "text/plain": [
       "epoch: 004 | val  :   0%|          | 0/79 [00:00<?, ?it/s]"
      ]
     },
     "metadata": {},
     "output_type": "display_data"
    },
    {
     "name": "stdout",
     "output_type": "stream",
     "text": [
      "New checkpoint saved to checkpoints_HooLeNet/epoch=04_valloss=3.856.pth.tar\n",
      "\n"
     ]
    },
    {
     "data": {
      "application/vnd.jupyter.widget-view+json": {
       "model_id": "89c1fea58b114c0984caca16ce275025",
       "version_major": 2,
       "version_minor": 0
      },
      "text/plain": [
       "epoch: 005 | train:   0%|          | 0/782 [00:00<?, ?it/s]"
      ]
     },
     "metadata": {},
     "output_type": "display_data"
    },
    {
     "data": {
      "application/vnd.jupyter.widget-view+json": {
       "model_id": "33905a347f2d41b0b143ae40fe2bec32",
       "version_major": 2,
       "version_minor": 0
      },
      "text/plain": [
       "epoch: 005 | val  :   0%|          | 0/79 [00:00<?, ?it/s]"
      ]
     },
     "metadata": {},
     "output_type": "display_data"
    },
    {
     "name": "stdout",
     "output_type": "stream",
     "text": [
      "New checkpoint saved to checkpoints_HooLeNet/epoch=05_valloss=3.695.pth.tar\n",
      "\n"
     ]
    },
    {
     "data": {
      "application/vnd.jupyter.widget-view+json": {
       "model_id": "4883c4694c8b4ad1b0dab6010698b617",
       "version_major": 2,
       "version_minor": 0
      },
      "text/plain": [
       "epoch: 006 | train:   0%|          | 0/782 [00:00<?, ?it/s]"
      ]
     },
     "metadata": {},
     "output_type": "display_data"
    },
    {
     "data": {
      "application/vnd.jupyter.widget-view+json": {
       "model_id": "a179f837d23f4bc49d4b4393356a2887",
       "version_major": 2,
       "version_minor": 0
      },
      "text/plain": [
       "epoch: 006 | val  :   0%|          | 0/79 [00:00<?, ?it/s]"
      ]
     },
     "metadata": {},
     "output_type": "display_data"
    },
    {
     "name": "stdout",
     "output_type": "stream",
     "text": [
      "New checkpoint saved to checkpoints_HooLeNet/epoch=06_valloss=3.607.pth.tar\n",
      "\n"
     ]
    },
    {
     "data": {
      "application/vnd.jupyter.widget-view+json": {
       "model_id": "95dd2c8ba05246319071da9b3b8a6c1f",
       "version_major": 2,
       "version_minor": 0
      },
      "text/plain": [
       "epoch: 007 | train:   0%|          | 0/782 [00:00<?, ?it/s]"
      ]
     },
     "metadata": {},
     "output_type": "display_data"
    },
    {
     "data": {
      "application/vnd.jupyter.widget-view+json": {
       "model_id": "805621e49ae842cd8d0384ec9e239f73",
       "version_major": 2,
       "version_minor": 0
      },
      "text/plain": [
       "epoch: 007 | val  :   0%|          | 0/79 [00:00<?, ?it/s]"
      ]
     },
     "metadata": {},
     "output_type": "display_data"
    },
    {
     "name": "stdout",
     "output_type": "stream",
     "text": [
      "New checkpoint saved to checkpoints_HooLeNet/epoch=07_valloss=3.525.pth.tar\n",
      "\n"
     ]
    },
    {
     "data": {
      "application/vnd.jupyter.widget-view+json": {
       "model_id": "216df1f75ebb43aabdcdb83595613e4d",
       "version_major": 2,
       "version_minor": 0
      },
      "text/plain": [
       "epoch: 008 | train:   0%|          | 0/782 [00:00<?, ?it/s]"
      ]
     },
     "metadata": {},
     "output_type": "display_data"
    },
    {
     "data": {
      "application/vnd.jupyter.widget-view+json": {
       "model_id": "8fc2c5c0ba4c449caec81c7e999ec4a1",
       "version_major": 2,
       "version_minor": 0
      },
      "text/plain": [
       "epoch: 008 | val  :   0%|          | 0/79 [00:00<?, ?it/s]"
      ]
     },
     "metadata": {},
     "output_type": "display_data"
    },
    {
     "name": "stdout",
     "output_type": "stream",
     "text": [
      "New checkpoint saved to checkpoints_HooLeNet/epoch=08_valloss=3.479.pth.tar\n",
      "\n"
     ]
    },
    {
     "data": {
      "application/vnd.jupyter.widget-view+json": {
       "model_id": "a42758da1cfe4de983458b1e9ab0fcdf",
       "version_major": 2,
       "version_minor": 0
      },
      "text/plain": [
       "epoch: 009 | train:   0%|          | 0/782 [00:00<?, ?it/s]"
      ]
     },
     "metadata": {},
     "output_type": "display_data"
    },
    {
     "data": {
      "application/vnd.jupyter.widget-view+json": {
       "model_id": "56689131202a4c6a9c4ad9a5a4d568fd",
       "version_major": 2,
       "version_minor": 0
      },
      "text/plain": [
       "epoch: 009 | val  :   0%|          | 0/79 [00:00<?, ?it/s]"
      ]
     },
     "metadata": {},
     "output_type": "display_data"
    },
    {
     "name": "stdout",
     "output_type": "stream",
     "text": [
      "New checkpoint saved to checkpoints_HooLeNet/epoch=09_valloss=3.377.pth.tar\n",
      "\n"
     ]
    },
    {
     "data": {
      "application/vnd.jupyter.widget-view+json": {
       "model_id": "0588b1e014b94317b1c0032483a7d027",
       "version_major": 2,
       "version_minor": 0
      },
      "text/plain": [
       "epoch: 010 | train:   0%|          | 0/782 [00:00<?, ?it/s]"
      ]
     },
     "metadata": {},
     "output_type": "display_data"
    },
    {
     "data": {
      "application/vnd.jupyter.widget-view+json": {
       "model_id": "cf6d7277ae1e44d98c7e1666ca1b2153",
       "version_major": 2,
       "version_minor": 0
      },
      "text/plain": [
       "epoch: 010 | val  :   0%|          | 0/79 [00:00<?, ?it/s]"
      ]
     },
     "metadata": {},
     "output_type": "display_data"
    },
    {
     "name": "stdout",
     "output_type": "stream",
     "text": [
      "New checkpoint saved to checkpoints_HooLeNet/epoch=10_valloss=3.315.pth.tar\n",
      "\n"
     ]
    },
    {
     "data": {
      "application/vnd.jupyter.widget-view+json": {
       "model_id": "e05f50e1399e49aea5259515d37ee29e",
       "version_major": 2,
       "version_minor": 0
      },
      "text/plain": [
       "epoch: 011 | train:   0%|          | 0/782 [00:00<?, ?it/s]"
      ]
     },
     "metadata": {},
     "output_type": "display_data"
    },
    {
     "data": {
      "application/vnd.jupyter.widget-view+json": {
       "model_id": "ce71201851db4010b5007ba3fdacdcc6",
       "version_major": 2,
       "version_minor": 0
      },
      "text/plain": [
       "epoch: 011 | val  :   0%|          | 0/79 [00:00<?, ?it/s]"
      ]
     },
     "metadata": {},
     "output_type": "display_data"
    },
    {
     "name": "stdout",
     "output_type": "stream",
     "text": [
      "New checkpoint saved to checkpoints_HooLeNet/epoch=11_valloss=3.231.pth.tar\n",
      "\n"
     ]
    },
    {
     "data": {
      "application/vnd.jupyter.widget-view+json": {
       "model_id": "0ab71e5ddfcd42619526b8a0095d2319",
       "version_major": 2,
       "version_minor": 0
      },
      "text/plain": [
       "epoch: 012 | train:   0%|          | 0/782 [00:00<?, ?it/s]"
      ]
     },
     "metadata": {},
     "output_type": "display_data"
    },
    {
     "data": {
      "application/vnd.jupyter.widget-view+json": {
       "model_id": "d029494cb26344c88351670b710eaf48",
       "version_major": 2,
       "version_minor": 0
      },
      "text/plain": [
       "epoch: 012 | val  :   0%|          | 0/79 [00:00<?, ?it/s]"
      ]
     },
     "metadata": {},
     "output_type": "display_data"
    },
    {
     "name": "stdout",
     "output_type": "stream",
     "text": [
      "New checkpoint saved to checkpoints_HooLeNet/epoch=12_valloss=3.190.pth.tar\n",
      "\n"
     ]
    },
    {
     "data": {
      "application/vnd.jupyter.widget-view+json": {
       "model_id": "c0fe0068326c46fa8f326eacc0096cfe",
       "version_major": 2,
       "version_minor": 0
      },
      "text/plain": [
       "epoch: 013 | train:   0%|          | 0/782 [00:00<?, ?it/s]"
      ]
     },
     "metadata": {},
     "output_type": "display_data"
    },
    {
     "data": {
      "application/vnd.jupyter.widget-view+json": {
       "model_id": "7f35ad3a43bf4037a52cdfb0062e4d53",
       "version_major": 2,
       "version_minor": 0
      },
      "text/plain": [
       "epoch: 013 | val  :   0%|          | 0/79 [00:00<?, ?it/s]"
      ]
     },
     "metadata": {},
     "output_type": "display_data"
    },
    {
     "name": "stdout",
     "output_type": "stream",
     "text": [
      "New checkpoint saved to checkpoints_HooLeNet/epoch=13_valloss=3.120.pth.tar\n",
      "\n"
     ]
    },
    {
     "data": {
      "application/vnd.jupyter.widget-view+json": {
       "model_id": "ea7c0b65b6de46e0a88e1394a3be5882",
       "version_major": 2,
       "version_minor": 0
      },
      "text/plain": [
       "epoch: 014 | train:   0%|          | 0/782 [00:00<?, ?it/s]"
      ]
     },
     "metadata": {},
     "output_type": "display_data"
    },
    {
     "data": {
      "application/vnd.jupyter.widget-view+json": {
       "model_id": "ae940b698ca94d289753efac213c03a4",
       "version_major": 2,
       "version_minor": 0
      },
      "text/plain": [
       "epoch: 014 | val  :   0%|          | 0/79 [00:00<?, ?it/s]"
      ]
     },
     "metadata": {},
     "output_type": "display_data"
    },
    {
     "name": "stdout",
     "output_type": "stream",
     "text": [
      "New checkpoint saved to checkpoints_HooLeNet/epoch=14_valloss=3.056.pth.tar\n",
      "\n"
     ]
    },
    {
     "data": {
      "application/vnd.jupyter.widget-view+json": {
       "model_id": "e7009731b0564d00ac2e3f06471707d6",
       "version_major": 2,
       "version_minor": 0
      },
      "text/plain": [
       "epoch: 015 | train:   0%|          | 0/782 [00:00<?, ?it/s]"
      ]
     },
     "metadata": {},
     "output_type": "display_data"
    },
    {
     "data": {
      "application/vnd.jupyter.widget-view+json": {
       "model_id": "81212c9a5c624c3b8bbec2765228f73c",
       "version_major": 2,
       "version_minor": 0
      },
      "text/plain": [
       "epoch: 015 | val  :   0%|          | 0/79 [00:00<?, ?it/s]"
      ]
     },
     "metadata": {},
     "output_type": "display_data"
    },
    {
     "data": {
      "application/vnd.jupyter.widget-view+json": {
       "model_id": "a14f4051ac5e40cbab76177d601827d1",
       "version_major": 2,
       "version_minor": 0
      },
      "text/plain": [
       "epoch: 016 | train:   0%|          | 0/782 [00:00<?, ?it/s]"
      ]
     },
     "metadata": {},
     "output_type": "display_data"
    },
    {
     "data": {
      "application/vnd.jupyter.widget-view+json": {
       "model_id": "2138688129044f6988166c1638fa850b",
       "version_major": 2,
       "version_minor": 0
      },
      "text/plain": [
       "epoch: 016 | val  :   0%|          | 0/79 [00:00<?, ?it/s]"
      ]
     },
     "metadata": {},
     "output_type": "display_data"
    },
    {
     "name": "stdout",
     "output_type": "stream",
     "text": [
      "New checkpoint saved to checkpoints_HooLeNet/epoch=16_valloss=3.035.pth.tar\n",
      "\n"
     ]
    },
    {
     "data": {
      "application/vnd.jupyter.widget-view+json": {
       "model_id": "0f0f3aaeed464ef0b624b62bc49c34c3",
       "version_major": 2,
       "version_minor": 0
      },
      "text/plain": [
       "epoch: 017 | train:   0%|          | 0/782 [00:00<?, ?it/s]"
      ]
     },
     "metadata": {},
     "output_type": "display_data"
    },
    {
     "data": {
      "application/vnd.jupyter.widget-view+json": {
       "model_id": "ce338dd7cb9147ccb7ca0f9440609cc6",
       "version_major": 2,
       "version_minor": 0
      },
      "text/plain": [
       "epoch: 017 | val  :   0%|          | 0/79 [00:00<?, ?it/s]"
      ]
     },
     "metadata": {},
     "output_type": "display_data"
    },
    {
     "data": {
      "application/vnd.jupyter.widget-view+json": {
       "model_id": "a62233fab9b140cf8f8811c715df7d6c",
       "version_major": 2,
       "version_minor": 0
      },
      "text/plain": [
       "epoch: 018 | train:   0%|          | 0/782 [00:00<?, ?it/s]"
      ]
     },
     "metadata": {},
     "output_type": "display_data"
    },
    {
     "data": {
      "application/vnd.jupyter.widget-view+json": {
       "model_id": "907b8b5ed1b74bfea93571046760261c",
       "version_major": 2,
       "version_minor": 0
      },
      "text/plain": [
       "epoch: 018 | val  :   0%|          | 0/79 [00:00<?, ?it/s]"
      ]
     },
     "metadata": {},
     "output_type": "display_data"
    },
    {
     "name": "stdout",
     "output_type": "stream",
     "text": [
      "New checkpoint saved to checkpoints_HooLeNet/epoch=18_valloss=2.908.pth.tar\n",
      "\n"
     ]
    },
    {
     "data": {
      "application/vnd.jupyter.widget-view+json": {
       "model_id": "3f84f8e4e5d14644b7f6a8073de7f635",
       "version_major": 2,
       "version_minor": 0
      },
      "text/plain": [
       "epoch: 019 | train:   0%|          | 0/782 [00:00<?, ?it/s]"
      ]
     },
     "metadata": {},
     "output_type": "display_data"
    },
    {
     "data": {
      "application/vnd.jupyter.widget-view+json": {
       "model_id": "cc813c5028944424bca2c48c45ff6948",
       "version_major": 2,
       "version_minor": 0
      },
      "text/plain": [
       "epoch: 019 | val  :   0%|          | 0/79 [00:00<?, ?it/s]"
      ]
     },
     "metadata": {},
     "output_type": "display_data"
    },
    {
     "name": "stdout",
     "output_type": "stream",
     "text": [
      "New checkpoint saved to checkpoints_HooLeNet/epoch=19_valloss=2.896.pth.tar\n",
      "\n"
     ]
    },
    {
     "data": {
      "application/vnd.jupyter.widget-view+json": {
       "model_id": "91659d56e921432185b62dc4c52d6a46",
       "version_major": 2,
       "version_minor": 0
      },
      "text/plain": [
       "epoch: 020 | train:   0%|          | 0/782 [00:00<?, ?it/s]"
      ]
     },
     "metadata": {},
     "output_type": "display_data"
    },
    {
     "data": {
      "application/vnd.jupyter.widget-view+json": {
       "model_id": "8ad5c29a816e4ec1990515d6f07c0c78",
       "version_major": 2,
       "version_minor": 0
      },
      "text/plain": [
       "epoch: 020 | val  :   0%|          | 0/79 [00:00<?, ?it/s]"
      ]
     },
     "metadata": {},
     "output_type": "display_data"
    },
    {
     "name": "stdout",
     "output_type": "stream",
     "text": [
      "New checkpoint saved to checkpoints_HooLeNet/epoch=20_valloss=2.842.pth.tar\n",
      "\n"
     ]
    },
    {
     "data": {
      "application/vnd.jupyter.widget-view+json": {
       "model_id": "8dea7a05f71a498f9f726c8c1542f4c1",
       "version_major": 2,
       "version_minor": 0
      },
      "text/plain": [
       "epoch: 021 | train:   0%|          | 0/782 [00:00<?, ?it/s]"
      ]
     },
     "metadata": {},
     "output_type": "display_data"
    },
    {
     "data": {
      "application/vnd.jupyter.widget-view+json": {
       "model_id": "c864f3a6454d4779a659ae27b340cd77",
       "version_major": 2,
       "version_minor": 0
      },
      "text/plain": [
       "epoch: 021 | val  :   0%|          | 0/79 [00:00<?, ?it/s]"
      ]
     },
     "metadata": {},
     "output_type": "display_data"
    },
    {
     "data": {
      "application/vnd.jupyter.widget-view+json": {
       "model_id": "6b423602aa2a414e9cdddf68325d715e",
       "version_major": 2,
       "version_minor": 0
      },
      "text/plain": [
       "epoch: 022 | train:   0%|          | 0/782 [00:00<?, ?it/s]"
      ]
     },
     "metadata": {},
     "output_type": "display_data"
    },
    {
     "data": {
      "application/vnd.jupyter.widget-view+json": {
       "model_id": "40f3d67f212544e29193151d95a490dd",
       "version_major": 2,
       "version_minor": 0
      },
      "text/plain": [
       "epoch: 022 | val  :   0%|          | 0/79 [00:00<?, ?it/s]"
      ]
     },
     "metadata": {},
     "output_type": "display_data"
    },
    {
     "data": {
      "application/vnd.jupyter.widget-view+json": {
       "model_id": "706ed2c743694338bb05aed3c01ad93d",
       "version_major": 2,
       "version_minor": 0
      },
      "text/plain": [
       "epoch: 023 | train:   0%|          | 0/782 [00:00<?, ?it/s]"
      ]
     },
     "metadata": {},
     "output_type": "display_data"
    },
    {
     "data": {
      "application/vnd.jupyter.widget-view+json": {
       "model_id": "bd43d6559ba24a358fd7da67b175173d",
       "version_major": 2,
       "version_minor": 0
      },
      "text/plain": [
       "epoch: 023 | val  :   0%|          | 0/79 [00:00<?, ?it/s]"
      ]
     },
     "metadata": {},
     "output_type": "display_data"
    },
    {
     "data": {
      "application/vnd.jupyter.widget-view+json": {
       "model_id": "4d32060fc6024f2d9c3a3de4bed63962",
       "version_major": 2,
       "version_minor": 0
      },
      "text/plain": [
       "epoch: 024 | train:   0%|          | 0/782 [00:00<?, ?it/s]"
      ]
     },
     "metadata": {},
     "output_type": "display_data"
    },
    {
     "data": {
      "application/vnd.jupyter.widget-view+json": {
       "model_id": "212f732a57474e7aa3c789ae99492dad",
       "version_major": 2,
       "version_minor": 0
      },
      "text/plain": [
       "epoch: 024 | val  :   0%|          | 0/79 [00:00<?, ?it/s]"
      ]
     },
     "metadata": {},
     "output_type": "display_data"
    },
    {
     "name": "stdout",
     "output_type": "stream",
     "text": [
      "New checkpoint saved to checkpoints_HooLeNet/epoch=24_valloss=2.768.pth.tar\n",
      "\n",
      "Best val_loss = 2.768 reached at epoch 24\n"
     ]
    }
   ],
   "source": [
    "train_losses_baseline, val_losses_baseline, best_val_loss_baseline, cnn_baseline = run_experiment(\n",
    "    model,\n",
    "    train_loader,\n",
    "    val_loader,\n",
    "    loss_fn,\n",
    "    optimizer,\n",
    "    config[\"num_epochs\"],\n",
    "    device,\n",
    "    \"checkpoints_HooLeNet\",\n",
    ")"
   ]
  },
  {
   "cell_type": "code",
   "execution_count": 27,
   "metadata": {},
   "outputs": [],
   "source": [
    "def plot_losses(train_losses, val_losses, title):\n",
    "    plt.figure(figsize=(12, 5))\n",
    "    plt.title(title)\n",
    "    plt.plot(train_losses, label=\"train\")\n",
    "    plt.plot(val_losses, label=\"val\")\n",
    "    plt.xlabel(\"epoch\")\n",
    "    plt.ylabel(\"loss\")\n",
    "    plt.grid(True)\n",
    "    plt.legend()\n",
    "    plt.show()"
   ]
  },
  {
   "cell_type": "code",
   "execution_count": 28,
   "metadata": {},
   "outputs": [
    {
     "data": {
      "image/png": "[encoded data removed]",
      "text/plain": [
       "<Figure size 1200x500 with 1 Axes>"
      ]
     },
     "metadata": {},
     "output_type": "display_data"
    }
   ],
   "source": [
    "plot_losses(train_losses_baseline, val_losses_baseline, title=\"cnn_baseline\")"
   ]
  },
  {
   "cell_type": "code",
   "execution_count": 29,
   "metadata": {},
   "outputs": [],
   "source": [
    "def collect_predictions(model, dataloader, device):\n",
    "    model.eval()\n",
    "    model = model.to(device)\n",
    "    torch.set_grad_enabled(False)\n",
    "\n",
    "    labels_all = []\n",
    "    probs_all = []\n",
    "    preds_all = []\n",
    "    for batch in tqdm(dataloader, total=len(dataloader)):\n",
    "        images, labels = batch\n",
    "\n",
    "        logits = model(images.to(device)).cpu()\n",
    "        probs = logits.softmax(dim=1)\n",
    "        max_prob, max_prob_index = torch.max(probs, dim=1)\n",
    "\n",
    "        labels_all.extend(labels.numpy().tolist())\n",
    "        probs_all.extend(max_prob.numpy().tolist())\n",
    "        preds_all.extend(max_prob_index.numpy().tolist())\n",
    "\n",
    "    return labels_all, probs_all, preds_all"
   ]
  },
  {
   "cell_type": "code",
   "execution_count": 30,
   "metadata": {},
   "outputs": [
    {
     "data": {
      "application/vnd.jupyter.widget-view+json": {
       "model_id": "3a4331cfd16f42acaeb2f9457a0d9626",
       "version_major": 2,
       "version_minor": 0
      },
      "text/plain": [
       "  0%|          | 0/782 [00:00<?, ?it/s]"
      ]
     },
     "metadata": {},
     "output_type": "display_data"
    },
    {
     "data": {
      "text/plain": [
       "0.42042"
      ]
     },
     "execution_count": 30,
     "metadata": {},
     "output_type": "execute_result"
    }
   ],
   "source": [
    "train_labels, train_probs, train_preds = collect_predictions(cnn_baseline, train_loader, device)\n",
    "\n",
    "accuracy_train = accuracy_score(train_labels, train_preds)\n",
    "accuracy_train"
   ]
  },
  {
   "cell_type": "code",
   "execution_count": 31,
   "metadata": {},
   "outputs": [
    {
     "data": {
      "application/vnd.jupyter.widget-view+json": {
       "model_id": "c65f3c4231cc4990a3678cfcd6a00a27",
       "version_major": 2,
       "version_minor": 0
      },
      "text/plain": [
       "  0%|          | 0/79 [00:00<?, ?it/s]"
      ]
     },
     "metadata": {},
     "output_type": "display_data"
    },
    {
     "data": {
      "text/plain": [
       "0.0028"
      ]
     },
     "execution_count": 31,
     "metadata": {},
     "output_type": "execute_result"
    }
   ],
   "source": [
    "test_labels, test_probs, test_preds = collect_predictions(cnn_baseline, test_loader, device)\n",
    "\n",
    "accuracy_train = accuracy_score(test_labels, test_preds)\n",
    "accuracy_train"
   ]
  },
  {
   "cell_type": "code",
   "execution_count": 32,
   "metadata": {},
   "outputs": [],
   "source": [
    "optimizer = config[\"optimizer\"](\n",
    "    model.parameters(), \n",
    "    lr=config[\"learning_rate\"] * 10, \n",
    "    weight_decay=config[\"weight_decay\"]\n",
    ")"
   ]
  },
  {
   "cell_type": "code",
   "execution_count": 33,
   "metadata": {},
   "outputs": [
    {
     "data": {
      "application/vnd.jupyter.widget-view+json": {
       "model_id": "e2fbfc8d85264b2c803922681ffba53e",
       "version_major": 2,
       "version_minor": 0
      },
      "text/plain": [
       "epoch: 025 | train:   0%|          | 0/782 [00:00<?, ?it/s]"
      ]
     },
     "metadata": {},
     "output_type": "display_data"
    },
    {
     "data": {
      "application/vnd.jupyter.widget-view+json": {
       "model_id": "e33c5ad5a71c48cfb19a7d5aa5632758",
       "version_major": 2,
       "version_minor": 0
      },
      "text/plain": [
       "epoch: 025 | val  :   0%|          | 0/79 [00:00<?, ?it/s]"
      ]
     },
     "metadata": {},
     "output_type": "display_data"
    },
    {
     "name": "stdout",
     "output_type": "stream",
     "text": [
      "New checkpoint saved to checkpoints_chatgpt/epoch=25_valloss=4.364.pth.tar\n",
      "\n"
     ]
    },
    {
     "data": {
      "application/vnd.jupyter.widget-view+json": {
       "model_id": "05729f55a98e498cbdec49caa4911fde",
       "version_major": 2,
       "version_minor": 0
      },
      "text/plain": [
       "epoch: 026 | train:   0%|          | 0/782 [00:00<?, ?it/s]"
      ]
     },
     "metadata": {},
     "output_type": "display_data"
    },
    {
     "data": {
      "application/vnd.jupyter.widget-view+json": {
       "model_id": "5cd06c1c259b423484e6beec01d9afdb",
       "version_major": 2,
       "version_minor": 0
      },
      "text/plain": [
       "epoch: 026 | val  :   0%|          | 0/79 [00:00<?, ?it/s]"
      ]
     },
     "metadata": {},
     "output_type": "display_data"
    },
    {
     "name": "stdout",
     "output_type": "stream",
     "text": [
      "New checkpoint saved to checkpoints_chatgpt/epoch=26_valloss=3.955.pth.tar\n",
      "\n"
     ]
    },
    {
     "data": {
      "application/vnd.jupyter.widget-view+json": {
       "model_id": "9651ff289dc14409acc234b9beed6efc",
       "version_major": 2,
       "version_minor": 0
      },
      "text/plain": [
       "epoch: 027 | train:   0%|          | 0/782 [00:00<?, ?it/s]"
      ]
     },
     "metadata": {},
     "output_type": "display_data"
    },
    {
     "data": {
      "application/vnd.jupyter.widget-view+json": {
       "model_id": "2d199c0974a8421c9e735f64203137ce",
       "version_major": 2,
       "version_minor": 0
      },
      "text/plain": [
       "epoch: 027 | val  :   0%|          | 0/79 [00:00<?, ?it/s]"
      ]
     },
     "metadata": {},
     "output_type": "display_data"
    },
    {
     "name": "stdout",
     "output_type": "stream",
     "text": [
      "New checkpoint saved to checkpoints_chatgpt/epoch=27_valloss=3.770.pth.tar\n",
      "\n"
     ]
    },
    {
     "data": {
      "application/vnd.jupyter.widget-view+json": {
       "model_id": "2ada1d4165a14eef88ca41c068c3ec2b",
       "version_major": 2,
       "version_minor": 0
      },
      "text/plain": [
       "epoch: 028 | train:   0%|          | 0/782 [00:00<?, ?it/s]"
      ]
     },
     "metadata": {},
     "output_type": "display_data"
    },
    {
     "data": {
      "application/vnd.jupyter.widget-view+json": {
       "model_id": "a870f1d22dfa4a2eb5a89296a435c99d",
       "version_major": 2,
       "version_minor": 0
      },
      "text/plain": [
       "epoch: 028 | val  :   0%|          | 0/79 [00:00<?, ?it/s]"
      ]
     },
     "metadata": {},
     "output_type": "display_data"
    },
    {
     "name": "stdout",
     "output_type": "stream",
     "text": [
      "New checkpoint saved to checkpoints_chatgpt/epoch=28_valloss=3.622.pth.tar\n",
      "\n"
     ]
    },
    {
     "data": {
      "application/vnd.jupyter.widget-view+json": {
       "model_id": "467de47eaec846ecade3678caf87a148",
       "version_major": 2,
       "version_minor": 0
      },
      "text/plain": [
       "epoch: 029 | train:   0%|          | 0/782 [00:00<?, ?it/s]"
      ]
     },
     "metadata": {},
     "output_type": "display_data"
    },
    {
     "data": {
      "application/vnd.jupyter.widget-view+json": {
       "model_id": "fdb2963aea42442bbc3420a342319433",
       "version_major": 2,
       "version_minor": 0
      },
      "text/plain": [
       "epoch: 029 | val  :   0%|          | 0/79 [00:00<?, ?it/s]"
      ]
     },
     "metadata": {},
     "output_type": "display_data"
    },
    {
     "name": "stdout",
     "output_type": "stream",
     "text": [
      "New checkpoint saved to checkpoints_chatgpt/epoch=29_valloss=3.510.pth.tar\n",
      "\n"
     ]
    },
    {
     "data": {
      "application/vnd.jupyter.widget-view+json": {
       "model_id": "ea781b9bc90b4c29b417ec4f9ea1b245",
       "version_major": 2,
       "version_minor": 0
      },
      "text/plain": [
       "epoch: 030 | train:   0%|          | 0/782 [00:00<?, ?it/s]"
      ]
     },
     "metadata": {},
     "output_type": "display_data"
    },
    {
     "data": {
      "application/vnd.jupyter.widget-view+json": {
       "model_id": "ea581730de4544aba65b8285d737ba01",
       "version_major": 2,
       "version_minor": 0
      },
      "text/plain": [
       "epoch: 030 | val  :   0%|          | 0/79 [00:00<?, ?it/s]"
      ]
     },
     "metadata": {},
     "output_type": "display_data"
    },
    {
     "name": "stdout",
     "output_type": "stream",
     "text": [
      "New checkpoint saved to checkpoints_chatgpt/epoch=30_valloss=3.452.pth.tar\n",
      "\n"
     ]
    },
    {
     "data": {
      "application/vnd.jupyter.widget-view+json": {
       "model_id": "c1b0ad50f856484e99ee470533cc005d",
       "version_major": 2,
       "version_minor": 0
      },
      "text/plain": [
       "epoch: 031 | train:   0%|          | 0/782 [00:00<?, ?it/s]"
      ]
     },
     "metadata": {},
     "output_type": "display_data"
    },
    {
     "data": {
      "application/vnd.jupyter.widget-view+json": {
       "model_id": "4898c0c836134f569a2dd3fd14f9c333",
       "version_major": 2,
       "version_minor": 0
      },
      "text/plain": [
       "epoch: 031 | val  :   0%|          | 0/79 [00:00<?, ?it/s]"
      ]
     },
     "metadata": {},
     "output_type": "display_data"
    },
    {
     "name": "stdout",
     "output_type": "stream",
     "text": [
      "New checkpoint saved to checkpoints_chatgpt/epoch=31_valloss=3.366.pth.tar\n",
      "\n"
     ]
    },
    {
     "data": {
      "application/vnd.jupyter.widget-view+json": {
       "model_id": "796ed87128b2430faf9b2d625bff0a75",
       "version_major": 2,
       "version_minor": 0
      },
      "text/plain": [
       "epoch: 032 | train:   0%|          | 0/782 [00:00<?, ?it/s]"
      ]
     },
     "metadata": {},
     "output_type": "display_data"
    },
    {
     "data": {
      "application/vnd.jupyter.widget-view+json": {
       "model_id": "c3451a8cab194722aed890560d69244d",
       "version_major": 2,
       "version_minor": 0
      },
      "text/plain": [
       "epoch: 032 | val  :   0%|          | 0/79 [00:00<?, ?it/s]"
      ]
     },
     "metadata": {},
     "output_type": "display_data"
    },
    {
     "name": "stdout",
     "output_type": "stream",
     "text": [
      "New checkpoint saved to checkpoints_chatgpt/epoch=32_valloss=3.307.pth.tar\n",
      "\n"
     ]
    },
    {
     "data": {
      "application/vnd.jupyter.widget-view+json": {
       "model_id": "580f0cd6140045c8b21a278cd2769979",
       "version_major": 2,
       "version_minor": 0
      },
      "text/plain": [
       "epoch: 033 | train:   0%|          | 0/782 [00:00<?, ?it/s]"
      ]
     },
     "metadata": {},
     "output_type": "display_data"
    },
    {
     "data": {
      "application/vnd.jupyter.widget-view+json": {
       "model_id": "c9efcc65cfe44408846aeaba0b667c1b",
       "version_major": 2,
       "version_minor": 0
      },
      "text/plain": [
       "epoch: 033 | val  :   0%|          | 0/79 [00:00<?, ?it/s]"
      ]
     },
     "metadata": {},
     "output_type": "display_data"
    },
    {
     "name": "stdout",
     "output_type": "stream",
     "text": [
      "New checkpoint saved to checkpoints_chatgpt/epoch=33_valloss=3.161.pth.tar\n",
      "\n"
     ]
    },
    {
     "data": {
      "application/vnd.jupyter.widget-view+json": {
       "model_id": "97c4eea210d24503b294baecb79fe240",
       "version_major": 2,
       "version_minor": 0
      },
      "text/plain": [
       "epoch: 034 | train:   0%|          | 0/782 [00:00<?, ?it/s]"
      ]
     },
     "metadata": {},
     "output_type": "display_data"
    },
    {
     "data": {
      "application/vnd.jupyter.widget-view+json": {
       "model_id": "c91a73a0361245edbbaa7344238b2e6e",
       "version_major": 2,
       "version_minor": 0
      },
      "text/plain": [
       "epoch: 034 | val  :   0%|          | 0/79 [00:00<?, ?it/s]"
      ]
     },
     "metadata": {},
     "output_type": "display_data"
    },
    {
     "name": "stdout",
     "output_type": "stream",
     "text": [
      "New checkpoint saved to checkpoints_chatgpt/epoch=34_valloss=3.150.pth.tar\n",
      "\n"
     ]
    },
    {
     "data": {
      "application/vnd.jupyter.widget-view+json": {
       "model_id": "f4879a18f3074977b5ca0962929e97e8",
       "version_major": 2,
       "version_minor": 0
      },
      "text/plain": [
       "epoch: 035 | train:   0%|          | 0/782 [00:00<?, ?it/s]"
      ]
     },
     "metadata": {},
     "output_type": "display_data"
    },
    {
     "data": {
      "application/vnd.jupyter.widget-view+json": {
       "model_id": "6ec7bd10ad224661a8b069cb4efae640",
       "version_major": 2,
       "version_minor": 0
      },
      "text/plain": [
       "epoch: 035 | val  :   0%|          | 0/79 [00:00<?, ?it/s]"
      ]
     },
     "metadata": {},
     "output_type": "display_data"
    },
    {
     "name": "stdout",
     "output_type": "stream",
     "text": [
      "New checkpoint saved to checkpoints_chatgpt/epoch=35_valloss=3.101.pth.tar\n",
      "\n"
     ]
    },
    {
     "data": {
      "application/vnd.jupyter.widget-view+json": {
       "model_id": "f6ffb9a1fd6c46f897ad215606ed6dea",
       "version_major": 2,
       "version_minor": 0
      },
      "text/plain": [
       "epoch: 036 | train:   0%|          | 0/782 [00:00<?, ?it/s]"
      ]
     },
     "metadata": {},
     "output_type": "display_data"
    },
    {
     "data": {
      "application/vnd.jupyter.widget-view+json": {
       "model_id": "3d6127304e824579b55522aec802a91a",
       "version_major": 2,
       "version_minor": 0
      },
      "text/plain": [
       "epoch: 036 | val  :   0%|          | 0/79 [00:00<?, ?it/s]"
      ]
     },
     "metadata": {},
     "output_type": "display_data"
    },
    {
     "name": "stdout",
     "output_type": "stream",
     "text": [
      "New checkpoint saved to checkpoints_chatgpt/epoch=36_valloss=3.046.pth.tar\n",
      "\n"
     ]
    },
    {
     "data": {
      "application/vnd.jupyter.widget-view+json": {
       "model_id": "256f82f75ec146bda0c51551d8dc6a07",
       "version_major": 2,
       "version_minor": 0
      },
      "text/plain": [
       "epoch: 037 | train:   0%|          | 0/782 [00:00<?, ?it/s]"
      ]
     },
     "metadata": {},
     "output_type": "display_data"
    },
    {
     "data": {
      "application/vnd.jupyter.widget-view+json": {
       "model_id": "dcab538ee9d44095b3a62e62e684ac73",
       "version_major": 2,
       "version_minor": 0
      },
      "text/plain": [
       "epoch: 037 | val  :   0%|          | 0/79 [00:00<?, ?it/s]"
      ]
     },
     "metadata": {},
     "output_type": "display_data"
    },
    {
     "data": {
      "application/vnd.jupyter.widget-view+json": {
       "model_id": "f1eaf1aabe614f908d77349019408f82",
       "version_major": 2,
       "version_minor": 0
      },
      "text/plain": [
       "epoch: 038 | train:   0%|          | 0/782 [00:00<?, ?it/s]"
      ]
     },
     "metadata": {},
     "output_type": "display_data"
    },
    {
     "data": {
      "application/vnd.jupyter.widget-view+json": {
       "model_id": "aaf9529264c3403095511d7601f4ea36",
       "version_major": 2,
       "version_minor": 0
      },
      "text/plain": [
       "epoch: 038 | val  :   0%|          | 0/79 [00:00<?, ?it/s]"
      ]
     },
     "metadata": {},
     "output_type": "display_data"
    },
    {
     "name": "stdout",
     "output_type": "stream",
     "text": [
      "New checkpoint saved to checkpoints_chatgpt/epoch=38_valloss=3.037.pth.tar\n",
      "\n"
     ]
    },
    {
     "data": {
      "application/vnd.jupyter.widget-view+json": {
       "model_id": "de2a2faa976c41a38bb851cd3e6d3b0d",
       "version_major": 2,
       "version_minor": 0
      },
      "text/plain": [
       "epoch: 039 | train:   0%|          | 0/782 [00:00<?, ?it/s]"
      ]
     },
     "metadata": {},
     "output_type": "display_data"
    },
    {
     "data": {
      "application/vnd.jupyter.widget-view+json": {
       "model_id": "00b4b9d1c02246de89b7b4d728899aed",
       "version_major": 2,
       "version_minor": 0
      },
      "text/plain": [
       "epoch: 039 | val  :   0%|          | 0/79 [00:00<?, ?it/s]"
      ]
     },
     "metadata": {},
     "output_type": "display_data"
    },
    {
     "name": "stdout",
     "output_type": "stream",
     "text": [
      "New checkpoint saved to checkpoints_chatgpt/epoch=39_valloss=2.991.pth.tar\n",
      "\n"
     ]
    },
    {
     "data": {
      "application/vnd.jupyter.widget-view+json": {
       "model_id": "566b1f8ff6704c9b87b0668a08247d81",
       "version_major": 2,
       "version_minor": 0
      },
      "text/plain": [
       "epoch: 040 | train:   0%|          | 0/782 [00:00<?, ?it/s]"
      ]
     },
     "metadata": {},
     "output_type": "display_data"
    },
    {
     "data": {
      "application/vnd.jupyter.widget-view+json": {
       "model_id": "154bf58d70f44e948c8f9f0b1b65f5c9",
       "version_major": 2,
       "version_minor": 0
      },
      "text/plain": [
       "epoch: 040 | val  :   0%|          | 0/79 [00:00<?, ?it/s]"
      ]
     },
     "metadata": {},
     "output_type": "display_data"
    },
    {
     "name": "stdout",
     "output_type": "stream",
     "text": [
      "New checkpoint saved to checkpoints_chatgpt/epoch=40_valloss=2.967.pth.tar\n",
      "\n"
     ]
    },
    {
     "data": {
      "application/vnd.jupyter.widget-view+json": {
       "model_id": "39d20471b1a54fd9a0bfb90536de5f63",
       "version_major": 2,
       "version_minor": 0
      },
      "text/plain": [
       "epoch: 041 | train:   0%|          | 0/782 [00:00<?, ?it/s]"
      ]
     },
     "metadata": {},
     "output_type": "display_data"
    },
    {
     "data": {
      "application/vnd.jupyter.widget-view+json": {
       "model_id": "867cc037899e480587079a9301904d27",
       "version_major": 2,
       "version_minor": 0
      },
      "text/plain": [
       "epoch: 041 | val  :   0%|          | 0/79 [00:00<?, ?it/s]"
      ]
     },
     "metadata": {},
     "output_type": "display_data"
    },
    {
     "data": {
      "application/vnd.jupyter.widget-view+json": {
       "model_id": "6692ae8fe2e44e5daa5fc528879b8b6a",
       "version_major": 2,
       "version_minor": 0
      },
      "text/plain": [
       "epoch: 042 | train:   0%|          | 0/782 [00:00<?, ?it/s]"
      ]
     },
     "metadata": {},
     "output_type": "display_data"
    },
    {
     "data": {
      "application/vnd.jupyter.widget-view+json": {
       "model_id": "fac0cfbcef7c44cc95af2d8d4070ab72",
       "version_major": 2,
       "version_minor": 0
      },
      "text/plain": [
       "epoch: 042 | val  :   0%|          | 0/79 [00:00<?, ?it/s]"
      ]
     },
     "metadata": {},
     "output_type": "display_data"
    },
    {
     "name": "stdout",
     "output_type": "stream",
     "text": [
      "New checkpoint saved to checkpoints_chatgpt/epoch=42_valloss=2.942.pth.tar\n",
      "\n"
     ]
    },
    {
     "data": {
      "application/vnd.jupyter.widget-view+json": {
       "model_id": "b60da94ad26d4fce9a92761f6a68568d",
       "version_major": 2,
       "version_minor": 0
      },
      "text/plain": [
       "epoch: 043 | train:   0%|          | 0/782 [00:00<?, ?it/s]"
      ]
     },
     "metadata": {},
     "output_type": "display_data"
    },
    {
     "data": {
      "application/vnd.jupyter.widget-view+json": {
       "model_id": "66c4833956db442a8c35f31f8c26e1be",
       "version_major": 2,
       "version_minor": 0
      },
      "text/plain": [
       "epoch: 043 | val  :   0%|          | 0/79 [00:00<?, ?it/s]"
      ]
     },
     "metadata": {},
     "output_type": "display_data"
    },
    {
     "name": "stdout",
     "output_type": "stream",
     "text": [
      "New checkpoint saved to checkpoints_chatgpt/epoch=43_valloss=2.909.pth.tar\n",
      "\n"
     ]
    },
    {
     "data": {
      "application/vnd.jupyter.widget-view+json": {
       "model_id": "d493f3e82777452d9e32bf7513b3eeae",
       "version_major": 2,
       "version_minor": 0
      },
      "text/plain": [
       "epoch: 044 | train:   0%|          | 0/782 [00:00<?, ?it/s]"
      ]
     },
     "metadata": {},
     "output_type": "display_data"
    },
    {
     "data": {
      "application/vnd.jupyter.widget-view+json": {
       "model_id": "a7207710d3b74c4fad9f801bffdf96c3",
       "version_major": 2,
       "version_minor": 0
      },
      "text/plain": [
       "epoch: 044 | val  :   0%|          | 0/79 [00:00<?, ?it/s]"
      ]
     },
     "metadata": {},
     "output_type": "display_data"
    },
    {
     "name": "stdout",
     "output_type": "stream",
     "text": [
      "New checkpoint saved to checkpoints_chatgpt/epoch=44_valloss=2.850.pth.tar\n",
      "\n"
     ]
    },
    {
     "data": {
      "application/vnd.jupyter.widget-view+json": {
       "model_id": "41949eadf4e04dabb7515494a22c6f25",
       "version_major": 2,
       "version_minor": 0
      },
      "text/plain": [
       "epoch: 045 | train:   0%|          | 0/782 [00:00<?, ?it/s]"
      ]
     },
     "metadata": {},
     "output_type": "display_data"
    },
    {
     "data": {
      "application/vnd.jupyter.widget-view+json": {
       "model_id": "b24e924ef17042cba5f03b73e934bf9a",
       "version_major": 2,
       "version_minor": 0
      },
      "text/plain": [
       "epoch: 045 | val  :   0%|          | 0/79 [00:00<?, ?it/s]"
      ]
     },
     "metadata": {},
     "output_type": "display_data"
    },
    {
     "name": "stdout",
     "output_type": "stream",
     "text": [
      "New checkpoint saved to checkpoints_chatgpt/epoch=45_valloss=2.844.pth.tar\n",
      "\n"
     ]
    },
    {
     "data": {
      "application/vnd.jupyter.widget-view+json": {
       "model_id": "91acc8e9fabe43e1b164b053f5368a0f",
       "version_major": 2,
       "version_minor": 0
      },
      "text/plain": [
       "epoch: 046 | train:   0%|          | 0/782 [00:00<?, ?it/s]"
      ]
     },
     "metadata": {},
     "output_type": "display_data"
    },
    {
     "data": {
      "application/vnd.jupyter.widget-view+json": {
       "model_id": "783cda1cbcbb431f9b366a52109ae3d6",
       "version_major": 2,
       "version_minor": 0
      },
      "text/plain": [
       "epoch: 046 | val  :   0%|          | 0/79 [00:00<?, ?it/s]"
      ]
     },
     "metadata": {},
     "output_type": "display_data"
    },
    {
     "data": {
      "application/vnd.jupyter.widget-view+json": {
       "model_id": "eedab311f4f941b083d42f986fcb6438",
       "version_major": 2,
       "version_minor": 0
      },
      "text/plain": [
       "epoch: 047 | train:   0%|          | 0/782 [00:00<?, ?it/s]"
      ]
     },
     "metadata": {},
     "output_type": "display_data"
    },
    {
     "data": {
      "application/vnd.jupyter.widget-view+json": {
       "model_id": "dbac6ea42af740369aed31d035cd5c75",
       "version_major": 2,
       "version_minor": 0
      },
      "text/plain": [
       "epoch: 047 | val  :   0%|          | 0/79 [00:00<?, ?it/s]"
      ]
     },
     "metadata": {},
     "output_type": "display_data"
    },
    {
     "name": "stdout",
     "output_type": "stream",
     "text": [
      "New checkpoint saved to checkpoints_chatgpt/epoch=47_valloss=2.819.pth.tar\n",
      "\n"
     ]
    },
    {
     "data": {
      "application/vnd.jupyter.widget-view+json": {
       "model_id": "2be7e90d48f8430bb3d58fefe7bff836",
       "version_major": 2,
       "version_minor": 0
      },
      "text/plain": [
       "epoch: 048 | train:   0%|          | 0/782 [00:00<?, ?it/s]"
      ]
     },
     "metadata": {},
     "output_type": "display_data"
    },
    {
     "data": {
      "application/vnd.jupyter.widget-view+json": {
       "model_id": "9bcb3c98bdb24d698e8f432e2ded4189",
       "version_major": 2,
       "version_minor": 0
      },
      "text/plain": [
       "epoch: 048 | val  :   0%|          | 0/79 [00:00<?, ?it/s]"
      ]
     },
     "metadata": {},
     "output_type": "display_data"
    },
    {
     "data": {
      "application/vnd.jupyter.widget-view+json": {
       "model_id": "e191e357a9fb4ff28cb0cb6a5667bfbe",
       "version_major": 2,
       "version_minor": 0
      },
      "text/plain": [
       "epoch: 049 | train:   0%|          | 0/782 [00:00<?, ?it/s]"
      ]
     },
     "metadata": {},
     "output_type": "display_data"
    },
    {
     "data": {
      "application/vnd.jupyter.widget-view+json": {
       "model_id": "0db2a81322a14e22910c6f68724b5b16",
       "version_major": 2,
       "version_minor": 0
      },
      "text/plain": [
       "epoch: 049 | val  :   0%|          | 0/79 [00:00<?, ?it/s]"
      ]
     },
     "metadata": {},
     "output_type": "display_data"
    },
    {
     "name": "stdout",
     "output_type": "stream",
     "text": [
      "New checkpoint saved to checkpoints_chatgpt/epoch=49_valloss=2.815.pth.tar\n",
      "\n",
      "Best val_loss = 2.815 reached at epoch 49\n"
     ]
    }
   ],
   "source": [
    "train_losses_baseline, val_losses_baseline, best_val_loss_baseline, cnn_baseline = run_experiment(\n",
    "    model,\n",
    "    train_loader,\n",
    "    val_loader,\n",
    "    loss_fn,\n",
    "    optimizer,\n",
    "    config[\"num_epochs\"],\n",
    "    device,\n",
    "    \"checkpoints_chatgpt\",\n",
    "    start_epoch=config[\"num_epochs\"]\n",
    ")"
   ]
  },
  {
   "cell_type": "code",
   "execution_count": 34,
   "metadata": {},
   "outputs": [
    {
     "data": {
      "application/vnd.jupyter.widget-view+json": {
       "model_id": "240621493db8462aa5e9ea799fd79dce",
       "version_major": 2,
       "version_minor": 0
      },
      "text/plain": [
       "  0%|          | 0/782 [00:00<?, ?it/s]"
      ]
     },
     "metadata": {},
     "output_type": "display_data"
    },
    {
     "data": {
      "text/plain": [
       "0.40509"
      ]
     },
     "execution_count": 34,
     "metadata": {},
     "output_type": "execute_result"
    }
   ],
   "source": [
    "train_labels, train_probs, train_preds = collect_predictions(cnn_baseline, train_loader, device)\n",
    "\n",
    "accuracy_train = accuracy_score(train_labels, train_preds)\n",
    "accuracy_train"
   ]
  },
  {
   "cell_type": "code",
   "execution_count": 35,
   "metadata": {},
   "outputs": [
    {
     "data": {
      "application/vnd.jupyter.widget-view+json": {
       "model_id": "1727f1107bf540fcadd0632521f5a51e",
       "version_major": 2,
       "version_minor": 0
      },
      "text/plain": [
       "  0%|          | 0/79 [00:00<?, ?it/s]"
      ]
     },
     "metadata": {},
     "output_type": "display_data"
    },
    {
     "data": {
      "text/plain": [
       "0.0046"
      ]
     },
     "execution_count": 35,
     "metadata": {},
     "output_type": "execute_result"
    }
   ],
   "source": [
    "test_labels, test_probs, test_preds = collect_predictions(cnn_baseline, test_loader, device)\n",
    "\n",
    "accuracy_train = accuracy_score(test_labels, test_preds)\n",
    "accuracy_train"
   ]
  },
  {
   "cell_type": "code",
   "execution_count": 37,
   "metadata": {},
   "outputs": [
    {
     "data": {
      "image/png": "[encoded data removed]",
      "text/plain": [
       "<Figure size 1200x500 with 1 Axes>"
      ]
     },
     "metadata": {},
     "output_type": "display_data"
    }
   ],
   "source": [
    "plot_losses(train_losses_baseline, val_losses_baseline, title=\"cnn_baseline\")"
   ]
  },
  {
   "cell_type": "code",
   "execution_count": 36,
   "metadata": {},
   "outputs": [
    {
     "data": {
      "text/html": [
       "Waiting for W&B process to finish... <strong style=\"color:green\">(success).</strong>"
      ],
      "text/plain": [
       "<IPython.core.display.HTML object>"
      ]
     },
     "metadata": {},
     "output_type": "display_data"
    },
    {
     "name": "stderr",
     "output_type": "stream",
     "text": [
      "wandb: WARNING Source type is set to 'repo' but some required information is missing from the environment. A job will not be created from this run. See https://docs.wandb.ai/guides/launch/create-job\n"
     ]
    },
    {
     "data": {
      "application/vnd.jupyter.widget-view+json": {
       "model_id": "f30f597a34fb4a568d9919f958140dda",
       "version_major": 2,
       "version_minor": 0
      },
      "text/plain": [
       "VBox(children=(Label(value='0.003 MB of 0.003 MB uploaded (0.000 MB deduped)\\r'), FloatProgress(value=1.0, max…"
      ]
     },
     "metadata": {},
     "output_type": "display_data"
    },
    {
     "data": {
      "text/html": [
       "<style>\n",
       "    table.wandb td:nth-child(1) { padding: 0 10px; text-align: left ; width: auto;} td:nth-child(2) {text-align: left ; width: 100%}\n",
       "    .wandb-row { display: flex; flex-direction: row; flex-wrap: wrap; justify-content: flex-start; width: 100% }\n",
       "    .wandb-col { display: flex; flex-direction: column; flex-basis: 100%; flex: 1; padding: 10px; }\n",
       "    </style>\n",
       "<div class=\"wandb-row\"><div class=\"wandb-col\"><h3>Run history:</h3><br/><table class=\"wandb\"><tr><td>epoch</td><td>▁▁▁▁▂▂▂▂▂▃▃▃▃▃▃▄▄▄▄▄▅▅▅▅▅▅▆▆▆▆▆▆▇▇▇▇▇███</td></tr><tr><td>epoch_loss_train</td><td>█▇▆▅▄▄▄▃▃▃▂▂▂▂▂▂▁▁▁▁▇▅▅▄▃▃▃▃▂▂▂▂▂▂▂▂▂▂▂▁</td></tr><tr><td>epoch_loss_val</td><td>█▇▆▅▄▄▃▃▃▂▂▂▂▂▂▁▁▁▁▁▆▅▄▄▃▃▃▂▂▂▂▂▁▂▁▁▁▁▁▁</td></tr><tr><td>loss</td><td>█▇▆▅▄▄▃▄▃▂▃▂▂▁▃▂▂▂▂▁█▆▄▄▄▄▄▃▂▃▃▃▃▂▂▃▂▂▂▁</td></tr><tr><td>lr</td><td>▁▁▁▁▁▁▁▁▁▁▁▁▁▁▁▁▁▁▁▁████████████████████</td></tr></table><br/></div><div class=\"wandb-col\"><h3>Run summary:</h3><br/><table class=\"wandb\"><tr><td>epoch</td><td>49</td></tr><tr><td>epoch_loss_train</td><td>2.78972</td></tr><tr><td>epoch_loss_val</td><td>2.81467</td></tr><tr><td>loss</td><td>2.9403</td></tr><tr><td>lr</td><td>0.003</td></tr></table><br/></div></div>"
      ],
      "text/plain": [
       "<IPython.core.display.HTML object>"
      ]
     },
     "metadata": {},
     "output_type": "display_data"
    },
    {
     "data": {
      "text/html": [
       " View run <strong style=\"color:#cdcd00\">HooLeNet</strong> at: <a href='https://wandb.ai/cowboy_bebop/hw2/runs/s2vivgff' target=\"_blank\">https://wandb.ai/cowboy_bebop/hw2/runs/s2vivgff</a><br/>Synced 6 W&B file(s), 0 media file(s), 0 artifact file(s) and 0 other file(s)"
      ],
      "text/plain": [
       "<IPython.core.display.HTML object>"
      ]
     },
     "metadata": {},
     "output_type": "display_data"
    },
    {
     "data": {
      "text/html": [
       "Find logs at: <code>./wandb/run-20231026_195546-s2vivgff/logs</code>"
      ],
      "text/plain": [
       "<IPython.core.display.HTML object>"
      ]
     },
     "metadata": {},
     "output_type": "display_data"
    }
   ],
   "source": [
    "wandb.finish()"
   ]
  },
  {
   "cell_type": "code",
   "execution_count": null,
   "metadata": {},
   "outputs": [],
   "source": []
  }
 ],
 "metadata": {
  "kernelspec": {
   "display_name": "base",
   "language": "python",
   "name": "python3"
  },
  "language_info": {
   "codemirror_mode": {
    "name": "ipython",
    "version": 3
   },
   "file_extension": ".py",
   "mimetype": "text/x-python",
   "name": "python",
   "nbconvert_exporter": "python",
   "pygments_lexer": "ipython3",
   "version": "3.10.10"
  }
 },
 "nbformat": 4,
 "nbformat_minor": 2
}
