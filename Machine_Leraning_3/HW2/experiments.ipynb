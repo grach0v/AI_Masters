{
 "cells": [
  {
   "cell_type": "code",
   "execution_count": null,
   "metadata": {},
   "outputs": [],
   "source": [
    "# import os\n",
    "# os.environ['CUDA_LAUNCH_BLOCKING'] = \"1\""
   ]
  },
  {
   "cell_type": "code",
   "execution_count": 1,
   "metadata": {},
   "outputs": [],
   "source": [
    "import numpy as np \n",
    "from tqdm.notebook import tqdm \n",
    "import os\n",
    "import matplotlib.pyplot as plt\n",
    "from sklearn.metrics import accuracy_score"
   ]
  },
  {
   "cell_type": "code",
   "execution_count": 25,
   "metadata": {},
   "outputs": [],
   "source": [
    "import torch\n",
    "from torch import nn\n",
    "import torch.nn.functional as F\n",
    "import torchvision\n",
    "from torchvision import transforms as T\n",
    "from torchvision.datasets import ImageFolder\n",
    "import torch.optim.lr_scheduler as lr_scheduler"
   ]
  },
  {
   "cell_type": "markdown",
   "metadata": {},
   "source": [
    "# Load"
   ]
  },
  {
   "cell_type": "code",
   "execution_count": 3,
   "metadata": {},
   "outputs": [],
   "source": [
    "transforms_simple = T.Compose([\n",
    "    T.ToTensor(), \n",
    "])\n",
    "\n",
    "train_folder = ImageFolder('tiny-imagenet-200/train', transform=transforms_simple)\n",
    "val_folder = ImageFolder('tiny-imagenet-200/val', transform=transforms_simple)\n",
    "test_folder = ImageFolder('tiny-imagenet-200/test', transform=transforms_simple)\n",
    "\n",
    "\n",
    "train_loader = torch.utils.data.DataLoader(\n",
    "    train_folder,\n",
    "    batch_size=128,\n",
    "    shuffle=True,\n",
    "    num_workers=16\n",
    ")\n",
    "\n",
    "val_loader = torch.utils.data.DataLoader(\n",
    "    val_folder,\n",
    "    batch_size=128,\n",
    "    shuffle=True,\n",
    "    num_workers=16\n",
    ")\n",
    "\n",
    "test_loader = torch.utils.data.DataLoader(\n",
    "    test_folder,\n",
    "    batch_size=128,\n",
    "    shuffle=True,\n",
    "    num_workers=16\n",
    ")"
   ]
  },
  {
   "cell_type": "code",
   "execution_count": 4,
   "metadata": {},
   "outputs": [],
   "source": [
    "mean = torch.zeros(3, dtype=float)\n",
    "mean_sq = torch.zeros(3, dtype=float)\n",
    "n = len(train_loader)\n",
    "\n",
    "for x, _ in train_loader:\n",
    "    mean += torch.mean(x, dim=(0, 2, 3))\n",
    "    mean_sq += torch.mean(x ** 2, dim=(0, 2, 3))\n",
    "\n",
    "mean /= n\n",
    "mean_sq /= n\n",
    "std = torch.sqrt(mean_sq - mean ** 2)"
   ]
  },
  {
   "cell_type": "code",
   "execution_count": 5,
   "metadata": {},
   "outputs": [
    {
     "data": {
      "text/plain": [
       "tensor([0.4802, 0.4481, 0.3975], dtype=torch.float64)"
      ]
     },
     "execution_count": 5,
     "metadata": {},
     "output_type": "execute_result"
    }
   ],
   "source": [
    "mean"
   ]
  },
  {
   "cell_type": "code",
   "execution_count": 6,
   "metadata": {},
   "outputs": [
    {
     "data": {
      "text/plain": [
       "tensor([0.2770, 0.2690, 0.2821], dtype=torch.float64)"
      ]
     },
     "execution_count": 6,
     "metadata": {},
     "output_type": "execute_result"
    }
   ],
   "source": [
    "std"
   ]
  },
  {
   "cell_type": "code",
   "execution_count": 7,
   "metadata": {},
   "outputs": [],
   "source": [
    "def tensor_to_image(tensor, mean=(0.5, 0.5, 0.5), std=(0.25, 0.25, 0.25)):\n",
    "    # mean, std ->\n",
    "    mean = torch.tensor(mean)[:, None, None]\n",
    "    std = torch.tensor(std)[:, None, None]\n",
    "\n",
    "    renormalized_tensor = mean + std * tensor\n",
    "    image = renormalized_tensor.permute(1, 2, 0).detach().cpu().numpy()\n",
    "\n",
    "    return image"
   ]
  },
  {
   "cell_type": "code",
   "execution_count": 8,
   "metadata": {},
   "outputs": [],
   "source": [
    "num_classes = len(train_folder.class_to_idx)"
   ]
  },
  {
   "cell_type": "markdown",
   "metadata": {},
   "source": [
    "# Model"
   ]
  },
  {
   "cell_type": "code",
   "execution_count": 9,
   "metadata": {},
   "outputs": [
    {
     "name": "stderr",
     "output_type": "stream",
     "text": [
      "/home/denis/miniconda3/lib/python3.10/site-packages/torchvision/models/googlenet.py:47: FutureWarning: The default weight initialization of GoogleNet will be changed in future releases of torchvision. If you wish to keep the old behavior (which leads to long initialization times due to scipy/scipy#11299), please set init_weights=True.\n",
      "  warnings.warn(\n"
     ]
    }
   ],
   "source": [
    "model = torchvision.models.GoogLeNet()"
   ]
  },
  {
   "cell_type": "code",
   "execution_count": 12,
   "metadata": {},
   "outputs": [],
   "source": [
    "model.conv1 = nn.Conv2d(3, 192, kernel_size=7, stride=1, padding=0)\n",
    "model.conv2 = nn.Identity()\n",
    "model.conv3 = nn.Identity()\n",
    "model.maxpool2 = nn.Identity()"
   ]
  },
  {
   "cell_type": "markdown",
   "metadata": {},
   "source": [
    "# Wandb"
   ]
  },
  {
   "cell_type": "markdown",
   "metadata": {},
   "source": [
    "# Train"
   ]
  },
  {
   "cell_type": "code",
   "execution_count": 38,
   "metadata": {},
   "outputs": [
    {
     "data": {
      "text/html": [
       "Finishing last run (ID:5l9h4efd) before initializing another..."
      ],
      "text/plain": [
       "<IPython.core.display.HTML object>"
      ]
     },
     "metadata": {},
     "output_type": "display_data"
    },
    {
     "data": {
      "text/html": [
       "Waiting for W&B process to finish... <strong style=\"color:green\">(success).</strong>"
      ],
      "text/plain": [
       "<IPython.core.display.HTML object>"
      ]
     },
     "metadata": {},
     "output_type": "display_data"
    },
    {
     "name": "stderr",
     "output_type": "stream",
     "text": [
      "wandb: WARNING Source type is set to 'repo' but some required information is missing from the environment. A job will not be created from this run. See https://docs.wandb.ai/guides/launch/create-job\n"
     ]
    },
    {
     "data": {
      "text/html": [
       "<style>\n",
       "    table.wandb td:nth-child(1) { padding: 0 10px; text-align: left ; width: auto;} td:nth-child(2) {text-align: left ; width: 100%}\n",
       "    .wandb-row { display: flex; flex-direction: row; flex-wrap: wrap; justify-content: flex-start; width: 100% }\n",
       "    .wandb-col { display: flex; flex-direction: column; flex-basis: 100%; flex: 1; padding: 10px; }\n",
       "    </style>\n",
       "<div class=\"wandb-row\"><div class=\"wandb-col\"><h3>Run history:</h3><br/><table class=\"wandb\"><tr><td>loss</td><td>▅▆▆▅▆▁▂█▄▂▃▂▂▁▄▄▂▂▄▁▄▃▅▅▂█▇▃▅▄▂▇▆▇▃▃▃▄▃▂</td></tr></table><br/></div><div class=\"wandb-col\"><h3>Run summary:</h3><br/><table class=\"wandb\"><tr><td>loss</td><td>1.72816</td></tr></table><br/></div></div>"
      ],
      "text/plain": [
       "<IPython.core.display.HTML object>"
      ]
     },
     "metadata": {},
     "output_type": "display_data"
    },
    {
     "data": {
      "text/html": [
       " View run <strong style=\"color:#cdcd00\">HooLeNetTorch LR sheduler</strong> at: <a href='https://wandb.ai/cowboy_bebop/hw2/runs/5l9h4efd' target=\"_blank\">https://wandb.ai/cowboy_bebop/hw2/runs/5l9h4efd</a><br/>Synced 6 W&B file(s), 0 media file(s), 0 artifact file(s) and 0 other file(s)"
      ],
      "text/plain": [
       "<IPython.core.display.HTML object>"
      ]
     },
     "metadata": {},
     "output_type": "display_data"
    },
    {
     "data": {
      "text/html": [
       "Find logs at: <code>./wandb/run-20231027_221750-5l9h4efd/logs</code>"
      ],
      "text/plain": [
       "<IPython.core.display.HTML object>"
      ]
     },
     "metadata": {},
     "output_type": "display_data"
    },
    {
     "data": {
      "text/html": [
       "Successfully finished last run (ID:5l9h4efd). Initializing new run:<br/>"
      ],
      "text/plain": [
       "<IPython.core.display.HTML object>"
      ]
     },
     "metadata": {},
     "output_type": "display_data"
    },
    {
     "data": {
      "application/vnd.jupyter.widget-view+json": {
       "model_id": "188200168b884de384ff2bc0f288d4bb",
       "version_major": 2,
       "version_minor": 0
      },
      "text/plain": [
       "VBox(children=(Label(value='Waiting for wandb.init()...\\r'), FloatProgress(value=0.0111150205555532, max=1.0))…"
      ]
     },
     "metadata": {},
     "output_type": "display_data"
    },
    {
     "data": {
      "text/html": [
       "Tracking run with wandb version 0.15.12"
      ],
      "text/plain": [
       "<IPython.core.display.HTML object>"
      ]
     },
     "metadata": {},
     "output_type": "display_data"
    },
    {
     "data": {
      "text/html": [
       "Run data is saved locally in <code>/home/denis/Documents/AI_Masters/Machine_Leraning_3/HW2/wandb/run-20231027_223324-7xihinb2</code>"
      ],
      "text/plain": [
       "<IPython.core.display.HTML object>"
      ]
     },
     "metadata": {},
     "output_type": "display_data"
    },
    {
     "data": {
      "text/html": [
       "Syncing run <strong><a href='https://wandb.ai/cowboy_bebop/hw2/runs/7xihinb2' target=\"_blank\">HooLeNetTorch LR sheduler</a></strong> to <a href='https://wandb.ai/cowboy_bebop/hw2' target=\"_blank\">Weights & Biases</a> (<a href='https://wandb.me/run' target=\"_blank\">docs</a>)<br/>"
      ],
      "text/plain": [
       "<IPython.core.display.HTML object>"
      ]
     },
     "metadata": {},
     "output_type": "display_data"
    },
    {
     "data": {
      "text/html": [
       " View project at <a href='https://wandb.ai/cowboy_bebop/hw2' target=\"_blank\">https://wandb.ai/cowboy_bebop/hw2</a>"
      ],
      "text/plain": [
       "<IPython.core.display.HTML object>"
      ]
     },
     "metadata": {},
     "output_type": "display_data"
    },
    {
     "data": {
      "text/html": [
       " View run at <a href='https://wandb.ai/cowboy_bebop/hw2/runs/7xihinb2' target=\"_blank\">https://wandb.ai/cowboy_bebop/hw2/runs/7xihinb2</a>"
      ],
      "text/plain": [
       "<IPython.core.display.HTML object>"
      ]
     },
     "metadata": {},
     "output_type": "display_data"
    },
    {
     "data": {
      "text/html": [
       "<button onClick=\"this.nextSibling.style.display='block';this.style.display='none';\">Display W&B run</button><iframe src='https://wandb.ai/cowboy_bebop/hw2/runs/7xihinb2?jupyter=true' style='border:none;width:100%;height:420px;display:none;'></iframe>"
      ],
      "text/plain": [
       "<wandb.sdk.wandb_run.Run at 0x7fb333752f20>"
      ]
     },
     "execution_count": 38,
     "metadata": {},
     "output_type": "execute_result"
    }
   ],
   "source": [
    "import wandb\n",
    "\n",
    "config = {\n",
    "    \"learning_rate\": 1e-3,\n",
    "    \"weight_decay\": 0.05,\n",
    "    \"batch_size\": 128,\n",
    "    \"num_epochs\": 10,\n",
    "    \"optimizer\": torch.optim.AdamW,\n",
    "}\n",
    "\n",
    "wandb.init(\n",
    "    # set the wandb project where this run will be logged\n",
    "    project=\"hw2\",\n",
    "    name=\"HooLeNetTorch LR sheduler\",\n",
    "    reinit=True,\n",
    "    # track hyperparameters and run metadata\n",
    "    config=config,\n",
    ")\n"
   ]
  },
  {
   "cell_type": "code",
   "execution_count": 39,
   "metadata": {},
   "outputs": [],
   "source": [
    "def tensor_to_image(tensor, mean=(0.5, 0.5, 0.5), std=(0.25, 0.25, 0.25)):\n",
    "    # mean, std ->\n",
    "    mean = torch.tensor(mean)[:, None, None]\n",
    "    std = torch.tensor(std)[:, None, None]\n",
    "\n",
    "    renormalized_tensor = mean + std * tensor\n",
    "    image = renormalized_tensor.permute(1, 2, 0).detach().cpu().numpy()\n",
    "\n",
    "    return image"
   ]
  },
  {
   "cell_type": "code",
   "execution_count": 40,
   "metadata": {},
   "outputs": [],
   "source": [
    "def save_checkpoint(model, filename):\n",
    "\n",
    "    with open(filename, \"wb\") as fp:\n",
    "        torch.save(model.state_dict(), fp)\n",
    "\n",
    "\n",
    "def load_checkpoint(model, filename):\n",
    "\n",
    "    with open(filename, \"rb\") as fp:\n",
    "        state_dict = torch.load(fp, map_location=\"cpu\")\n",
    "    model.load_state_dict(state_dict)"
   ]
  },
  {
   "cell_type": "code",
   "execution_count": 41,
   "metadata": {},
   "outputs": [],
   "source": [
    "def run_epoch(stage, model, dataloader, loss_fn, optimizer, sheduler, epoch, device):\n",
    "    # v NOTE THIS v\n",
    "    if stage == \"train\":\n",
    "        model.train()\n",
    "        torch.set_grad_enabled(True)\n",
    "    else:\n",
    "        torch.set_grad_enabled(False)\n",
    "        model.eval()\n",
    "    # ^ NOTE THIS ^\n",
    "\n",
    "    model = model.to(device)\n",
    "\n",
    "    losses = []\n",
    "    for batch in tqdm(dataloader, total=len(dataloader), desc=f\"epoch: {str(epoch).zfill(3)} | {stage:5}\"):\n",
    "        xs, ys_true = batch\n",
    "\n",
    "        # ys_pred = model(xs.to(device))\n",
    "        # loss = loss_fn(ys_pred, ys_true.to(device))\n",
    "\n",
    "        ys_true = ys_true.to(device)\n",
    "\n",
    "        output = model(xs.to(device))\n",
    "\n",
    "        if stage == \"train\":\n",
    "            o1 = output.aux_logits1\n",
    "            o2 = output.aux_logits2\n",
    "            o3 = output.logits\n",
    "\n",
    "            loss1 = loss_fn(o1, ys_true)\n",
    "            loss2 = loss_fn(o2, ys_true)\n",
    "            loss3 = loss_fn(o3, ys_true)\n",
    "\n",
    "            loss = 0.1 * loss1 + 0.3 * loss2 + 0.5 * loss3\n",
    "\n",
    "            loss.backward()\n",
    "            optimizer.step()\n",
    "            optimizer.zero_grad()\n",
    "            \n",
    "            wandb.log({\"lr\": sheduler.get_last_lr(), \"loss\": loss3})\n",
    "\n",
    "            losses.append(loss3.detach().cpu().item())\n",
    "\n",
    "        else:\n",
    "            loss = loss_fn(output, ys_true)\n",
    "\n",
    "            losses.append(loss.detach().cpu().item())\n",
    "    \n",
    "    if stage == \"train\":\n",
    "        sheduler.step()\n",
    "\n",
    "        \n",
    "    return np.mean(losses)"
   ]
  },
  {
   "cell_type": "code",
   "execution_count": 42,
   "metadata": {},
   "outputs": [],
   "source": [
    "def run_experiment(\n",
    "    model, dataloader_train, dataloader_val, \n",
    "    loss_fn, optimizer, sheduler, num_epochs, \n",
    "    device, output_dir, start_epoch=0\n",
    "):\n",
    "    train_losses = []\n",
    "    val_losses = []\n",
    "\n",
    "    best_val_loss = np.inf\n",
    "    best_val_loss_epoch = -1\n",
    "    best_val_loss_fn = None\n",
    "\n",
    "    os.makedirs(output_dir, exist_ok=True)\n",
    "\n",
    "    for epoch in range(start_epoch, start_epoch + num_epochs):\n",
    "        train_loss = run_epoch(\"train\", model, dataloader_train, loss_fn, optimizer, sheduler, epoch, device)\n",
    "        train_losses.append(train_loss)\n",
    "\n",
    "        val_loss = run_epoch(\"val\", model, dataloader_val, loss_fn, optimizer, sheduler, epoch, device)\n",
    "        val_losses.append(val_loss)\n",
    "\n",
    "        wandb.log({\"epoch_loss_train\": train_loss, \"epoch_loss_val\": val_loss, \"epoch\": epoch})\n",
    "\n",
    "        if val_loss < best_val_loss:\n",
    "            best_val_loss = val_loss\n",
    "            best_val_loss_epoch = epoch\n",
    "\n",
    "            output_fn = os.path.join(output_dir, f\"epoch={str(epoch).zfill(2)}_valloss={best_val_loss:.3f}.pth.tar\")\n",
    "            save_checkpoint(model, output_fn)\n",
    "            print(f\"New checkpoint saved to {output_fn}\\n\")\n",
    "\n",
    "            best_val_loss_fn = output_fn\n",
    "\n",
    "    print(f\"Best val_loss = {best_val_loss:.3f} reached at epoch {best_val_loss_epoch}\")\n",
    "    load_checkpoint(model, best_val_loss_fn)\n",
    "\n",
    "    return train_losses, val_losses, best_val_loss, model\n"
   ]
  },
  {
   "cell_type": "code",
   "execution_count": 43,
   "metadata": {},
   "outputs": [],
   "source": [
    "device = torch.device(\"cuda:0\") if torch.cuda.is_available() else torch.device(\"cpu\")"
   ]
  },
  {
   "cell_type": "code",
   "execution_count": 44,
   "metadata": {},
   "outputs": [],
   "source": [
    "transforms_simple = T.Compose([\n",
    "    T.ToTensor(), \n",
    "    T.RandomHorizontalFlip(),\n",
    "    T.RandomRotation(degrees=15),\n",
    "    T.Normalize(mean, std) \n",
    "])\n",
    "\n",
    "train_folder = ImageFolder('tiny-imagenet-200/train', transform=transforms_simple)\n",
    "val_folder = ImageFolder('tiny-imagenet-200/val', transform=transforms_simple)\n",
    "test_folder = ImageFolder('tiny-imagenet-200/test', transform=transforms_simple)\n",
    "\n",
    "\n",
    "train_loader = torch.utils.data.DataLoader(\n",
    "    train_folder,\n",
    "    batch_size=config['batch_size'],\n",
    "    shuffle=True,\n",
    "    num_workers=16,\n",
    ")\n",
    "\n",
    "val_loader = torch.utils.data.DataLoader(\n",
    "    val_folder,\n",
    "    batch_size=config['batch_size'],\n",
    "    shuffle=True,\n",
    "    num_workers=16\n",
    ")\n",
    "\n",
    "test_loader = torch.utils.data.DataLoader(\n",
    "    test_folder,\n",
    "    batch_size=config['batch_size'],\n",
    "    shuffle=True,\n",
    "    num_workers=16\n",
    ")"
   ]
  },
  {
   "cell_type": "code",
   "execution_count": 45,
   "metadata": {},
   "outputs": [],
   "source": [
    "loss_fn = nn.CrossEntropyLoss()\n",
    "optimizer = config[\"optimizer\"](\n",
    "    model.parameters(), \n",
    "    lr=config[\"learning_rate\"], \n",
    "    weight_decay=config[\"weight_decay\"]\n",
    ")\n",
    "\n",
    "sheduler = lr_scheduler.StepLR(optimizer, step_size=5, gamma=0.1)"
   ]
  },
  {
   "cell_type": "code",
   "execution_count": 46,
   "metadata": {},
   "outputs": [],
   "source": [
    "load_checkpoint(model, 'checkpoints_HooLeNetTorch/epoch=21_valloss=2.232.pth.tar')"
   ]
  },
  {
   "cell_type": "code",
   "execution_count": 47,
   "metadata": {},
   "outputs": [
    {
     "data": {
      "application/vnd.jupyter.widget-view+json": {
       "model_id": "dfe49d511fda4576a5f37771962c635b",
       "version_major": 2,
       "version_minor": 0
      },
      "text/plain": [
       "epoch: 000 | train:   0%|          | 0/782 [00:00<?, ?it/s]"
      ]
     },
     "metadata": {},
     "output_type": "display_data"
    },
    {
     "data": {
      "application/vnd.jupyter.widget-view+json": {
       "model_id": "62bc7bb004514f798ea7ebb21ce3a673",
       "version_major": 2,
       "version_minor": 0
      },
      "text/plain": [
       "epoch: 000 | val  :   0%|          | 0/79 [00:00<?, ?it/s]"
      ]
     },
     "metadata": {},
     "output_type": "display_data"
    },
    {
     "name": "stdout",
     "output_type": "stream",
     "text": [
      "New checkpoint saved to checkpoints_HooLeNetTorchSheduler/epoch=00_valloss=1.946.pth.tar\n",
      "\n"
     ]
    },
    {
     "data": {
      "application/vnd.jupyter.widget-view+json": {
       "model_id": "d28b1950953b4f01828a4e8cc7b9c2ee",
       "version_major": 2,
       "version_minor": 0
      },
      "text/plain": [
       "epoch: 001 | train:   0%|          | 0/782 [00:00<?, ?it/s]"
      ]
     },
     "metadata": {},
     "output_type": "display_data"
    },
    {
     "data": {
      "application/vnd.jupyter.widget-view+json": {
       "model_id": "7321d525c9774b24b273d1020a1abd4d",
       "version_major": 2,
       "version_minor": 0
      },
      "text/plain": [
       "epoch: 001 | val  :   0%|          | 0/79 [00:00<?, ?it/s]"
      ]
     },
     "metadata": {},
     "output_type": "display_data"
    },
    {
     "name": "stdout",
     "output_type": "stream",
     "text": [
      "New checkpoint saved to checkpoints_HooLeNetTorchSheduler/epoch=01_valloss=1.922.pth.tar\n",
      "\n"
     ]
    },
    {
     "data": {
      "application/vnd.jupyter.widget-view+json": {
       "model_id": "bef87efcff2a45638db181e0913a2b12",
       "version_major": 2,
       "version_minor": 0
      },
      "text/plain": [
       "epoch: 002 | train:   0%|          | 0/782 [00:00<?, ?it/s]"
      ]
     },
     "metadata": {},
     "output_type": "display_data"
    },
    {
     "data": {
      "application/vnd.jupyter.widget-view+json": {
       "model_id": "807fa33500a34bcfb88e762ded83c789",
       "version_major": 2,
       "version_minor": 0
      },
      "text/plain": [
       "epoch: 002 | val  :   0%|          | 0/79 [00:00<?, ?it/s]"
      ]
     },
     "metadata": {},
     "output_type": "display_data"
    },
    {
     "data": {
      "application/vnd.jupyter.widget-view+json": {
       "model_id": "3d59dde5dab9442d881cf1e64bf931e4",
       "version_major": 2,
       "version_minor": 0
      },
      "text/plain": [
       "epoch: 003 | train:   0%|          | 0/782 [00:00<?, ?it/s]"
      ]
     },
     "metadata": {},
     "output_type": "display_data"
    },
    {
     "data": {
      "application/vnd.jupyter.widget-view+json": {
       "model_id": "02187c69f7f44eeb90b7982306beb4ec",
       "version_major": 2,
       "version_minor": 0
      },
      "text/plain": [
       "epoch: 003 | val  :   0%|          | 0/79 [00:00<?, ?it/s]"
      ]
     },
     "metadata": {},
     "output_type": "display_data"
    },
    {
     "name": "stdout",
     "output_type": "stream",
     "text": [
      "New checkpoint saved to checkpoints_HooLeNetTorchSheduler/epoch=03_valloss=1.904.pth.tar\n",
      "\n"
     ]
    },
    {
     "data": {
      "application/vnd.jupyter.widget-view+json": {
       "model_id": "3f08832f98c3439bb2909740cab4015e",
       "version_major": 2,
       "version_minor": 0
      },
      "text/plain": [
       "epoch: 004 | train:   0%|          | 0/782 [00:00<?, ?it/s]"
      ]
     },
     "metadata": {},
     "output_type": "display_data"
    },
    {
     "data": {
      "application/vnd.jupyter.widget-view+json": {
       "model_id": "fb3b9813c371409ca2bc33fd84d7543e",
       "version_major": 2,
       "version_minor": 0
      },
      "text/plain": [
       "epoch: 004 | val  :   0%|          | 0/79 [00:00<?, ?it/s]"
      ]
     },
     "metadata": {},
     "output_type": "display_data"
    },
    {
     "data": {
      "application/vnd.jupyter.widget-view+json": {
       "model_id": "d60a7f1a2a6545d7b917788a499fb0ce",
       "version_major": 2,
       "version_minor": 0
      },
      "text/plain": [
       "epoch: 005 | train:   0%|          | 0/782 [00:00<?, ?it/s]"
      ]
     },
     "metadata": {},
     "output_type": "display_data"
    },
    {
     "data": {
      "application/vnd.jupyter.widget-view+json": {
       "model_id": "e8dd8e936f9844d0ba8b257e1251e034",
       "version_major": 2,
       "version_minor": 0
      },
      "text/plain": [
       "epoch: 005 | val  :   0%|          | 0/79 [00:00<?, ?it/s]"
      ]
     },
     "metadata": {},
     "output_type": "display_data"
    },
    {
     "name": "stdout",
     "output_type": "stream",
     "text": [
      "New checkpoint saved to checkpoints_HooLeNetTorchSheduler/epoch=05_valloss=1.781.pth.tar\n",
      "\n"
     ]
    },
    {
     "data": {
      "application/vnd.jupyter.widget-view+json": {
       "model_id": "1cebc34c4a654a1f9797df3bc5e799b2",
       "version_major": 2,
       "version_minor": 0
      },
      "text/plain": [
       "epoch: 006 | train:   0%|          | 0/782 [00:00<?, ?it/s]"
      ]
     },
     "metadata": {},
     "output_type": "display_data"
    },
    {
     "data": {
      "application/vnd.jupyter.widget-view+json": {
       "model_id": "a83d0efe4ebd496e906e34c5d8c0e7cf",
       "version_major": 2,
       "version_minor": 0
      },
      "text/plain": [
       "epoch: 006 | val  :   0%|          | 0/79 [00:00<?, ?it/s]"
      ]
     },
     "metadata": {},
     "output_type": "display_data"
    },
    {
     "data": {
      "application/vnd.jupyter.widget-view+json": {
       "model_id": "c42e89ba8d3e404381e3dfac577f015f",
       "version_major": 2,
       "version_minor": 0
      },
      "text/plain": [
       "epoch: 007 | train:   0%|          | 0/782 [00:00<?, ?it/s]"
      ]
     },
     "metadata": {},
     "output_type": "display_data"
    },
    {
     "data": {
      "application/vnd.jupyter.widget-view+json": {
       "model_id": "51d0b0dfc5bd4f67bc2c1de458a0d949",
       "version_major": 2,
       "version_minor": 0
      },
      "text/plain": [
       "epoch: 007 | val  :   0%|          | 0/79 [00:00<?, ?it/s]"
      ]
     },
     "metadata": {},
     "output_type": "display_data"
    },
    {
     "data": {
      "application/vnd.jupyter.widget-view+json": {
       "model_id": "d71a08522bc84a7fbc2f77d60f8d499d",
       "version_major": 2,
       "version_minor": 0
      },
      "text/plain": [
       "epoch: 008 | train:   0%|          | 0/782 [00:00<?, ?it/s]"
      ]
     },
     "metadata": {},
     "output_type": "display_data"
    },
    {
     "data": {
      "application/vnd.jupyter.widget-view+json": {
       "model_id": "6e14cdfdc67244d7aabfe362746516a4",
       "version_major": 2,
       "version_minor": 0
      },
      "text/plain": [
       "epoch: 008 | val  :   0%|          | 0/79 [00:00<?, ?it/s]"
      ]
     },
     "metadata": {},
     "output_type": "display_data"
    },
    {
     "data": {
      "application/vnd.jupyter.widget-view+json": {
       "model_id": "a50f62624dab4abc9f29f08aec9d7c7a",
       "version_major": 2,
       "version_minor": 0
      },
      "text/plain": [
       "epoch: 009 | train:   0%|          | 0/782 [00:00<?, ?it/s]"
      ]
     },
     "metadata": {},
     "output_type": "display_data"
    },
    {
     "data": {
      "application/vnd.jupyter.widget-view+json": {
       "model_id": "d9538e6021a8447cb0d20ca4f667aa71",
       "version_major": 2,
       "version_minor": 0
      },
      "text/plain": [
       "epoch: 009 | val  :   0%|          | 0/79 [00:00<?, ?it/s]"
      ]
     },
     "metadata": {},
     "output_type": "display_data"
    },
    {
     "name": "stdout",
     "output_type": "stream",
     "text": [
      "Best val_loss = 1.781 reached at epoch 5\n"
     ]
    }
   ],
   "source": [
    "train_losses_baseline, val_losses_baseline, best_val_loss_baseline, cnn_baseline = run_experiment(\n",
    "    model,\n",
    "    train_loader,\n",
    "    val_loader,\n",
    "    loss_fn,\n",
    "    optimizer,\n",
    "    sheduler,\n",
    "    config[\"num_epochs\"],\n",
    "    device,\n",
    "    \"checkpoints_HooLeNetTorchSheduler\",\n",
    ")"
   ]
  },
  {
   "cell_type": "code",
   "execution_count": 48,
   "metadata": {},
   "outputs": [],
   "source": [
    "def plot_losses(train_losses, val_losses, title):\n",
    "    plt.figure(figsize=(12, 5))\n",
    "    plt.title(title)\n",
    "    plt.plot(train_losses, label=\"train\")\n",
    "    plt.plot(val_losses, label=\"val\")\n",
    "    plt.xlabel(\"epoch\")\n",
    "    plt.ylabel(\"loss\")\n",
    "    plt.grid(True)\n",
    "    plt.legend()\n",
    "    plt.show()"
   ]
  },
  {
   "cell_type": "code",
   "execution_count": 49,
   "metadata": {},
   "outputs": [
    {
     "data": {
      "image/png": "[encoded data removed]",
      "text/plain": [
       "<Figure size 1200x500 with 1 Axes>"
      ]
     },
     "metadata": {},
     "output_type": "display_data"
    }
   ],
   "source": [
    "plot_losses(train_losses_baseline, val_losses_baseline, title=\"cnn_baseline\")"
   ]
  },
  {
   "cell_type": "code",
   "execution_count": 50,
   "metadata": {},
   "outputs": [],
   "source": [
    "def collect_predictions(model, dataloader, device):\n",
    "    model.eval()\n",
    "    model = model.to(device)\n",
    "    torch.set_grad_enabled(False)\n",
    "\n",
    "    labels_all = []\n",
    "    probs_all = []\n",
    "    preds_all = []\n",
    "    for batch in tqdm(dataloader, total=len(dataloader)):\n",
    "        images, labels = batch\n",
    "\n",
    "        logits = model(images.to(device)).cpu()\n",
    "        probs = logits.softmax(dim=1)\n",
    "        max_prob, max_prob_index = torch.max(probs, dim=1)\n",
    "\n",
    "        labels_all.extend(labels.numpy().tolist())\n",
    "        probs_all.extend(max_prob.numpy().tolist())\n",
    "        preds_all.extend(max_prob_index.numpy().tolist())\n",
    "\n",
    "    return labels_all, probs_all, preds_all"
   ]
  },
  {
   "cell_type": "code",
   "execution_count": 51,
   "metadata": {},
   "outputs": [
    {
     "data": {
      "application/vnd.jupyter.widget-view+json": {
       "model_id": "9897ae071a84494ea9bfc09a2dba8b74",
       "version_major": 2,
       "version_minor": 0
      },
      "text/plain": [
       "  0%|          | 0/782 [00:00<?, ?it/s]"
      ]
     },
     "metadata": {},
     "output_type": "display_data"
    },
    {
     "data": {
      "text/plain": [
       "0.83177"
      ]
     },
     "execution_count": 51,
     "metadata": {},
     "output_type": "execute_result"
    }
   ],
   "source": [
    "train_labels, train_probs, train_preds = collect_predictions(cnn_baseline, train_loader, device)\n",
    "\n",
    "accuracy_train = accuracy_score(train_labels, train_preds)\n",
    "accuracy_train"
   ]
  },
  {
   "cell_type": "code",
   "execution_count": 52,
   "metadata": {},
   "outputs": [
    {
     "data": {
      "application/vnd.jupyter.widget-view+json": {
       "model_id": "da59800adc064a7899491286052ee6be",
       "version_major": 2,
       "version_minor": 0
      },
      "text/plain": [
       "  0%|          | 0/79 [00:00<?, ?it/s]"
      ]
     },
     "metadata": {},
     "output_type": "display_data"
    },
    {
     "data": {
      "text/plain": [
       "0.0049"
      ]
     },
     "execution_count": 52,
     "metadata": {},
     "output_type": "execute_result"
    }
   ],
   "source": [
    "test_labels, test_probs, test_preds = collect_predictions(cnn_baseline, test_loader, device)\n",
    "\n",
    "accuracy_train = accuracy_score(test_labels, test_preds)\n",
    "accuracy_train"
   ]
  },
  {
   "cell_type": "code",
   "execution_count": 53,
   "metadata": {},
   "outputs": [
    {
     "data": {
      "text/html": [
       "Waiting for W&B process to finish... <strong style=\"color:green\">(success).</strong>"
      ],
      "text/plain": [
       "<IPython.core.display.HTML object>"
      ]
     },
     "metadata": {},
     "output_type": "display_data"
    },
    {
     "name": "stderr",
     "output_type": "stream",
     "text": [
      "wandb: WARNING Source type is set to 'repo' but some required information is missing from the environment. A job will not be created from this run. See https://docs.wandb.ai/guides/launch/create-job\n"
     ]
    },
    {
     "data": {
      "application/vnd.jupyter.widget-view+json": {
       "model_id": "d2cd18f2e37946798e11d1650e82203a",
       "version_major": 2,
       "version_minor": 0
      },
      "text/plain": [
       "VBox(children=(Label(value='0.003 MB of 0.003 MB uploaded (0.000 MB deduped)\\r'), FloatProgress(value=1.0, max…"
      ]
     },
     "metadata": {},
     "output_type": "display_data"
    },
    {
     "data": {
      "text/html": [
       "<style>\n",
       "    table.wandb td:nth-child(1) { padding: 0 10px; text-align: left ; width: auto;} td:nth-child(2) {text-align: left ; width: 100%}\n",
       "    .wandb-row { display: flex; flex-direction: row; flex-wrap: wrap; justify-content: flex-start; width: 100% }\n",
       "    .wandb-col { display: flex; flex-direction: column; flex-basis: 100%; flex: 1; padding: 10px; }\n",
       "    </style>\n",
       "<div class=\"wandb-row\"><div class=\"wandb-col\"><h3>Run history:</h3><br/><table class=\"wandb\"><tr><td>epoch</td><td>▁▂▃▃▄▅▆▆▇█</td></tr><tr><td>epoch_loss_train</td><td>█▇▆▅▅▂▂▁▁▁</td></tr><tr><td>epoch_loss_val</td><td>▆▆▆▅█▁▁▂▂▂</td></tr><tr><td>loss</td><td>█▆▅▇▆█▆▇▆▇▇▆▅█▆▇▇▄▇▅▅▄▄▃▃▄▄▄▃▁▃▄▃▃▂▅▂▃▂▃</td></tr></table><br/></div><div class=\"wandb-col\"><h3>Run summary:</h3><br/><table class=\"wandb\"><tr><td>epoch</td><td>9</td></tr><tr><td>epoch_loss_train</td><td>0.69491</td></tr><tr><td>epoch_loss_val</td><td>1.82711</td></tr><tr><td>loss</td><td>1.18579</td></tr></table><br/></div></div>"
      ],
      "text/plain": [
       "<IPython.core.display.HTML object>"
      ]
     },
     "metadata": {},
     "output_type": "display_data"
    },
    {
     "data": {
      "text/html": [
       " View run <strong style=\"color:#cdcd00\">HooLeNetTorch LR sheduler</strong> at: <a href='https://wandb.ai/cowboy_bebop/hw2/runs/7xihinb2' target=\"_blank\">https://wandb.ai/cowboy_bebop/hw2/runs/7xihinb2</a><br/>Synced 6 W&B file(s), 0 media file(s), 0 artifact file(s) and 0 other file(s)"
      ],
      "text/plain": [
       "<IPython.core.display.HTML object>"
      ]
     },
     "metadata": {},
     "output_type": "display_data"
    },
    {
     "data": {
      "text/html": [
       "Find logs at: <code>./wandb/run-20231027_223324-7xihinb2/logs</code>"
      ],
      "text/plain": [
       "<IPython.core.display.HTML object>"
      ]
     },
     "metadata": {},
     "output_type": "display_data"
    }
   ],
   "source": [
    "wandb.finish()"
   ]
  },
  {
   "cell_type": "code",
   "execution_count": null,
   "metadata": {},
   "outputs": [],
   "source": []
  }
 ],
 "metadata": {
  "kernelspec": {
   "display_name": "base",
   "language": "python",
   "name": "python3"
  },
  "language_info": {
   "codemirror_mode": {
    "name": "ipython",
    "version": 3
   },
   "file_extension": ".py",
   "mimetype": "text/x-python",
   "name": "python",
   "nbconvert_exporter": "python",
   "pygments_lexer": "ipython3",
   "version": "3.10.10"
  }
 },
 "nbformat": 4,
 "nbformat_minor": 2
}
