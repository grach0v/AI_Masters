{
  "cells": [
    {
      "cell_type": "markdown",
      "metadata": {
        "id": "IQwlunyE86kE"
      },
      "source": [
        "# 1. Практическое задание. Обучение полносвязной нейронной сети.\n",
        "\n",
        "**ФИО**: Грачев Денис Вадимович\n",
        "\n",
        "**Дедлайн**: 09 октября 2020"
      ]
    },
    {
      "cell_type": "code",
      "execution_count": 1,
      "metadata": {
        "id": "UyCGfNgA86kF"
      },
      "outputs": [],
      "source": [
        "import numpy as np\n",
        "import torch\n",
        "import cv2\n",
        "\n",
        "from glob import glob\n",
        "from collections import OrderedDict\n",
        "from matplotlib import pyplot as plt\n",
        "\n",
        "from torch import nn\n",
        "from torch.autograd import Function\n",
        "from torch.autograd import gradcheck\n",
        "from torch.optim import Optimizer, Adam\n",
        "from torch.utils.data import Dataset, DataLoader\n",
        "from torchvision import datasets\n",
        "from torchvision import transforms"
      ]
    },
    {
      "cell_type": "markdown",
      "metadata": {
        "id": "uFaWrLT4GkfY"
      },
      "source": [
        "## 1. Загрузка данных"
      ]
    },
    {
      "cell_type": "markdown",
      "metadata": {
        "id": "R930jTYMG6nB"
      },
      "source": [
        "Если вам требуется работать с каким-нибубь набором данных (dataset), то прежде всего проверьте нет ли его среди встроенных наборов данных https://pytorch.org/vision/stable/datasets.html.\n",
        "\n",
        "В текущем домашнем задании мы будем работать с набором данных FashionMNIST. Он присутствует в списке встроенных наборов данных, однако мы воспользуемся реализацией только для удобного и быстрого способа скачать наборы данных. Ниже предлагается реализовать собственный класс для считывания, обработки и упаковки данных."
      ]
    },
    {
      "cell_type": "code",
      "execution_count": 2,
      "metadata": {
        "id": "LauGpMvGF5qr"
      },
      "outputs": [],
      "source": [
        "training_data = datasets.FashionMNIST(\n",
        "    root=\"data\",\n",
        "    train=True,\n",
        "    download=True\n",
        ")\n",
        "\n",
        "test_data = datasets.FashionMNIST(\n",
        "    root=\"data\",\n",
        "    train=False,\n",
        "    download=True\n",
        ")"
      ]
    },
    {
      "cell_type": "markdown",
      "metadata": {
        "id": "RIT32OCMaLLP"
      },
      "source": [
        "Воспользуемся функцией загрузки данных из репозитория наборов данных."
      ]
    },
    {
      "cell_type": "code",
      "execution_count": 3,
      "metadata": {
        "id": "Fm_cf_hEIapm"
      },
      "outputs": [
        {
          "name": "stdout",
          "output_type": "stream",
          "text": [
            "t10k-images-idx3-ubyte\t   train-images-idx3-ubyte\n",
            "t10k-images-idx3-ubyte.gz  train-images-idx3-ubyte.gz\n",
            "t10k-labels-idx1-ubyte\t   train-labels-idx1-ubyte\n",
            "t10k-labels-idx1-ubyte.gz  train-labels-idx1-ubyte.gz\n"
          ]
        }
      ],
      "source": [
        "! ls data/FashionMNIST/raw"
      ]
    },
    {
      "cell_type": "code",
      "execution_count": 4,
      "metadata": {
        "id": "-xnY5xk1KBg2"
      },
      "outputs": [],
      "source": [
        "#https://github.com/zalandoresearch/fashion-mnist/blob/master/utils/mnist_reader.py\n",
        "\n",
        "def load_mnist(path, kind='train'):\n",
        "    import os\n",
        "    import gzip\n",
        "    import numpy as np\n",
        "\n",
        "    \"\"\"Load MNIST data from `path`\"\"\"\n",
        "    labels_path = os.path.join(\n",
        "        path,\n",
        "        '%s-labels-idx1-ubyte.gz'\n",
        "        % kind\n",
        "    )\n",
        "\n",
        "    images_path = os.path.join(\n",
        "        path,\n",
        "        '%s-images-idx3-ubyte.gz'\n",
        "        % kind\n",
        "    )\n",
        "\n",
        "    with gzip.open(labels_path, 'rb') as lbpath:\n",
        "        labels = np.frombuffer(\n",
        "            lbpath.read(), \n",
        "            dtype=np.uint8,\n",
        "            offset=8\n",
        "        )\n",
        "\n",
        "    with gzip.open(images_path, 'rb') as imgpath:\n",
        "        images = np.frombuffer(\n",
        "            imgpath.read(), \n",
        "            dtype=np.uint8,\n",
        "            offset=16\n",
        "        ).reshape(len(labels), 784)\n",
        "\n",
        "    return images, labels"
      ]
    },
    {
      "cell_type": "markdown",
      "metadata": {
        "id": "qHIlWRV0aZnA"
      },
      "source": [
        "Для удобства PyTorch предоставляет ряд базовых классов `Dataset, DataLoader`, от которых предлагается отнаследоваться при разработке пользовательских классов. Базовый класс `Dataset` используется для загрузки и обработки данных, класс `DataLoader` используется для управления процессом загрузки данных, позволяет в многопоточном режиме загружать данные и упаковывать их.\n",
        "Эти вспомогательные классы находятся в модуле `torch.utils.data`.\n",
        "\n",
        "При наследовании от класса `torch.utils.data.Dataset` требуется переопределить метод `__len__`, который возвращает количество примеров в наборе данных, а также метод `__getitem__`, который позволяет получить доступ к примеру из набора данных по индексу."
      ]
    },
    {
      "cell_type": "markdown",
      "metadata": {
        "id": "3jf2e5cPbJV2"
      },
      "source": [
        "Реализуем класс для FasionMnist.\n",
        "\n",
        "Элементами датасета должны являться пары '(np.array, int)', массив имеет размерность `(28, 28)`, тип элемента `np.float32`."
      ]
    },
    {
      "cell_type": "code",
      "execution_count": 5,
      "metadata": {
        "id": "snTBHRTQI1bc"
      },
      "outputs": [],
      "source": [
        "import os\n",
        "\n",
        "class FashionMnist(Dataset):\n",
        "    def __init__(\n",
        "            self, \n",
        "            path, \n",
        "            train=True, \n",
        "            image_transform=None,\n",
        "            label_transform=None\n",
        "        ):\n",
        "\n",
        "        if train:\n",
        "            images, labels = load_mnist(os.path.join(path, \"raw\"))\n",
        "        else:\n",
        "            images, labels = load_mnist(os.path.join(path, \"raw\"), kind=\"t10k\")\n",
        "\n",
        "        self.images = images.reshape(-1, 28, 28)\n",
        "        self.labels = labels\n",
        "\n",
        "        if image_transform is not None:\n",
        "            self.images = image_transform(self.images)\n",
        "        \n",
        "        if label_transform is not None:\n",
        "            self.labels = label_transform(self.labels)\n",
        "\n",
        "    def __len__(self,):\n",
        "        return len(self.labels)\n",
        "\n",
        "    def __getitem__(self, idx):\n",
        "        return self.images[idx], self.labels[idx]\n"
      ]
    },
    {
      "cell_type": "code",
      "execution_count": 6,
      "metadata": {
        "id": "XVGv_2zBNfpz"
      },
      "outputs": [],
      "source": [
        "test_dataset = FashionMnist(\"data/FashionMNIST\", train=False)\n",
        "train_dataset = FashionMnist(\"data/FashionMNIST\")"
      ]
    },
    {
      "cell_type": "markdown",
      "metadata": {
        "id": "JciETIfndiGR"
      },
      "source": [
        "Визуализируйте случайные элементы набора данных."
      ]
    },
    {
      "cell_type": "code",
      "execution_count": 7,
      "metadata": {
        "id": "wBky4UtmOS71"
      },
      "outputs": [
        {
          "data": {
            "image/png": "[encoded data removed]",
            "text/plain": [
              "<Figure size 640x480 with 1 Axes>"
            ]
          },
          "metadata": {},
          "output_type": "display_data"
        },
        {
          "data": {
            "image/png": "[encoded data removed]",
            "text/plain": [
              "<Figure size 640x480 with 1 Axes>"
            ]
          },
          "metadata": {},
          "output_type": "display_data"
        },
        {
          "data": {
            "image/png": "[encoded data removed]",
            "text/plain": [
              "<Figure size 640x480 with 1 Axes>"
            ]
          },
          "metadata": {},
          "output_type": "display_data"
        },
        {
          "data": {
            "image/png": "[encoded data removed]",
            "text/plain": [
              "<Figure size 640x480 with 1 Axes>"
            ]
          },
          "metadata": {},
          "output_type": "display_data"
        },
        {
          "data": {
            "image/png": "[encoded data removed]",
            "text/plain": [
              "<Figure size 640x480 with 1 Axes>"
            ]
          },
          "metadata": {},
          "output_type": "display_data"
        }
      ],
      "source": [
        "idxs = np.random.randint(0, len(train_dataset), size=5)\n",
        "for idx in idxs:\n",
        "    img, _ = train_dataset[idx]\n",
        "    plt.imshow(img)\n",
        "    plt.show()"
      ]
    },
    {
      "cell_type": "markdown",
      "metadata": {
        "id": "320RvzL7PZrI"
      },
      "source": [
        "В конструктор `Dataset` можно передать объект `torchvision.transforms`, который позволяет преобразовать исходные данные. Преобразование `torchvision.transforms.ToTensor` позволяет преобразоать данные из типа `PIL Image` и `numpy.float32` в тип `torch.float32`\n",
        "\n",
        "Реализуйте собственную поддержку преобразований в `FashionMnist`. Проверьте, что приведение типов работает корректно."
      ]
    },
    {
      "cell_type": "code",
      "execution_count": 8,
      "metadata": {
        "id": "pQsGbfXUTxcx"
      },
      "outputs": [],
      "source": [
        "class ToTensor:\n",
        "    \"\"\"Convert ndarrays in sample to Tensors.\"\"\"\n",
        "\n",
        "    def __call__(self, sample):\n",
        "        return torch.from_numpy(sample)"
      ]
    },
    {
      "cell_type": "code",
      "execution_count": 9,
      "metadata": {
        "id": "7BpFQ_Y2PoeI"
      },
      "outputs": [
        {
          "name": "stderr",
          "output_type": "stream",
          "text": [
            "/tmp/ipykernel_4491/2643605458.py:5: UserWarning: The given NumPy array is not writable, and PyTorch does not support non-writable tensors. This means writing to this tensor will result in undefined behavior. You may want to copy the array to protect its data or make it writable before converting it to a tensor. This type of warning will be suppressed for the rest of this program. (Triggered internally at ../torch/csrc/utils/tensor_numpy.cpp:206.)\n",
            "  return torch.from_numpy(sample)\n"
          ]
        }
      ],
      "source": [
        "transform = ToTensor()\n",
        "\n",
        "test_dataset = FashionMnist(\n",
        "    \"data/FashionMNIST\",\n",
        "    train=False,\n",
        "    image_transform=transform,\n",
        "    label_transform=transform\n",
        ")\n",
        "\n",
        "train_dataset = FashionMnist(\n",
        "    \"data/FashionMNIST\",\n",
        "    image_transform=transform,\n",
        "    label_transform=transform\n",
        ")"
      ]
    },
    {
      "cell_type": "code",
      "execution_count": 10,
      "metadata": {
        "id": "ukLn9rY7SCsS"
      },
      "outputs": [
        {
          "name": "stdout",
          "output_type": "stream",
          "text": [
            "The type of the data is <class 'torch.Tensor'>\n"
          ]
        }
      ],
      "source": [
        "print(f\"The type of the data is {type(test_dataset[0][0])}\")"
      ]
    },
    {
      "cell_type": "markdown",
      "metadata": {
        "id": "5Ltavx0QUMnm"
      },
      "source": [
        "Элементы набора данных могут быть объединены в пакеты (batch) явно и неявно. Если данные могут быть сконкатенированы или объединены каким-нибудь тривиальным способом, то можно не передавать никаких дополнительных парамертов в `torch.utils.data.Dataloader`."
      ]
    },
    {
      "cell_type": "code",
      "execution_count": 11,
      "metadata": {
        "id": "Cizxx6m0VAI7"
      },
      "outputs": [],
      "source": [
        "test_dataloader = DataLoader(test_dataset, batch_size=15, num_workers=2, shuffle=True)\n",
        "batch = next(iter(test_dataloader))"
      ]
    },
    {
      "cell_type": "code",
      "execution_count": 12,
      "metadata": {
        "id": "SIZiPrBgVwGA"
      },
      "outputs": [
        {
          "name": "stdout",
          "output_type": "stream",
          "text": [
            "The length of the batch is 2\n",
            "The shape of the batch[0] is torch.Size([15, 28, 28])\n"
          ]
        }
      ],
      "source": [
        "print(f\"The length of the batch is {len(batch)}\")\n",
        "print(f\"The shape of the batch[0] is {batch[0].shape}\")"
      ]
    },
    {
      "cell_type": "markdown",
      "metadata": {
        "id": "BCggRyOQWVIx"
      },
      "source": [
        "Однако, если наша структура данных не позволяет нам использовать объединение по умолчанию, то можно написать собственную функцию, которая будет пакетировать данные.\n",
        "\n",
        "Реализуйте функцию, преобразующую последовательность элементов массива в пакет (batch)."
      ]
    },
    {
      "cell_type": "code",
      "execution_count": 13,
      "metadata": {
        "id": "nQVh93fmWSjA"
      },
      "outputs": [],
      "source": [
        "def collate(batch):\n",
        "\n",
        "    x_shape = batch[0][0].shape\n",
        "    y_shape = batch[0][1].shape\n",
        "\n",
        "    imgs = torch.zeros(len(batch), *x_shape)\n",
        "    labels = torch.zeros(len(batch), *y_shape)\n",
        "\n",
        "    for i, (x, y) in enumerate(batch):\n",
        "        imgs[i] = x\n",
        "        labels[i] = y\n",
        "\n",
        "    return imgs, labels.long()"
      ]
    },
    {
      "cell_type": "markdown",
      "metadata": {
        "id": "Wij6F-vpe7KS"
      },
      "source": [
        "Убедитесть, что все работает корректно."
      ]
    },
    {
      "cell_type": "code",
      "execution_count": 14,
      "metadata": {
        "id": "4dDtlvlCXNbW"
      },
      "outputs": [],
      "source": [
        "test_dataloader = DataLoader(\n",
        "    test_dataset, batch_size=15, num_workers=2,\n",
        "    shuffle=True, collate_fn=collate\n",
        ")\n",
        "\n",
        "train_dataloader = DataLoader(\n",
        "    train_dataset, batch_size=15, num_workers=2,\n",
        "    shuffle=True, collate_fn=collate\n",
        ")\n",
        "\n",
        "batch = next(iter(test_dataloader))"
      ]
    },
    {
      "cell_type": "code",
      "execution_count": 15,
      "metadata": {
        "id": "PFN00IyZXYaF"
      },
      "outputs": [
        {
          "name": "stdout",
          "output_type": "stream",
          "text": [
            "The length of the batch is 2\n",
            "The shape of the batch[0] is torch.Size([15, 28, 28])\n"
          ]
        }
      ],
      "source": [
        "print(f\"The length of the batch is {len(batch)}\")\n",
        "print(f\"The shape of the batch[0] is {batch[0].shape}\")"
      ]
    },
    {
      "cell_type": "markdown",
      "metadata": {
        "id": "VHcumwuF86kL"
      },
      "source": [
        "## 2. Реализация модулей нейронной сети (15 баллов)\n",
        "\n",
        "В этом разделе мы полностью реализуем модули для полносвязанной сети.\n",
        "\n",
        "Для начала нам понадобится реализовать прямой и обратный проход через слои.\n",
        "\n",
        "Наши слои будут соответствовать следующему интерфейсу (на примере \"тождественного\" слоя):"
      ]
    },
    {
      "cell_type": "markdown",
      "metadata": {
        "id": "zzhCW5HcfmKd"
      },
      "source": [
        "Сначала, мы реализуем функцию и её градиент."
      ]
    },
    {
      "cell_type": "code",
      "execution_count": 16,
      "metadata": {
        "id": "rcqeFXxsFGQO"
      },
      "outputs": [],
      "source": [
        "class IdentityFunction(Function):\n",
        "    \"\"\"\n",
        "    We can implement our own custom autograd Functions by subclassing\n",
        "    torch.autograd.Function and implementing the forward and backward passes\n",
        "    which operate on Tensors.\n",
        "    \"\"\"\n",
        "    @staticmethod\n",
        "    def forward(ctx, input):\n",
        "        \"\"\"\n",
        "        In the forward pass we receive a Tensor containing the input and return\n",
        "        a Tensor containing the output. ctx is a context object that can be used\n",
        "        to stash information for backward computation. You can cache arbitrary\n",
        "        objects for use in the backward pass using the ctx.save_for_backward method.\n",
        "        \"\"\"\n",
        "        return input\n",
        "\n",
        "    @staticmethod\n",
        "    def backward(ctx, grad_output):\n",
        "        \"\"\"\n",
        "        In the backward pass we receive a Tensor containing the gradient of the loss\n",
        "        with respect to the output, and we need to compute the gradient of the loss\n",
        "        with respect to the input.\n",
        "        \"\"\"\n",
        "        return grad_output"
      ]
    },
    {
      "cell_type": "markdown",
      "metadata": {
        "id": "jc6Rtczffxv4"
      },
      "source": [
        "Разработанную функцию обернем классом `IdentityLayer`, все слои в `PyTorch` должны быть наследниками базового класса `nn.Module()`\n"
      ]
    },
    {
      "cell_type": "code",
      "execution_count": 17,
      "metadata": {
        "id": "SiqeRVcM86kM"
      },
      "outputs": [],
      "source": [
        "class IdentityLayer(nn.Module):\n",
        "    def __init__(self):\n",
        "        # An identity layer does nothing\n",
        "        super().__init__()\n",
        "        self.identity = IdentityFunction.apply\n",
        "\n",
        "    def forward(self, inp):\n",
        "        # An identity layer just returns whatever it gets as input.\n",
        "        return self.identity(inp)"
      ]
    },
    {
      "cell_type": "markdown",
      "metadata": {
        "id": "N4IoM_pX86kQ"
      },
      "source": [
        "\n",
        "### 2.1 Функция активации ReLU\n",
        "Для начала реализуем функцию активации, слой нелинейности `ReLU(x) = max(x, 0)`. Параметров у слоя нет. Метод `forward` должен вернуть результат поэлементного применения `ReLU` к входному массиву, метод `backward` - градиент функции потерь по входу слоя. В нуле будем считать производную равной 0. Обратите внимание, что при обратном проходе могут понадобиться величины, посчитанные во время прямого прохода, поэтому их стоит сохранить в `ctx`."
      ]
    },
    {
      "cell_type": "code",
      "execution_count": 18,
      "metadata": {
        "id": "U9qrJ47xY6H0"
      },
      "outputs": [],
      "source": [
        "class ReLUFunction(Function):\n",
        "    @staticmethod\n",
        "    def forward(ctx, input):\n",
        "        val = torch.where(input > 0, input, 0)\n",
        "        ctx.save_for_backward(val)\n",
        "\n",
        "        return val\n",
        "\n",
        "    @staticmethod\n",
        "    def backward(ctx, grad_output):\n",
        "        val, = ctx.saved_tensors\n",
        "        grad = grad_output * torch.where(val > 0, 1, 0)\n",
        "        \n",
        "        return grad"
      ]
    },
    {
      "cell_type": "code",
      "execution_count": 19,
      "metadata": {
        "id": "y09ZVCsT86kT"
      },
      "outputs": [],
      "source": [
        "class ReLU(nn.Module):\n",
        "    def __init__(self):\n",
        "        super().__init__()\n",
        "        self.relu = ReLUFunction.apply\n",
        "\n",
        "    def forward(self, input):\n",
        "        return self.relu(input)"
      ]
    },
    {
      "cell_type": "markdown",
      "metadata": {
        "id": "2RwKEUp_V3-L"
      },
      "source": [
        "Не забываем после реализации функции проверить градиент, испльзуя функцию `gradcheck`."
      ]
    },
    {
      "cell_type": "code",
      "execution_count": 20,
      "metadata": {
        "id": "K0RnDQZCXXZn"
      },
      "outputs": [],
      "source": [
        "relu = ReLUFunction.apply\n",
        "x = torch.rand((3, 2), requires_grad=True).double()\n",
        "assert gradcheck(relu, x)"
      ]
    },
    {
      "cell_type": "code",
      "execution_count": 21,
      "metadata": {
        "id": "vUmbmR4iXurd"
      },
      "outputs": [],
      "source": [
        "torch_relu = torch.nn.functional.relu\n",
        "our_relu = ReLUFunction.apply\n",
        "\n",
        "assert torch.norm(torch_relu(x.float()) - our_relu(x)) < 1e-5"
      ]
    },
    {
      "cell_type": "markdown",
      "metadata": {
        "id": "ojTR4GFd86kY"
      },
      "source": [
        "### 2.2 Линейный слой (linear, fully-connected)\n",
        "Далее реализуем полносвязный слой без нелинейности. У слоя два набора параметра: матрица весов (weights) и вектор смещения (bias)."
      ]
    },
    {
      "cell_type": "code",
      "execution_count": 22,
      "metadata": {
        "id": "fBl34oykbcBf"
      },
      "outputs": [],
      "source": [
        "class LinearFunction(Function):\n",
        "    @staticmethod\n",
        "    def forward(ctx, inp, weight, bias):\n",
        "        output = inp @ weight.T + bias\n",
        "\n",
        "        ctx.save_for_backward(inp, weight)\n",
        "\n",
        "        return output\n",
        "\n",
        "    @staticmethod\n",
        "    def backward(ctx, grad_output):\n",
        "        inp, weight = ctx.saved_tensors\n",
        "        \n",
        "        grad_input = grad_output @ weight\n",
        "\n",
        "        # ( ✜︵✜ )\n",
        "        grad_weight = inp.view(inp.shape[0], 1, inp.shape[1]) * grad_output.view(*grad_output.shape, 1)\n",
        "        grad_bias = grad_output \n",
        "\n",
        "        return grad_input, grad_weight, grad_bias"
      ]
    },
    {
      "cell_type": "code",
      "execution_count": 50,
      "metadata": {
        "id": "YbN5JOc886kZ"
      },
      "outputs": [],
      "source": [
        "class Linear(nn.Module):\n",
        "    def __init__(self, input_units, output_units):\n",
        "        super().__init__()\n",
        "        # initialize weights with small random numbers from normal distribution\n",
        "        \n",
        "        self.linear = LinearFunction().apply\n",
        "        self.weight = nn.Parameter(torch.zeros(output_units, input_units))\n",
        "        self.bias = nn.Parameter(torch.zeros(output_units))\n",
        "        \n",
        "        stdv = 1. / np.sqrt(self.weight.size(1))\n",
        "        self.weight.data.uniform_(-stdv, stdv)\n",
        "        self.bias.data.uniform_(-stdv, stdv)\n",
        "\n",
        "    def forward(self, inp):\n",
        "        return self.linear(inp, self.weight, self.bias)\n"
      ]
    },
    {
      "cell_type": "code",
      "execution_count": 51,
      "metadata": {},
      "outputs": [
        {
          "name": "stdout",
          "output_type": "stream",
          "text": [
            "tensor(20.7030, grad_fn=<SumBackward0>)\n",
            "tensor(0.0325, grad_fn=<SumBackward0>)\n",
            "tensor(0.0076, grad_fn=<SumBackward0>)\n",
            "tensor(0.0018, grad_fn=<SumBackward0>)\n",
            "tensor(0.0004, grad_fn=<SumBackward0>)\n",
            "tensor(9.9219e-05, grad_fn=<SumBackward0>)\n",
            "tensor(2.3330e-05, grad_fn=<SumBackward0>)\n",
            "tensor(5.4847e-06, grad_fn=<SumBackward0>)\n",
            "tensor(1.2895e-06, grad_fn=<SumBackward0>)\n",
            "tensor(3.0320e-07, grad_fn=<SumBackward0>)\n"
          ]
        }
      ],
      "source": [
        "model = nn.Sequential(\n",
        "    Linear(1, 1)\n",
        ")\n",
        "\n",
        "# optimizer = Adam(model.parameters())\n",
        "optimizer = torch.optim.SGD(\n",
        "    model.parameters(), \n",
        "    lr=1e-2, \n",
        "    momentum=0\n",
        ")\n",
        "\n",
        "x = torch.tensor([[1.], [2.], [3.]])\n",
        "y = torch.tensor([[1.], [3.], [5.]])\n",
        "\n",
        "for i in range(1000):\n",
        "    y_pred = model(x)\n",
        "    loss = ((y - y_pred) ** 2).sum()\n",
        "    optimizer.zero_grad()\n",
        "    loss.backward()\n",
        "    optimizer.step()\n",
        "\n",
        "    if i % 100 == 0:\n",
        "        print(loss)"
      ]
    },
    {
      "cell_type": "markdown",
      "metadata": {
        "id": "gToXI43WYMDv"
      },
      "source": [
        "Проверим градиент, а также сравним с работой нашего модуля с имплементированным в `PyTorch`."
      ]
    },
    {
      "cell_type": "markdown",
      "metadata": {
        "id": "et7mKX5xZfMI"
      },
      "source": [
        "Проверка градиента:"
      ]
    },
    {
      "cell_type": "code",
      "execution_count": 52,
      "metadata": {},
      "outputs": [],
      "source": [
        "linear = LinearFunction().apply\n",
        "\n",
        "weight = torch.rand((2, 3)).double()\n",
        "bias = torch.rand((2, )).double()\n",
        "x = torch.rand((10, 3), requires_grad=True).double()\n",
        "assert gradcheck(linear, (x, weight, bias))\n",
        "\n",
        "weight = torch.rand((2, 3), requires_grad=True).double()\n",
        "bias = torch.rand((2,)).double()\n",
        "x = torch.rand((10, 3)).double()\n",
        "assert gradcheck(linear, (x, weight, bias))\n",
        "\n",
        "weight = torch.rand((2, 3)).double()\n",
        "bias = torch.rand((2,), requires_grad=True).double()\n",
        "x = torch.rand((10, 3)).double()\n",
        "assert gradcheck(linear, (x, weight, bias))\n",
        "\n",
        "weight = torch.rand((2, 3), requires_grad=True).double()\n",
        "bias = torch.rand((2,), requires_grad=True).double()\n",
        "x = torch.rand((10, 3), requires_grad=True).double()\n",
        "assert gradcheck(linear, (x, weight, bias))"
      ]
    },
    {
      "cell_type": "markdown",
      "metadata": {
        "id": "pW8ppOciZndN"
      },
      "source": [
        "Сравнение с `PyTorch`."
      ]
    },
    {
      "cell_type": "code",
      "execution_count": 53,
      "metadata": {
        "id": "IIR9svs7Zmq0"
      },
      "outputs": [],
      "source": [
        "weight = torch.rand((2, 3), requires_grad=True)\n",
        "bias = torch.rand((2,), requires_grad=True)\n",
        "x = torch.rand((10, 3), requires_grad=True)\n",
        "\n",
        "torch_linear = torch.nn.Linear(in_features=3, out_features=2)\n",
        "our_linear = Linear(input_units=3, output_units=2)\n",
        "\n",
        "state_dict = OrderedDict([(\"weight\", weight), (\"bias\", bias)])\n",
        "torch_linear.load_state_dict(state_dict)\n",
        "our_linear.load_state_dict(state_dict)\n",
        "\n",
        "torch_y = torch_linear(x)\n",
        "our_y = our_linear(x)\n",
        "\n",
        "assert torch.allclose(torch_y, our_y)\n",
        "\n",
        "rand_mask = torch.rand(torch_y.shape)\n",
        "(torch_y * rand_mask).sum().backward()\n",
        "(our_y * rand_mask).sum().backward()"
      ]
    },
    {
      "cell_type": "code",
      "execution_count": 54,
      "metadata": {},
      "outputs": [],
      "source": [
        "assert torch.allclose(our_linear.weight.grad, torch_linear.weight.grad)\n",
        "assert torch.allclose(our_linear.bias.grad, torch_linear.bias.grad)"
      ]
    },
    {
      "cell_type": "markdown",
      "metadata": {
        "id": "0dyhDg0D86kt"
      },
      "source": [
        "### 2.3 LogSoftmax (Log + Softmax)"
      ]
    },
    {
      "cell_type": "markdown",
      "metadata": {
        "id": "ArL0HLGH86ku"
      },
      "source": [
        "Для решения задачи многоклассовой классификации обычно используют `softmax` в качестве нелинейности на последнем слое, чтобы получить \"оценку\" вероятности классов для каждого объекта:$$\\hat y = softmax(x)  = \\bigl \\{\\frac {exp(x_i)}{\\sum_j exp(x_j)} \\bigr \\}_{i=1}^K, \\quad K - \\text{число классов}$$В этом случае удобно оптимизировать логарифм правдоподобия:$$L(y, \\hat y) = -\\sum_{i=1}^K y_i \\log \\hat y_i \\rightarrow \\min,$$где $y_i=1$, если объект принадлежит $i$-му классу, и 0 иначе. Записанная в таком виде, эта функция потерь совпадает с выражением для кросс-энтропии. Очевидно, что ее также можно переписать через индексацию, если через $y_i$ обозначить класс данного объекта:$$L(y, \\hat y) = - \\log \\hat y_{y_i} \\rightarrow \\min$$В таком виде ее удобно реализовывать.\n",
        "\n",
        "Реализуйте слой `LogSoftmax` (без параметров). Метод `forward` должен вычислять логарифм от `softmax`, а метод `backward` - пропускать градиенты. В общем случае в промежуточных вычислениях `backward` получится трехмерный тензор, однако для нашей конкретной функции потерь все вычисления можно реализовать в матричном виде. Поэтому мы будем предполагать, что аргумент `grad_output` - это матрица, у которой в каждой строке только одно ненулевое значение (не обязательно единица).\n",
        "\n",
        "Комментарий: разобраться `Log-Sum-Exp trick`"
      ]
    },
    {
      "cell_type": "code",
      "execution_count": 55,
      "metadata": {
        "id": "xSV3XD0N86ky"
      },
      "outputs": [],
      "source": [
        "class LogSoftmaxFunction(Function):\n",
        "    @staticmethod\n",
        "    def forward(ctx, inp):\n",
        "\n",
        "        logval = inp - torch.logsumexp(inp, dim=1).view(-1, 1)\n",
        "        ctx.save_for_backward(logval)\n",
        "\n",
        "        return logval\n",
        "\n",
        "    @staticmethod\n",
        "    def backward(ctx, grad_output):\n",
        "\n",
        "        logval, = ctx.saved_tensors\n",
        "        val = torch.exp(logval)\n",
        "\n",
        "        grad = torch.where(\n",
        "            torch.abs(grad_output) > 0,\n",
        "            1 - val,\n",
        "            -val\n",
        "        )\n",
        "\n",
        "        my_max, _ = torch.max(grad_output, dim=1)\n",
        "        my_min, _ = torch.min(grad_output, dim=1)\n",
        "\n",
        "        grad_output = torch.where(\n",
        "            my_max > -my_min,\n",
        "            my_max,\n",
        "            my_min\n",
        "        )\n",
        "\n",
        "        return grad * grad_output.view(-1, 1)\n"
      ]
    },
    {
      "cell_type": "code",
      "execution_count": 56,
      "metadata": {
        "id": "z7OnC6o_z2vg"
      },
      "outputs": [],
      "source": [
        "class LogSoftmax(nn.Module):\n",
        "    def __init__(self):\n",
        "        super().__init__()\n",
        "        self.logsoftmax = LogSoftmaxFunction.apply\n",
        "\n",
        "    def forward(self, input):\n",
        "        return self.logsoftmax(input)"
      ]
    },
    {
      "cell_type": "markdown",
      "metadata": {
        "id": "Ke4G67cddjVA"
      },
      "source": [
        "Проверка градиентов."
      ]
    },
    {
      "cell_type": "code",
      "execution_count": 57,
      "metadata": {
        "id": "cfgkVgGbrQEv"
      },
      "outputs": [],
      "source": [
        "logsoftmax = LogSoftmaxFunction.apply\n",
        "x = torch.randn((2, 3), requires_grad=True).double()\n",
        "assert gradcheck(logsoftmax, x)"
      ]
    },
    {
      "cell_type": "code",
      "execution_count": 58,
      "metadata": {},
      "outputs": [],
      "source": [
        "our_x = torch.arange(12, dtype=float).reshape(4, 3)\n",
        "our_x = our_x.requires_grad_(True)\n",
        "our_y = logsoftmax(our_x)\n",
        "(our_y[0, 0] + our_y[1, 0] + our_y[2, 2] + our_y[3, 1]).sum().backward()\n",
        "\n",
        "torch_x = torch.arange(12, dtype=float).reshape(4, 3)\n",
        "torch_x = torch_x.requires_grad_(True)\n",
        "torch_y = nn.LogSoftmax(dim=1)(torch_x)\n",
        "(torch_y[0, 0] + torch_y[1, 0] + torch_y[2, 2] + torch_y[3, 1]).sum().backward()"
      ]
    },
    {
      "cell_type": "code",
      "execution_count": 59,
      "metadata": {},
      "outputs": [],
      "source": [
        "assert torch.allclose(our_x.grad, torch_x.grad)"
      ]
    },
    {
      "cell_type": "markdown",
      "metadata": {
        "id": "3Sn2M_Q086k2"
      },
      "source": [
        "### 2.4 Dropout\n",
        "Реализуйте слой Dropout."
      ]
    },
    {
      "cell_type": "code",
      "execution_count": 60,
      "metadata": {
        "id": "qCLECy1y86k3"
      },
      "outputs": [],
      "source": [
        "class DropoutFunction(Function):\n",
        "    @staticmethod\n",
        "    def forward(ctx, inp, p):\n",
        "        \n",
        "        probs = torch.ones_like(inp) * (1 - p)\n",
        "        mask = torch.bernoulli(probs)\n",
        "        ctx.save_for_backward(mask)\n",
        "\n",
        "        return inp * mask / (1 - p)\n",
        "\n",
        "    @staticmethod\n",
        "    def backward(ctx, grad_output):\n",
        "        \n",
        "        mask, = ctx.saved_tensors\n",
        "        return grad_output * mask, None"
      ]
    },
    {
      "cell_type": "code",
      "execution_count": 61,
      "metadata": {
        "id": "pS5z_mth1ZAZ"
      },
      "outputs": [],
      "source": [
        "class Dropout(nn.Module):\n",
        "    def __init__(self, p):\n",
        "        super().__init__()\n",
        "        self.dropout = DropoutFunction().apply\n",
        "        self.p = torch.tensor(p)\n",
        "\n",
        "    def forward(self, input):\n",
        "        if self.training:\n",
        "            return self.dropout(input, self.p)\n",
        "        else:\n",
        "            return input"
      ]
    },
    {
      "cell_type": "markdown",
      "metadata": {
        "id": "hyPPzkCI86k7"
      },
      "source": [
        "### 2.5 CrossEntropy\n",
        "\n",
        "При решении задачи многоклассовой классификации мы будет использовать в качестве функции потерь кроссэнтропию. Реализуйте функцию потерь. В разделе 2.3 приведены полезные формулы."
      ]
    },
    {
      "cell_type": "code",
      "execution_count": 62,
      "metadata": {
        "id": "KotXWXnT3-j5"
      },
      "outputs": [],
      "source": [
        "class CrossEntropyFunction(Function):\n",
        "    @staticmethod\n",
        "    def forward(ctx, activations, target):\n",
        "\n",
        "        val = -activations[:, target].diag()\n",
        "        ctx.save_for_backward(target, activations)\n",
        "\n",
        "        return val\n",
        "\n",
        "    @staticmethod\n",
        "    def backward(ctx, grad_output):\n",
        "        target, activations = ctx.saved_tensors\n",
        "\n",
        "        size = activations.shape[0] * activations.shape[1]\n",
        "        ids = torch.arange(size).reshape(activations.shape) % activations.shape[1]\n",
        "        ids = ids.to(target.device)\n",
        "        mask = torch.eq(ids, target.view(-1, 1))\n",
        "        grad = torch.where(\n",
        "            mask,\n",
        "            1,\n",
        "            0.\n",
        "        )\n",
        "\n",
        "        return -grad * grad_output.view(-1, 1), torch.zeros_like(target)\n",
        "\n",
        "        \n",
        "class CrossEntropy(nn.Module):\n",
        "    def __init__(self, ):\n",
        "        super().__init__()\n",
        "        self.cross_entropy = CrossEntropyFunction.apply\n",
        "\n",
        "    def forward(self, activations, target):\n",
        "        return self.cross_entropy(activations, target)"
      ]
    },
    {
      "cell_type": "markdown",
      "metadata": {
        "id": "vFNcOfVNesCC"
      },
      "source": [
        "Проверка градиентов."
      ]
    },
    {
      "cell_type": "code",
      "execution_count": 63,
      "metadata": {},
      "outputs": [],
      "source": [
        "activations = torch.maximum(\n",
        "    torch.normal(mean=torch.ones(2, 5)),\n",
        "    torch.zeros(2, 5) + 0.1\n",
        ").clone().detach().requires_grad_(True).double()\n",
        "\n",
        "target = torch.tensor([2, 0])"
      ]
    },
    {
      "cell_type": "code",
      "execution_count": 64,
      "metadata": {
        "id": "lXQr7sllKi8k"
      },
      "outputs": [],
      "source": [
        "cross_entropy = CrossEntropyFunction.apply\n",
        "\n",
        "activations = torch.maximum(\n",
        "    torch.normal(mean=torch.ones(2, 5)),\n",
        "    torch.zeros(2, 5) + 0.1\n",
        ").clone().detach().requires_grad_(True).double()\n",
        "\n",
        "target = torch.tensor([2, 0])\n",
        "\n",
        "assert gradcheck(cross_entropy, (activations, target))\n"
      ]
    },
    {
      "cell_type": "markdown",
      "metadata": {
        "id": "kmzKDpyE86lg"
      },
      "source": [
        "## 3. Сборка и обучение нейронной сети (5 балла)"
      ]
    },
    {
      "cell_type": "markdown",
      "metadata": {
        "id": "mPqlZfj_86lg"
      },
      "source": [
        "Реализуйте произвольную нейросеть, состоящую из ваших блоков. Она должна состоять из нескольких полносвязанных слоев."
      ]
    },
    {
      "cell_type": "markdown",
      "metadata": {},
      "source": [
        "Без копирования начальных весов у меня не обучается"
      ]
    },
    {
      "cell_type": "code",
      "execution_count": 84,
      "metadata": {},
      "outputs": [],
      "source": [
        "def my_linear_from_torch(torch_linear):\n",
        "    out_features = torch_linear.weight.shape[0]\n",
        "    in_features = torch_linear.weight.shape[1]\n",
        "\n",
        "\n",
        "    my_linear = Linear(in_features, out_features)\n",
        "    my_linear.weight.data = torch_linear.weight.detach()\n",
        "    my_linear.bias.data = torch_linear.bias.detach()\n",
        "\n",
        "    return my_linear"
      ]
    },
    {
      "cell_type": "code",
      "execution_count": 86,
      "metadata": {
        "id": "tkESXVD87sM8"
      },
      "outputs": [],
      "source": [
        "class Network(nn.Module):\n",
        "    def __init__(\n",
        "            self, \n",
        "            input_size=28*28, hidden_layers_size=32, num_layers=5,\n",
        "            num_classes=10\n",
        "        ):\n",
        "\n",
        "        super().__init__()\n",
        "\n",
        "        layers = [\n",
        "            nn.Flatten(),\n",
        "            my_linear_from_torch(nn.Linear(input_size, hidden_layers_size * 3)),\n",
        "            ReLU(),\n",
        "            Dropout(0.05),\n",
        "            my_linear_from_torch(nn.Linear(hidden_layers_size * 3, hidden_layers_size * 5)),\n",
        "            ReLU(),\n",
        "            Dropout(0.05),\n",
        "            my_linear_from_torch(nn.Linear(hidden_layers_size * 5, hidden_layers_size * 3)),\n",
        "            ReLU(),\n",
        "            Dropout(0.05),\n",
        "            my_linear_from_torch(nn.Linear(hidden_layers_size * 3, hidden_layers_size)),\n",
        "            ReLU(),\n",
        "            Dropout(0.05),\n",
        "            my_linear_from_torch(nn.Linear(hidden_layers_size, num_classes)),\n",
        "            ReLU(),\n",
        "            LogSoftmax(),\n",
        "        ]\n",
        "\n",
        "        self.conveyor = nn.Sequential(*layers)\n",
        "\n",
        "    def forward(self, inp):\n",
        "        return self.conveyor(inp)\n",
        "\n",
        "    def predict(self, inp):\n",
        "        return torch.argmax(self.forward(inp), dim=1)\n"
      ]
    },
    {
      "cell_type": "markdown",
      "metadata": {
        "id": "Vj-eEvMFfbSo"
      },
      "source": [
        "Ниже приведены функции, реализующие обучение нейронной сети. В данном задании их предлагается просто переиспользовать."
      ]
    },
    {
      "cell_type": "code",
      "execution_count": 87,
      "metadata": {
        "id": "vDhcoCB4OpXE"
      },
      "outputs": [],
      "source": [
        "class EmptyContext:\n",
        "    def __enter__(self):\n",
        "        pass\n",
        "\n",
        "    def __exit__(self, *args):\n",
        "        pass"
      ]
    },
    {
      "cell_type": "code",
      "execution_count": 88,
      "metadata": {},
      "outputs": [],
      "source": [
        "# accuract metric for our classififcation\n",
        "def accuracy(model_labels, labels):\n",
        "    return torch.mean((model_labels == labels).float())"
      ]
    },
    {
      "cell_type": "code",
      "execution_count": 89,
      "metadata": {
        "id": "Oy33FHuv_Us-"
      },
      "outputs": [],
      "source": [
        "def perform_epoch(model, loader, criterion,\n",
        "                optimizer=None, device=None):\n",
        "    is_train = optimizer is not None\n",
        "    model = model.to(device)\n",
        "    if is_train:\n",
        "        model.train()\n",
        "    else:\n",
        "        model.eval()\n",
        "\n",
        "    total_loss = 0\n",
        "    total_acc = 0\n",
        "    total_n = 0\n",
        "    with EmptyContext() if is_train else torch.no_grad():\n",
        "        for batch_data, batch_labels in loader:\n",
        "            batch_data = batch_data.to(device)\n",
        "            batch_labels = batch_labels.to(device)\n",
        "            model_labels = model(batch_data)\n",
        "            model_prediction = model.predict(batch_data)\n",
        "            new_loss = criterion(model_labels, batch_labels).sum()\n",
        "            if is_train:\n",
        "              optimizer.zero_grad()\n",
        "              new_loss.backward()\n",
        "              optimizer.step()\n",
        "\n",
        "            one_batch_loss = float(criterion(model_labels, batch_labels).sum())\n",
        "            one_batch_acc = accuracy(model_prediction, batch_labels)\n",
        "\n",
        "            total_loss += one_batch_loss\n",
        "            total_acc += one_batch_acc\n",
        "            total_n += 1\n",
        "    return (total_loss / total_n, total_acc / total_n)"
      ]
    },
    {
      "cell_type": "markdown",
      "metadata": {
        "id": "FtamPEJZgOY5"
      },
      "source": [
        "Теперь обучим нашу нейронную сеть. В данном разделе будем использовать оптимизатор `Adam` с параметрами по умолчанию."
      ]
    },
    {
      "cell_type": "code",
      "execution_count": 90,
      "metadata": {
        "id": "mEcyUJJI_aAn"
      },
      "outputs": [],
      "source": [
        "model = Network()\n",
        "optimizer = Adam(model.parameters())\n",
        "criterion = CrossEntropy()\n",
        "device = torch.device(\"cuda\" if torch.cuda.is_available() else \"cpu\")"
      ]
    },
    {
      "cell_type": "code",
      "execution_count": 91,
      "metadata": {
        "id": "OBADDSi0_jx7"
      },
      "outputs": [
        {
          "name": "stdout",
          "output_type": "stream",
          "text": [
            "Epoch - 0 : loss 12.956832684099675, accuracy 0.6946094632148743\n",
            "Current learning rate: 0.001\n",
            "Epoch - 1 : loss 7.791673415660858, accuracy 0.8202338218688965\n",
            "Current learning rate: 0.001\n",
            "Epoch - 2 : loss 7.329565375208855, accuracy 0.830884575843811\n",
            "Current learning rate: 0.001\n",
            "Epoch - 3 : loss 6.940566541671753, accuracy 0.8404515385627747\n",
            "Current learning rate: 0.001\n",
            "Epoch - 4 : loss 6.834249845921994, accuracy 0.8408344984054565\n",
            "Current learning rate: 0.001\n",
            "Epoch - 5 : loss 6.570844908118248, accuracy 0.8479849696159363\n",
            "Current learning rate: 0.001\n",
            "Epoch - 6 : loss 6.470608317613602, accuracy 0.8504514694213867\n",
            "Current learning rate: 0.001\n",
            "Epoch - 7 : loss 6.446125644207001, accuracy 0.8495015501976013\n",
            "Current learning rate: 0.001\n",
            "Epoch - 8 : loss 6.22940181234479, accuracy 0.8557342290878296\n",
            "Current learning rate: 0.001\n",
            "Epoch - 9 : loss 6.214803452551365, accuracy 0.8558012843132019\n",
            "Current learning rate: 0.001\n"
          ]
        }
      ],
      "source": [
        "model.to(device)\n",
        "\n",
        "for epoch in range(10):\n",
        "    loss, acc = perform_epoch(model, train_dataloader, criterion,\n",
        "                                optimizer=optimizer, device=device)\n",
        "    print(f\"Epoch - {epoch} : loss {loss}, accuracy {acc}\")\n",
        "    print(f\"Current learning rate: {optimizer.param_groups[0]['lr']}\")"
      ]
    },
    {
      "cell_type": "markdown",
      "metadata": {},
      "source": [
        "Я заметил что результаты не очень консистенты от запуска к запуску  \n",
        "и бывает сильно меняются если переинциализировать веса и запустить обучение"
      ]
    },
    {
      "cell_type": "markdown",
      "metadata": {
        "id": "WS41CQj0Y6Q8"
      },
      "source": [
        "Дальше:\n",
        "- Проведите эксперименты с числом слоев.\n",
        "- Постройте графики зависимости качества модели на тренировочной и тестовой выборках от числа слоев. Для получения статистически значимых результатов повторите эксперименты несколько раз.\n",
        "- Сделайте выводы."
      ]
    },
    {
      "cell_type": "markdown",
      "metadata": {
        "id": "d3vcONKQ86mu"
      },
      "source": [
        "## 4. Бонусная часть."
      ]
    },
    {
      "cell_type": "markdown",
      "metadata": {
        "id": "Kuhxy7aW86mu"
      },
      "source": [
        "### 4.1 Реализация метода оптимизации (3 + 3 балла).\n",
        "Реализуйте сами метод оптимизации  для рассмотренной выше архитектуры. Вы можете выбрать произвольный метод от градиентного спуска до современных вариантов. Продемонстрируйте правильную работу метода оптимизации, сравните его работы с Adam.\n",
        "\n",
        "**Дополнительные баллы** вы получите, если метод будет уникален среди сдавших задание."
      ]
    },
    {
      "cell_type": "code",
      "execution_count": null,
      "metadata": {
        "id": "GYMu0uF1p6o0"
      },
      "outputs": [],
      "source": [
        "class SotaOptimizer(Optimizer):\n",
        "    def __init__(self, params, lr=1e-3):\n",
        "        defaults = dict(lr=lr)\n",
        "        super(SotaOptimizer, self).__init__(params, defaults)\n",
        "\n",
        "    def __setstate__(self, state):\n",
        "        super(SotaOptimizer, self).__setstate__(state)\n",
        "\n",
        "    @torch.no_grad()\n",
        "    def step(self,):\n",
        "\n",
        "        for group in self.param_groups:\n",
        "            lr = group['lr']\n",
        "            for p in group['params']:\n",
        "                if p.grad is not None:\n",
        "                    p.data.add_(-lr*p.grad)"
      ]
    },
    {
      "cell_type": "markdown",
      "metadata": {
        "id": "d3aabYCykXL7"
      },
      "source": [
        "### 4.2 Реализация современной функции активации (2 + 2 балла).\n",
        "Реализуйте одну из активаций, предложенных на лекции или в статье. Например, `Hardswish`. Сравните сеть с вашей активацией и с `ReLU`.\n",
        "\n",
        "**Дополнительные баллы** вы получите, если функция будет уникальна среди сдавших задание."
      ]
    }
  ],
  "metadata": {
    "colab": {
      "provenance": []
    },
    "kernelspec": {
      "display_name": "Python 3",
      "language": "python",
      "name": "python3"
    },
    "language_info": {
      "codemirror_mode": {
        "name": "ipython",
        "version": 3
      },
      "file_extension": ".py",
      "mimetype": "text/x-python",
      "name": "python",
      "nbconvert_exporter": "python",
      "pygments_lexer": "ipython3",
      "version": "3.10.10"
    }
  },
  "nbformat": 4,
  "nbformat_minor": 0
}
