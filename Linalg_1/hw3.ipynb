{
 "cells": [
  {
   "cell_type": "markdown",
   "metadata": {},
   "source": [
    "# Домашнее задание 3 (14 + 26 = 40 pts)"
   ]
  },
  {
   "cell_type": "markdown",
   "metadata": {},
   "source": [
    "## Задача 1 (14 pts)\n",
    "\n",
    "- (1 pts) Покажите, что если матрица $A$ обратима, то $\\|A^{-1}\\|_F \\geq \\frac{\\sqrt{n}}{\\|A\\|_F}$\n",
    "\n",
    "- (3 pts) Рассмотрим матрицу $A = \\begin{bmatrix} I & a \\\\ a^{\\top} & 0 \\end{bmatrix}$. Когда она является обратимой? Пусть она обратима, тогда найдите выражение для $A^{-1}$\n",
    "- (2 pts) Получите аналитически выражение обратной матрицы для следующей блочно-треугольной матрицы\n",
    "\n",
    "$$ \n",
    "\\begin{bmatrix} A_{11} & 0 \\\\ A_{21} & A_{22} \\end{bmatrix}.\n",
    "$$\n",
    "\n",
    "Перечислите требования к блокам, необходимые для существования обратной матрицы.\n",
    "\n",
    "- (2 pts) Рассмотрим матрицу $\\begin{bmatrix} A_1 \\\\ A_2 \\end{bmatrix}$, где матрица $A_1$ невырождена и размера $n \\times n$, а матрица $A_2$ произвольная размера $(m - n) \\times n$. Докажите, что $\\|A^{\\dagger}\\|_2 \\leq \\|A^{-1}_1\\|_2$\n",
    "\n",
    "- (6 pts) Рассмотрим следующую блочную систему линейных уравнений\n",
    "\n",
    "$$\n",
    "\\begin{bmatrix} P & A^{\\top} \\\\ A & 0 \\end{bmatrix} \n",
    "\\begin{bmatrix}\n",
    "u\\\\ v \\end{bmatrix} = \\begin{bmatrix} c\\\\ b \\end{bmatrix} \n",
    "$$\n",
    "\n",
    "Покажите, что каждое из следующих условий эквивалентно невырожденности матрицы системы:\n",
    "\n",
    "- $\\mathcal{N}(A) \\cap \\mathcal{N}(P) = \\{0\\}$, где $\\mathcal{N}(A)$ - ядро матрицы $A$.\n",
    "- существует матрица $F$ такая что $F^{\\top}PF \\succ 0$, и  $F \\in \\mathbb{R}^{n \\times (n-m)}$, $\\mathcal{R}(F) = \\mathcal{N}(A)$, $\\mathcal{R}(F)$ - образ отображения, задаваемого матрицей $F$.\n",
    "- $P + A^{\\top}QA \\succ 0$, для некоторой $Q \\succeq 0$\n"
   ]
  },
  {
   "cell_type": "markdown",
   "metadata": {},
   "source": [
    "### Task 1\n",
    "$$ \\| A \\|_F \\| A^{-1} \\|_F \\geq \\| A A^{-1} \\|_F = \\| I \\| = \\sqrt{n} $$\n",
    "$$ \\| A^{-1} \\|_F \\geq \\frac{\\sqrt{n}}{\\| A \\|_F} $$"
   ]
  },
  {
   "cell_type": "markdown",
   "metadata": {},
   "source": [
    "### Task 2\n",
    "$$A = \\begin{bmatrix} I & a \\\\ a^{\\top} & 0 \\end{bmatrix}$$\n",
    "Пусть $A \\in \\mathbb{R}^{n \\times n}$, тогда $a \\in \\mathbb{R}^{k \\times l}, \\:\\: l = \\frac{n}{2} = k$. \n",
    "Пусть какая то размерность будет меньше $\\frac{n}{2}$, тогда либо $в матрице \\begin{bmatrix} a & 0\\end{bmatrix}$, \n",
    "либо $\\begin{bmatrix} a^T & 0 \\end{bmatrix}$ имеет линейно зависимые строки, следовательно и матрица $A$ не может быть обратимой \n",
    "\n",
    "Напишем необходимое и достаточное условие для обратимости матрицы $A$\n",
    "$$\n",
    "\\begin{bmatrix} X & Y \\\\ Z & W \\end{bmatrix} \\begin{bmatrix} I & a \\\\ a^T & 0 \\end{bmatrix} = \n",
    "\\begin{bmatrix} I & 0 \\\\ 0 & I \\end{bmatrix}\n",
    "$$\n",
    "Это равносильно \n",
    "\n",
    "\\begin{equation}\n",
    "    \\begin{cases}\n",
    "    X + Ya^T = I \\\\\n",
    "    Xa = 0 \\\\\n",
    "    Z + Wa^T = 0 \\\\\n",
    "    Za = I\n",
    "    \\end{cases}\n",
    "\\end{equation}\n",
    "\n",
    "\\begin{equation}\n",
    "    \\begin{cases}\n",
    "    Ya^Ta = a \\\\\n",
    "    Xa = 0 \\\\\n",
    "    Wa^Ta = -I \\\\\n",
    "    Za = I\n",
    "    \\end{cases}\n",
    "\\end{equation}\n",
    "\n",
    "a^T - невырожденная, так как $Za^T = I$, следовательно $a$ и $a^T a$ так же невырожденные"
   ]
  },
  {
   "cell_type": "markdown",
   "metadata": {},
   "source": [
    "\\begin{equation}\n",
    "    \\begin{cases}\n",
    "    Y = {(a^T)}^{-1} \\\\\n",
    "    X = 0 \\\\\n",
    "    W = -{(a^Ta)}^{-1} \\\\\n",
    "    Z = {a}^{-1}\n",
    "    \\end{cases}\n",
    "\\end{equation}"
   ]
  },
  {
   "cell_type": "markdown",
   "metadata": {},
   "source": [
    "Следовательно матрица $A$ обратима тогда и только тогда, когда матрица $a$ обратима и \n",
    "$$ A^{-1} = \\begin{bmatrix} 0 & {a^T}^{-1} \\\\ a^{-1} & -(a^T a)^{-1}\\end{bmatrix}$$"
   ]
  },
  {
   "cell_type": "markdown",
   "metadata": {},
   "source": [
    "# Task 3\n",
    "$$ \n",
    "\\begin{bmatrix} A_{11} & 0 \\\\ A_{21} & A_{22} \\end{bmatrix}.\n",
    "$$\n",
    "Аналогично предыдущему номеру, все блоки квадратные размера $\\frac{n}{2}$\n",
    "$$ \n",
    "\\begin{bmatrix} A_{11} & 0 \\\\ A_{21} & A_{22} \\end{bmatrix} \n",
    "\\begin{bmatrix} X & Y \\\\ Z & W \\end{bmatrix} = \n",
    "\\begin{bmatrix} I & 0 \\\\ 0 & I \\end{bmatrix} \n",
    "$$"
   ]
  },
  {
   "cell_type": "markdown",
   "metadata": {},
   "source": [
    "\\begin{equation}\n",
    "    \\begin{cases}\n",
    "    A_{11}X = I \\\\\n",
    "    A_{11}Y = 0 \\\\\n",
    "    A_{21}X + A_{22}Z = 0 \\\\\n",
    "    A_{21}Y + A_{22}W = I\n",
    "    \\end{cases}\n",
    "\\end{equation}\n"
   ]
  },
  {
   "cell_type": "markdown",
   "metadata": {},
   "source": [
    "Так как $A_{11} X = I$, то $A_{11}$ полноранговая и $X = A_{11}^{-1}$, \n",
    "следовательно из $A_{11}Y = 0$ следует, что $Y = 0$.  "
   ]
  },
  {
   "cell_type": "markdown",
   "metadata": {},
   "source": [
    "\\begin{equation}\n",
    "    \\begin{cases}\n",
    "    X = A_{11}^{-1} \\\\\n",
    "    Y = 0 \\\\\n",
    "    A_{22}Z = -A_{21}A_{11}^{-1} \\\\\n",
    "    A_{22}W = I\n",
    "    \\end{cases}\n",
    "\\end{equation}"
   ]
  },
  {
   "cell_type": "markdown",
   "metadata": {},
   "source": [
    "Аналогично $A_{22}W = I$ следовательно они обе полноранговые и $W = A_{22}^{-1}$.  \n",
    "\\begin{equation}\n",
    "    \\begin{cases}\n",
    "    X = A_{11}^{-1} \\\\\n",
    "    Y = 0 \\\\\n",
    "    Z = -A_{22}^{-1}A_{21}A_{11}^{-1} \\\\\n",
    "    W = A_{22}^{-1}\n",
    "    \\end{cases}\n",
    "\\end{equation}"
   ]
  },
  {
   "cell_type": "markdown",
   "metadata": {},
   "source": [
    "Итого: необходимое и достаточное условие - матрицы $A_{11}$ и $A_{22}$ невырождены.  \n",
    "Обратная матрциа имеет вид \n",
    "$\\begin{bmatrix} A_{11}^{-1} & 0 \\\\ -A_{22}^{-1}A_{21}A_{11}^{-1} & A_{22}^{-1} \\end{bmatrix}$"
   ]
  },
  {
   "cell_type": "markdown",
   "metadata": {},
   "source": [
    "#### Task 5 Рассмотрим следующую блочную систему линейных уравнений\n",
    "$$\n",
    "    \\begin{bmatrix} P & A^{\\top} \\\\ A & 0 \\end{bmatrix}\n",
    "    \\begin{bmatrix}\n",
    "    u\\\\ v \\end{bmatrix} = \\begin{bmatrix} c\\\\ b \\end{bmatrix}\n",
    "$$\n",
    "\n",
    "Покажите, что каждое из следующих условий эквивалентно невырожденности матрицы системы:\n",
    "  - $\\mathcal{N}(A) \\cap \\mathcal{N}(P) = \\{0\\}$, где $\\mathcal{N}(A)$ - ядро матрицы $A$.\n",
    "  - существует матрица $F$ такая что $F^{\\top}PF \\succ 0$, и  $F \\in \\mathbb{R}^{n \\times (n-m)}$, $\\mathcal{R}(F) = \\mathcal{N}(A)$, $\\mathcal{R}(F)$ - образ отображения, задаваемого матрицей $F$.\n",
    "  - $P + A^{\\top}QA \\succ 0$, для некоторой $Q \\succeq 0$.\n"
   ]
  },
  {
   "cell_type": "markdown",
   "metadata": {},
   "source": [
    "#### 1\n",
    "$\\Rightarrow$ Пусть матрциа не вырождена, докажем что пересечение ядер тривиальное. Если матрица невырождена, то ее столбцы линейно независимы, следовательно \n",
    "$\\nexists (x, y) \\in \\mathbb{R}^{2n}: \n",
    "\\begin{bmatrix} P & A \\end{bmatrix}(x, y) = 0$.  \n",
    "Следоватлеьно $\\forall x \\in \\mathbb{R}^n:\\begin{bmatrix} P & A \\end{bmatrix}(x, x) \\neq 0$, следовательно  $\\mathcal{N}(A) \\cap \\mathcal{N}(P) = \\{0\\}$.\n",
    "\n",
    "$\\Leftarrow$ Пусть пересчение ядер пустое. "
   ]
  },
  {
   "cell_type": "code",
   "execution_count": null,
   "metadata": {},
   "outputs": [],
   "source": []
  },
  {
   "cell_type": "markdown",
   "metadata": {},
   "source": [
    "## Задача 2. LU разложение (26 pts)"
   ]
  },
  {
   "cell_type": "markdown",
   "metadata": {},
   "source": [
    "### 1. LU разложение для ленточных матриц (7 pts)\n",
    "\n",
    "Сложность вычисления LU разложения для матрицы размера $n\\times n$ – $\\mathcal{O}(n^3)$.\n",
    "Существенного уменьшения сложности можно добиться для матриц определённой структуры, например разреженных. \n",
    "В этой задаче рассмотрим специальный класс разреженных матриц, а именно ленточные матрицы с шириной ленты 3 и 5, которые называются трёхдиагональными и пятидиагональными, соответственно.\n",
    "\n",
    "- (5 pts) Реализуйте функцию ```band_lu(diag_broadcast, n)```, которая вычисляет LU разложение для пяти- или трёхдиагональной матрицы, на основании данных значений на диагоналях. Предполагается, что на главной диагонали фактора ```L``` стоят 1.\n",
    "Например, входные параметры ```(diag_broadcast = [3,-5,4], n = 4)``` означают, что необходимо найти LU разложение для трёхдиагональной матрицы вида:\n",
    "\n",
    "$$A = \\begin{pmatrix}\n",
    "-5 & 4 & 0 & 0\\\\\n",
    "3 & -5 & 4 & 0 \\\\\n",
    "0 & 3 & -5 & 4 \\\\\n",
    "0 & 0 & 3 & -5 \\\\\n",
    "\\end{pmatrix}.$$\n",
    "\n",
    "Функция должна возвращать двумерные NumPy массивы ```L``` и ```U```, в которых хранятся диагонали факторов. Например, ```L[0]``` содержит первую под-диагональ (поскольку на главной диагонали стоят 1, то её возвращать не нужно), ```L[1]``` – вторую под-диагональ и т.д.), аналогично для $U$ (```U[:,0]``` содержит главную диагональ, ```U[:,1]``` содержит первую над-диагональ и т.д.). Прототип функции приведён ниже и не должен меняться.\n",
    "- (2 pts) Сравните время вычисления LU разложения с помощью стандартной функции в ```scipy```, которая ничего не знает о структуре матрицы, и вашей реализацией LU разложения для ленточной матрицы. Объясните результат. Постройте график зависимости времени факторизации от размерности факторизуемой матрицы. Выберите интервал размерностей факторизуемой матрицы так, чтобы динамика зависимости времени от размерности была различима. При необходимости используйте логарифмический масштаб по оси ```y```."
   ]
  },
  {
   "cell_type": "markdown",
   "metadata": {},
   "source": [
    "## Task 1\n",
    "Рассмотрим 3 полосную матрицу, обозначив ее диагональные элементы $d$.  \n",
    "Рассмотрим 1-ую строку матрицы $A$, так как это произведение 1-ой строки $L$ на $i$-ый столбец U, то\n",
    "\\begin{align*}\n",
    "    d[1] = a_{1, 1} = l_{1, 1} u_{1, 1} = 1  u_{1, 1} \n",
    "        &\\Rightarrow u_{1, 1} = d[1] \\\\\n",
    "    d[2] = a_{1, 2} = l_{1, 1} u_{1, 2} = 1 u_{1, 2} \n",
    "        &\\Rightarrow u_{1, 2} = d[2]  \\\\\n",
    "    0 = a_{1, i > 2} = l_{1, 1} u_{1, i} = 1 u_{1, i} \n",
    "        &\\Rightarrow u_{1, i > 2} = 0 \\\\\n",
    "\\end{align*}\n",
    "Таким образом $u_{1, 1} = d[1], \\:\\: u_{1, 2} = d[2] \\:\\: u_{1, i} = 0$  \n",
    "\n",
    "Рассмотрим 2-ую строку матрицы $A$\n",
    "\\begin{align*}\n",
    "    d[0] = a_{2, 1} = l_{2, 1} u_{1, 1} = l_{2, 1} d[1] \n",
    "        &\\Rightarrow l_{2, 1} = \\frac{d[0]}{d[1]} \\\\\n",
    "    d[1] = a_{2, 2} = l_{2, 1} u_{1, 2} + l_{2, 2} u_{2, 2} = \\frac{d[0]}{d[1]} d[2] + u_{2, 2}\n",
    "        &\\Rightarrow u_{2, 2} = \\frac{d[1]^2 - d[0]d[1]}{d[1]}\\\\\n",
    "    d[2] = a_{2, 3} = l_{2, 1} u_{1, 3} + l_{2, 2} u_{2, 3} = u_{2, 3} \n",
    "        &\\Rightarrow u_{2, 3} = d[2] \\\\\n",
    "    0 = a_{2, i > 3} = l_{2, 2} u_{2, i} = u_{2, i}\n",
    "        &\\Rightarrow u_{2, i > 3} = 0\n",
    "\\end{align*}\n",
    "Таким образом \n",
    "$l_{2, 1} = \\frac{d[0]}{d[1]}, \\:\\: u_{2, 2} = d[1] - d[0], \\:\\:u_{2, 3} = d[2], \\:\\: u_{2, i > 3} = 0$\n",
    "\n",
    "Рассмотрим 3-ю строку матрицы $A$\n",
    "\\begin{align*}\n",
    "    0 = a_{3, 1} = l_{3, 1} u_{1, 1} \n",
    "        &\\Rightarrow l_{3, 1} = 0 \\\\\n",
    "    d[0] = a_{3, 2} = l_{3, 1} u_{1, 2} + l_{3, 2} u_{2, 2} = l_{3, 2} (d[1] - d[0])\n",
    "        &\\Rightarrow l_{3, 2} = \\frac{d[0]}{d[1] - d[0]} \\\\\n",
    "    d[1] = a_{3, 3} = l_{3, 1} u_{1, 3} + l_{3, 2} u_{2, 3} + l_{3, 3} u_{3, 3} = \\frac{d[0]d[2]}{d[1] - d[0]} + u_{3, 3}\n",
    "        &\\Rightarrow u_{3, 3} = d[1] - \\frac{d[0]d[2]}{d[1] - d[0]}\\\\\n",
    "    d[2] = a_{3, 4} = l_{3, 1} u_{1, 4} + l_{3, 2} u_{2, 4} + l_{3, 3} u_{3, 4} = u_{3, 4} \n",
    "        &\\Rightarrow u_{3, 4} = d[2] \\\\\n",
    "    0 = a_{3, i > 4} = u_{3, i} \n",
    "        &\\Rightarrow u_{3, i > 4} = 0\n",
    "\\end{align*}\n",
    "\n",
    "Таким образом видно как выразить новое значение через уже посчитанные"
   ]
  },
  {
   "cell_type": "code",
   "execution_count": 2,
   "metadata": {},
   "outputs": [],
   "source": [
    "import numpy as np\n",
    "from numba import njit\n",
    "\n",
    "# INPUT : diag_broadcast - list of diagonals value to broadcast, length equal to 3 or 5; n - integer, band matrix shape.\n",
    "# OUTPUT : L - 2D np.ndarray, L.shape[0] depends on bandwidth, L.shape[1] = n-1, do not store main diagonal, where all ones;                  add zeros to the right side of rows to handle with changing length of diagonals.\n",
    "#          U - 2D np.ndarray, U.shape[0] = n, U.shape[1] depends on bandwidth;\n",
    "#              add zeros to the bottom of columns to handle with changing length of diagonals.\n",
    "@njit\n",
    "def band_lu(diag_broadcast, n):\n",
    "    L = np.identity(n)\n",
    "    U = np.zeros((n, n))\n",
    "\n",
    "    if len(diag_broadcast) == 3:\n",
    "        U[0, 0] = diag_broadcast[1]\n",
    "        U[0, 1] = diag_broadcast[2]\n",
    "\n",
    "        for i in range(1, n):\n",
    "            L[i, i - 1] = diag_broadcast[0] / U[i - 1, i - 1]\n",
    "            U[i, i] = diag_broadcast[1] - L[i, i - 1] * U[i - 1, i]\n",
    "            if i + 1 < n:\n",
    "                U[i, i + 1] = diag_broadcast[2]\n",
    "    \n",
    "    elif len(diag_broadcast) == 5:\n",
    "        U[0, 0] = diag_broadcast[2]\n",
    "        U[0, 1] = diag_broadcast[3]\n",
    "        U[0, 2] = diag_broadcast[4]\n",
    "        L[1, 0] = diag_broadcast[1] / U[0, 0]\n",
    "\n",
    "        for i in range(1, n):\n",
    "            \n",
    "            if i > 1:\n",
    "                U[i, i] = diag_broadcast[2] - L[i, i - 1] * U[i - 1, i] - L[i, i - 2] * U[i - 2, i]\n",
    "            else:\n",
    "                U[i, i] = diag_broadcast[2] - L[i, i - 1] * U[i - 1, i]\n",
    "\n",
    "            if i + 1 < n:\n",
    "                U[i, i + 1] = diag_broadcast[3] - L[i, i - 1] * U[i - 1, i + 1]\n",
    "                \n",
    "                if i + 2 < n:\n",
    "                    U[i, i + 2] = diag_broadcast[4]\n",
    "\n",
    "                L[i + 1, i - 1] = diag_broadcast[0] / U[i - 1, i - 1]\n",
    "                L[i + 1, i] = (diag_broadcast[1] - L[i + 1, i - 1] * U[i - 1, i]) / U[i, i]\n",
    "\n",
    "    return L, U\n"
   ]
  },
  {
   "cell_type": "code",
   "execution_count": 3,
   "metadata": {},
   "outputs": [
    {
     "data": {
      "text/plain": [
       "array([[5., 7., 9., 0., 0., 0., 0.],\n",
       "       [3., 5., 7., 9., 0., 0., 0.],\n",
       "       [1., 3., 5., 7., 9., 0., 0.],\n",
       "       [0., 1., 3., 5., 7., 9., 0.],\n",
       "       [0., 0., 1., 3., 5., 7., 9.],\n",
       "       [0., 0., 0., 1., 3., 5., 7.],\n",
       "       [0., 0., 0., 0., 1., 3., 5.]])"
      ]
     },
     "execution_count": 3,
     "metadata": {},
     "output_type": "execute_result"
    }
   ],
   "source": [
    "L, U = band_lu(np.array([1, 3, 5, 7, 9]), 7)\n",
    "(L @ U).round(2)"
   ]
  },
  {
   "cell_type": "code",
   "execution_count": 4,
   "metadata": {},
   "outputs": [
    {
     "data": {
      "text/plain": [
       "array([[3., 4., 0., 0., 0., 0., 0., 0., 0., 0.],\n",
       "       [2., 3., 4., 0., 0., 0., 0., 0., 0., 0.],\n",
       "       [0., 2., 3., 4., 0., 0., 0., 0., 0., 0.],\n",
       "       [0., 0., 2., 3., 4., 0., 0., 0., 0., 0.],\n",
       "       [0., 0., 0., 2., 3., 4., 0., 0., 0., 0.],\n",
       "       [0., 0., 0., 0., 2., 3., 4., 0., 0., 0.],\n",
       "       [0., 0., 0., 0., 0., 2., 3., 4., 0., 0.],\n",
       "       [0., 0., 0., 0., 0., 0., 2., 3., 4., 0.],\n",
       "       [0., 0., 0., 0., 0., 0., 0., 2., 3., 4.],\n",
       "       [0., 0., 0., 0., 0., 0., 0., 0., 2., 3.]])"
      ]
     },
     "execution_count": 4,
     "metadata": {},
     "output_type": "execute_result"
    }
   ],
   "source": [
    "A = np.asarray([\n",
    "    [-5, 4, 0, 0],\n",
    "    [3, -5, 4, 0],\n",
    "    [0, 3, -5, 4],\n",
    "    [0, 0, 3, -5]\n",
    "])\n",
    "\n",
    "L, U = band_lu(np.array([2, 3, 4]), 10)\n",
    "(L @ U).round(1)"
   ]
  },
  {
   "cell_type": "code",
   "execution_count": 5,
   "metadata": {},
   "outputs": [
    {
     "name": "stdout",
     "output_type": "stream",
     "text": [
      "14 ms ± 305 µs per loop (mean ± std. dev. of 7 runs, 100 loops each)\n",
      "2.79 ms ± 13.2 µs per loop (mean ± std. dev. of 7 runs, 100 loops each)\n"
     ]
    }
   ],
   "source": [
    "from scipy.linalg import lu\n",
    "\n",
    "n = 1000\n",
    "A = np.zeros((n, n))\n",
    "for i in range(n):\n",
    "    if i > 0:\n",
    "        A[i - 1, i] = 1\n",
    "\n",
    "    A[i, i] = 2\n",
    "\n",
    "    if i + 1 < n:\n",
    "        A[i, i + 1] = 3\n",
    "\n",
    "diag = np.asarray([1, 2, 3])\n",
    "\n",
    "%timeit lu(A)\n",
    "%timeit band_lu(diag, n)"
   ]
  },
  {
   "cell_type": "markdown",
   "metadata": {},
   "source": [
    "### 2. Устойчивость LU разложения (13 pts)\n",
    "\n",
    "Рассмотрим матрицу вида\n",
    "$A = \\begin{pmatrix}\n",
    "\\varepsilon & 1 & 0\\\\\n",
    "1 & 1 & 1 \\\\\n",
    "0 & 1 & 1\n",
    "\\end{pmatrix}.$ \n",
    "* (7 pts) Реализуйте алгоритм вычисления LU разложения без выбора ведущего элемента и с выбором (выберете один из способов, рассмотренных на лекции). Обратите внимание на эффективность вашей реализации, в частности перестановки необходио хранить как векторы, а не матрицы.\n",
    "* (3 pts) Покажите, что ваши реализации работают корректно и согласуются с теорией, то есть вычислите выражение $\\| A - PLUQ\\|_F$ для тестовых примеров (один их них приведён выше)\n",
    "* (3 pts) Объясните, почему алгоритм вычисления LU разложения без выбора ведущего элемента плохо аппроксимирует факторы $L$ и $U$ для $|\\varepsilon|\\ll 1$ в приведённой выше матрице в машинной арифметике? Покажите это явным вычислением."
   ]
  },
  {
   "cell_type": "code",
   "execution_count": 9,
   "metadata": {},
   "outputs": [],
   "source": [
    "def my_lu(A):\n",
    "    n = A.shape[0]\n",
    "    if n == 1:\n",
    "        L = np.array([[1]])\n",
    "        U = A.copy()\n",
    "        return L, U\n",
    "\n",
    "    a11 = A[0, 0]\n",
    "    A_row = A[0, 1:]\n",
    "    A_col = A[1:, 0]\n",
    "    A_sub = A[1:, 1:]\n",
    "\n",
    "    u11 = a11\n",
    "    U_row = A_row.copy()\n",
    "    U_col = np.zeros(n - 1)\n",
    "\n",
    "    l11 = 1\n",
    "    L_row = np.zeros(n - 1)\n",
    "    L_col = A_col.copy() / u11\n",
    "\n",
    "    L_sub, U_sub = my_lu(A_sub - np.outer(L_col, U_row))\n",
    "\n",
    "    L = np.block([\n",
    "        [l11, L_row], \n",
    "        [L_col.reshape(n - 1, 1), L_sub]\n",
    "    ])\n",
    "\n",
    "    U = np.block([\n",
    "        [u11, U_row], \n",
    "        [U_col.reshape(n - 1, 1), U_sub]\n",
    "    ])\n",
    "\n",
    "    return L, U"
   ]
  },
  {
   "cell_type": "code",
   "execution_count": 28,
   "metadata": {},
   "outputs": [],
   "source": [
    "def invert_permutation(p):\n",
    "    \"\"\"Return an array s with which np.array_equal(arr[p][s], arr) is True.\n",
    "    The array_like argument p must be some permutation of 0, 1, ..., len(p)-1.\n",
    "    \"\"\"\n",
    "    p = np.asanyarray(p) # in case p is a tuple, etc.\n",
    "    s = np.empty_like(p)\n",
    "    s[p] = np.arange(p.size)\n",
    "    return s\n",
    "\n",
    "\n",
    "def my_lup(A):\n",
    "    n = A.shape[0]\n",
    "    perm = np.arange(n)  \n",
    "    \n",
    "    L = np.zeros_like(A)       \n",
    "    U = np.zeros_like(A)\n",
    "\n",
    "    for k in range(n - 1):\n",
    "        max_row = k\n",
    "        pivot = np.abs(A[perm[k], k])\n",
    "\n",
    "        for i in range(k + 1, n):\n",
    "\n",
    "            current_k = np.abs(A[perm[i], k])\n",
    "            \n",
    "            if current_k > pivot:\n",
    "                max_row = i\n",
    "                pivot = current_k\n",
    "        \n",
    "        if max_row > k:\n",
    "            (perm[k], perm[max_row]) = (perm[max_row], perm[k])\n",
    "        \n",
    "        U[k, k:] = A[perm[k], k:] - L[perm[k], :k] @ U[:k, k:]\n",
    "        L[perm[k], k] = 1\n",
    "\n",
    "        for i in range(k + 1, n):\n",
    "            L[perm[i], k] = (A[perm[i], k] - L[perm[i], :k] @ U[:k, k]) / U[k, k]\n",
    "    \n",
    "    U[n - 1, n - 1] = A[perm[n - 1], n - 1] - np.sum(L[perm[n - 1], :n - 1] * U[:n - 1, n - 1])\n",
    "    L[perm[n - 1], n - 1] = 1\n",
    "\n",
    "    return L[perm], U, invert_permutation(perm)"
   ]
  },
  {
   "cell_type": "code",
   "execution_count": 29,
   "metadata": {},
   "outputs": [
    {
     "data": {
      "text/plain": [
       "1.1102230246251565e-16"
      ]
     },
     "execution_count": 29,
     "metadata": {},
     "output_type": "execute_result"
    }
   ],
   "source": [
    "eps = 1e-5\n",
    "A = np.array([\n",
    "    [eps, 1, 0],\n",
    "    [1, 1, 1],\n",
    "    [0, 1, 1]\n",
    "])\n",
    "\n",
    "L, U = my_lu(A)\n",
    "A_n = L @ U\n",
    "np.linalg.norm(A - A_n, ord='fro')\n"
   ]
  },
  {
   "cell_type": "code",
   "execution_count": 31,
   "metadata": {},
   "outputs": [
    {
     "data": {
      "text/plain": [
       "0.0"
      ]
     },
     "execution_count": 31,
     "metadata": {},
     "output_type": "execute_result"
    }
   ],
   "source": [
    "eps = 1e-5\n",
    "A = np.array([\n",
    "    [eps, 1, 0],\n",
    "    [1, 1, 1],\n",
    "    [0, 1, 1]\n",
    "])\n",
    "\n",
    "L, U, P = my_lup(A)\n",
    "A_n = (L @ U)[P]\n",
    "np.linalg.norm(A - A_n, ord='fro')"
   ]
  },
  {
   "cell_type": "code",
   "execution_count": 36,
   "metadata": {},
   "outputs": [
    {
     "data": {
      "text/plain": [
       "34217728.0"
      ]
     },
     "execution_count": 36,
     "metadata": {},
     "output_type": "execute_result"
    }
   ],
   "source": [
    "eps = 1e-8\n",
    "A = np.array([\n",
    "    [eps, 1 / eps, 0],\n",
    "    [1 / eps, 1 / eps, 1 / eps],\n",
    "    [0, 1 / eps, 1 / eps]\n",
    "])\n",
    "\n",
    "L, U = my_lu(A)\n",
    "A_n = L @ U\n",
    "\n",
    "np.linalg.norm(A - A_n, ord='fro')"
   ]
  },
  {
   "cell_type": "code",
   "execution_count": 37,
   "metadata": {},
   "outputs": [
    {
     "data": {
      "text/plain": [
       "0.0"
      ]
     },
     "execution_count": 37,
     "metadata": {},
     "output_type": "execute_result"
    }
   ],
   "source": [
    "eps = 1e-8\n",
    "A = np.array([\n",
    "    [eps, 1 / eps, 0],\n",
    "    [1 / eps, 1 / eps, 1 / eps],\n",
    "    [0, 1 / eps, 1 / eps]\n",
    "])\n",
    "\n",
    "L, U, P = my_lup(A)\n",
    "A_n = (L @ U)[P]\n",
    "\n",
    "np.linalg.norm(A - A_n, ord='fro')"
   ]
  },
  {
   "cell_type": "markdown",
   "metadata": {},
   "source": [
    "### 3. Блочное LU разложение (6 pts)\n",
    "\n",
    "Пусть $A = \\begin{bmatrix} A_{11} & A_{12} \\\\ A_{21} & A_{22} \\end{bmatrix}$ – блочная матрица. Необходимо решить систему линейных уравнений вида\n",
    "\n",
    "$$\n",
    "     \\begin{bmatrix} A_{11} & A_{12} \\\\ A_{21} & A_{22} \\end{bmatrix} \\begin{bmatrix} u_1 \\\\ u_2 \\end{bmatrix} = \\begin{bmatrix} f_1 \\\\ f_2 \\end{bmatrix}.\n",
    "$$\n",
    "\n",
    "* (2 pts) Используя процедуру блочного исключения, найдите матрицу $S$ и правую часть $\\hat{f_2}$ такую что $u_2$ может быть найден из системы $S u_2 = \\hat{f_2}$. Матрица $S$ называется <font color='red'> дополнением по Шуру </font> блока  $A_{11}$."
   ]
  },
  {
   "cell_type": "markdown",
   "metadata": {},
   "source": [
    "\n",
    "* (4 pts) Пусть $A_{12} = A_{21}^\\top$. Покажите, что если $A_{22} \\succ 0$, то $A \\succ 0 \\Leftrightarrow A_{11} - A_{12} A_{22}^{-1} A_{21} \\succ 0$ \n",
    "\n"
   ]
  }
 ],
 "metadata": {
  "kernelspec": {
   "display_name": "Python 3.9.12 ('base')",
   "language": "python",
   "name": "python3"
  },
  "language_info": {
   "codemirror_mode": {
    "name": "ipython",
    "version": 3
   },
   "file_extension": ".py",
   "mimetype": "text/x-python",
   "name": "python",
   "nbconvert_exporter": "python",
   "pygments_lexer": "ipython3",
   "version": "3.9.12"
  },
  "vscode": {
   "interpreter": {
    "hash": "af54d8ffe8b61cab9e1bcfcc3a5e2eeb6c71d1475cf011cf65945131006eac57"
   }
  }
 },
 "nbformat": 4,
 "nbformat_minor": 2
}
