{
 "cells": [
  {
   "cell_type": "code",
   "execution_count": 2,
   "metadata": {},
   "outputs": [],
   "source": [
    "import numpy as np"
   ]
  },
  {
   "cell_type": "markdown",
   "metadata": {},
   "source": [
    "# Домашнее задание 1 (27 pts)"
   ]
  },
  {
   "cell_type": "markdown",
   "metadata": {},
   "source": [
    "- (2 pts) Докажите, что $\\| A \\|_F \\le \\sqrt{\\mathrm{rank}(A)} \\| A \\|_2$.\n",
    "- (2 pts) Покажите, что для любых $m, n$ и $k \\le \\min(m, n)$ существует $A \\in \\mathbb{R}^{m \\times n}: \\mathrm{rank}(A) = k$, такая что $\\| A \\|_F = \\sqrt{\\mathrm{rank}(A)} \\| A \\|_2$.\n",
    "- (2 pts) Докажите, что $\\| A B \\|_F \\le \\| A \\|_2 \\| B \\|_F$.\n",
    "- (2 pts) Докажите, что для любой эрмитовой матрицы сингулярные числа совпадают с абсолютными значениями собственных значений. Выполнено ли это для произвольной матрицы? Докажите, что выполнено или приведите контрпример.\n",
    "\n",
    "- (3 pts) Пусть матрица $A$ ортогональна и все её элементы неотрицательны, то есть $a_{ij} \\geq 0$. Покажите, что тогда $A$ есть матрица перестановки  \n",
    "\n",
    "- (2 pts) Пусть матрица $A \\in \\mathbb{C}^{n \\times n}$ и её сингулярное разложение $A = U\\Sigma V^*$. Найдите сингулярное разложение матрицы $\\begin{bmatrix} 0 & A^* \\\\ A & 0 \\end{bmatrix}$ размера $2n \\times 2n$\n",
    "- (5 pts) Пусть известно сингулярное разложение прямоугольной $m\\times n, m > n$ матрицы $A = U\\Sigma V^*$. Покажите, как измениться данное разложение при следующих изменениях матрицы $A$\n",
    "    - замена $k$-го столбца на другой вектор-столбец\n",
    "    - конкатенация новой строки - новая матрица размерности $(m+1) \\times n$\n",
    "    - конкатенация нового столбца - новая матрица размерности $m \\times n+1$\n",
    "\n",
    "Оцените сложность каждого из этих преобразований. Реализуйте все три преобразования и покажите численно, что ваши алгоритмы обновлений работают корректно.\n",
    "\n",
    "- (2 pts) Пусть дано сингулярное разложение матрицы $A \\in \\mathbb{C}^{m \\times n}$: $A = U\\Sigma V^*$. Получите сингулярное разложение матрицы $PAQ$, где матрицы $P, Q$ матрицы перестановок соответствующих размеров. \n",
    "- (2 pts) Получите сингулярное разложение и спектральную норму матрицы $A = uv^*$, где $u \\in \\mathbb{C}^m, v \\in \\mathbb{C}^n$\n",
    "- (2 pts) Докажите, что треугольными унитарными матрицами могут быть только диагональные матрицы\n",
    "- (3 pts) Докажите, что если последовательность унитарных матриц $\\{U_k\\}$ сходится к матрице $U$ по спектральной норме, то $U$ также унитарная матрица"
   ]
  },
  {
   "cell_type": "markdown",
   "metadata": {},
   "source": [
    "# Task 1\n",
    "\n",
    "\\begin{align*}\n",
    "\\| A \\|_F &= \\sqrt{\\mathrm{trace} \\left( A^* A \\right) } \\\\\n",
    "          &= \\sqrt{\\mathrm{trace} \\left( C^{-1} J C \\right) } \\qquad \\text{J - ЖНФ $A^*A$, тогда на диагонали стоят собственные значения}\\\\\n",
    "          &= \\sqrt{ \\mathrm{trace} \\left( J \\right)} \\\\\n",
    "          &= \\sqrt{ \\sum \\lambda_i} \\\\\n",
    "          &\\leq \\sqrt{ \\sum \\lambda_{max} } \\\\\n",
    "          &= \\sqrt{\\mathrm{rank} \\left( A \\right)} \\sqrt{\\lambda_{max}} \\qquad \\text{т.к. $\\mathrm{rank} \\left( A \\right) = \\mathrm{rank} \\left(A^* A \\right)$} \\\\\n",
    "          &= \\sqrt{\\mathrm{rank} \\left( A \\right)} \\| A \\|_2\n",
    "\\end{align*}"
   ]
  },
  {
   "cell_type": "markdown",
   "metadata": {},
   "source": [
    "# Task 2\n",
    "Возьмем \n",
    "$$\n",
    "A=\\left[\n",
    "\\begin{array}{cc}\n",
    "I_k & 0_{k \\times n-k}\\\\\n",
    "0_{m-k \\times k} & 0_{m-k \\times n-k} \\\\\n",
    "\\end{array}\\right]\n",
    "$$\n",
    "Тогда $\\mathrm{rank} \\left( A \\right) = k ,\\: \\| A \\|_2 = 1, \\: \\| A \\|_F = \\mathrm{rank} \\left( A \\right)$.  \n",
    "Таким образом равенство выполняется"
   ]
  },
  {
   "cell_type": "markdown",
   "metadata": {},
   "source": [
    "# Task 3\n",
    "$\\| A B \\|_F \\le \\| A \\|_2 \\| B \\|_F$\n",
    "\n",
    "\\begin{align*}\n",
    "\n",
    "\\| AB \\|_F &= \\sqrt{\\mathrm{trace}\\left( B^*A^*AB \\right)} \\\\\n",
    "           &= \\sqrt{\\mathrm{trace}\\left(B^*B A^* A\\right)} \\\\\n",
    "           &= \\sqrt{\\mathrm{trace}\\left(B^*B C^{-1} J C\\right)}  \\qquad \\text{J - ЖНФ $A^*A$, тогда на диагонали стоят собственные значения} \\\\\n",
    "           &= \\sqrt{\\mathrm{trace}\\left(B^*B J \\right)} \\\\\n",
    "           &\\leq \\sqrt{\\mathrm{trace}\\left(B^*B J_{\\mathrm{max}} \\right)} \\qquad J_{\\mathrm{max}} := [a_{ii} = \\lambda_{\\mathrm{max}}]\\\\\n",
    "           &= \\sqrt{\\mathrm{trace}\\left(B^*B \\lambda_{\\mathrm{max} I} \\right)} \\\\\n",
    "           &= \\sqrt{\\lambda_{\\mathrm{max}} \\mathrm{trace}\\left(B^*B \\right)} \\\\\n",
    "           &= \\| A \\|_2 \\| B \\|_F\n",
    "\n",
    "\\end{align*}"
   ]
  },
  {
   "cell_type": "markdown",
   "metadata": {},
   "source": [
    "# Task 4\n",
    "## Эрмитовы матрицы\n",
    "Пусть $A$ - эрмитова матрица, т.е. $A^* = A$\n",
    "\n",
    "\\begin{align*}\n",
    "\n",
    "\\| A \\|_2 = \\sigma_1(A) &= \\sqrt{ \\lambda_{\\max} \\left( A^* A \\right)} \\\\\n",
    "                        &= \\sqrt{ \\lambda_{\\max} \\left( A^2 \\right)} \\\\\n",
    "                        &= \\sqrt{ \\lambda_{\\max} \\left( \\left( C^{-1} J C \\right)^2 \\right)} \\\\\n",
    "                        &= \\sqrt{ \\lambda_{\\max} \\left( C^{-1} J C C^{-1} J C \\right)} \\\\\n",
    "                        &= \\sqrt{ \\lambda_{\\max} \\left( C^{-1} J^2 C \\right)} \\\\\n",
    "                        &= \\sqrt{ \\lambda_{\\max} \\left( A \\right)^2} \\\\\n",
    "                        &= | \\lambda_{\\max} (A) |\n",
    "\\end{align*}\n",
    "\n",
    "Таким образом утрвеждение верно для максимального элемента и максимального собственного значения.  \n",
    "Вычеркнув соответсвующую строку и столбец повторим рассуждение для следующего собственного значения и т.д. Получается что соответсвующие собственные и сингулярные значения у эрмитовых матриц равны.  \n",
    "\n",
    "## Произвольные матрциы\n",
    "Чтобы равенство сломалось, нужно подобрать матрицу, такую что \n",
    "$\\lambda_{\\max}\\left( A^*A \\right) \\neq \\lambda_{\\max}\\left( A \\right) ^ 2$.  \n",
    "Возьмем например диаогнальную матрицу и в верхний треугольник запишем одну 1."
   ]
  },
  {
   "cell_type": "code",
   "execution_count": 15,
   "metadata": {},
   "outputs": [
    {
     "name": "stdout",
     "output_type": "stream",
     "text": [
      "собственные значения [1. 2.]\n",
      "сингулярные значения [0.87403205 2.28824561]\n"
     ]
    }
   ],
   "source": [
    "A = np.array([[1, 1], [0, 2]]) # Не эрмитова матрица\n",
    "# A = np.array([[5, 2 + 1j], [2 - 1j, 7]]) # Эрмитова матрица\n",
    "\n",
    "print('собственные значения', np.sort(np.abs(np.linalg.eig(A)[0])))\n",
    "print('сингулярные значения', np.sort(np.linalg.svd(A)[1]))"
   ]
  },
  {
   "cell_type": "markdown",
   "metadata": {},
   "source": [
    "# Task 5\n",
    "$A$ - Ортогональная матрица т.е. \n",
    "$A A^T = I \\Leftrightarrow \\forall j, k: \\: \n",
    "\\sum_i a_{ij}a_{ik} = \\delta_{jk} \\: \\textit{и} \\:\n",
    "\\sum_i a_{ji}a_{ki} = \\delta_{jk}$.  \n",
    "\n",
    "Следовательно\n",
    "$\\forall j: \\sum_{k \\neq j} \\sum_i a_{ij}a_{ik} = 0 \n",
    "= \\sum_i \\left( a_{ij} \\sum_{k \\neq j} a_{ik} \\right)$  \n",
    "так как $a_{ij} \\geq 0 \\Rightarrow \\sum_{k \\neq j} a_{ik} \\geq 0, \\: a_{ij} \\sum_{k \\neq j} a_{ik} \\geq 0$  \n",
    "Так как сумма неотрицательных слагаемых равна 0, значит каждое слагаемое равно 0 т.е.  \n",
    "$\\forall i, j: a_{ij} \\sum_{k \\neq j} a_{ik} = 0$ Следовательно если $a_{ij} \\neq 0$, то $\\forall k \\neq j:\\: a_{ik} = 0$, т.е. в столбце не более чем 1 не нулевое число.  \n",
    "Аналогично для строк.  \n",
    "Каждое ненулевое число равно 1 если рассмотреть случай $k=j$, то соответсвующие скаларяные произведения должны равняться 1, соотвественно ненулевое число это $\\pm 1$, но т.к. $a_{ij} \\geq 0$, то это 1."
   ]
  },
  {
   "cell_type": "markdown",
   "metadata": {},
   "source": [
    "# Task 6\n",
    "\n",
    "$A = U \\Sigma V^*$  \n",
    "$A* = \\left( U \\Sigma V^* \\right)^* = {V^*}^* \\Sigma^* U^* = V \\Sigma U^*$  \n",
    "<!-- $\n",
    "\\begin{bmatrix} 0 & V \\\\ U & 0 \\end{bmatrix} \n",
    "\\begin{bmatrix} \\Sigma & 0 \\\\ 0 & \\Sigma \\end{bmatrix} \n",
    "\\begin{bmatrix} 0 & U^* \\\\ V^* & 0 \\end{bmatrix} = \n",
    "\\begin{bmatrix} \n",
    "$  -->"
   ]
  },
  {
   "cell_type": "code",
   "execution_count": 17,
   "metadata": {},
   "outputs": [],
   "source": [
    "# Пример, что то не сходится"
   ]
  },
  {
   "cell_type": "code",
   "execution_count": 18,
   "metadata": {},
   "outputs": [
    {
     "name": "stdout",
     "output_type": "stream",
     "text": [
      "[[-0.17-0.26j  0.89+0.34j]\n",
      " [-0.6 -0.74j -0.3 -0.08j]]\n",
      "[12.19  0.57]\n",
      "[[-0.67+0.j   -0.71-0.23j]\n",
      " [-0.75+0.j    0.63+0.21j]]\n"
     ]
    }
   ],
   "source": [
    "A = np.matrix([[1+2j,1+3j],[5+6j,3+8j]])\n",
    "u, s, vh = np.linalg.svd(A)\n",
    "print(u.round(2), s.round(2), vh.round(2), sep='\\n')"
   ]
  },
  {
   "cell_type": "code",
   "execution_count": 20,
   "metadata": {},
   "outputs": [
    {
     "name": "stdout",
     "output_type": "stream",
     "text": [
      "[[-0.36+0.56j  0.7 -0.27j]\n",
      " [-0.19+0.72j -0.52+0.42j]]\n",
      "[12.19  0.57]\n",
      "[[-0.31+0.j   -0.94-0.11j]\n",
      " [-0.95+0.j    0.31+0.04j]]\n"
     ]
    }
   ],
   "source": [
    "A = np.matrix([[1+2j,1+3j],[5+6j,3+8j]])\n",
    "u, s, vh = np.linalg.svd(A.H)\n",
    "print(u.round(2), s.round(2), vh.round(2), sep='\\n')"
   ]
  },
  {
   "cell_type": "code",
   "execution_count": 19,
   "metadata": {},
   "outputs": [
    {
     "name": "stdout",
     "output_type": "stream",
     "text": [
      "[[ 0.  -0.j    0.6 -0.29j -0.08+0.11j  0.44-0.58j]\n",
      " [ 0.  +0.j    0.54-0.52j  0.04-0.12j -0.21+0.62j]\n",
      " [-0.17-0.26j -0.  -0.j    0.87+0.33j  0.16+0.06j]\n",
      " [-0.6 -0.74j  0.  +0.j   -0.3 -0.08j -0.06-0.01j]]\n",
      "[12.19 12.19  0.57  0.57]\n",
      "[[-0.67+0.j   -0.71-0.23j  0.  +0.j    0.  +0.j  ]\n",
      " [ 0.  +0.j   -0.  -0.j    0.27-0.16j  0.86-0.4j ]\n",
      " [-0.73+0.j    0.62+0.2j   0.15+0.09j -0.05-0.04j]\n",
      " [-0.14+0.j    0.12+0.04j -0.79-0.49j  0.24+0.19j]]\n"
     ]
    }
   ],
   "source": [
    "Z = np.block([[np.zeros((2, 2)), A.H], [A, np.zeros((2, 2))]])\n",
    "u, s, vh = np.linalg.svd(Z)\n",
    "print(u.round(2), s.round(2), vh.round(2), sep='\\n')\n"
   ]
  },
  {
   "cell_type": "markdown",
   "metadata": {},
   "source": [
    "# Task 8\n",
    "$P, M$ - унитарные матрицы, произведение унитарных матриц - унитарная матрица.\n",
    "\n",
    "\\begin{align*}\n",
    "\n",
    "PAQ &= P \\:\\: U \\Sigma V^* \\:\\: Q \\\\\n",
    "    &= (PU) \\Sigma \\left( Q^T V \\right)^*\n",
    "\\end{align*}\n",
    "\n",
    "Матрциы $(PU)$ и $\\left( Q^T V \\right)^*$ будут унитарны.\n",
    "\n"
   ]
  },
  {
   "cell_type": "markdown",
   "metadata": {},
   "source": []
  },
  {
   "cell_type": "markdown",
   "metadata": {},
   "source": [
    "# Task 10\n",
    "Обратная матрица к верхнетреугольной матрице тоже верхнетреугольная. <a href=\"http://alexandr4784.narod.ru/kaplan5/kaplan_5_06.pdf\" title=\"Пример доказательства\">Пример доказательства </a>.  \n",
    "Так как $A^T = A^{-1}$ то $A^{-1}$ должна быть одновременно и верхнетреуольной и нижнетреугольной, значит она диаогнальная, соответсвенно и $A$ диагональная.\n"
   ]
  },
  {
   "cell_type": "markdown",
   "metadata": {},
   "source": [
    "# Task 11\n",
    "$U_k \\rightarrow_{\\| \\cdot \\|_2} U \\Leftrightarrow \\forall \\varepsilon > 0 \\exists N_{\\varepsilon}: \\forall n > N_{\\varepsilon}: \\| U - U_n \\|_2 < \\varepsilon$  \n",
    "Докажем что норма столбцов $U$ равна 1.   \n",
    "Возьмем вектор $o_i$ у которого везде 0, на $i$ месте 1, $\\| o_i \\|_2 = 1$ . $o_i$ при домножении на матрицу оставляет $i$ столбец.    \n",
    "Так как $\\| U - U_n \\|_2 < \\varepsilon \\Rightarrow \\| (U - U_n) o_i \\|_2 < \\varepsilon$  \n",
    "Следовательно каждый столбец сходится по норме, соотвественно и каждый элементо матрицы сходится по норме.  \n",
    "Таким образом $U$ тоже унитарна.\n"
   ]
  },
  {
   "cell_type": "markdown",
   "metadata": {},
   "source": []
  }
 ],
 "metadata": {
  "kernelspec": {
   "display_name": "Python 3.10.6 64-bit",
   "language": "python",
   "name": "python3"
  },
  "language_info": {
   "codemirror_mode": {
    "name": "ipython",
    "version": 3
   },
   "file_extension": ".py",
   "mimetype": "text/x-python",
   "name": "python",
   "nbconvert_exporter": "python",
   "pygments_lexer": "ipython3",
   "version": "3.10.6"
  },
  "vscode": {
   "interpreter": {
    "hash": "e7370f93d1d0cde622a1f8e1c04877d8463912d04d973331ad4851f04de6915a"
   }
  }
 },
 "nbformat": 4,
 "nbformat_minor": 2
}
