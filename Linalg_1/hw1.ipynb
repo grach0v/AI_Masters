{
 "cells": [
  {
   "cell_type": "markdown",
   "metadata": {},
   "source": [
    "# Домашнее задание 1 (27 pts)"
   ]
  },
  {
   "cell_type": "markdown",
   "metadata": {},
   "source": [
    "- (2 pts) Докажите, что $\\| A \\|_F \\le \\sqrt{\\mathrm{rank}(A)} \\| A \\|_2$.\n",
    "- (2 pts) Покажите, что для любых $m, n$ и $k \\le \\min(m, n)$ существует $A \\in \\mathbb{R}^{m \\times n}: \\mathrm{rank}(A) = k$, такая что $\\| A \\|_F = \\sqrt{\\mathrm{rank}(A)} \\| A \\|_2$.\n",
    "- (2 pts) Докажите, что $\\| A B \\|_F \\le \\| A \\|_2 \\| B \\|_F$.\n",
    "- (2 pts) Докажите, что для любой эрмитовой матрицы сингулярные числа совпадают с абсолютными значениями собственных значений. Выполнено ли это для произвольной матрицы? Докажите, что выполнено или приведите контрпример.\n",
    "\n",
    "- (3 pts) Пусть матрица $A$ ортогональна и все её элементы неотрицательны, то есть $a_{ij} \\geq 0$. Покажите, что тогда $A$ есть матрица перестановки  \n",
    "\n",
    "- (2 pts) Пусть матрица $A \\in \\mathbb{C}^{n \\times n}$ и её сингулярное разложение $A = U\\Sigma V^*$. Найдите сингулярное разложение матрицы $\\begin{bmatrix} 0 & A^* \\\\ A & 0 \\end{bmatrix}$ размера $2n \\times 2n$\n",
    "- (5 pts) Пусть известно сингулярное разложение прямоугольной $m\\times n, m > n$ матрицы $A = U\\Sigma V^*$. Покажите, как измениться данное разложение при следующих изменениях матрицы $A$\n",
    "    - замена $k$-го столбца на другой вектор-столбец\n",
    "    - конкатенация новой строки - новая матрица размерности $(m+1) \\times n$\n",
    "    - конкатенация нового столбца - новая матрица размерности $m \\times n+1$\n",
    "\n",
    "Оцените сложность каждого из этих преобразований. Реализуйте все три преобразования и покажите численно, что ваши алгоритмы обновлений работают корректно.\n",
    "\n",
    "- (2 pts) Пусть дано сингулярное разложение матрицы $A \\in \\mathbb{C}^{m \\times n}$: $A = U\\Sigma V^*$. Получите сингулярное разложение матрицы $PAQ$, где матрицы $P, Q$ матрицы перестановок соответствующих размеров. \n",
    "- (2 pts) Получите сингулярное разложение и спектральную норму матрицы $A = uv^*$, где $u \\in \\mathbb{C}^m, v \\in \\mathbb{C}^n$\n",
    "- (2 pts) Докажите, что треугольными унитарными матрицами могут быть только диагональные матрицы\n",
    "- (3 pts) Докажите, что если последовательность унитарных матриц $\\{U_k\\}$ сходится к матрице $U$ по спектральной норме, то $U$ также унитарная матрица"
   ]
  },
  {
   "cell_type": "markdown",
   "metadata": {},
   "source": [
    "# Task 1\n",
    "\n",
    "\\begin{align*}\n",
    "\\| A \\|_F &= \\sqrt{\\mathrm{trace} \\left( A^* A \\right) } \\\\\n",
    "          &= \\sqrt{\\mathrm{trace} \\left( C^-1 J C \\right) } \\qquad \\text{J - ЖНФ $A^*A$, тогда на диагонали стоят собственные значения}\\\\\n",
    "          &= \\sqrt{ \\mathrm{trace} \\left( J \\right)} \\\\\n",
    "          &= \\sqrt{ \\sum \\lambda_i} \\\\\n",
    "          &\\leq \\sqrt{ \\sum \\lambda_{max} } \\\\\n",
    "          &= \\sqrt{\\mathrm{rank} \\left( A \\right)} \\sqrt{\\lambda_{max}} \\qquad \\text{т.к. $\\mathrm{rank} \\left( A \\right) = \\mathrm{rank} \\left(A^* A \\right)$} \\\\\n",
    "          &= \\sqrt{\\mathrm{rank} \\left( A \\right)} \\| A \\|_2\n",
    "\\end{align*}"
   ]
  },
  {
   "cell_type": "markdown",
   "metadata": {},
   "source": [
    "# Task 2\n",
    "Возьмем \n",
    "$$\n",
    "A=\\left[\n",
    "\\begin{array}{cc}\n",
    "I_k & 0_{k \\times n-k}\\\\\n",
    "0_{m-k \\times k} & 0_{m-k \\times n-k} \\\\\n",
    "\\end{array}\\right]\n",
    "$$\n",
    "Тогда $\\mathrm{rank} \\left( A \\right) = k ,\\: \\| A \\|_2 = 1, \\: \\| A \\|_F = \\mathrm{rank} \\left( A \\right)$.  \n",
    "Таким образом равенство выполняется"
   ]
  },
  {
   "cell_type": "markdown",
   "metadata": {},
   "source": [
    "# Task 3\n",
    "$\\| A B \\|_F \\le \\| A \\|_2 \\| B \\|_F$"
   ]
  },
  {
   "cell_type": "markdown",
   "metadata": {},
   "source": [
    "\\begin{align*}\n",
    "\n",
    "\\| AB \\|_F &= \\sqrt{\\mathrm{trace}\\left( B^*A^*AB \\right)} \\\\\n",
    "           &= \\sqrt{\\mathrm{trace}\\left(B^*B A^* A\\right)} \\\\\n",
    "           &= \\sqrt{\\mathrm{trace}\\left(B^*B C^-1 J C\\right)}  \\qquad \\text{J - ЖНФ $A^*A$, тогда на диагонали стоят собственные значения} \\\\\n",
    "           &= \\sqrt{\\mathrm{trace}\\left(B^*B J \\right)} \\\\\n",
    "           &\\leq \\sqrt{\\mathrm{trace}\\left(B^*B J_{\\mathrm{max}} \\right)} \\qquad J_{\\mathrm{max}} := [a_{ii} = \\lambda_{\\mathrm{max}}]\\\\\n",
    "           &= \\sqrt{\\mathrm{trace}\\left(B^*B \\lambda_{\\mathrm{max} I} \\right)} \\\\\n",
    "           &= \\sqrt{\\lambda_{\\mathrm{max}} \\mathrm{trace}\\left(B^*B \\right)} \\\\\n",
    "           &= \\| A \\|_2 \\| B \\|_F\n",
    "\n",
    "\\end{align*}"
   ]
  },
  {
   "cell_type": "code",
   "execution_count": null,
   "metadata": {},
   "outputs": [],
   "source": []
  }
 ],
 "metadata": {
  "kernelspec": {
   "display_name": "Python 3.9.12 ('base')",
   "language": "python",
   "name": "python3"
  },
  "language_info": {
   "codemirror_mode": {
    "name": "ipython",
    "version": 3
   },
   "file_extension": ".py",
   "mimetype": "text/x-python",
   "name": "python",
   "nbconvert_exporter": "python",
   "pygments_lexer": "ipython3",
   "version": "3.9.12"
  },
  "vscode": {
   "interpreter": {
    "hash": "af54d8ffe8b61cab9e1bcfcc3a5e2eeb6c71d1475cf011cf65945131006eac57"
   }
  }
 },
 "nbformat": 4,
 "nbformat_minor": 2
}
